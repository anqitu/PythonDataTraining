{
 "cells": [
  {
   "cell_type": "markdown",
   "metadata": {},
   "source": [
    "# Module 1 Python Data Analysis Libraries\n"
   ]
  },
  {
   "cell_type": "code",
   "execution_count": 2,
   "metadata": {},
   "outputs": [],
   "source": [
    "# !pip install numpy\n",
    "# !pip install matplotlib\n",
    "# !pip install seaborn\n",
    "# !pip install pandas\n",
    "# !pip install scipy\n",
    "# !pip install sklearn"
   ]
  },
  {
   "cell_type": "code",
   "execution_count": null,
   "metadata": {},
   "outputs": [],
   "source": []
  },
  {
   "cell_type": "code",
   "execution_count": 3,
   "metadata": {},
   "outputs": [],
   "source": [
    "import numpy as np"
   ]
  },
  {
   "cell_type": "code",
   "execution_count": 4,
   "metadata": {},
   "outputs": [],
   "source": [
    "import matplotlib.pyplot as plt"
   ]
  },
  {
   "cell_type": "code",
   "execution_count": 5,
   "metadata": {},
   "outputs": [],
   "source": [
    "import seaborn as sns"
   ]
  },
  {
   "cell_type": "code",
   "execution_count": 6,
   "metadata": {},
   "outputs": [],
   "source": [
    "import pandas as pd"
   ]
  },
  {
   "cell_type": "code",
   "execution_count": 7,
   "metadata": {},
   "outputs": [],
   "source": [
    "import sklearn as sk"
   ]
  },
  {
   "cell_type": "markdown",
   "metadata": {},
   "source": [
    "# Module 2 Introduction to Numpy"
   ]
  },
  {
   "cell_type": "markdown",
   "metadata": {},
   "source": [
    "### Limitation of Python List"
   ]
  },
  {
   "cell_type": "code",
   "execution_count": 17,
   "metadata": {},
   "outputs": [],
   "source": [
    "a = [1,1,1]\n",
    "b = [2,2,2]\n",
    "# a-b"
   ]
  },
  {
   "cell_type": "code",
   "execution_count": 18,
   "metadata": {},
   "outputs": [
    {
     "data": {
      "text/plain": [
       "array([-1, -1, -1])"
      ]
     },
     "execution_count": 18,
     "metadata": {},
     "output_type": "execute_result"
    }
   ],
   "source": [
    "a1 = np.array(a)\n",
    "b1 = np.array(b)\n",
    "a1-b1"
   ]
  },
  {
   "cell_type": "code",
   "execution_count": 19,
   "metadata": {},
   "outputs": [],
   "source": [
    "# Python List and Numpy Array data types\n",
    "a = [1,'hi',2]\n",
    "a1 = np.array(a)"
   ]
  },
  {
   "cell_type": "code",
   "execution_count": 20,
   "metadata": {},
   "outputs": [
    {
     "data": {
      "text/plain": [
       "dtype('<U21')"
      ]
     },
     "execution_count": 20,
     "metadata": {},
     "output_type": "execute_result"
    }
   ],
   "source": [
    "a1.dtype"
   ]
  },
  {
   "cell_type": "code",
   "execution_count": 13,
   "metadata": {},
   "outputs": [
    {
     "data": {
      "text/plain": [
       "array(['1', 'hi', '2'], dtype='<U21')"
      ]
     },
     "execution_count": 13,
     "metadata": {},
     "output_type": "execute_result"
    }
   ],
   "source": []
  },
  {
   "cell_type": "code",
   "execution_count": 21,
   "metadata": {},
   "outputs": [
    {
     "data": {
      "text/plain": [
       "dtype('int64')"
      ]
     },
     "execution_count": 21,
     "metadata": {},
     "output_type": "execute_result"
    }
   ],
   "source": [
    "b1.dtype"
   ]
  },
  {
   "cell_type": "markdown",
   "metadata": {},
   "source": [
    "## Array Attributes"
   ]
  },
  {
   "cell_type": "code",
   "execution_count": 22,
   "metadata": {},
   "outputs": [],
   "source": [
    "a = [1,1,1]\n",
    "a1 = np.array(a)"
   ]
  },
  {
   "cell_type": "code",
   "execution_count": 11,
   "metadata": {},
   "outputs": [
    {
     "data": {
      "text/plain": [
       "1"
      ]
     },
     "execution_count": 11,
     "metadata": {},
     "output_type": "execute_result"
    }
   ],
   "source": [
    "a1.ndim"
   ]
  },
  {
   "cell_type": "code",
   "execution_count": 12,
   "metadata": {},
   "outputs": [
    {
     "data": {
      "text/plain": [
       "dtype('int64')"
      ]
     },
     "execution_count": 12,
     "metadata": {},
     "output_type": "execute_result"
    }
   ],
   "source": [
    "a1.dtype"
   ]
  },
  {
   "cell_type": "code",
   "execution_count": 13,
   "metadata": {},
   "outputs": [
    {
     "data": {
      "text/plain": [
       "(3,)"
      ]
     },
     "execution_count": 13,
     "metadata": {},
     "output_type": "execute_result"
    }
   ],
   "source": [
    "a1.shape"
   ]
  },
  {
   "cell_type": "code",
   "execution_count": 14,
   "metadata": {},
   "outputs": [
    {
     "data": {
      "text/plain": [
       "3"
      ]
     },
     "execution_count": 14,
     "metadata": {},
     "output_type": "execute_result"
    }
   ],
   "source": [
    "len(a1)"
   ]
  },
  {
   "cell_type": "markdown",
   "metadata": {},
   "source": [
    "### Specify Data Type"
   ]
  },
  {
   "cell_type": "code",
   "execution_count": 26,
   "metadata": {},
   "outputs": [],
   "source": [
    "a = [1,1,1]\n",
    "# a = [1, 'hi', 1]\n",
    "a1 = np.array(a,dtype=np.float32)"
   ]
  },
  {
   "cell_type": "code",
   "execution_count": 27,
   "metadata": {},
   "outputs": [
    {
     "data": {
      "text/plain": [
       "dtype('float32')"
      ]
     },
     "execution_count": 27,
     "metadata": {},
     "output_type": "execute_result"
    }
   ],
   "source": [
    "a1.dtype"
   ]
  },
  {
   "cell_type": "markdown",
   "metadata": {},
   "source": [
    "## Special 1D Functions"
   ]
  },
  {
   "cell_type": "code",
   "execution_count": 28,
   "metadata": {
    "scrolled": true
   },
   "outputs": [],
   "source": [
    "# # Python way\n",
    "# a = []\n",
    "# for i in range(1,101,1):\n",
    "#     a.append(i)\n",
    "# a"
   ]
  },
  {
   "cell_type": "code",
   "execution_count": 18,
   "metadata": {},
   "outputs": [],
   "source": [
    "# Or\n",
    "a = list(range(1, 101))\n",
    "a"
   ]
  },
  {
   "cell_type": "code",
   "execution_count": 29,
   "metadata": {},
   "outputs": [
    {
     "data": {
      "text/plain": [
       "array([  1,   2,   3,   4,   5,   6,   7,   8,   9,  10,  11,  12,  13,\n",
       "        14,  15,  16,  17,  18,  19,  20,  21,  22,  23,  24,  25,  26,\n",
       "        27,  28,  29,  30,  31,  32,  33,  34,  35,  36,  37,  38,  39,\n",
       "        40,  41,  42,  43,  44,  45,  46,  47,  48,  49,  50,  51,  52,\n",
       "        53,  54,  55,  56,  57,  58,  59,  60,  61,  62,  63,  64,  65,\n",
       "        66,  67,  68,  69,  70,  71,  72,  73,  74,  75,  76,  77,  78,\n",
       "        79,  80,  81,  82,  83,  84,  85,  86,  87,  88,  89,  90,  91,\n",
       "        92,  93,  94,  95,  96,  97,  98,  99, 100])"
      ]
     },
     "execution_count": 29,
     "metadata": {},
     "output_type": "execute_result"
    }
   ],
   "source": [
    "a = np.arange(1,101,1)\n",
    "a"
   ]
  },
  {
   "cell_type": "code",
   "execution_count": 20,
   "metadata": {},
   "outputs": [
    {
     "data": {
      "text/plain": [
       "array([  1.        ,   1.49748744,   1.99497487,   2.49246231,\n",
       "         2.98994975,   3.48743719,   3.98492462,   4.48241206,\n",
       "         4.9798995 ,   5.47738693,   5.97487437,   6.47236181,\n",
       "         6.96984925,   7.46733668,   7.96482412,   8.46231156,\n",
       "         8.95979899,   9.45728643,   9.95477387,  10.45226131,\n",
       "        10.94974874,  11.44723618,  11.94472362,  12.44221106,\n",
       "        12.93969849,  13.43718593,  13.93467337,  14.4321608 ,\n",
       "        14.92964824,  15.42713568,  15.92462312,  16.42211055,\n",
       "        16.91959799,  17.41708543,  17.91457286,  18.4120603 ,\n",
       "        18.90954774,  19.40703518,  19.90452261,  20.40201005,\n",
       "        20.89949749,  21.39698492,  21.89447236,  22.3919598 ,\n",
       "        22.88944724,  23.38693467,  23.88442211,  24.38190955,\n",
       "        24.87939698,  25.37688442,  25.87437186,  26.3718593 ,\n",
       "        26.86934673,  27.36683417,  27.86432161,  28.36180905,\n",
       "        28.85929648,  29.35678392,  29.85427136,  30.35175879,\n",
       "        30.84924623,  31.34673367,  31.84422111,  32.34170854,\n",
       "        32.83919598,  33.33668342,  33.83417085,  34.33165829,\n",
       "        34.82914573,  35.32663317,  35.8241206 ,  36.32160804,\n",
       "        36.81909548,  37.31658291,  37.81407035,  38.31155779,\n",
       "        38.80904523,  39.30653266,  39.8040201 ,  40.30150754,\n",
       "        40.79899497,  41.29648241,  41.79396985,  42.29145729,\n",
       "        42.78894472,  43.28643216,  43.7839196 ,  44.28140704,\n",
       "        44.77889447,  45.27638191,  45.77386935,  46.27135678,\n",
       "        46.76884422,  47.26633166,  47.7638191 ,  48.26130653,\n",
       "        48.75879397,  49.25628141,  49.75376884,  50.25125628,\n",
       "        50.74874372,  51.24623116,  51.74371859,  52.24120603,\n",
       "        52.73869347,  53.2361809 ,  53.73366834,  54.23115578,\n",
       "        54.72864322,  55.22613065,  55.72361809,  56.22110553,\n",
       "        56.71859296,  57.2160804 ,  57.71356784,  58.21105528,\n",
       "        58.70854271,  59.20603015,  59.70351759,  60.20100503,\n",
       "        60.69849246,  61.1959799 ,  61.69346734,  62.19095477,\n",
       "        62.68844221,  63.18592965,  63.68341709,  64.18090452,\n",
       "        64.67839196,  65.1758794 ,  65.67336683,  66.17085427,\n",
       "        66.66834171,  67.16582915,  67.66331658,  68.16080402,\n",
       "        68.65829146,  69.15577889,  69.65326633,  70.15075377,\n",
       "        70.64824121,  71.14572864,  71.64321608,  72.14070352,\n",
       "        72.63819095,  73.13567839,  73.63316583,  74.13065327,\n",
       "        74.6281407 ,  75.12562814,  75.62311558,  76.12060302,\n",
       "        76.61809045,  77.11557789,  77.61306533,  78.11055276,\n",
       "        78.6080402 ,  79.10552764,  79.60301508,  80.10050251,\n",
       "        80.59798995,  81.09547739,  81.59296482,  82.09045226,\n",
       "        82.5879397 ,  83.08542714,  83.58291457,  84.08040201,\n",
       "        84.57788945,  85.07537688,  85.57286432,  86.07035176,\n",
       "        86.5678392 ,  87.06532663,  87.56281407,  88.06030151,\n",
       "        88.55778894,  89.05527638,  89.55276382,  90.05025126,\n",
       "        90.54773869,  91.04522613,  91.54271357,  92.04020101,\n",
       "        92.53768844,  93.03517588,  93.53266332,  94.03015075,\n",
       "        94.52763819,  95.02512563,  95.52261307,  96.0201005 ,\n",
       "        96.51758794,  97.01507538,  97.51256281,  98.01005025,\n",
       "        98.50753769,  99.00502513,  99.50251256, 100.        ])"
      ]
     },
     "execution_count": 20,
     "metadata": {},
     "output_type": "execute_result"
    }
   ],
   "source": [
    "a = np.linspace(1,100,200)\n",
    "# a = np.linspace(0.5,100,200)\n",
    "a"
   ]
  },
  {
   "cell_type": "code",
   "execution_count": 21,
   "metadata": {},
   "outputs": [
    {
     "data": {
      "text/plain": [
       "array([[0, 0, 0],\n",
       "       [0, 0, 0]], dtype=int16)"
      ]
     },
     "execution_count": 21,
     "metadata": {},
     "output_type": "execute_result"
    }
   ],
   "source": [
    "a = np.zeros((2,3),dtype=np.int16)\n",
    "a"
   ]
  },
  {
   "cell_type": "code",
   "execution_count": 31,
   "metadata": {},
   "outputs": [
    {
     "data": {
      "text/plain": [
       "array([[8., 8., 8.],\n",
       "       [8., 8., 8.]])"
      ]
     },
     "execution_count": 31,
     "metadata": {},
     "output_type": "execute_result"
    }
   ],
   "source": [
    "a = np.ones((2,3))*8\n",
    "a"
   ]
  },
  {
   "cell_type": "code",
   "execution_count": 13,
   "metadata": {},
   "outputs": [
    {
     "data": {
      "text/plain": [
       "array([ 7.87383115,  6.85036749,  7.96815734,  8.8809607 ,  9.19802715,\n",
       "       12.77933951,  8.8091957 , 10.52615883,  9.46747006, 11.88620121])"
      ]
     },
     "execution_count": 13,
     "metadata": {},
     "output_type": "execute_result"
    }
   ],
   "source": [
    "# a = np.random.randn(10)\n",
    "a = np.random.randn(10)*2+10\n",
    "a"
   ]
  },
  {
   "cell_type": "code",
   "execution_count": 15,
   "metadata": {},
   "outputs": [
    {
     "data": {
      "text/plain": [
       "array([ 6.50046905, 10.68536081, 12.30607161,  9.49512793, 11.96264157,\n",
       "       11.02843768, 10.44235934,  7.85991334,  9.62100834, 10.51000289])"
      ]
     },
     "execution_count": 15,
     "metadata": {},
     "output_type": "execute_result"
    }
   ],
   "source": [
    "np.random.seed(100)\n",
    "a = np.random.randn(10)*2+10\n",
    "a"
   ]
  },
  {
   "cell_type": "markdown",
   "metadata": {},
   "source": [
    "### Exercise"
   ]
  },
  {
   "cell_type": "code",
   "execution_count": 16,
   "metadata": {},
   "outputs": [
    {
     "data": {
      "text/plain": [
       "array([99, 96, 93, 90, 87, 84, 81, 78, 75, 72, 69, 66, 63, 60, 57, 54, 51,\n",
       "       48, 45, 42, 39, 36, 33, 30, 27, 24, 21, 18, 15, 12,  9,  6,  3])"
      ]
     },
     "execution_count": 16,
     "metadata": {},
     "output_type": "execute_result"
    }
   ],
   "source": [
    "a = np.arange(99,2,-3)\n",
    "a"
   ]
  },
  {
   "cell_type": "code",
   "execution_count": 25,
   "metadata": {},
   "outputs": [
    {
     "data": {
      "text/plain": [
       "array([99.        , 98.03030303, 97.06060606, 96.09090909, 95.12121212,\n",
       "       94.15151515, 93.18181818, 92.21212121, 91.24242424, 90.27272727,\n",
       "       89.3030303 , 88.33333333, 87.36363636, 86.39393939, 85.42424242,\n",
       "       84.45454545, 83.48484848, 82.51515152, 81.54545455, 80.57575758,\n",
       "       79.60606061, 78.63636364, 77.66666667, 76.6969697 , 75.72727273,\n",
       "       74.75757576, 73.78787879, 72.81818182, 71.84848485, 70.87878788,\n",
       "       69.90909091, 68.93939394, 67.96969697, 67.        , 66.03030303,\n",
       "       65.06060606, 64.09090909, 63.12121212, 62.15151515, 61.18181818,\n",
       "       60.21212121, 59.24242424, 58.27272727, 57.3030303 , 56.33333333,\n",
       "       55.36363636, 54.39393939, 53.42424242, 52.45454545, 51.48484848,\n",
       "       50.51515152, 49.54545455, 48.57575758, 47.60606061, 46.63636364,\n",
       "       45.66666667, 44.6969697 , 43.72727273, 42.75757576, 41.78787879,\n",
       "       40.81818182, 39.84848485, 38.87878788, 37.90909091, 36.93939394,\n",
       "       35.96969697, 35.        , 34.03030303, 33.06060606, 32.09090909,\n",
       "       31.12121212, 30.15151515, 29.18181818, 28.21212121, 27.24242424,\n",
       "       26.27272727, 25.3030303 , 24.33333333, 23.36363636, 22.39393939,\n",
       "       21.42424242, 20.45454545, 19.48484848, 18.51515152, 17.54545455,\n",
       "       16.57575758, 15.60606061, 14.63636364, 13.66666667, 12.6969697 ,\n",
       "       11.72727273, 10.75757576,  9.78787879,  8.81818182,  7.84848485,\n",
       "        6.87878788,  5.90909091,  4.93939394,  3.96969697,  3.        ])"
      ]
     },
     "execution_count": 25,
     "metadata": {},
     "output_type": "execute_result"
    }
   ],
   "source": [
    "a = np.linspace(99,3,100)\n",
    "a"
   ]
  },
  {
   "cell_type": "markdown",
   "metadata": {},
   "source": [
    "## Higher Dimension Arrays"
   ]
  },
  {
   "cell_type": "code",
   "execution_count": 21,
   "metadata": {},
   "outputs": [
    {
     "data": {
      "text/plain": [
       "[[1, 2], [3, 4]]"
      ]
     },
     "execution_count": 21,
     "metadata": {},
     "output_type": "execute_result"
    }
   ],
   "source": [
    "a = [[1,2],[3,4]]\n",
    "a"
   ]
  },
  {
   "cell_type": "code",
   "execution_count": 22,
   "metadata": {},
   "outputs": [
    {
     "data": {
      "text/plain": [
       "array([[1., 2.],\n",
       "       [3., 4.]], dtype=float32)"
      ]
     },
     "execution_count": 22,
     "metadata": {},
     "output_type": "execute_result"
    }
   ],
   "source": [
    "a1 = np.array(a,dtype=np.float32)\n",
    "a1"
   ]
  },
  {
   "cell_type": "code",
   "execution_count": 28,
   "metadata": {},
   "outputs": [
    {
     "data": {
      "text/plain": [
       "dtype('float32')"
      ]
     },
     "execution_count": 28,
     "metadata": {},
     "output_type": "execute_result"
    }
   ],
   "source": [
    "a1.dtype"
   ]
  },
  {
   "cell_type": "code",
   "execution_count": 29,
   "metadata": {},
   "outputs": [
    {
     "data": {
      "text/plain": [
       "2"
      ]
     },
     "execution_count": 29,
     "metadata": {},
     "output_type": "execute_result"
    }
   ],
   "source": [
    "a1.ndim"
   ]
  },
  {
   "cell_type": "code",
   "execution_count": 30,
   "metadata": {},
   "outputs": [
    {
     "data": {
      "text/plain": [
       "(2, 2)"
      ]
     },
     "execution_count": 30,
     "metadata": {},
     "output_type": "execute_result"
    }
   ],
   "source": [
    "a1.shape"
   ]
  },
  {
   "cell_type": "markdown",
   "metadata": {},
   "source": [
    "### Exercise"
   ]
  },
  {
   "cell_type": "code",
   "execution_count": 23,
   "metadata": {},
   "outputs": [
    {
     "data": {
      "text/plain": [
       "array([[[1, 1, 1],\n",
       "        [2, 2, 2]],\n",
       "\n",
       "       [[3, 3, 3],\n",
       "        [4, 4, 4]]])"
      ]
     },
     "execution_count": 23,
     "metadata": {},
     "output_type": "execute_result"
    }
   ],
   "source": [
    "a = [[[1,1, 1],[2,2, 2]],[[3,3, 3],[4,4, 4]]]\n",
    "a1 = np.array(a)\n",
    "a1"
   ]
  },
  {
   "cell_type": "code",
   "execution_count": 24,
   "metadata": {},
   "outputs": [
    {
     "data": {
      "text/plain": [
       "(2, 2, 3)"
      ]
     },
     "execution_count": 24,
     "metadata": {},
     "output_type": "execute_result"
    }
   ],
   "source": [
    "a1.shape"
   ]
  },
  {
   "cell_type": "markdown",
   "metadata": {},
   "source": [
    "## Math Functions"
   ]
  },
  {
   "cell_type": "code",
   "execution_count": 26,
   "metadata": {},
   "outputs": [],
   "source": [
    "b = np.array([1,2])"
   ]
  },
  {
   "cell_type": "code",
   "execution_count": 27,
   "metadata": {},
   "outputs": [
    {
     "name": "stdout",
     "output_type": "stream",
     "text": [
      "[2.71828183 7.3890561 ]\n",
      "[1.         1.41421356]\n",
      "[1.2246468e-16 1.0000000e+00]\n",
      "[-1.000000e+00  6.123234e-17]\n"
     ]
    }
   ],
   "source": [
    "# Math Functions\n",
    "a = np.exp(b)\n",
    "print(a)\n",
    "a = np.sqrt(b)\n",
    "print(a)\n",
    "a = np.sin(np.pi/b)\n",
    "print(a)\n",
    "a = np.cos(np.pi/b)\n",
    "print(a)"
   ]
  },
  {
   "cell_type": "code",
   "execution_count": 33,
   "metadata": {},
   "outputs": [
    {
     "name": "stdout",
     "output_type": "stream",
     "text": [
      "7.38905609893065\n",
      "2.0\n",
      "1.0\n",
      "6.123233995736766e-17\n"
     ]
    }
   ],
   "source": [
    "# Math Functions\n",
    "a = np.exp(2)\n",
    "print(a)\n",
    "a = np.sqrt(4)\n",
    "print(a)\n",
    "a = np.sin(np.pi/2)\n",
    "print(a)\n",
    "a = np.cos(np.pi/2)\n",
    "print(a)"
   ]
  },
  {
   "cell_type": "markdown",
   "metadata": {},
   "source": [
    "### Silicing and Selecting Elements"
   ]
  },
  {
   "cell_type": "code",
   "execution_count": 32,
   "metadata": {},
   "outputs": [
    {
     "name": "stdout",
     "output_type": "stream",
     "text": [
      "[ 2  3  4  5  6  7  8  9 10 11 12 13 14 15 16 17 18 19]\n",
      "[4 5 6 7 8]\n",
      "[2 3 4]\n",
      "[ 5  6  7  8  9 10 11 12 13 14 15 16 17 18 19]\n",
      "[ 2  3  4  5  6  7  8  9 10 11 12 13 14 15 16 17 18 19]\n",
      "[ 2  4  6  8 10 12 14 16 18]\n",
      "19\n"
     ]
    }
   ],
   "source": [
    "a = np.arange(2,20,1)\n",
    "print(a)\n",
    "print(a[2:7])\n",
    "print(a[:3])\n",
    "print(a[3:])\n",
    "print(a[:])\n",
    "print(a[::2])\n",
    "print(a[-1])\n"
   ]
  },
  {
   "cell_type": "code",
   "execution_count": 34,
   "metadata": {},
   "outputs": [
    {
     "data": {
      "text/plain": [
       "[[1, 2], [3, 4]]"
      ]
     },
     "execution_count": 34,
     "metadata": {},
     "output_type": "execute_result"
    }
   ],
   "source": [
    "a=[[1, 2], [3, 4]]\n",
    "a1= np.array(a)\n",
    "a"
   ]
  },
  {
   "cell_type": "code",
   "execution_count": 35,
   "metadata": {},
   "outputs": [
    {
     "data": {
      "text/plain": [
       "[3, 4]"
      ]
     },
     "execution_count": 35,
     "metadata": {},
     "output_type": "execute_result"
    }
   ],
   "source": [
    "a[1]"
   ]
  },
  {
   "cell_type": "code",
   "execution_count": 36,
   "metadata": {},
   "outputs": [
    {
     "data": {
      "text/plain": [
       "4"
      ]
     },
     "execution_count": 36,
     "metadata": {},
     "output_type": "execute_result"
    }
   ],
   "source": [
    "a[1][1]"
   ]
  },
  {
   "cell_type": "code",
   "execution_count": null,
   "metadata": {},
   "outputs": [],
   "source": []
  },
  {
   "cell_type": "markdown",
   "metadata": {},
   "source": [
    "## Filtering Elements"
   ]
  },
  {
   "cell_type": "code",
   "execution_count": 35,
   "metadata": {},
   "outputs": [
    {
     "data": {
      "text/plain": [
       "[1, 3, 5, 7]"
      ]
     },
     "execution_count": 35,
     "metadata": {},
     "output_type": "execute_result"
    }
   ],
   "source": [
    "# Python way\n",
    "a = [1,-2,3,-4,5,-6,7,-8]\n",
    "b = []\n",
    "for i in a:\n",
    "    if i>0:\n",
    "        b.append(i)\n",
    "b"
   ]
  },
  {
   "cell_type": "code",
   "execution_count": 36,
   "metadata": {},
   "outputs": [
    {
     "data": {
      "text/plain": [
       "[1, 3, 5, 7]"
      ]
     },
     "execution_count": 36,
     "metadata": {},
     "output_type": "execute_result"
    }
   ],
   "source": [
    "b = filter(lambda x:x>0,a)\n",
    "list(b)"
   ]
  },
  {
   "cell_type": "code",
   "execution_count": 37,
   "metadata": {},
   "outputs": [
    {
     "data": {
      "text/plain": [
       "array([ True, False,  True, False,  True, False,  True, False])"
      ]
     },
     "execution_count": 37,
     "metadata": {},
     "output_type": "execute_result"
    }
   ],
   "source": [
    "# Numpy way\n",
    "a = [1,-2,3,-4,5,-6,7,-8]\n",
    "a1 = np.array(a)\n",
    "a1>0"
   ]
  },
  {
   "cell_type": "code",
   "execution_count": 38,
   "metadata": {},
   "outputs": [
    {
     "data": {
      "text/plain": [
       "array([1, 3, 5, 7])"
      ]
     },
     "execution_count": 38,
     "metadata": {},
     "output_type": "execute_result"
    }
   ],
   "source": [
    "a1[a1>0]"
   ]
  },
  {
   "cell_type": "markdown",
   "metadata": {},
   "source": [
    "### Exercise"
   ]
  },
  {
   "cell_type": "code",
   "execution_count": 38,
   "metadata": {},
   "outputs": [],
   "source": [
    "a = np.arange(1,100,1)"
   ]
  },
  {
   "cell_type": "code",
   "execution_count": 39,
   "metadata": {},
   "outputs": [
    {
     "data": {
      "text/plain": [
       "array([ 3,  6,  9, 12, 15, 18, 21, 24, 27, 30, 33, 36, 39, 42, 45, 48, 51,\n",
       "       54, 57, 60, 63, 66, 69, 72, 75, 78, 81, 84, 87, 90, 93, 96, 99])"
      ]
     },
     "execution_count": 39,
     "metadata": {},
     "output_type": "execute_result"
    }
   ],
   "source": [
    "a[a%3==0]"
   ]
  },
  {
   "cell_type": "code",
   "execution_count": 43,
   "metadata": {},
   "outputs": [
    {
     "data": {
      "text/plain": [
       "array([51, 54, 57, 60, 63, 66, 69, 72, 75, 78, 81, 84, 87, 90, 93, 96, 99])"
      ]
     },
     "execution_count": 43,
     "metadata": {},
     "output_type": "execute_result"
    }
   ],
   "source": [
    "a[(a%3==0) & (a>50)]"
   ]
  },
  {
   "cell_type": "markdown",
   "metadata": {},
   "source": [
    "## Transforming Data"
   ]
  },
  {
   "cell_type": "code",
   "execution_count": 48,
   "metadata": {},
   "outputs": [
    {
     "name": "stdout",
     "output_type": "stream",
     "text": [
      "[[ 0  1  2  3]\n",
      " [ 4  5  6  7]\n",
      " [ 8  9 10 11]\n",
      " [12 13 14 15]\n",
      " [16 17 18 19]\n",
      " [20 21 22 23]]\n",
      "[[ 0  1  2  3]\n",
      " [ 4  5  6  7]\n",
      " [ 8  9 10 11]\n",
      " [12 13 14 15]\n",
      " [16 17 18 19]\n",
      " [20 21 22 23]]\n",
      "[[ 0  1  2  3  4  5]\n",
      " [ 6  7  8  9 10 11]\n",
      " [12 13 14 15 16 17]\n",
      " [18 19 20 21 22 23]]\n"
     ]
    }
   ],
   "source": [
    "a = np.arange(24).reshape(6,4)\n",
    "print(a)\n",
    "a = np.arange(24).reshape(6,-1)\n",
    "print(a)\n",
    "a = np.arange(24).reshape(-1,6)\n",
    "print(a)"
   ]
  },
  {
   "cell_type": "code",
   "execution_count": 42,
   "metadata": {},
   "outputs": [
    {
     "name": "stdout",
     "output_type": "stream",
     "text": [
      "[[ 0  1  2  3  4  5]\n",
      " [ 6  7  8  9 10 11]\n",
      " [12 13 14 15 16 17]\n",
      " [18 19 20 21 22 23]]\n",
      "[ 0  1  2  3  4  5  6  7  8  9 10 11 12 13 14 15 16 17 18 19 20 21 22 23]\n"
     ]
    }
   ],
   "source": [
    "a = np.arange(24).reshape(-1,6)\n",
    "print(a)\n",
    "b = a.ravel()\n",
    "print(b)"
   ]
  },
  {
   "cell_type": "code",
   "execution_count": 43,
   "metadata": {},
   "outputs": [
    {
     "data": {
      "text/plain": [
       "(4, 6)"
      ]
     },
     "execution_count": 43,
     "metadata": {},
     "output_type": "execute_result"
    }
   ],
   "source": [
    "a.shape"
   ]
  },
  {
   "cell_type": "code",
   "execution_count": 44,
   "metadata": {},
   "outputs": [
    {
     "data": {
      "text/plain": [
       "(24,)"
      ]
     },
     "execution_count": 44,
     "metadata": {},
     "output_type": "execute_result"
    }
   ],
   "source": [
    "b.shape"
   ]
  },
  {
   "cell_type": "markdown",
   "metadata": {},
   "source": [
    "## Statistical Operations"
   ]
  },
  {
   "cell_type": "code",
   "execution_count": 55,
   "metadata": {},
   "outputs": [
    {
     "name": "stdout",
     "output_type": "stream",
     "text": [
      "[[ 1  2  3]\n",
      " [ 4  5  6]\n",
      " [ 7  8  9]\n",
      " [10 11 12]]\n"
     ]
    }
   ],
   "source": [
    "a = np.arange(1,13,1).reshape(4,-1)\n",
    "print(a)"
   ]
  },
  {
   "cell_type": "code",
   "execution_count": 56,
   "metadata": {},
   "outputs": [
    {
     "data": {
      "text/plain": [
       "6.5"
      ]
     },
     "execution_count": 56,
     "metadata": {},
     "output_type": "execute_result"
    }
   ],
   "source": [
    "np.mean(a)"
   ]
  },
  {
   "cell_type": "code",
   "execution_count": 57,
   "metadata": {},
   "outputs": [
    {
     "data": {
      "text/plain": [
       "array([5.5, 6.5, 7.5])"
      ]
     },
     "execution_count": 57,
     "metadata": {},
     "output_type": "execute_result"
    }
   ],
   "source": [
    "np.mean(a,axis=0)"
   ]
  },
  {
   "cell_type": "code",
   "execution_count": 60,
   "metadata": {},
   "outputs": [
    {
     "data": {
      "text/plain": [
       "array([ 2.,  5.,  8., 11.])"
      ]
     },
     "execution_count": 60,
     "metadata": {},
     "output_type": "execute_result"
    }
   ],
   "source": [
    "np.mean(a,axis=1)"
   ]
  },
  {
   "cell_type": "code",
   "execution_count": 38,
   "metadata": {},
   "outputs": [
    {
     "data": {
      "text/plain": [
       "array([4., 5., 6.])"
      ]
     },
     "execution_count": 38,
     "metadata": {},
     "output_type": "execute_result"
    }
   ],
   "source": [
    "a.mean(axis =0)"
   ]
  },
  {
   "cell_type": "code",
   "execution_count": 34,
   "metadata": {},
   "outputs": [
    {
     "data": {
      "text/plain": [
       "array([[2.],\n",
       "       [5.],\n",
       "       [8.]])"
      ]
     },
     "execution_count": 34,
     "metadata": {},
     "output_type": "execute_result"
    }
   ],
   "source": [
    "np.mean(a,axis=1).reshape(-1,1)"
   ]
  },
  {
   "cell_type": "markdown",
   "metadata": {},
   "source": [
    "# Module 3 Data Analysis with Pandas"
   ]
  },
  {
   "cell_type": "markdown",
   "metadata": {},
   "source": [
    "## Create DataFrame"
   ]
  },
  {
   "cell_type": "code",
   "execution_count": 48,
   "metadata": {},
   "outputs": [
    {
     "data": {
      "text/plain": [
       "{'financial_year': [2017, 2017, 2017, 2017],\n",
       " 'application_type': ['new flat buyers',\n",
       "  'resale flat buyers',\n",
       "  'existing flat owners (refinance)',\n",
       "  'DBSS flat buyers'],\n",
       " 'no_of_applications': [2235, 8563, 1020, 7]}"
      ]
     },
     "execution_count": 48,
     "metadata": {},
     "output_type": "execute_result"
    }
   ],
   "source": [
    "a = {\n",
    "    'financial_year' : [2017, 2017, 2017,2017],\n",
    "    'application_type' : ['new flat buyers',\n",
    "                          'resale flat buyers',\n",
    "                          'existing flat owners (refinance)',\n",
    "                          'DBSS flat buyers'],\n",
    "    'no_of_applications' : [2235,8563,1020,7]\n",
    "}\n",
    "a"
   ]
  },
  {
   "cell_type": "code",
   "execution_count": 49,
   "metadata": {},
   "outputs": [
    {
     "data": {
      "text/html": [
       "<div>\n",
       "<style scoped>\n",
       "    .dataframe tbody tr th:only-of-type {\n",
       "        vertical-align: middle;\n",
       "    }\n",
       "\n",
       "    .dataframe tbody tr th {\n",
       "        vertical-align: top;\n",
       "    }\n",
       "\n",
       "    .dataframe thead th {\n",
       "        text-align: right;\n",
       "    }\n",
       "</style>\n",
       "<table border=\"1\" class=\"dataframe\">\n",
       "  <thead>\n",
       "    <tr style=\"text-align: right;\">\n",
       "      <th></th>\n",
       "      <th>financial_year</th>\n",
       "      <th>application_type</th>\n",
       "      <th>no_of_applications</th>\n",
       "    </tr>\n",
       "  </thead>\n",
       "  <tbody>\n",
       "    <tr>\n",
       "      <th>0</th>\n",
       "      <td>2017</td>\n",
       "      <td>new flat buyers</td>\n",
       "      <td>2235</td>\n",
       "    </tr>\n",
       "    <tr>\n",
       "      <th>1</th>\n",
       "      <td>2017</td>\n",
       "      <td>resale flat buyers</td>\n",
       "      <td>8563</td>\n",
       "    </tr>\n",
       "    <tr>\n",
       "      <th>2</th>\n",
       "      <td>2017</td>\n",
       "      <td>existing flat owners (refinance)</td>\n",
       "      <td>1020</td>\n",
       "    </tr>\n",
       "    <tr>\n",
       "      <th>3</th>\n",
       "      <td>2017</td>\n",
       "      <td>DBSS flat buyers</td>\n",
       "      <td>7</td>\n",
       "    </tr>\n",
       "  </tbody>\n",
       "</table>\n",
       "</div>"
      ],
      "text/plain": [
       "   financial_year                  application_type  no_of_applications\n",
       "0            2017                   new flat buyers                2235\n",
       "1            2017                resale flat buyers                8563\n",
       "2            2017  existing flat owners (refinance)                1020\n",
       "3            2017                  DBSS flat buyers                   7"
      ]
     },
     "execution_count": 49,
     "metadata": {},
     "output_type": "execute_result"
    }
   ],
   "source": [
    "df = pd.DataFrame(a)\n",
    "df"
   ]
  },
  {
   "cell_type": "markdown",
   "metadata": {},
   "source": [
    "## Import Data"
   ]
  },
  {
   "cell_type": "code",
   "execution_count": null,
   "metadata": {},
   "outputs": [],
   "source": [
    "# cwd = '/Users/anqitu/Workspaces/Tertiary-Courses/PythonDataTraining/exercises'"
   ]
  },
  {
   "cell_type": "code",
   "execution_count": 61,
   "metadata": {},
   "outputs": [
    {
     "data": {
      "text/html": [
       "<div>\n",
       "<style scoped>\n",
       "    .dataframe tbody tr th:only-of-type {\n",
       "        vertical-align: middle;\n",
       "    }\n",
       "\n",
       "    .dataframe tbody tr th {\n",
       "        vertical-align: top;\n",
       "    }\n",
       "\n",
       "    .dataframe thead th {\n",
       "        text-align: right;\n",
       "    }\n",
       "</style>\n",
       "<table border=\"1\" class=\"dataframe\">\n",
       "  <thead>\n",
       "    <tr style=\"text-align: right;\">\n",
       "      <th></th>\n",
       "      <th>financial_year</th>\n",
       "      <th>application_type</th>\n",
       "      <th>no_of_applications</th>\n",
       "    </tr>\n",
       "  </thead>\n",
       "  <tbody>\n",
       "    <tr>\n",
       "      <th>0</th>\n",
       "      <td>2017</td>\n",
       "      <td>new flat buyers</td>\n",
       "      <td>2235</td>\n",
       "    </tr>\n",
       "    <tr>\n",
       "      <th>1</th>\n",
       "      <td>2017</td>\n",
       "      <td>resale flat buyers</td>\n",
       "      <td>8563</td>\n",
       "    </tr>\n",
       "    <tr>\n",
       "      <th>2</th>\n",
       "      <td>2017</td>\n",
       "      <td>existing flat owners (refinance)</td>\n",
       "      <td>1020</td>\n",
       "    </tr>\n",
       "    <tr>\n",
       "      <th>3</th>\n",
       "      <td>2017</td>\n",
       "      <td>DBSS flat buyers</td>\n",
       "      <td>7</td>\n",
       "    </tr>\n",
       "  </tbody>\n",
       "</table>\n",
       "</div>"
      ],
      "text/plain": [
       "   financial_year                  application_type  no_of_applications\n",
       "0            2017                   new flat buyers                2235\n",
       "1            2017                resale flat buyers                8563\n",
       "2            2017  existing flat owners (refinance)                1020\n",
       "3            2017                  DBSS flat buyers                   7"
      ]
     },
     "execution_count": 61,
     "metadata": {},
     "output_type": "execute_result"
    }
   ],
   "source": [
    "# Import CSV file\n",
    "# loan2017 = pd.read_csv(os.path.join(cwd, 'data/loan2017.csv'))\n",
    "loan2017 = pd.read_csv('data/loan2017.csv')\n",
    "loan2017"
   ]
  },
  {
   "cell_type": "code",
   "execution_count": 62,
   "metadata": {},
   "outputs": [],
   "source": [
    "# loan2017 = loan2017[['no_of_applications', 'application_type', 'financial_year']]\n",
    "# loan2017"
   ]
  },
  {
   "cell_type": "code",
   "execution_count": 63,
   "metadata": {},
   "outputs": [
    {
     "data": {
      "text/plain": [
       "'/Users/anqitu/Workspaces/Tertiary-Courses/PythonDataTraining/exercises'"
      ]
     },
     "execution_count": 63,
     "metadata": {},
     "output_type": "execute_result"
    }
   ],
   "source": [
    "import os\n",
    "os.getcwd()"
   ]
  },
  {
   "cell_type": "code",
   "execution_count": 64,
   "metadata": {},
   "outputs": [
    {
     "data": {
      "text/html": [
       "<div>\n",
       "<style scoped>\n",
       "    .dataframe tbody tr th:only-of-type {\n",
       "        vertical-align: middle;\n",
       "    }\n",
       "\n",
       "    .dataframe tbody tr th {\n",
       "        vertical-align: top;\n",
       "    }\n",
       "\n",
       "    .dataframe thead th {\n",
       "        text-align: right;\n",
       "    }\n",
       "</style>\n",
       "<table border=\"1\" class=\"dataframe\">\n",
       "  <thead>\n",
       "    <tr style=\"text-align: right;\">\n",
       "      <th></th>\n",
       "      <th>financial_year</th>\n",
       "      <th>application_type</th>\n",
       "      <th>no_of_applications</th>\n",
       "    </tr>\n",
       "  </thead>\n",
       "  <tbody>\n",
       "    <tr>\n",
       "      <th>0</th>\n",
       "      <td>2017</td>\n",
       "      <td>new flat buyers</td>\n",
       "      <td>2235</td>\n",
       "    </tr>\n",
       "    <tr>\n",
       "      <th>1</th>\n",
       "      <td>2017</td>\n",
       "      <td>resale flat buyers</td>\n",
       "      <td>8563</td>\n",
       "    </tr>\n",
       "    <tr>\n",
       "      <th>2</th>\n",
       "      <td>2017</td>\n",
       "      <td>existing flat owners (refinance)</td>\n",
       "      <td>1020</td>\n",
       "    </tr>\n",
       "    <tr>\n",
       "      <th>3</th>\n",
       "      <td>2017</td>\n",
       "      <td>DBSS flat buyers</td>\n",
       "      <td>7</td>\n",
       "    </tr>\n",
       "  </tbody>\n",
       "</table>\n",
       "</div>"
      ],
      "text/plain": [
       "   financial_year                  application_type  no_of_applications\n",
       "0            2017                   new flat buyers                2235\n",
       "1            2017                resale flat buyers                8563\n",
       "2            2017  existing flat owners (refinance)                1020\n",
       "3            2017                  DBSS flat buyers                   7"
      ]
     },
     "execution_count": 64,
     "metadata": {},
     "output_type": "execute_result"
    }
   ],
   "source": [
    "# Import Excel File\n",
    "\n",
    "# !pip install xlrd\n",
    "loan2017 = pd.read_excel('data/loan2017.xlsx')\n",
    "loan2017"
   ]
  },
  {
   "cell_type": "markdown",
   "metadata": {},
   "source": [
    "## Dataframe attributes"
   ]
  },
  {
   "cell_type": "code",
   "execution_count": 65,
   "metadata": {},
   "outputs": [
    {
     "name": "stdout",
     "output_type": "stream",
     "text": [
      "(4, 3)\n",
      "Index(['financial_year', 'application_type', 'no_of_applications'], dtype='object')\n",
      "RangeIndex(start=0, stop=4, step=1)\n",
      "[[2017 'new flat buyers' 2235]\n",
      " [2017 'resale flat buyers' 8563]\n",
      " [2017 'existing flat owners (refinance)' 1020]\n",
      " [2017 'DBSS flat buyers' 7]]\n",
      "<class 'pandas.core.frame.DataFrame'>\n",
      "RangeIndex: 4 entries, 0 to 3\n",
      "Data columns (total 3 columns):\n",
      "financial_year        4 non-null int64\n",
      "application_type      4 non-null object\n",
      "no_of_applications    4 non-null int64\n",
      "dtypes: int64(2), object(1)\n",
      "memory usage: 176.0+ bytes\n",
      "None\n"
     ]
    }
   ],
   "source": [
    "print(loan2017.shape)\n",
    "print(loan2017.columns)\n",
    "print(loan2017.index)\n",
    "print(loan2017.values)\n",
    "print(loan2017.info())"
   ]
  },
  {
   "cell_type": "markdown",
   "metadata": {},
   "source": [
    "### Exercise"
   ]
  },
  {
   "cell_type": "code",
   "execution_count": 67,
   "metadata": {},
   "outputs": [],
   "source": [
    "revenueCIT = pd.read_csv('data/revenueCIT.csv', \n",
    "                     index_col = 'financial_year')\n",
    "# revenueCIT"
   ]
  },
  {
   "cell_type": "code",
   "execution_count": 106,
   "metadata": {},
   "outputs": [],
   "source": [
    "revenueCIT = pd.read_csv('data/revenueCIT.csv',\n",
    "                     index_col=['financial_year'],\n",
    "                     usecols=['financial_year', 'class', 'type', 'amount', 'percent_of_gdp'])\n",
    "# revenueCIT"
   ]
  },
  {
   "cell_type": "markdown",
   "metadata": {},
   "source": [
    "## Head and Tail"
   ]
  },
  {
   "cell_type": "code",
   "execution_count": 69,
   "metadata": {},
   "outputs": [
    {
     "data": {
      "text/html": [
       "<div>\n",
       "<style scoped>\n",
       "    .dataframe tbody tr th:only-of-type {\n",
       "        vertical-align: middle;\n",
       "    }\n",
       "\n",
       "    .dataframe tbody tr th {\n",
       "        vertical-align: top;\n",
       "    }\n",
       "\n",
       "    .dataframe thead th {\n",
       "        text-align: right;\n",
       "    }\n",
       "</style>\n",
       "<table border=\"1\" class=\"dataframe\">\n",
       "  <thead>\n",
       "    <tr style=\"text-align: right;\">\n",
       "      <th></th>\n",
       "      <th>actual_revised_estimated</th>\n",
       "      <th>class</th>\n",
       "      <th>type</th>\n",
       "      <th>amount</th>\n",
       "      <th>percent_of_gdp</th>\n",
       "    </tr>\n",
       "    <tr>\n",
       "      <th>financial_year</th>\n",
       "      <th></th>\n",
       "      <th></th>\n",
       "      <th></th>\n",
       "      <th></th>\n",
       "      <th></th>\n",
       "    </tr>\n",
       "  </thead>\n",
       "  <tbody>\n",
       "    <tr>\n",
       "      <th>1997</th>\n",
       "      <td>Actual</td>\n",
       "      <td>Tax</td>\n",
       "      <td>Corporate Income Tax</td>\n",
       "      <td>6809</td>\n",
       "      <td>0.045</td>\n",
       "    </tr>\n",
       "    <tr>\n",
       "      <th>1998</th>\n",
       "      <td>Actual</td>\n",
       "      <td>Tax</td>\n",
       "      <td>Corporate Income Tax</td>\n",
       "      <td>6256</td>\n",
       "      <td>0.044</td>\n",
       "    </tr>\n",
       "    <tr>\n",
       "      <th>1999</th>\n",
       "      <td>Actual</td>\n",
       "      <td>Tax</td>\n",
       "      <td>Corporate Income Tax</td>\n",
       "      <td>6565</td>\n",
       "      <td>0.044</td>\n",
       "    </tr>\n",
       "    <tr>\n",
       "      <th>2000</th>\n",
       "      <td>Actual</td>\n",
       "      <td>Tax</td>\n",
       "      <td>Corporate Income Tax</td>\n",
       "      <td>8316</td>\n",
       "      <td>0.049</td>\n",
       "    </tr>\n",
       "    <tr>\n",
       "      <th>2001</th>\n",
       "      <td>Actual</td>\n",
       "      <td>Tax</td>\n",
       "      <td>Corporate Income Tax</td>\n",
       "      <td>7821</td>\n",
       "      <td>0.049</td>\n",
       "    </tr>\n",
       "  </tbody>\n",
       "</table>\n",
       "</div>"
      ],
      "text/plain": [
       "               actual_revised_estimated class                  type  amount  \\\n",
       "financial_year                                                                \n",
       "1997                             Actual  Tax   Corporate Income Tax    6809   \n",
       "1998                             Actual  Tax   Corporate Income Tax    6256   \n",
       "1999                             Actual  Tax   Corporate Income Tax    6565   \n",
       "2000                             Actual  Tax   Corporate Income Tax    8316   \n",
       "2001                             Actual  Tax   Corporate Income Tax    7821   \n",
       "\n",
       "                percent_of_gdp  \n",
       "financial_year                  \n",
       "1997                     0.045  \n",
       "1998                     0.044  \n",
       "1999                     0.044  \n",
       "2000                     0.049  \n",
       "2001                     0.049  "
      ]
     },
     "execution_count": 69,
     "metadata": {},
     "output_type": "execute_result"
    }
   ],
   "source": [
    "revenueCIT.head()"
   ]
  },
  {
   "cell_type": "code",
   "execution_count": 70,
   "metadata": {},
   "outputs": [
    {
     "data": {
      "text/html": [
       "<div>\n",
       "<style scoped>\n",
       "    .dataframe tbody tr th:only-of-type {\n",
       "        vertical-align: middle;\n",
       "    }\n",
       "\n",
       "    .dataframe tbody tr th {\n",
       "        vertical-align: top;\n",
       "    }\n",
       "\n",
       "    .dataframe thead th {\n",
       "        text-align: right;\n",
       "    }\n",
       "</style>\n",
       "<table border=\"1\" class=\"dataframe\">\n",
       "  <thead>\n",
       "    <tr style=\"text-align: right;\">\n",
       "      <th></th>\n",
       "      <th>actual_revised_estimated</th>\n",
       "      <th>class</th>\n",
       "      <th>type</th>\n",
       "      <th>amount</th>\n",
       "      <th>percent_of_gdp</th>\n",
       "    </tr>\n",
       "    <tr>\n",
       "      <th>financial_year</th>\n",
       "      <th></th>\n",
       "      <th></th>\n",
       "      <th></th>\n",
       "      <th></th>\n",
       "      <th></th>\n",
       "    </tr>\n",
       "  </thead>\n",
       "  <tbody>\n",
       "    <tr>\n",
       "      <th>2018</th>\n",
       "      <td>Revised</td>\n",
       "      <td>Tax</td>\n",
       "      <td>Corporate Income Tax</td>\n",
       "      <td>16137</td>\n",
       "      <td>0.033</td>\n",
       "    </tr>\n",
       "    <tr>\n",
       "      <th>2019</th>\n",
       "      <td>Estimated</td>\n",
       "      <td>Tax</td>\n",
       "      <td>Corporate Income Tax</td>\n",
       "      <td>16722</td>\n",
       "      <td>0.033</td>\n",
       "    </tr>\n",
       "  </tbody>\n",
       "</table>\n",
       "</div>"
      ],
      "text/plain": [
       "               actual_revised_estimated class                  type  amount  \\\n",
       "financial_year                                                                \n",
       "2018                            Revised  Tax   Corporate Income Tax   16137   \n",
       "2019                          Estimated  Tax   Corporate Income Tax   16722   \n",
       "\n",
       "                percent_of_gdp  \n",
       "financial_year                  \n",
       "2018                     0.033  \n",
       "2019                     0.033  "
      ]
     },
     "execution_count": 70,
     "metadata": {},
     "output_type": "execute_result"
    }
   ],
   "source": [
    "revenueCIT.tail(2)"
   ]
  },
  {
   "cell_type": "markdown",
   "metadata": {},
   "source": [
    "## Select Colume Data"
   ]
  },
  {
   "cell_type": "code",
   "execution_count": 109,
   "metadata": {},
   "outputs": [
    {
     "data": {
      "text/plain": [
       "0                     new flat buyers\n",
       "1                  resale flat buyers\n",
       "2    existing flat owners (refinance)\n",
       "3                    DBSS flat buyers\n",
       "Name: application_type, dtype: object"
      ]
     },
     "execution_count": 109,
     "metadata": {},
     "output_type": "execute_result"
    }
   ],
   "source": [
    "loan2017['application_type']"
   ]
  },
  {
   "cell_type": "code",
   "execution_count": 110,
   "metadata": {},
   "outputs": [
    {
     "data": {
      "text/html": [
       "<div>\n",
       "<style scoped>\n",
       "    .dataframe tbody tr th:only-of-type {\n",
       "        vertical-align: middle;\n",
       "    }\n",
       "\n",
       "    .dataframe tbody tr th {\n",
       "        vertical-align: top;\n",
       "    }\n",
       "\n",
       "    .dataframe thead th {\n",
       "        text-align: right;\n",
       "    }\n",
       "</style>\n",
       "<table border=\"1\" class=\"dataframe\">\n",
       "  <thead>\n",
       "    <tr style=\"text-align: right;\">\n",
       "      <th></th>\n",
       "      <th>application_type</th>\n",
       "    </tr>\n",
       "  </thead>\n",
       "  <tbody>\n",
       "    <tr>\n",
       "      <th>0</th>\n",
       "      <td>new flat buyers</td>\n",
       "    </tr>\n",
       "    <tr>\n",
       "      <th>1</th>\n",
       "      <td>resale flat buyers</td>\n",
       "    </tr>\n",
       "    <tr>\n",
       "      <th>2</th>\n",
       "      <td>existing flat owners (refinance)</td>\n",
       "    </tr>\n",
       "    <tr>\n",
       "      <th>3</th>\n",
       "      <td>DBSS flat buyers</td>\n",
       "    </tr>\n",
       "  </tbody>\n",
       "</table>\n",
       "</div>"
      ],
      "text/plain": [
       "                   application_type\n",
       "0                   new flat buyers\n",
       "1                resale flat buyers\n",
       "2  existing flat owners (refinance)\n",
       "3                  DBSS flat buyers"
      ]
     },
     "execution_count": 110,
     "metadata": {},
     "output_type": "execute_result"
    }
   ],
   "source": [
    "loan2017[['application_type']]"
   ]
  },
  {
   "cell_type": "code",
   "execution_count": 111,
   "metadata": {},
   "outputs": [
    {
     "data": {
      "text/html": [
       "<div>\n",
       "<style scoped>\n",
       "    .dataframe tbody tr th:only-of-type {\n",
       "        vertical-align: middle;\n",
       "    }\n",
       "\n",
       "    .dataframe tbody tr th {\n",
       "        vertical-align: top;\n",
       "    }\n",
       "\n",
       "    .dataframe thead th {\n",
       "        text-align: right;\n",
       "    }\n",
       "</style>\n",
       "<table border=\"1\" class=\"dataframe\">\n",
       "  <thead>\n",
       "    <tr style=\"text-align: right;\">\n",
       "      <th></th>\n",
       "      <th>application_type</th>\n",
       "      <th>no_of_applications</th>\n",
       "    </tr>\n",
       "  </thead>\n",
       "  <tbody>\n",
       "    <tr>\n",
       "      <th>0</th>\n",
       "      <td>new flat buyers</td>\n",
       "      <td>2235</td>\n",
       "    </tr>\n",
       "    <tr>\n",
       "      <th>1</th>\n",
       "      <td>resale flat buyers</td>\n",
       "      <td>8563</td>\n",
       "    </tr>\n",
       "    <tr>\n",
       "      <th>2</th>\n",
       "      <td>existing flat owners (refinance)</td>\n",
       "      <td>1020</td>\n",
       "    </tr>\n",
       "    <tr>\n",
       "      <th>3</th>\n",
       "      <td>DBSS flat buyers</td>\n",
       "      <td>7</td>\n",
       "    </tr>\n",
       "  </tbody>\n",
       "</table>\n",
       "</div>"
      ],
      "text/plain": [
       "                   application_type  no_of_applications\n",
       "0                   new flat buyers                2235\n",
       "1                resale flat buyers                8563\n",
       "2  existing flat owners (refinance)                1020\n",
       "3                  DBSS flat buyers                   7"
      ]
     },
     "execution_count": 111,
     "metadata": {},
     "output_type": "execute_result"
    }
   ],
   "source": [
    "loan2017[['application_type', 'no_of_applications']]"
   ]
  },
  {
   "cell_type": "code",
   "execution_count": 72,
   "metadata": {},
   "outputs": [
    {
     "data": {
      "text/plain": [
       "0                     new flat buyers\n",
       "1                  resale flat buyers\n",
       "2    existing flat owners (refinance)\n",
       "3                    DBSS flat buyers\n",
       "Name: application_type, dtype: object"
      ]
     },
     "execution_count": 72,
     "metadata": {},
     "output_type": "execute_result"
    }
   ],
   "source": [
    "loan2017.application_type"
   ]
  },
  {
   "cell_type": "markdown",
   "metadata": {},
   "source": [
    "### Exercise"
   ]
  },
  {
   "cell_type": "code",
   "execution_count": 71,
   "metadata": {},
   "outputs": [
    {
     "data": {
      "text/html": [
       "<div>\n",
       "<style scoped>\n",
       "    .dataframe tbody tr th:only-of-type {\n",
       "        vertical-align: middle;\n",
       "    }\n",
       "\n",
       "    .dataframe tbody tr th {\n",
       "        vertical-align: top;\n",
       "    }\n",
       "\n",
       "    .dataframe thead th {\n",
       "        text-align: right;\n",
       "    }\n",
       "</style>\n",
       "<table border=\"1\" class=\"dataframe\">\n",
       "  <thead>\n",
       "    <tr style=\"text-align: right;\">\n",
       "      <th></th>\n",
       "      <th>type</th>\n",
       "      <th>amount</th>\n",
       "    </tr>\n",
       "    <tr>\n",
       "      <th>financial_year</th>\n",
       "      <th></th>\n",
       "      <th></th>\n",
       "    </tr>\n",
       "  </thead>\n",
       "  <tbody>\n",
       "    <tr>\n",
       "      <th>1997</th>\n",
       "      <td>Corporate Income Tax</td>\n",
       "      <td>6809</td>\n",
       "    </tr>\n",
       "    <tr>\n",
       "      <th>1998</th>\n",
       "      <td>Corporate Income Tax</td>\n",
       "      <td>6256</td>\n",
       "    </tr>\n",
       "    <tr>\n",
       "      <th>1999</th>\n",
       "      <td>Corporate Income Tax</td>\n",
       "      <td>6565</td>\n",
       "    </tr>\n",
       "    <tr>\n",
       "      <th>2000</th>\n",
       "      <td>Corporate Income Tax</td>\n",
       "      <td>8316</td>\n",
       "    </tr>\n",
       "    <tr>\n",
       "      <th>2001</th>\n",
       "      <td>Corporate Income Tax</td>\n",
       "      <td>7821</td>\n",
       "    </tr>\n",
       "    <tr>\n",
       "      <th>2002</th>\n",
       "      <td>Corporate Income Tax</td>\n",
       "      <td>6822</td>\n",
       "    </tr>\n",
       "    <tr>\n",
       "      <th>2003</th>\n",
       "      <td>Corporate Income Tax</td>\n",
       "      <td>5921</td>\n",
       "    </tr>\n",
       "    <tr>\n",
       "      <th>2004</th>\n",
       "      <td>Corporate Income Tax</td>\n",
       "      <td>6107</td>\n",
       "    </tr>\n",
       "    <tr>\n",
       "      <th>2005</th>\n",
       "      <td>Corporate Income Tax</td>\n",
       "      <td>7340</td>\n",
       "    </tr>\n",
       "    <tr>\n",
       "      <th>2006</th>\n",
       "      <td>Corporate Income Tax</td>\n",
       "      <td>8474</td>\n",
       "    </tr>\n",
       "    <tr>\n",
       "      <th>2007</th>\n",
       "      <td>Corporate Income Tax</td>\n",
       "      <td>9250</td>\n",
       "    </tr>\n",
       "    <tr>\n",
       "      <th>2008</th>\n",
       "      <td>Corporate Income Tax</td>\n",
       "      <td>10554</td>\n",
       "    </tr>\n",
       "    <tr>\n",
       "      <th>2009</th>\n",
       "      <td>Corporate Income Tax</td>\n",
       "      <td>9551</td>\n",
       "    </tr>\n",
       "    <tr>\n",
       "      <th>2010</th>\n",
       "      <td>Corporate Income Tax</td>\n",
       "      <td>10687</td>\n",
       "    </tr>\n",
       "    <tr>\n",
       "      <th>2011</th>\n",
       "      <td>Corporate Income Tax</td>\n",
       "      <td>12096</td>\n",
       "    </tr>\n",
       "    <tr>\n",
       "      <th>2012</th>\n",
       "      <td>Corporate Income Tax</td>\n",
       "      <td>12821</td>\n",
       "    </tr>\n",
       "    <tr>\n",
       "      <th>2013</th>\n",
       "      <td>Corporate Income Tax</td>\n",
       "      <td>12680</td>\n",
       "    </tr>\n",
       "    <tr>\n",
       "      <th>2014</th>\n",
       "      <td>Corporate Income Tax</td>\n",
       "      <td>13371</td>\n",
       "    </tr>\n",
       "    <tr>\n",
       "      <th>2015</th>\n",
       "      <td>Corporate Income Tax</td>\n",
       "      <td>13815</td>\n",
       "    </tr>\n",
       "    <tr>\n",
       "      <th>2016</th>\n",
       "      <td>Corporate Income Tax</td>\n",
       "      <td>13602</td>\n",
       "    </tr>\n",
       "    <tr>\n",
       "      <th>2017</th>\n",
       "      <td>Corporate Income Tax</td>\n",
       "      <td>14944</td>\n",
       "    </tr>\n",
       "    <tr>\n",
       "      <th>2018</th>\n",
       "      <td>Corporate Income Tax</td>\n",
       "      <td>16137</td>\n",
       "    </tr>\n",
       "    <tr>\n",
       "      <th>2019</th>\n",
       "      <td>Corporate Income Tax</td>\n",
       "      <td>16722</td>\n",
       "    </tr>\n",
       "  </tbody>\n",
       "</table>\n",
       "</div>"
      ],
      "text/plain": [
       "                                type  amount\n",
       "financial_year                              \n",
       "1997            Corporate Income Tax    6809\n",
       "1998            Corporate Income Tax    6256\n",
       "1999            Corporate Income Tax    6565\n",
       "2000            Corporate Income Tax    8316\n",
       "2001            Corporate Income Tax    7821\n",
       "2002            Corporate Income Tax    6822\n",
       "2003            Corporate Income Tax    5921\n",
       "2004            Corporate Income Tax    6107\n",
       "2005            Corporate Income Tax    7340\n",
       "2006            Corporate Income Tax    8474\n",
       "2007            Corporate Income Tax    9250\n",
       "2008            Corporate Income Tax   10554\n",
       "2009            Corporate Income Tax    9551\n",
       "2010            Corporate Income Tax   10687\n",
       "2011            Corporate Income Tax   12096\n",
       "2012            Corporate Income Tax   12821\n",
       "2013            Corporate Income Tax   12680\n",
       "2014            Corporate Income Tax   13371\n",
       "2015            Corporate Income Tax   13815\n",
       "2016            Corporate Income Tax   13602\n",
       "2017            Corporate Income Tax   14944\n",
       "2018            Corporate Income Tax   16137\n",
       "2019            Corporate Income Tax   16722"
      ]
     },
     "execution_count": 71,
     "metadata": {},
     "output_type": "execute_result"
    }
   ],
   "source": [
    "type_amount = revenueCIT[['type','amount']]\n",
    "type_amount"
   ]
  },
  {
   "cell_type": "markdown",
   "metadata": {},
   "source": [
    "## Select Row Data"
   ]
  },
  {
   "cell_type": "code",
   "execution_count": 114,
   "metadata": {},
   "outputs": [
    {
     "data": {
      "text/plain": [
       "financial_year                   2017\n",
       "application_type      new flat buyers\n",
       "no_of_applications               2235\n",
       "Name: 0, dtype: object"
      ]
     },
     "execution_count": 114,
     "metadata": {},
     "output_type": "execute_result"
    }
   ],
   "source": [
    "loan2017.iloc[0]"
   ]
  },
  {
   "cell_type": "code",
   "execution_count": 115,
   "metadata": {},
   "outputs": [
    {
     "data": {
      "text/plain": [
       "financial_year                   2017\n",
       "application_type      new flat buyers\n",
       "no_of_applications               2235\n",
       "Name: 0, dtype: object"
      ]
     },
     "execution_count": 115,
     "metadata": {},
     "output_type": "execute_result"
    }
   ],
   "source": [
    "loan2017.loc[0]"
   ]
  },
  {
   "cell_type": "code",
   "execution_count": 74,
   "metadata": {},
   "outputs": [
    {
     "data": {
      "text/html": [
       "<div>\n",
       "<style scoped>\n",
       "    .dataframe tbody tr th:only-of-type {\n",
       "        vertical-align: middle;\n",
       "    }\n",
       "\n",
       "    .dataframe tbody tr th {\n",
       "        vertical-align: top;\n",
       "    }\n",
       "\n",
       "    .dataframe thead th {\n",
       "        text-align: right;\n",
       "    }\n",
       "</style>\n",
       "<table border=\"1\" class=\"dataframe\">\n",
       "  <thead>\n",
       "    <tr style=\"text-align: right;\">\n",
       "      <th></th>\n",
       "      <th>financial_year</th>\n",
       "      <th>application_type</th>\n",
       "      <th>no_of_applications</th>\n",
       "    </tr>\n",
       "  </thead>\n",
       "  <tbody>\n",
       "    <tr>\n",
       "      <th>001</th>\n",
       "      <td>2017</td>\n",
       "      <td>new flat buyers</td>\n",
       "      <td>2235</td>\n",
       "    </tr>\n",
       "    <tr>\n",
       "      <th>002</th>\n",
       "      <td>2017</td>\n",
       "      <td>resale flat buyers</td>\n",
       "      <td>8563</td>\n",
       "    </tr>\n",
       "    <tr>\n",
       "      <th>003</th>\n",
       "      <td>2017</td>\n",
       "      <td>existing flat owners (refinance)</td>\n",
       "      <td>1020</td>\n",
       "    </tr>\n",
       "    <tr>\n",
       "      <th>004</th>\n",
       "      <td>2017</td>\n",
       "      <td>DBSS flat buyers</td>\n",
       "      <td>7</td>\n",
       "    </tr>\n",
       "  </tbody>\n",
       "</table>\n",
       "</div>"
      ],
      "text/plain": [
       "     financial_year                  application_type  no_of_applications\n",
       "001            2017                   new flat buyers                2235\n",
       "002            2017                resale flat buyers                8563\n",
       "003            2017  existing flat owners (refinance)                1020\n",
       "004            2017                  DBSS flat buyers                   7"
      ]
     },
     "execution_count": 74,
     "metadata": {},
     "output_type": "execute_result"
    }
   ],
   "source": [
    "loan2017.index = ['001','002','003', '004']\n",
    "loan2017"
   ]
  },
  {
   "cell_type": "code",
   "execution_count": 76,
   "metadata": {},
   "outputs": [],
   "source": [
    "# loan2017.loc[0]"
   ]
  },
  {
   "cell_type": "code",
   "execution_count": 77,
   "metadata": {},
   "outputs": [
    {
     "data": {
      "text/plain": [
       "financial_year                   2017\n",
       "application_type      new flat buyers\n",
       "no_of_applications               2235\n",
       "Name: 001, dtype: object"
      ]
     },
     "execution_count": 77,
     "metadata": {},
     "output_type": "execute_result"
    }
   ],
   "source": [
    "loan2017.iloc[0]"
   ]
  },
  {
   "cell_type": "code",
   "execution_count": 119,
   "metadata": {},
   "outputs": [
    {
     "data": {
      "text/plain": [
       "financial_year                   2017\n",
       "application_type      new flat buyers\n",
       "no_of_applications               2235\n",
       "Name: 001, dtype: object"
      ]
     },
     "execution_count": 119,
     "metadata": {},
     "output_type": "execute_result"
    }
   ],
   "source": [
    "loan2017.loc['001']"
   ]
  },
  {
   "cell_type": "code",
   "execution_count": 79,
   "metadata": {},
   "outputs": [
    {
     "data": {
      "text/html": [
       "<div>\n",
       "<style scoped>\n",
       "    .dataframe tbody tr th:only-of-type {\n",
       "        vertical-align: middle;\n",
       "    }\n",
       "\n",
       "    .dataframe tbody tr th {\n",
       "        vertical-align: top;\n",
       "    }\n",
       "\n",
       "    .dataframe thead th {\n",
       "        text-align: right;\n",
       "    }\n",
       "</style>\n",
       "<table border=\"1\" class=\"dataframe\">\n",
       "  <thead>\n",
       "    <tr style=\"text-align: right;\">\n",
       "      <th></th>\n",
       "      <th>financial_year</th>\n",
       "      <th>application_type</th>\n",
       "      <th>no_of_applications</th>\n",
       "    </tr>\n",
       "  </thead>\n",
       "  <tbody>\n",
       "    <tr>\n",
       "      <th>001</th>\n",
       "      <td>2017</td>\n",
       "      <td>new flat buyers</td>\n",
       "      <td>2235</td>\n",
       "    </tr>\n",
       "    <tr>\n",
       "      <th>003</th>\n",
       "      <td>2017</td>\n",
       "      <td>existing flat owners (refinance)</td>\n",
       "      <td>1020</td>\n",
       "    </tr>\n",
       "  </tbody>\n",
       "</table>\n",
       "</div>"
      ],
      "text/plain": [
       "     financial_year                  application_type  no_of_applications\n",
       "001            2017                   new flat buyers                2235\n",
       "003            2017  existing flat owners (refinance)                1020"
      ]
     },
     "execution_count": 79,
     "metadata": {},
     "output_type": "execute_result"
    }
   ],
   "source": [
    "loan2017.loc[['001', '003']]"
   ]
  },
  {
   "cell_type": "markdown",
   "metadata": {},
   "source": [
    "### Exercise"
   ]
  },
  {
   "cell_type": "code",
   "execution_count": 121,
   "metadata": {},
   "outputs": [
    {
     "data": {
      "text/html": [
       "<div>\n",
       "<style scoped>\n",
       "    .dataframe tbody tr th:only-of-type {\n",
       "        vertical-align: middle;\n",
       "    }\n",
       "\n",
       "    .dataframe tbody tr th {\n",
       "        vertical-align: top;\n",
       "    }\n",
       "\n",
       "    .dataframe thead th {\n",
       "        text-align: right;\n",
       "    }\n",
       "</style>\n",
       "<table border=\"1\" class=\"dataframe\">\n",
       "  <thead>\n",
       "    <tr style=\"text-align: right;\">\n",
       "      <th></th>\n",
       "      <th>class</th>\n",
       "      <th>type</th>\n",
       "      <th>amount</th>\n",
       "      <th>percent_of_gdp</th>\n",
       "    </tr>\n",
       "    <tr>\n",
       "      <th>financial_year</th>\n",
       "      <th></th>\n",
       "      <th></th>\n",
       "      <th></th>\n",
       "      <th></th>\n",
       "    </tr>\n",
       "  </thead>\n",
       "  <tbody>\n",
       "    <tr>\n",
       "      <th>2008</th>\n",
       "      <td>Tax</td>\n",
       "      <td>Corporate Income Tax</td>\n",
       "      <td>10554</td>\n",
       "      <td>0.039</td>\n",
       "    </tr>\n",
       "  </tbody>\n",
       "</table>\n",
       "</div>"
      ],
      "text/plain": [
       "               class                  type  amount  percent_of_gdp\n",
       "financial_year                                                    \n",
       "2008            Tax   Corporate Income Tax   10554           0.039"
      ]
     },
     "execution_count": 121,
     "metadata": {},
     "output_type": "execute_result"
    }
   ],
   "source": [
    "revenueCIT.loc[[2008]]"
   ]
  },
  {
   "cell_type": "code",
   "execution_count": 122,
   "metadata": {},
   "outputs": [
    {
     "data": {
      "text/html": [
       "<div>\n",
       "<style scoped>\n",
       "    .dataframe tbody tr th:only-of-type {\n",
       "        vertical-align: middle;\n",
       "    }\n",
       "\n",
       "    .dataframe tbody tr th {\n",
       "        vertical-align: top;\n",
       "    }\n",
       "\n",
       "    .dataframe thead th {\n",
       "        text-align: right;\n",
       "    }\n",
       "</style>\n",
       "<table border=\"1\" class=\"dataframe\">\n",
       "  <thead>\n",
       "    <tr style=\"text-align: right;\">\n",
       "      <th></th>\n",
       "      <th>class</th>\n",
       "      <th>type</th>\n",
       "      <th>amount</th>\n",
       "      <th>percent_of_gdp</th>\n",
       "    </tr>\n",
       "    <tr>\n",
       "      <th>financial_year</th>\n",
       "      <th></th>\n",
       "      <th></th>\n",
       "      <th></th>\n",
       "      <th></th>\n",
       "    </tr>\n",
       "  </thead>\n",
       "  <tbody>\n",
       "    <tr>\n",
       "      <th>2008</th>\n",
       "      <td>Tax</td>\n",
       "      <td>Corporate Income Tax</td>\n",
       "      <td>10554</td>\n",
       "      <td>0.039</td>\n",
       "    </tr>\n",
       "    <tr>\n",
       "      <th>2018</th>\n",
       "      <td>Tax</td>\n",
       "      <td>Corporate Income Tax</td>\n",
       "      <td>16137</td>\n",
       "      <td>0.033</td>\n",
       "    </tr>\n",
       "  </tbody>\n",
       "</table>\n",
       "</div>"
      ],
      "text/plain": [
       "               class                  type  amount  percent_of_gdp\n",
       "financial_year                                                    \n",
       "2008            Tax   Corporate Income Tax   10554           0.039\n",
       "2018            Tax   Corporate Income Tax   16137           0.033"
      ]
     },
     "execution_count": 122,
     "metadata": {},
     "output_type": "execute_result"
    }
   ],
   "source": [
    "revenueCIT2 = revenueCIT.loc[[2008,2018]]\n",
    "revenueCIT2"
   ]
  },
  {
   "cell_type": "markdown",
   "metadata": {},
   "source": [
    "## Append Column Data and Export Data"
   ]
  },
  {
   "cell_type": "code",
   "execution_count": 80,
   "metadata": {},
   "outputs": [
    {
     "data": {
      "text/html": [
       "<div>\n",
       "<style scoped>\n",
       "    .dataframe tbody tr th:only-of-type {\n",
       "        vertical-align: middle;\n",
       "    }\n",
       "\n",
       "    .dataframe tbody tr th {\n",
       "        vertical-align: top;\n",
       "    }\n",
       "\n",
       "    .dataframe thead th {\n",
       "        text-align: right;\n",
       "    }\n",
       "</style>\n",
       "<table border=\"1\" class=\"dataframe\">\n",
       "  <thead>\n",
       "    <tr style=\"text-align: right;\">\n",
       "      <th></th>\n",
       "      <th>financial_year</th>\n",
       "      <th>application_type</th>\n",
       "      <th>no_of_applications</th>\n",
       "    </tr>\n",
       "  </thead>\n",
       "  <tbody>\n",
       "    <tr>\n",
       "      <th>001</th>\n",
       "      <td>2017</td>\n",
       "      <td>new flat buyers</td>\n",
       "      <td>2235</td>\n",
       "    </tr>\n",
       "    <tr>\n",
       "      <th>002</th>\n",
       "      <td>2017</td>\n",
       "      <td>resale flat buyers</td>\n",
       "      <td>8563</td>\n",
       "    </tr>\n",
       "    <tr>\n",
       "      <th>003</th>\n",
       "      <td>2017</td>\n",
       "      <td>existing flat owners (refinance)</td>\n",
       "      <td>1020</td>\n",
       "    </tr>\n",
       "    <tr>\n",
       "      <th>004</th>\n",
       "      <td>2017</td>\n",
       "      <td>DBSS flat buyers</td>\n",
       "      <td>7</td>\n",
       "    </tr>\n",
       "  </tbody>\n",
       "</table>\n",
       "</div>"
      ],
      "text/plain": [
       "     financial_year                  application_type  no_of_applications\n",
       "001            2017                   new flat buyers                2235\n",
       "002            2017                resale flat buyers                8563\n",
       "003            2017  existing flat owners (refinance)                1020\n",
       "004            2017                  DBSS flat buyers                   7"
      ]
     },
     "execution_count": 80,
     "metadata": {},
     "output_type": "execute_result"
    }
   ],
   "source": [
    "loan2017"
   ]
  },
  {
   "cell_type": "code",
   "execution_count": 81,
   "metadata": {},
   "outputs": [
    {
     "data": {
      "text/html": [
       "<div>\n",
       "<style scoped>\n",
       "    .dataframe tbody tr th:only-of-type {\n",
       "        vertical-align: middle;\n",
       "    }\n",
       "\n",
       "    .dataframe tbody tr th {\n",
       "        vertical-align: top;\n",
       "    }\n",
       "\n",
       "    .dataframe thead th {\n",
       "        text-align: right;\n",
       "    }\n",
       "</style>\n",
       "<table border=\"1\" class=\"dataframe\">\n",
       "  <thead>\n",
       "    <tr style=\"text-align: right;\">\n",
       "      <th></th>\n",
       "      <th>financial_year</th>\n",
       "      <th>application_type</th>\n",
       "      <th>no_of_applications</th>\n",
       "      <th>change</th>\n",
       "    </tr>\n",
       "  </thead>\n",
       "  <tbody>\n",
       "    <tr>\n",
       "      <th>001</th>\n",
       "      <td>2017</td>\n",
       "      <td>new flat buyers</td>\n",
       "      <td>2235</td>\n",
       "      <td>Increase</td>\n",
       "    </tr>\n",
       "    <tr>\n",
       "      <th>002</th>\n",
       "      <td>2017</td>\n",
       "      <td>resale flat buyers</td>\n",
       "      <td>8563</td>\n",
       "      <td>Decrease</td>\n",
       "    </tr>\n",
       "    <tr>\n",
       "      <th>003</th>\n",
       "      <td>2017</td>\n",
       "      <td>existing flat owners (refinance)</td>\n",
       "      <td>1020</td>\n",
       "      <td>Increase</td>\n",
       "    </tr>\n",
       "    <tr>\n",
       "      <th>004</th>\n",
       "      <td>2017</td>\n",
       "      <td>DBSS flat buyers</td>\n",
       "      <td>7</td>\n",
       "      <td>Decrease</td>\n",
       "    </tr>\n",
       "  </tbody>\n",
       "</table>\n",
       "</div>"
      ],
      "text/plain": [
       "     financial_year                  application_type  no_of_applications  \\\n",
       "001            2017                   new flat buyers                2235   \n",
       "002            2017                resale flat buyers                8563   \n",
       "003            2017  existing flat owners (refinance)                1020   \n",
       "004            2017                  DBSS flat buyers                   7   \n",
       "\n",
       "       change  \n",
       "001  Increase  \n",
       "002  Decrease  \n",
       "003  Increase  \n",
       "004  Decrease  "
      ]
     },
     "execution_count": 81,
     "metadata": {},
     "output_type": "execute_result"
    }
   ],
   "source": [
    "loan2017['change'] = ['Increase','Decrease','Increase','Decrease']\n",
    "loan2017"
   ]
  },
  {
   "cell_type": "code",
   "execution_count": 125,
   "metadata": {},
   "outputs": [],
   "source": [
    "loan2017['no_of_applications_2'] = loan2017['no_of_applications'] * 2\n"
   ]
  },
  {
   "cell_type": "code",
   "execution_count": 86,
   "metadata": {},
   "outputs": [],
   "source": [
    "loan2017['no_of_applications'] = loan2017['no_of_applications'].astype(str)\n",
    "    "
   ]
  },
  {
   "cell_type": "code",
   "execution_count": 85,
   "metadata": {},
   "outputs": [
    {
     "name": "stdout",
     "output_type": "stream",
     "text": [
      "<class 'pandas.core.frame.DataFrame'>\n",
      "Index: 4 entries, 001 to 004\n",
      "Data columns (total 4 columns):\n",
      "financial_year        4 non-null int64\n",
      "application_type      4 non-null object\n",
      "no_of_applications    4 non-null object\n",
      "change                4 non-null object\n",
      "dtypes: int64(1), object(3)\n",
      "memory usage: 320.0+ bytes\n"
     ]
    }
   ],
   "source": [
    "loan2017.info()"
   ]
  },
  {
   "cell_type": "code",
   "execution_count": 87,
   "metadata": {},
   "outputs": [],
   "source": [
    "loan2017['no_of_applications'] = loan2017['no_of_applications'].astype(float)"
   ]
  },
  {
   "cell_type": "code",
   "execution_count": 137,
   "metadata": {},
   "outputs": [
    {
     "name": "stdout",
     "output_type": "stream",
     "text": [
      "<class 'pandas.core.frame.DataFrame'>\n",
      "Index: 4 entries, 001 to 004\n",
      "Data columns (total 6 columns):\n",
      "financial_year            4 non-null int64\n",
      "application_type          4 non-null object\n",
      "no_of_applications        4 non-null float64\n",
      "change                    4 non-null object\n",
      "no_of_applications_2      4 non-null int64\n",
      "no_of_applications_str    4 non-null object\n",
      "dtypes: float64(1), int64(2), object(3)\n",
      "memory usage: 384.0+ bytes\n"
     ]
    }
   ],
   "source": [
    "loan2017.info()"
   ]
  },
  {
   "cell_type": "code",
   "execution_count": 90,
   "metadata": {},
   "outputs": [
    {
     "data": {
      "text/plain": [
       "Timestamp('2017-10-20 00:00:00')"
      ]
     },
     "execution_count": 90,
     "metadata": {},
     "output_type": "execute_result"
    }
   ],
   "source": [
    "pd.to_datetime('2017-10-10', format = '%Y-%m-%d')\n",
    "pd.to_datetime('2017/10/10', format = '%Y/%m/%d')\n",
    "pd.to_datetime('20/10/2017', format = '%d/%m/%Y')"
   ]
  },
  {
   "cell_type": "code",
   "execution_count": 97,
   "metadata": {},
   "outputs": [
    {
     "data": {
      "text/plain": [
       "293"
      ]
     },
     "execution_count": 97,
     "metadata": {},
     "output_type": "execute_result"
    }
   ],
   "source": [
    "a1 = pd.to_datetime('20/10/2017', format = '%d/%m/%Y')\n",
    "a1.dayofyear"
   ]
  },
  {
   "cell_type": "code",
   "execution_count": 97,
   "metadata": {},
   "outputs": [],
   "source": [
    "# loan2017['no_of_applications_times'] = loan2017['no_of_applications'] * \n",
    "#                             loan2017['financial_year']"
   ]
  },
  {
   "cell_type": "code",
   "execution_count": 98,
   "metadata": {},
   "outputs": [],
   "source": [
    "# loan2017"
   ]
  },
  {
   "cell_type": "code",
   "execution_count": 101,
   "metadata": {},
   "outputs": [
    {
     "data": {
      "text/html": [
       "<div>\n",
       "<style scoped>\n",
       "    .dataframe tbody tr th:only-of-type {\n",
       "        vertical-align: middle;\n",
       "    }\n",
       "\n",
       "    .dataframe tbody tr th {\n",
       "        vertical-align: top;\n",
       "    }\n",
       "\n",
       "    .dataframe thead th {\n",
       "        text-align: right;\n",
       "    }\n",
       "</style>\n",
       "<table border=\"1\" class=\"dataframe\">\n",
       "  <thead>\n",
       "    <tr style=\"text-align: right;\">\n",
       "      <th></th>\n",
       "      <th>financial_year</th>\n",
       "      <th>application_type</th>\n",
       "      <th>no_of_applications</th>\n",
       "      <th>change</th>\n",
       "    </tr>\n",
       "  </thead>\n",
       "  <tbody>\n",
       "    <tr>\n",
       "      <th>001</th>\n",
       "      <td>2017</td>\n",
       "      <td>new flat buyers</td>\n",
       "      <td>2235.0</td>\n",
       "      <td>Increase</td>\n",
       "    </tr>\n",
       "    <tr>\n",
       "      <th>002</th>\n",
       "      <td>2017</td>\n",
       "      <td>resale flat buyers</td>\n",
       "      <td>8563.0</td>\n",
       "      <td>Decrease</td>\n",
       "    </tr>\n",
       "    <tr>\n",
       "      <th>003</th>\n",
       "      <td>2017</td>\n",
       "      <td>existing flat owners (refinance)</td>\n",
       "      <td>1020.0</td>\n",
       "      <td>Increase</td>\n",
       "    </tr>\n",
       "    <tr>\n",
       "      <th>004</th>\n",
       "      <td>2017</td>\n",
       "      <td>DBSS flat buyers</td>\n",
       "      <td>7.0</td>\n",
       "      <td>Decrease</td>\n",
       "    </tr>\n",
       "  </tbody>\n",
       "</table>\n",
       "</div>"
      ],
      "text/plain": [
       "     financial_year                  application_type  no_of_applications  \\\n",
       "001            2017                   new flat buyers              2235.0   \n",
       "002            2017                resale flat buyers              8563.0   \n",
       "003            2017  existing flat owners (refinance)              1020.0   \n",
       "004            2017                  DBSS flat buyers                 7.0   \n",
       "\n",
       "       change  \n",
       "001  Increase  \n",
       "002  Decrease  \n",
       "003  Increase  \n",
       "004  Decrease  "
      ]
     },
     "execution_count": 101,
     "metadata": {},
     "output_type": "execute_result"
    }
   ],
   "source": [
    "loan2017"
   ]
  },
  {
   "cell_type": "code",
   "execution_count": 106,
   "metadata": {},
   "outputs": [
    {
     "data": {
      "text/html": [
       "<div>\n",
       "<style scoped>\n",
       "    .dataframe tbody tr th:only-of-type {\n",
       "        vertical-align: middle;\n",
       "    }\n",
       "\n",
       "    .dataframe tbody tr th {\n",
       "        vertical-align: top;\n",
       "    }\n",
       "\n",
       "    .dataframe thead th {\n",
       "        text-align: right;\n",
       "    }\n",
       "</style>\n",
       "<table border=\"1\" class=\"dataframe\">\n",
       "  <thead>\n",
       "    <tr style=\"text-align: right;\">\n",
       "      <th></th>\n",
       "      <th>financial_year</th>\n",
       "      <th>application_type</th>\n",
       "      <th>no_of_applications</th>\n",
       "      <th>change</th>\n",
       "    </tr>\n",
       "  </thead>\n",
       "  <tbody>\n",
       "    <tr>\n",
       "      <th>0</th>\n",
       "      <td>2017</td>\n",
       "      <td>new flat buyers</td>\n",
       "      <td>2235.0</td>\n",
       "      <td>Increase</td>\n",
       "    </tr>\n",
       "    <tr>\n",
       "      <th>1</th>\n",
       "      <td>2017</td>\n",
       "      <td>resale flat buyers</td>\n",
       "      <td>8563.0</td>\n",
       "      <td>Decrease</td>\n",
       "    </tr>\n",
       "    <tr>\n",
       "      <th>2</th>\n",
       "      <td>2017</td>\n",
       "      <td>existing flat owners (refinance)</td>\n",
       "      <td>1020.0</td>\n",
       "      <td>Increase</td>\n",
       "    </tr>\n",
       "    <tr>\n",
       "      <th>3</th>\n",
       "      <td>2017</td>\n",
       "      <td>DBSS flat buyers</td>\n",
       "      <td>7.0</td>\n",
       "      <td>Decrease</td>\n",
       "    </tr>\n",
       "    <tr>\n",
       "      <th>4</th>\n",
       "      <td>2017</td>\n",
       "      <td>test</td>\n",
       "      <td>NaN</td>\n",
       "      <td>increase</td>\n",
       "    </tr>\n",
       "  </tbody>\n",
       "</table>\n",
       "</div>"
      ],
      "text/plain": [
       "   financial_year                  application_type  no_of_applications  \\\n",
       "0            2017                   new flat buyers              2235.0   \n",
       "1            2017                resale flat buyers              8563.0   \n",
       "2            2017  existing flat owners (refinance)              1020.0   \n",
       "3            2017                  DBSS flat buyers                 7.0   \n",
       "4            2017                              test                 NaN   \n",
       "\n",
       "     change  \n",
       "0  Increase  \n",
       "1  Decrease  \n",
       "2  Increase  \n",
       "3  Decrease  \n",
       "4  increase  "
      ]
     },
     "execution_count": 106,
     "metadata": {},
     "output_type": "execute_result"
    }
   ],
   "source": [
    "loan2017.append({'financial_year' : 2017, \n",
    "                 'application_type' : 'test',\n",
    "#                  'no_of_applications': 100,\n",
    "                 'change': 'increase'} , ignore_index=True)\n"
   ]
  },
  {
   "cell_type": "markdown",
   "metadata": {},
   "source": [
    "## Export CSV Data"
   ]
  },
  {
   "cell_type": "code",
   "execution_count": 72,
   "metadata": {},
   "outputs": [],
   "source": [
    "loan2017.to_csv('data/loan2017_2.csv')"
   ]
  },
  {
   "cell_type": "markdown",
   "metadata": {},
   "source": [
    "### Exercise"
   ]
  },
  {
   "cell_type": "code",
   "execution_count": 73,
   "metadata": {},
   "outputs": [],
   "source": [
    "# Export CSV data\n",
    "revenueCIT2.to_csv('data/revenueCIT2.csv')\n",
    "revenueCIT2.to_excel('data/revenueCIT2.xlsx')"
   ]
  },
  {
   "cell_type": "markdown",
   "metadata": {},
   "source": [
    "## Select Cell Data"
   ]
  },
  {
   "cell_type": "code",
   "execution_count": 110,
   "metadata": {},
   "outputs": [
    {
     "data": {
      "text/html": [
       "<div>\n",
       "<style scoped>\n",
       "    .dataframe tbody tr th:only-of-type {\n",
       "        vertical-align: middle;\n",
       "    }\n",
       "\n",
       "    .dataframe tbody tr th {\n",
       "        vertical-align: top;\n",
       "    }\n",
       "\n",
       "    .dataframe thead th {\n",
       "        text-align: right;\n",
       "    }\n",
       "</style>\n",
       "<table border=\"1\" class=\"dataframe\">\n",
       "  <thead>\n",
       "    <tr style=\"text-align: right;\">\n",
       "      <th></th>\n",
       "      <th>financial_year</th>\n",
       "      <th>application_type</th>\n",
       "      <th>no_of_applications</th>\n",
       "      <th>change</th>\n",
       "    </tr>\n",
       "  </thead>\n",
       "  <tbody>\n",
       "    <tr>\n",
       "      <th>001</th>\n",
       "      <td>2017</td>\n",
       "      <td>new flat buyers</td>\n",
       "      <td>2235.0</td>\n",
       "      <td>Increase</td>\n",
       "    </tr>\n",
       "    <tr>\n",
       "      <th>002</th>\n",
       "      <td>2017</td>\n",
       "      <td>resale flat buyers</td>\n",
       "      <td>8563.0</td>\n",
       "      <td>Decrease</td>\n",
       "    </tr>\n",
       "    <tr>\n",
       "      <th>003</th>\n",
       "      <td>2017</td>\n",
       "      <td>existing flat owners (refinance)</td>\n",
       "      <td>1020.0</td>\n",
       "      <td>Increase</td>\n",
       "    </tr>\n",
       "    <tr>\n",
       "      <th>004</th>\n",
       "      <td>2017</td>\n",
       "      <td>DBSS flat buyers</td>\n",
       "      <td>7.0</td>\n",
       "      <td>Decrease</td>\n",
       "    </tr>\n",
       "  </tbody>\n",
       "</table>\n",
       "</div>"
      ],
      "text/plain": [
       "     financial_year                  application_type  no_of_applications  \\\n",
       "001            2017                   new flat buyers              2235.0   \n",
       "002            2017                resale flat buyers              8563.0   \n",
       "003            2017  existing flat owners (refinance)              1020.0   \n",
       "004            2017                  DBSS flat buyers                 7.0   \n",
       "\n",
       "       change  \n",
       "001  Increase  \n",
       "002  Decrease  \n",
       "003  Increase  \n",
       "004  Decrease  "
      ]
     },
     "execution_count": 110,
     "metadata": {},
     "output_type": "execute_result"
    }
   ],
   "source": [
    "loan2017"
   ]
  },
  {
   "cell_type": "code",
   "execution_count": 107,
   "metadata": {},
   "outputs": [
    {
     "data": {
      "text/plain": [
       "001                     new flat buyers\n",
       "002                  resale flat buyers\n",
       "003    existing flat owners (refinance)\n",
       "004                    DBSS flat buyers\n",
       "Name: application_type, dtype: object"
      ]
     },
     "execution_count": 107,
     "metadata": {},
     "output_type": "execute_result"
    }
   ],
   "source": [
    "loan2017['application_type']"
   ]
  },
  {
   "cell_type": "code",
   "execution_count": 108,
   "metadata": {},
   "outputs": [
    {
     "data": {
      "text/plain": [
       "'new flat buyers'"
      ]
     },
     "execution_count": 108,
     "metadata": {},
     "output_type": "execute_result"
    }
   ],
   "source": [
    "loan2017['application_type'].iloc[0]"
   ]
  },
  {
   "cell_type": "code",
   "execution_count": 150,
   "metadata": {},
   "outputs": [
    {
     "data": {
      "text/plain": [
       "'new flat buyers'"
      ]
     },
     "execution_count": 150,
     "metadata": {},
     "output_type": "execute_result"
    }
   ],
   "source": [
    "loan2017['application_type'][0]"
   ]
  },
  {
   "cell_type": "code",
   "execution_count": 109,
   "metadata": {},
   "outputs": [
    {
     "data": {
      "text/plain": [
       "'new flat buyers'"
      ]
     },
     "execution_count": 109,
     "metadata": {},
     "output_type": "execute_result"
    }
   ],
   "source": [
    "loan2017['application_type'].loc['001']"
   ]
  },
  {
   "cell_type": "code",
   "execution_count": 77,
   "metadata": {},
   "outputs": [
    {
     "data": {
      "text/plain": [
       "'new flat buyers'"
      ]
     },
     "execution_count": 77,
     "metadata": {},
     "output_type": "execute_result"
    }
   ],
   "source": [
    "loan2017.loc['001']['application_type']"
   ]
  },
  {
   "cell_type": "code",
   "execution_count": 78,
   "metadata": {},
   "outputs": [
    {
     "data": {
      "text/plain": [
       "'new flat buyers'"
      ]
     },
     "execution_count": 78,
     "metadata": {},
     "output_type": "execute_result"
    }
   ],
   "source": [
    "loan2017.loc['001'][1]"
   ]
  },
  {
   "cell_type": "markdown",
   "metadata": {},
   "source": [
    "## Slicing"
   ]
  },
  {
   "cell_type": "code",
   "execution_count": 79,
   "metadata": {},
   "outputs": [
    {
     "data": {
      "text/plain": [
       "financial_year                   2017\n",
       "application_type      new flat buyers\n",
       "no_of_applications               2235\n",
       "change                       Increase\n",
       "Name: 001, dtype: object"
      ]
     },
     "execution_count": 79,
     "metadata": {},
     "output_type": "execute_result"
    }
   ],
   "source": [
    "loan2017.iloc[0]"
   ]
  },
  {
   "cell_type": "code",
   "execution_count": 80,
   "metadata": {},
   "outputs": [
    {
     "data": {
      "text/plain": [
       "pandas.core.series.Series"
      ]
     },
     "execution_count": 80,
     "metadata": {},
     "output_type": "execute_result"
    }
   ],
   "source": [
    "type(loan2017.iloc[0])"
   ]
  },
  {
   "cell_type": "code",
   "execution_count": 81,
   "metadata": {},
   "outputs": [
    {
     "data": {
      "text/html": [
       "<div>\n",
       "<style scoped>\n",
       "    .dataframe tbody tr th:only-of-type {\n",
       "        vertical-align: middle;\n",
       "    }\n",
       "\n",
       "    .dataframe tbody tr th {\n",
       "        vertical-align: top;\n",
       "    }\n",
       "\n",
       "    .dataframe thead th {\n",
       "        text-align: right;\n",
       "    }\n",
       "</style>\n",
       "<table border=\"1\" class=\"dataframe\">\n",
       "  <thead>\n",
       "    <tr style=\"text-align: right;\">\n",
       "      <th></th>\n",
       "      <th>financial_year</th>\n",
       "      <th>application_type</th>\n",
       "      <th>no_of_applications</th>\n",
       "      <th>change</th>\n",
       "    </tr>\n",
       "  </thead>\n",
       "  <tbody>\n",
       "    <tr>\n",
       "      <th>001</th>\n",
       "      <td>2017</td>\n",
       "      <td>new flat buyers</td>\n",
       "      <td>2235</td>\n",
       "      <td>Increase</td>\n",
       "    </tr>\n",
       "  </tbody>\n",
       "</table>\n",
       "</div>"
      ],
      "text/plain": [
       "     financial_year application_type  no_of_applications    change\n",
       "001            2017  new flat buyers                2235  Increase"
      ]
     },
     "execution_count": 81,
     "metadata": {},
     "output_type": "execute_result"
    }
   ],
   "source": [
    "loan2017.iloc[[0]]"
   ]
  },
  {
   "cell_type": "code",
   "execution_count": 82,
   "metadata": {},
   "outputs": [
    {
     "data": {
      "text/plain": [
       "pandas.core.frame.DataFrame"
      ]
     },
     "execution_count": 82,
     "metadata": {},
     "output_type": "execute_result"
    }
   ],
   "source": [
    "type(loan2017.iloc[[0]])"
   ]
  },
  {
   "cell_type": "code",
   "execution_count": 83,
   "metadata": {},
   "outputs": [
    {
     "data": {
      "text/html": [
       "<div>\n",
       "<style scoped>\n",
       "    .dataframe tbody tr th:only-of-type {\n",
       "        vertical-align: middle;\n",
       "    }\n",
       "\n",
       "    .dataframe tbody tr th {\n",
       "        vertical-align: top;\n",
       "    }\n",
       "\n",
       "    .dataframe thead th {\n",
       "        text-align: right;\n",
       "    }\n",
       "</style>\n",
       "<table border=\"1\" class=\"dataframe\">\n",
       "  <thead>\n",
       "    <tr style=\"text-align: right;\">\n",
       "      <th></th>\n",
       "      <th>financial_year</th>\n",
       "      <th>application_type</th>\n",
       "      <th>no_of_applications</th>\n",
       "      <th>change</th>\n",
       "    </tr>\n",
       "  </thead>\n",
       "  <tbody>\n",
       "    <tr>\n",
       "      <th>001</th>\n",
       "      <td>2017</td>\n",
       "      <td>new flat buyers</td>\n",
       "      <td>2235</td>\n",
       "      <td>Increase</td>\n",
       "    </tr>\n",
       "    <tr>\n",
       "      <th>002</th>\n",
       "      <td>2017</td>\n",
       "      <td>resale flat buyers</td>\n",
       "      <td>8563</td>\n",
       "      <td>Decrease</td>\n",
       "    </tr>\n",
       "  </tbody>\n",
       "</table>\n",
       "</div>"
      ],
      "text/plain": [
       "     financial_year    application_type  no_of_applications    change\n",
       "001            2017     new flat buyers                2235  Increase\n",
       "002            2017  resale flat buyers                8563  Decrease"
      ]
     },
     "execution_count": 83,
     "metadata": {},
     "output_type": "execute_result"
    }
   ],
   "source": [
    "loan2017.iloc[[0,1]]"
   ]
  },
  {
   "cell_type": "code",
   "execution_count": 111,
   "metadata": {},
   "outputs": [
    {
     "data": {
      "text/html": [
       "<div>\n",
       "<style scoped>\n",
       "    .dataframe tbody tr th:only-of-type {\n",
       "        vertical-align: middle;\n",
       "    }\n",
       "\n",
       "    .dataframe tbody tr th {\n",
       "        vertical-align: top;\n",
       "    }\n",
       "\n",
       "    .dataframe thead th {\n",
       "        text-align: right;\n",
       "    }\n",
       "</style>\n",
       "<table border=\"1\" class=\"dataframe\">\n",
       "  <thead>\n",
       "    <tr style=\"text-align: right;\">\n",
       "      <th></th>\n",
       "      <th>financial_year</th>\n",
       "      <th>application_type</th>\n",
       "      <th>no_of_applications</th>\n",
       "      <th>change</th>\n",
       "    </tr>\n",
       "  </thead>\n",
       "  <tbody>\n",
       "    <tr>\n",
       "      <th>001</th>\n",
       "      <td>2017</td>\n",
       "      <td>new flat buyers</td>\n",
       "      <td>2235.0</td>\n",
       "      <td>Increase</td>\n",
       "    </tr>\n",
       "    <tr>\n",
       "      <th>002</th>\n",
       "      <td>2017</td>\n",
       "      <td>resale flat buyers</td>\n",
       "      <td>8563.0</td>\n",
       "      <td>Decrease</td>\n",
       "    </tr>\n",
       "  </tbody>\n",
       "</table>\n",
       "</div>"
      ],
      "text/plain": [
       "     financial_year    application_type  no_of_applications    change\n",
       "001            2017     new flat buyers              2235.0  Increase\n",
       "002            2017  resale flat buyers              8563.0  Decrease"
      ]
     },
     "execution_count": 111,
     "metadata": {},
     "output_type": "execute_result"
    }
   ],
   "source": [
    "loan2017.iloc[0:2]\n",
    "# loan2017.iloc[range(0,2)]"
   ]
  },
  {
   "cell_type": "code",
   "execution_count": 116,
   "metadata": {},
   "outputs": [
    {
     "data": {
      "text/html": [
       "<div>\n",
       "<style scoped>\n",
       "    .dataframe tbody tr th:only-of-type {\n",
       "        vertical-align: middle;\n",
       "    }\n",
       "\n",
       "    .dataframe tbody tr th {\n",
       "        vertical-align: top;\n",
       "    }\n",
       "\n",
       "    .dataframe thead th {\n",
       "        text-align: right;\n",
       "    }\n",
       "</style>\n",
       "<table border=\"1\" class=\"dataframe\">\n",
       "  <thead>\n",
       "    <tr style=\"text-align: right;\">\n",
       "      <th></th>\n",
       "      <th>application_type</th>\n",
       "      <th>no_of_applications</th>\n",
       "    </tr>\n",
       "  </thead>\n",
       "  <tbody>\n",
       "    <tr>\n",
       "      <th>001</th>\n",
       "      <td>new flat buyers</td>\n",
       "      <td>2235.0</td>\n",
       "    </tr>\n",
       "    <tr>\n",
       "      <th>002</th>\n",
       "      <td>resale flat buyers</td>\n",
       "      <td>8563.0</td>\n",
       "    </tr>\n",
       "    <tr>\n",
       "      <th>004</th>\n",
       "      <td>DBSS flat buyers</td>\n",
       "      <td>7.0</td>\n",
       "    </tr>\n",
       "  </tbody>\n",
       "</table>\n",
       "</div>"
      ],
      "text/plain": [
       "       application_type  no_of_applications\n",
       "001     new flat buyers              2235.0\n",
       "002  resale flat buyers              8563.0\n",
       "004    DBSS flat buyers                 7.0"
      ]
     },
     "execution_count": 116,
     "metadata": {},
     "output_type": "execute_result"
    }
   ],
   "source": [
    "loan2017[['application_type','no_of_applications']].iloc[[0,1,3]]"
   ]
  },
  {
   "cell_type": "code",
   "execution_count": 124,
   "metadata": {},
   "outputs": [],
   "source": [
    "# loan2017.loc[['001']][1]"
   ]
  },
  {
   "cell_type": "code",
   "execution_count": 114,
   "metadata": {},
   "outputs": [
    {
     "data": {
      "text/html": [
       "<div>\n",
       "<style scoped>\n",
       "    .dataframe tbody tr th:only-of-type {\n",
       "        vertical-align: middle;\n",
       "    }\n",
       "\n",
       "    .dataframe tbody tr th {\n",
       "        vertical-align: top;\n",
       "    }\n",
       "\n",
       "    .dataframe thead th {\n",
       "        text-align: right;\n",
       "    }\n",
       "</style>\n",
       "<table border=\"1\" class=\"dataframe\">\n",
       "  <thead>\n",
       "    <tr style=\"text-align: right;\">\n",
       "      <th></th>\n",
       "      <th>application_type</th>\n",
       "      <th>no_of_applications</th>\n",
       "    </tr>\n",
       "  </thead>\n",
       "  <tbody>\n",
       "    <tr>\n",
       "      <th>001</th>\n",
       "      <td>new flat buyers</td>\n",
       "      <td>2235.0</td>\n",
       "    </tr>\n",
       "    <tr>\n",
       "      <th>002</th>\n",
       "      <td>resale flat buyers</td>\n",
       "      <td>8563.0</td>\n",
       "    </tr>\n",
       "  </tbody>\n",
       "</table>\n",
       "</div>"
      ],
      "text/plain": [
       "       application_type  no_of_applications\n",
       "001     new flat buyers              2235.0\n",
       "002  resale flat buyers              8563.0"
      ]
     },
     "execution_count": 114,
     "metadata": {},
     "output_type": "execute_result"
    }
   ],
   "source": [
    "loan2017[['application_type','no_of_applications']].iloc[0:2]"
   ]
  },
  {
   "cell_type": "code",
   "execution_count": 86,
   "metadata": {},
   "outputs": [
    {
     "data": {
      "text/html": [
       "<div>\n",
       "<style scoped>\n",
       "    .dataframe tbody tr th:only-of-type {\n",
       "        vertical-align: middle;\n",
       "    }\n",
       "\n",
       "    .dataframe tbody tr th {\n",
       "        vertical-align: top;\n",
       "    }\n",
       "\n",
       "    .dataframe thead th {\n",
       "        text-align: right;\n",
       "    }\n",
       "</style>\n",
       "<table border=\"1\" class=\"dataframe\">\n",
       "  <thead>\n",
       "    <tr style=\"text-align: right;\">\n",
       "      <th></th>\n",
       "      <th>application_type</th>\n",
       "      <th>no_of_applications</th>\n",
       "    </tr>\n",
       "  </thead>\n",
       "  <tbody>\n",
       "    <tr>\n",
       "      <th>001</th>\n",
       "      <td>new flat buyers</td>\n",
       "      <td>2235</td>\n",
       "    </tr>\n",
       "    <tr>\n",
       "      <th>003</th>\n",
       "      <td>existing flat owners (refinance)</td>\n",
       "      <td>1020</td>\n",
       "    </tr>\n",
       "  </tbody>\n",
       "</table>\n",
       "</div>"
      ],
      "text/plain": [
       "                     application_type  no_of_applications\n",
       "001                   new flat buyers                2235\n",
       "003  existing flat owners (refinance)                1020"
      ]
     },
     "execution_count": 86,
     "metadata": {},
     "output_type": "execute_result"
    }
   ],
   "source": [
    "loan2017.iloc[[0,2]][['application_type','no_of_applications']]"
   ]
  },
  {
   "cell_type": "markdown",
   "metadata": {},
   "source": [
    "## Filtering Data"
   ]
  },
  {
   "cell_type": "code",
   "execution_count": 87,
   "metadata": {},
   "outputs": [
    {
     "data": {
      "text/plain": [
       "001     True\n",
       "002     True\n",
       "003     True\n",
       "004    False\n",
       "Name: no_of_applications, dtype: bool"
      ]
     },
     "execution_count": 87,
     "metadata": {},
     "output_type": "execute_result"
    }
   ],
   "source": [
    "loan2017.no_of_applications>1000"
   ]
  },
  {
   "cell_type": "code",
   "execution_count": 125,
   "metadata": {},
   "outputs": [
    {
     "data": {
      "text/html": [
       "<div>\n",
       "<style scoped>\n",
       "    .dataframe tbody tr th:only-of-type {\n",
       "        vertical-align: middle;\n",
       "    }\n",
       "\n",
       "    .dataframe tbody tr th {\n",
       "        vertical-align: top;\n",
       "    }\n",
       "\n",
       "    .dataframe thead th {\n",
       "        text-align: right;\n",
       "    }\n",
       "</style>\n",
       "<table border=\"1\" class=\"dataframe\">\n",
       "  <thead>\n",
       "    <tr style=\"text-align: right;\">\n",
       "      <th></th>\n",
       "      <th>financial_year</th>\n",
       "      <th>application_type</th>\n",
       "      <th>no_of_applications</th>\n",
       "      <th>change</th>\n",
       "    </tr>\n",
       "  </thead>\n",
       "  <tbody>\n",
       "    <tr>\n",
       "      <th>002</th>\n",
       "      <td>2017</td>\n",
       "      <td>resale flat buyers</td>\n",
       "      <td>8563.0</td>\n",
       "      <td>Decrease</td>\n",
       "    </tr>\n",
       "    <tr>\n",
       "      <th>003</th>\n",
       "      <td>2017</td>\n",
       "      <td>existing flat owners (refinance)</td>\n",
       "      <td>1020.0</td>\n",
       "      <td>Increase</td>\n",
       "    </tr>\n",
       "  </tbody>\n",
       "</table>\n",
       "</div>"
      ],
      "text/plain": [
       "     financial_year                  application_type  no_of_applications  \\\n",
       "002            2017                resale flat buyers              8563.0   \n",
       "003            2017  existing flat owners (refinance)              1020.0   \n",
       "\n",
       "       change  \n",
       "002  Decrease  \n",
       "003  Increase  "
      ]
     },
     "execution_count": 125,
     "metadata": {},
     "output_type": "execute_result"
    }
   ],
   "source": [
    "loan2017[(loan2017.no_of_applications>1000) & \n",
    "         (loan2017.application_type!='new flat buyers')]\n"
   ]
  },
  {
   "cell_type": "markdown",
   "metadata": {},
   "source": [
    "### Exercise"
   ]
  },
  {
   "cell_type": "code",
   "execution_count": 126,
   "metadata": {},
   "outputs": [],
   "source": [
    "revenue = pd.read_csv('data/revenue.csv')"
   ]
  },
  {
   "cell_type": "code",
   "execution_count": 127,
   "metadata": {},
   "outputs": [
    {
     "data": {
      "text/html": [
       "<div>\n",
       "<style scoped>\n",
       "    .dataframe tbody tr th:only-of-type {\n",
       "        vertical-align: middle;\n",
       "    }\n",
       "\n",
       "    .dataframe tbody tr th {\n",
       "        vertical-align: top;\n",
       "    }\n",
       "\n",
       "    .dataframe thead th {\n",
       "        text-align: right;\n",
       "    }\n",
       "</style>\n",
       "<table border=\"1\" class=\"dataframe\">\n",
       "  <thead>\n",
       "    <tr style=\"text-align: right;\">\n",
       "      <th></th>\n",
       "      <th>financial_year</th>\n",
       "      <th>actual_revised_estimated</th>\n",
       "      <th>class</th>\n",
       "      <th>type</th>\n",
       "      <th>amount</th>\n",
       "      <th>percent_of_gdp</th>\n",
       "    </tr>\n",
       "  </thead>\n",
       "  <tbody>\n",
       "    <tr>\n",
       "      <th>11</th>\n",
       "      <td>2008</td>\n",
       "      <td>Actual</td>\n",
       "      <td>Tax</td>\n",
       "      <td>Corporate Income Tax</td>\n",
       "      <td>10554</td>\n",
       "      <td>0.039</td>\n",
       "    </tr>\n",
       "    <tr>\n",
       "      <th>12</th>\n",
       "      <td>2009</td>\n",
       "      <td>Actual</td>\n",
       "      <td>Tax</td>\n",
       "      <td>Corporate Income Tax</td>\n",
       "      <td>9551</td>\n",
       "      <td>0.033</td>\n",
       "    </tr>\n",
       "    <tr>\n",
       "      <th>13</th>\n",
       "      <td>2010</td>\n",
       "      <td>Actual</td>\n",
       "      <td>Tax</td>\n",
       "      <td>Corporate Income Tax</td>\n",
       "      <td>10687</td>\n",
       "      <td>0.032</td>\n",
       "    </tr>\n",
       "    <tr>\n",
       "      <th>34</th>\n",
       "      <td>2008</td>\n",
       "      <td>Actual</td>\n",
       "      <td>Tax</td>\n",
       "      <td>Personal Income Tax</td>\n",
       "      <td>5414</td>\n",
       "      <td>0.020</td>\n",
       "    </tr>\n",
       "    <tr>\n",
       "      <th>35</th>\n",
       "      <td>2009</td>\n",
       "      <td>Actual</td>\n",
       "      <td>Tax</td>\n",
       "      <td>Personal Income Tax</td>\n",
       "      <td>6114</td>\n",
       "      <td>0.021</td>\n",
       "    </tr>\n",
       "    <tr>\n",
       "      <th>36</th>\n",
       "      <td>2010</td>\n",
       "      <td>Actual</td>\n",
       "      <td>Tax</td>\n",
       "      <td>Personal Income Tax</td>\n",
       "      <td>6470</td>\n",
       "      <td>0.020</td>\n",
       "    </tr>\n",
       "    <tr>\n",
       "      <th>149</th>\n",
       "      <td>2008</td>\n",
       "      <td>Actual</td>\n",
       "      <td>Tax</td>\n",
       "      <td>Goods and Services Tax</td>\n",
       "      <td>6487</td>\n",
       "      <td>0.024</td>\n",
       "    </tr>\n",
       "    <tr>\n",
       "      <th>150</th>\n",
       "      <td>2009</td>\n",
       "      <td>Actual</td>\n",
       "      <td>Tax</td>\n",
       "      <td>Goods and Services Tax</td>\n",
       "      <td>6914</td>\n",
       "      <td>0.024</td>\n",
       "    </tr>\n",
       "    <tr>\n",
       "      <th>151</th>\n",
       "      <td>2010</td>\n",
       "      <td>Actual</td>\n",
       "      <td>Tax</td>\n",
       "      <td>Goods and Services Tax</td>\n",
       "      <td>8198</td>\n",
       "      <td>0.025</td>\n",
       "    </tr>\n",
       "  </tbody>\n",
       "</table>\n",
       "</div>"
      ],
      "text/plain": [
       "     financial_year actual_revised_estimated class                    type  \\\n",
       "11             2008                   Actual  Tax     Corporate Income Tax   \n",
       "12             2009                   Actual  Tax     Corporate Income Tax   \n",
       "13             2010                   Actual  Tax     Corporate Income Tax   \n",
       "34             2008                   Actual  Tax      Personal Income Tax   \n",
       "35             2009                   Actual  Tax      Personal Income Tax   \n",
       "36             2010                   Actual  Tax      Personal Income Tax   \n",
       "149            2008                   Actual  Tax   Goods and Services Tax   \n",
       "150            2009                   Actual  Tax   Goods and Services Tax   \n",
       "151            2010                   Actual  Tax   Goods and Services Tax   \n",
       "\n",
       "     amount  percent_of_gdp  \n",
       "11    10554           0.039  \n",
       "12     9551           0.033  \n",
       "13    10687           0.032  \n",
       "34     5414           0.020  \n",
       "35     6114           0.021  \n",
       "36     6470           0.020  \n",
       "149    6487           0.024  \n",
       "150    6914           0.024  \n",
       "151    8198           0.025  "
      ]
     },
     "execution_count": 127,
     "metadata": {},
     "output_type": "execute_result"
    }
   ],
   "source": [
    "revenue_filtered = revenue[(revenue.amount>5000) \n",
    "                & (revenue.financial_year.isin([2008, 2009, 2010]))]\n",
    "revenue_filtered"
   ]
  },
  {
   "cell_type": "code",
   "execution_count": 182,
   "metadata": {},
   "outputs": [
    {
     "data": {
      "text/plain": [
       "(322, 6)"
      ]
     },
     "execution_count": 182,
     "metadata": {},
     "output_type": "execute_result"
    }
   ],
   "source": [
    "# revenue[revenue.amount>5000 & revenue.financial_year.isin([2008, 2009, 2010])].shape"
   ]
  },
  {
   "cell_type": "code",
   "execution_count": 183,
   "metadata": {},
   "outputs": [
    {
     "data": {
      "text/plain": [
       "(322, 6)"
      ]
     },
     "execution_count": 183,
     "metadata": {},
     "output_type": "execute_result"
    }
   ],
   "source": [
    "revenue.shape"
   ]
  },
  {
   "cell_type": "code",
   "execution_count": 158,
   "metadata": {},
   "outputs": [],
   "source": [
    "# [(revenue.amount>5000) & (revenue.financial_year.isin([2008, 2009, 2010]))]\n"
   ]
  },
  {
   "cell_type": "code",
   "execution_count": 161,
   "metadata": {},
   "outputs": [
    {
     "data": {
      "text/plain": [
       "False"
      ]
     },
     "execution_count": 161,
     "metadata": {},
     "output_type": "execute_result"
    }
   ],
   "source": [
    "# True and False"
   ]
  },
  {
   "cell_type": "code",
   "execution_count": 171,
   "metadata": {},
   "outputs": [],
   "source": [
    "# [True, True] & [False, True]"
   ]
  },
  {
   "cell_type": "code",
   "execution_count": 172,
   "metadata": {},
   "outputs": [
    {
     "data": {
      "text/html": [
       "<div>\n",
       "<style scoped>\n",
       "    .dataframe tbody tr th:only-of-type {\n",
       "        vertical-align: middle;\n",
       "    }\n",
       "\n",
       "    .dataframe tbody tr th {\n",
       "        vertical-align: top;\n",
       "    }\n",
       "\n",
       "    .dataframe thead th {\n",
       "        text-align: right;\n",
       "    }\n",
       "</style>\n",
       "<table border=\"1\" class=\"dataframe\">\n",
       "  <thead>\n",
       "    <tr style=\"text-align: right;\">\n",
       "      <th></th>\n",
       "      <th>financial_year</th>\n",
       "      <th>actual_revised_estimated</th>\n",
       "      <th>class</th>\n",
       "      <th>type</th>\n",
       "      <th>amount</th>\n",
       "      <th>percent_of_gdp</th>\n",
       "    </tr>\n",
       "  </thead>\n",
       "  <tbody>\n",
       "    <tr>\n",
       "      <th>23</th>\n",
       "      <td>1997</td>\n",
       "      <td>Actual</td>\n",
       "      <td>Tax</td>\n",
       "      <td>Personal Income Tax</td>\n",
       "      <td>2347</td>\n",
       "      <td>0.016</td>\n",
       "    </tr>\n",
       "    <tr>\n",
       "      <th>24</th>\n",
       "      <td>1998</td>\n",
       "      <td>Actual</td>\n",
       "      <td>Tax</td>\n",
       "      <td>Personal Income Tax</td>\n",
       "      <td>2960</td>\n",
       "      <td>0.021</td>\n",
       "    </tr>\n",
       "    <tr>\n",
       "      <th>25</th>\n",
       "      <td>1999</td>\n",
       "      <td>Actual</td>\n",
       "      <td>Tax</td>\n",
       "      <td>Personal Income Tax</td>\n",
       "      <td>3040</td>\n",
       "      <td>0.020</td>\n",
       "    </tr>\n",
       "    <tr>\n",
       "      <th>26</th>\n",
       "      <td>2000</td>\n",
       "      <td>Actual</td>\n",
       "      <td>Tax</td>\n",
       "      <td>Personal Income Tax</td>\n",
       "      <td>3543</td>\n",
       "      <td>0.021</td>\n",
       "    </tr>\n",
       "    <tr>\n",
       "      <th>27</th>\n",
       "      <td>2001</td>\n",
       "      <td>Actual</td>\n",
       "      <td>Tax</td>\n",
       "      <td>Personal Income Tax</td>\n",
       "      <td>3732</td>\n",
       "      <td>0.023</td>\n",
       "    </tr>\n",
       "    <tr>\n",
       "      <th>28</th>\n",
       "      <td>2002</td>\n",
       "      <td>Actual</td>\n",
       "      <td>Tax</td>\n",
       "      <td>Personal Income Tax</td>\n",
       "      <td>3423</td>\n",
       "      <td>0.021</td>\n",
       "    </tr>\n",
       "    <tr>\n",
       "      <th>29</th>\n",
       "      <td>2003</td>\n",
       "      <td>Actual</td>\n",
       "      <td>Tax</td>\n",
       "      <td>Personal Income Tax</td>\n",
       "      <td>3133</td>\n",
       "      <td>0.018</td>\n",
       "    </tr>\n",
       "    <tr>\n",
       "      <th>30</th>\n",
       "      <td>2004</td>\n",
       "      <td>Actual</td>\n",
       "      <td>Tax</td>\n",
       "      <td>Personal Income Tax</td>\n",
       "      <td>3132</td>\n",
       "      <td>0.016</td>\n",
       "    </tr>\n",
       "    <tr>\n",
       "      <th>31</th>\n",
       "      <td>2005</td>\n",
       "      <td>Actual</td>\n",
       "      <td>Tax</td>\n",
       "      <td>Personal Income Tax</td>\n",
       "      <td>3425</td>\n",
       "      <td>0.016</td>\n",
       "    </tr>\n",
       "    <tr>\n",
       "      <th>32</th>\n",
       "      <td>2006</td>\n",
       "      <td>Actual</td>\n",
       "      <td>Tax</td>\n",
       "      <td>Personal Income Tax</td>\n",
       "      <td>3743</td>\n",
       "      <td>0.015</td>\n",
       "    </tr>\n",
       "    <tr>\n",
       "      <th>33</th>\n",
       "      <td>2007</td>\n",
       "      <td>Actual</td>\n",
       "      <td>Tax</td>\n",
       "      <td>Personal Income Tax</td>\n",
       "      <td>4537</td>\n",
       "      <td>0.016</td>\n",
       "    </tr>\n",
       "    <tr>\n",
       "      <th>46</th>\n",
       "      <td>1997</td>\n",
       "      <td>Actual</td>\n",
       "      <td>Tax</td>\n",
       "      <td>Withholding Tax</td>\n",
       "      <td>337</td>\n",
       "      <td>0.002</td>\n",
       "    </tr>\n",
       "    <tr>\n",
       "      <th>47</th>\n",
       "      <td>1998</td>\n",
       "      <td>Actual</td>\n",
       "      <td>Tax</td>\n",
       "      <td>Withholding Tax</td>\n",
       "      <td>316</td>\n",
       "      <td>0.002</td>\n",
       "    </tr>\n",
       "    <tr>\n",
       "      <th>48</th>\n",
       "      <td>1999</td>\n",
       "      <td>Actual</td>\n",
       "      <td>Tax</td>\n",
       "      <td>Withholding Tax</td>\n",
       "      <td>467</td>\n",
       "      <td>0.003</td>\n",
       "    </tr>\n",
       "    <tr>\n",
       "      <th>49</th>\n",
       "      <td>2000</td>\n",
       "      <td>Actual</td>\n",
       "      <td>Tax</td>\n",
       "      <td>Withholding Tax</td>\n",
       "      <td>486</td>\n",
       "      <td>0.003</td>\n",
       "    </tr>\n",
       "    <tr>\n",
       "      <th>50</th>\n",
       "      <td>2001</td>\n",
       "      <td>Actual</td>\n",
       "      <td>Tax</td>\n",
       "      <td>Withholding Tax</td>\n",
       "      <td>815</td>\n",
       "      <td>0.005</td>\n",
       "    </tr>\n",
       "    <tr>\n",
       "      <th>51</th>\n",
       "      <td>2002</td>\n",
       "      <td>Actual</td>\n",
       "      <td>Tax</td>\n",
       "      <td>Withholding Tax</td>\n",
       "      <td>626</td>\n",
       "      <td>0.004</td>\n",
       "    </tr>\n",
       "    <tr>\n",
       "      <th>52</th>\n",
       "      <td>2003</td>\n",
       "      <td>Actual</td>\n",
       "      <td>Tax</td>\n",
       "      <td>Withholding Tax</td>\n",
       "      <td>729</td>\n",
       "      <td>0.004</td>\n",
       "    </tr>\n",
       "    <tr>\n",
       "      <th>53</th>\n",
       "      <td>2004</td>\n",
       "      <td>Actual</td>\n",
       "      <td>Tax</td>\n",
       "      <td>Withholding Tax</td>\n",
       "      <td>824</td>\n",
       "      <td>0.004</td>\n",
       "    </tr>\n",
       "    <tr>\n",
       "      <th>54</th>\n",
       "      <td>2005</td>\n",
       "      <td>Actual</td>\n",
       "      <td>Tax</td>\n",
       "      <td>Withholding Tax</td>\n",
       "      <td>898</td>\n",
       "      <td>0.004</td>\n",
       "    </tr>\n",
       "    <tr>\n",
       "      <th>55</th>\n",
       "      <td>2006</td>\n",
       "      <td>Actual</td>\n",
       "      <td>Tax</td>\n",
       "      <td>Withholding Tax</td>\n",
       "      <td>964</td>\n",
       "      <td>0.004</td>\n",
       "    </tr>\n",
       "    <tr>\n",
       "      <th>56</th>\n",
       "      <td>2007</td>\n",
       "      <td>Actual</td>\n",
       "      <td>Tax</td>\n",
       "      <td>Withholding Tax</td>\n",
       "      <td>1150</td>\n",
       "      <td>0.004</td>\n",
       "    </tr>\n",
       "    <tr>\n",
       "      <th>57</th>\n",
       "      <td>2008</td>\n",
       "      <td>Actual</td>\n",
       "      <td>Tax</td>\n",
       "      <td>Withholding Tax</td>\n",
       "      <td>1176</td>\n",
       "      <td>0.004</td>\n",
       "    </tr>\n",
       "    <tr>\n",
       "      <th>58</th>\n",
       "      <td>2009</td>\n",
       "      <td>Actual</td>\n",
       "      <td>Tax</td>\n",
       "      <td>Withholding Tax</td>\n",
       "      <td>1137</td>\n",
       "      <td>0.004</td>\n",
       "    </tr>\n",
       "    <tr>\n",
       "      <th>59</th>\n",
       "      <td>2010</td>\n",
       "      <td>Actual</td>\n",
       "      <td>Tax</td>\n",
       "      <td>Withholding Tax</td>\n",
       "      <td>957</td>\n",
       "      <td>0.003</td>\n",
       "    </tr>\n",
       "    <tr>\n",
       "      <th>60</th>\n",
       "      <td>2011</td>\n",
       "      <td>Actual</td>\n",
       "      <td>Tax</td>\n",
       "      <td>Withholding Tax</td>\n",
       "      <td>1258</td>\n",
       "      <td>0.004</td>\n",
       "    </tr>\n",
       "    <tr>\n",
       "      <th>61</th>\n",
       "      <td>2012</td>\n",
       "      <td>Actual</td>\n",
       "      <td>Tax</td>\n",
       "      <td>Withholding Tax</td>\n",
       "      <td>1337</td>\n",
       "      <td>0.004</td>\n",
       "    </tr>\n",
       "    <tr>\n",
       "      <th>62</th>\n",
       "      <td>2013</td>\n",
       "      <td>Actual</td>\n",
       "      <td>Tax</td>\n",
       "      <td>Withholding Tax</td>\n",
       "      <td>1152</td>\n",
       "      <td>0.003</td>\n",
       "    </tr>\n",
       "    <tr>\n",
       "      <th>63</th>\n",
       "      <td>2014</td>\n",
       "      <td>Actual</td>\n",
       "      <td>Tax</td>\n",
       "      <td>Withholding Tax</td>\n",
       "      <td>1126</td>\n",
       "      <td>0.003</td>\n",
       "    </tr>\n",
       "    <tr>\n",
       "      <th>64</th>\n",
       "      <td>2015</td>\n",
       "      <td>Actual</td>\n",
       "      <td>Tax</td>\n",
       "      <td>Withholding Tax</td>\n",
       "      <td>1402</td>\n",
       "      <td>0.003</td>\n",
       "    </tr>\n",
       "    <tr>\n",
       "      <th>...</th>\n",
       "      <td>...</td>\n",
       "      <td>...</td>\n",
       "      <td>...</td>\n",
       "      <td>...</td>\n",
       "      <td>...</td>\n",
       "      <td>...</td>\n",
       "    </tr>\n",
       "    <tr>\n",
       "      <th>292</th>\n",
       "      <td>2013</td>\n",
       "      <td>Actual</td>\n",
       "      <td>Fees and Charges</td>\n",
       "      <td>Fees and Charges (Excluding Vehicle Quota Prem...</td>\n",
       "      <td>2903</td>\n",
       "      <td>0.008</td>\n",
       "    </tr>\n",
       "    <tr>\n",
       "      <th>293</th>\n",
       "      <td>2014</td>\n",
       "      <td>Actual</td>\n",
       "      <td>Fees and Charges</td>\n",
       "      <td>Fees and Charges (Excluding Vehicle Quota Prem...</td>\n",
       "      <td>3010</td>\n",
       "      <td>0.007</td>\n",
       "    </tr>\n",
       "    <tr>\n",
       "      <th>294</th>\n",
       "      <td>2015</td>\n",
       "      <td>Actual</td>\n",
       "      <td>Fees and Charges</td>\n",
       "      <td>Fees and Charges (Excluding Vehicle Quota Prem...</td>\n",
       "      <td>3249</td>\n",
       "      <td>0.008</td>\n",
       "    </tr>\n",
       "    <tr>\n",
       "      <th>295</th>\n",
       "      <td>2016</td>\n",
       "      <td>Actual</td>\n",
       "      <td>Fees and Charges</td>\n",
       "      <td>Fees and Charges (Excluding Vehicle Quota Prem...</td>\n",
       "      <td>3209</td>\n",
       "      <td>0.007</td>\n",
       "    </tr>\n",
       "    <tr>\n",
       "      <th>296</th>\n",
       "      <td>2017</td>\n",
       "      <td>Actual</td>\n",
       "      <td>Fees and Charges</td>\n",
       "      <td>Fees and Charges (Excluding Vehicle Quota Prem...</td>\n",
       "      <td>3279</td>\n",
       "      <td>0.007</td>\n",
       "    </tr>\n",
       "    <tr>\n",
       "      <th>297</th>\n",
       "      <td>2018</td>\n",
       "      <td>Revised</td>\n",
       "      <td>Fees and Charges</td>\n",
       "      <td>Fees and Charges (Excluding Vehicle Quota Prem...</td>\n",
       "      <td>3216</td>\n",
       "      <td>0.007</td>\n",
       "    </tr>\n",
       "    <tr>\n",
       "      <th>298</th>\n",
       "      <td>2019</td>\n",
       "      <td>Estimated</td>\n",
       "      <td>Fees and Charges</td>\n",
       "      <td>Fees and Charges (Excluding Vehicle Quota Prem...</td>\n",
       "      <td>3376</td>\n",
       "      <td>0.007</td>\n",
       "    </tr>\n",
       "    <tr>\n",
       "      <th>299</th>\n",
       "      <td>1997</td>\n",
       "      <td>Actual</td>\n",
       "      <td>Others</td>\n",
       "      <td>Others</td>\n",
       "      <td>2170</td>\n",
       "      <td>0.014</td>\n",
       "    </tr>\n",
       "    <tr>\n",
       "      <th>300</th>\n",
       "      <td>1998</td>\n",
       "      <td>Actual</td>\n",
       "      <td>Others</td>\n",
       "      <td>Others</td>\n",
       "      <td>3208</td>\n",
       "      <td>0.023</td>\n",
       "    </tr>\n",
       "    <tr>\n",
       "      <th>301</th>\n",
       "      <td>1999</td>\n",
       "      <td>Actual</td>\n",
       "      <td>Others</td>\n",
       "      <td>Others</td>\n",
       "      <td>3458</td>\n",
       "      <td>0.023</td>\n",
       "    </tr>\n",
       "    <tr>\n",
       "      <th>302</th>\n",
       "      <td>2000</td>\n",
       "      <td>Actual</td>\n",
       "      <td>Others</td>\n",
       "      <td>Others</td>\n",
       "      <td>162</td>\n",
       "      <td>0.001</td>\n",
       "    </tr>\n",
       "    <tr>\n",
       "      <th>303</th>\n",
       "      <td>2001</td>\n",
       "      <td>Actual</td>\n",
       "      <td>Others</td>\n",
       "      <td>Others</td>\n",
       "      <td>190</td>\n",
       "      <td>0.001</td>\n",
       "    </tr>\n",
       "    <tr>\n",
       "      <th>304</th>\n",
       "      <td>2002</td>\n",
       "      <td>Actual</td>\n",
       "      <td>Others</td>\n",
       "      <td>Others</td>\n",
       "      <td>162</td>\n",
       "      <td>0.001</td>\n",
       "    </tr>\n",
       "    <tr>\n",
       "      <th>305</th>\n",
       "      <td>2003</td>\n",
       "      <td>Actual</td>\n",
       "      <td>Others</td>\n",
       "      <td>Others</td>\n",
       "      <td>321</td>\n",
       "      <td>0.002</td>\n",
       "    </tr>\n",
       "    <tr>\n",
       "      <th>306</th>\n",
       "      <td>2004</td>\n",
       "      <td>Actual</td>\n",
       "      <td>Others</td>\n",
       "      <td>Others</td>\n",
       "      <td>305</td>\n",
       "      <td>0.002</td>\n",
       "    </tr>\n",
       "    <tr>\n",
       "      <th>307</th>\n",
       "      <td>2005</td>\n",
       "      <td>Actual</td>\n",
       "      <td>Others</td>\n",
       "      <td>Others</td>\n",
       "      <td>238</td>\n",
       "      <td>0.001</td>\n",
       "    </tr>\n",
       "    <tr>\n",
       "      <th>308</th>\n",
       "      <td>2006</td>\n",
       "      <td>Actual</td>\n",
       "      <td>Others</td>\n",
       "      <td>Others</td>\n",
       "      <td>259</td>\n",
       "      <td>0.001</td>\n",
       "    </tr>\n",
       "    <tr>\n",
       "      <th>309</th>\n",
       "      <td>2007</td>\n",
       "      <td>Actual</td>\n",
       "      <td>Others</td>\n",
       "      <td>Others</td>\n",
       "      <td>115</td>\n",
       "      <td>0.001</td>\n",
       "    </tr>\n",
       "    <tr>\n",
       "      <th>310</th>\n",
       "      <td>2008</td>\n",
       "      <td>Actual</td>\n",
       "      <td>Others</td>\n",
       "      <td>Others</td>\n",
       "      <td>165</td>\n",
       "      <td>0.001</td>\n",
       "    </tr>\n",
       "    <tr>\n",
       "      <th>311</th>\n",
       "      <td>2009</td>\n",
       "      <td>Actual</td>\n",
       "      <td>Others</td>\n",
       "      <td>Others</td>\n",
       "      <td>165</td>\n",
       "      <td>0.001</td>\n",
       "    </tr>\n",
       "    <tr>\n",
       "      <th>312</th>\n",
       "      <td>2010</td>\n",
       "      <td>Actual</td>\n",
       "      <td>Others</td>\n",
       "      <td>Others</td>\n",
       "      <td>226</td>\n",
       "      <td>0.001</td>\n",
       "    </tr>\n",
       "    <tr>\n",
       "      <th>313</th>\n",
       "      <td>2011</td>\n",
       "      <td>Actual</td>\n",
       "      <td>Others</td>\n",
       "      <td>Others</td>\n",
       "      <td>302</td>\n",
       "      <td>0.001</td>\n",
       "    </tr>\n",
       "    <tr>\n",
       "      <th>314</th>\n",
       "      <td>2012</td>\n",
       "      <td>Actual</td>\n",
       "      <td>Others</td>\n",
       "      <td>Others</td>\n",
       "      <td>416</td>\n",
       "      <td>0.001</td>\n",
       "    </tr>\n",
       "    <tr>\n",
       "      <th>315</th>\n",
       "      <td>2013</td>\n",
       "      <td>Actual</td>\n",
       "      <td>Others</td>\n",
       "      <td>Others</td>\n",
       "      <td>250</td>\n",
       "      <td>0.001</td>\n",
       "    </tr>\n",
       "    <tr>\n",
       "      <th>316</th>\n",
       "      <td>2014</td>\n",
       "      <td>Actual</td>\n",
       "      <td>Others</td>\n",
       "      <td>Others</td>\n",
       "      <td>324</td>\n",
       "      <td>0.001</td>\n",
       "    </tr>\n",
       "    <tr>\n",
       "      <th>317</th>\n",
       "      <td>2015</td>\n",
       "      <td>Actual</td>\n",
       "      <td>Others</td>\n",
       "      <td>Others</td>\n",
       "      <td>502</td>\n",
       "      <td>0.001</td>\n",
       "    </tr>\n",
       "    <tr>\n",
       "      <th>318</th>\n",
       "      <td>2016</td>\n",
       "      <td>Actual</td>\n",
       "      <td>Others</td>\n",
       "      <td>Others</td>\n",
       "      <td>506</td>\n",
       "      <td>0.001</td>\n",
       "    </tr>\n",
       "    <tr>\n",
       "      <th>319</th>\n",
       "      <td>2017</td>\n",
       "      <td>Actual</td>\n",
       "      <td>Others</td>\n",
       "      <td>Others</td>\n",
       "      <td>378</td>\n",
       "      <td>0.001</td>\n",
       "    </tr>\n",
       "    <tr>\n",
       "      <th>320</th>\n",
       "      <td>2018</td>\n",
       "      <td>Revised</td>\n",
       "      <td>Others</td>\n",
       "      <td>Others</td>\n",
       "      <td>367</td>\n",
       "      <td>0.001</td>\n",
       "    </tr>\n",
       "    <tr>\n",
       "      <th>321</th>\n",
       "      <td>2019</td>\n",
       "      <td>Estimated</td>\n",
       "      <td>Others</td>\n",
       "      <td>Others</td>\n",
       "      <td>379</td>\n",
       "      <td>0.001</td>\n",
       "    </tr>\n",
       "  </tbody>\n",
       "</table>\n",
       "<p>264 rows × 6 columns</p>\n",
       "</div>"
      ],
      "text/plain": [
       "     financial_year actual_revised_estimated             class  \\\n",
       "23             1997                   Actual              Tax    \n",
       "24             1998                   Actual              Tax    \n",
       "25             1999                   Actual              Tax    \n",
       "26             2000                   Actual              Tax    \n",
       "27             2001                   Actual              Tax    \n",
       "28             2002                   Actual              Tax    \n",
       "29             2003                   Actual              Tax    \n",
       "30             2004                   Actual              Tax    \n",
       "31             2005                   Actual              Tax    \n",
       "32             2006                   Actual              Tax    \n",
       "33             2007                   Actual              Tax    \n",
       "46             1997                   Actual              Tax    \n",
       "47             1998                   Actual              Tax    \n",
       "48             1999                   Actual              Tax    \n",
       "49             2000                   Actual              Tax    \n",
       "50             2001                   Actual              Tax    \n",
       "51             2002                   Actual              Tax    \n",
       "52             2003                   Actual              Tax    \n",
       "53             2004                   Actual              Tax    \n",
       "54             2005                   Actual              Tax    \n",
       "55             2006                   Actual              Tax    \n",
       "56             2007                   Actual              Tax    \n",
       "57             2008                   Actual              Tax    \n",
       "58             2009                   Actual              Tax    \n",
       "59             2010                   Actual              Tax    \n",
       "60             2011                   Actual              Tax    \n",
       "61             2012                   Actual              Tax    \n",
       "62             2013                   Actual              Tax    \n",
       "63             2014                   Actual              Tax    \n",
       "64             2015                   Actual              Tax    \n",
       "..              ...                      ...               ...   \n",
       "292            2013                   Actual  Fees and Charges   \n",
       "293            2014                   Actual  Fees and Charges   \n",
       "294            2015                   Actual  Fees and Charges   \n",
       "295            2016                   Actual  Fees and Charges   \n",
       "296            2017                   Actual  Fees and Charges   \n",
       "297            2018                  Revised  Fees and Charges   \n",
       "298            2019                Estimated  Fees and Charges   \n",
       "299            1997                   Actual            Others   \n",
       "300            1998                   Actual            Others   \n",
       "301            1999                   Actual            Others   \n",
       "302            2000                   Actual            Others   \n",
       "303            2001                   Actual            Others   \n",
       "304            2002                   Actual            Others   \n",
       "305            2003                   Actual            Others   \n",
       "306            2004                   Actual            Others   \n",
       "307            2005                   Actual            Others   \n",
       "308            2006                   Actual            Others   \n",
       "309            2007                   Actual            Others   \n",
       "310            2008                   Actual            Others   \n",
       "311            2009                   Actual            Others   \n",
       "312            2010                   Actual            Others   \n",
       "313            2011                   Actual            Others   \n",
       "314            2012                   Actual            Others   \n",
       "315            2013                   Actual            Others   \n",
       "316            2014                   Actual            Others   \n",
       "317            2015                   Actual            Others   \n",
       "318            2016                   Actual            Others   \n",
       "319            2017                   Actual            Others   \n",
       "320            2018                  Revised            Others   \n",
       "321            2019                Estimated            Others   \n",
       "\n",
       "                                                  type  amount  percent_of_gdp  \n",
       "23                                 Personal Income Tax    2347           0.016  \n",
       "24                                 Personal Income Tax    2960           0.021  \n",
       "25                                 Personal Income Tax    3040           0.020  \n",
       "26                                 Personal Income Tax    3543           0.021  \n",
       "27                                 Personal Income Tax    3732           0.023  \n",
       "28                                 Personal Income Tax    3423           0.021  \n",
       "29                                 Personal Income Tax    3133           0.018  \n",
       "30                                 Personal Income Tax    3132           0.016  \n",
       "31                                 Personal Income Tax    3425           0.016  \n",
       "32                                 Personal Income Tax    3743           0.015  \n",
       "33                                 Personal Income Tax    4537           0.016  \n",
       "46                                     Withholding Tax     337           0.002  \n",
       "47                                     Withholding Tax     316           0.002  \n",
       "48                                     Withholding Tax     467           0.003  \n",
       "49                                     Withholding Tax     486           0.003  \n",
       "50                                     Withholding Tax     815           0.005  \n",
       "51                                     Withholding Tax     626           0.004  \n",
       "52                                     Withholding Tax     729           0.004  \n",
       "53                                     Withholding Tax     824           0.004  \n",
       "54                                     Withholding Tax     898           0.004  \n",
       "55                                     Withholding Tax     964           0.004  \n",
       "56                                     Withholding Tax    1150           0.004  \n",
       "57                                     Withholding Tax    1176           0.004  \n",
       "58                                     Withholding Tax    1137           0.004  \n",
       "59                                     Withholding Tax     957           0.003  \n",
       "60                                     Withholding Tax    1258           0.004  \n",
       "61                                     Withholding Tax    1337           0.004  \n",
       "62                                     Withholding Tax    1152           0.003  \n",
       "63                                     Withholding Tax    1126           0.003  \n",
       "64                                     Withholding Tax    1402           0.003  \n",
       "..                                                 ...     ...             ...  \n",
       "292  Fees and Charges (Excluding Vehicle Quota Prem...    2903           0.008  \n",
       "293  Fees and Charges (Excluding Vehicle Quota Prem...    3010           0.007  \n",
       "294  Fees and Charges (Excluding Vehicle Quota Prem...    3249           0.008  \n",
       "295  Fees and Charges (Excluding Vehicle Quota Prem...    3209           0.007  \n",
       "296  Fees and Charges (Excluding Vehicle Quota Prem...    3279           0.007  \n",
       "297  Fees and Charges (Excluding Vehicle Quota Prem...    3216           0.007  \n",
       "298  Fees and Charges (Excluding Vehicle Quota Prem...    3376           0.007  \n",
       "299                                             Others    2170           0.014  \n",
       "300                                             Others    3208           0.023  \n",
       "301                                             Others    3458           0.023  \n",
       "302                                             Others     162           0.001  \n",
       "303                                             Others     190           0.001  \n",
       "304                                             Others     162           0.001  \n",
       "305                                             Others     321           0.002  \n",
       "306                                             Others     305           0.002  \n",
       "307                                             Others     238           0.001  \n",
       "308                                             Others     259           0.001  \n",
       "309                                             Others     115           0.001  \n",
       "310                                             Others     165           0.001  \n",
       "311                                             Others     165           0.001  \n",
       "312                                             Others     226           0.001  \n",
       "313                                             Others     302           0.001  \n",
       "314                                             Others     416           0.001  \n",
       "315                                             Others     250           0.001  \n",
       "316                                             Others     324           0.001  \n",
       "317                                             Others     502           0.001  \n",
       "318                                             Others     506           0.001  \n",
       "319                                             Others     378           0.001  \n",
       "320                                             Others     367           0.001  \n",
       "321                                             Others     379           0.001  \n",
       "\n",
       "[264 rows x 6 columns]"
      ]
     },
     "execution_count": 172,
     "metadata": {},
     "output_type": "execute_result"
    }
   ],
   "source": [
    "revenue[~(revenue.amount>5000)]"
   ]
  },
  {
   "cell_type": "code",
   "execution_count": 167,
   "metadata": {},
   "outputs": [
    {
     "data": {
      "text/plain": [
       "False"
      ]
     },
     "execution_count": 167,
     "metadata": {},
     "output_type": "execute_result"
    }
   ],
   "source": [
    "True & False"
   ]
  },
  {
   "cell_type": "code",
   "execution_count": 173,
   "metadata": {},
   "outputs": [
    {
     "data": {
      "text/plain": [
       "True"
      ]
     },
     "execution_count": 173,
     "metadata": {},
     "output_type": "execute_result"
    }
   ],
   "source": [
    "True | False"
   ]
  },
  {
   "cell_type": "code",
   "execution_count": 175,
   "metadata": {},
   "outputs": [
    {
     "data": {
      "text/plain": [
       "False"
      ]
     },
     "execution_count": 175,
     "metadata": {},
     "output_type": "execute_result"
    }
   ],
   "source": [
    "not True"
   ]
  },
  {
   "cell_type": "markdown",
   "metadata": {},
   "source": [
    "## Data Cleaning"
   ]
  },
  {
   "cell_type": "markdown",
   "metadata": {},
   "source": [
    "### Missing Data"
   ]
  },
  {
   "cell_type": "code",
   "execution_count": 128,
   "metadata": {
    "scrolled": true
   },
   "outputs": [
    {
     "data": {
      "text/html": [
       "<div>\n",
       "<style scoped>\n",
       "    .dataframe tbody tr th:only-of-type {\n",
       "        vertical-align: middle;\n",
       "    }\n",
       "\n",
       "    .dataframe tbody tr th {\n",
       "        vertical-align: top;\n",
       "    }\n",
       "\n",
       "    .dataframe thead th {\n",
       "        text-align: right;\n",
       "    }\n",
       "</style>\n",
       "<table border=\"1\" class=\"dataframe\">\n",
       "  <thead>\n",
       "    <tr style=\"text-align: right;\">\n",
       "      <th></th>\n",
       "      <th>financial_year</th>\n",
       "      <th>application_type</th>\n",
       "      <th>no_of_applications</th>\n",
       "    </tr>\n",
       "  </thead>\n",
       "  <tbody>\n",
       "    <tr>\n",
       "      <th>0</th>\n",
       "      <td>2016</td>\n",
       "      <td>NaN</td>\n",
       "      <td>1840.0</td>\n",
       "    </tr>\n",
       "    <tr>\n",
       "      <th>1</th>\n",
       "      <td>2016</td>\n",
       "      <td>resale flat buyers</td>\n",
       "      <td>8207.0</td>\n",
       "    </tr>\n",
       "    <tr>\n",
       "      <th>2</th>\n",
       "      <td>2016</td>\n",
       "      <td>existing flat owners (refinance)</td>\n",
       "      <td>326.0</td>\n",
       "    </tr>\n",
       "    <tr>\n",
       "      <th>3</th>\n",
       "      <td>2016</td>\n",
       "      <td>DBSS flat buyers</td>\n",
       "      <td>NaN</td>\n",
       "    </tr>\n",
       "    <tr>\n",
       "      <th>4</th>\n",
       "      <td>2017</td>\n",
       "      <td>new flat buyers</td>\n",
       "      <td>2235.0</td>\n",
       "    </tr>\n",
       "    <tr>\n",
       "      <th>5</th>\n",
       "      <td>2017</td>\n",
       "      <td>resale flat buyers</td>\n",
       "      <td>NaN</td>\n",
       "    </tr>\n",
       "    <tr>\n",
       "      <th>6</th>\n",
       "      <td>2017</td>\n",
       "      <td>existing flat owners (refinance)</td>\n",
       "      <td>1020.0</td>\n",
       "    </tr>\n",
       "    <tr>\n",
       "      <th>7</th>\n",
       "      <td>2017</td>\n",
       "      <td>DBSS flat buyers</td>\n",
       "      <td>7.0</td>\n",
       "    </tr>\n",
       "  </tbody>\n",
       "</table>\n",
       "</div>"
      ],
      "text/plain": [
       "   financial_year                  application_type  no_of_applications\n",
       "0            2016                               NaN              1840.0\n",
       "1            2016                resale flat buyers              8207.0\n",
       "2            2016  existing flat owners (refinance)               326.0\n",
       "3            2016                  DBSS flat buyers                 NaN\n",
       "4            2017                   new flat buyers              2235.0\n",
       "5            2017                resale flat buyers                 NaN\n",
       "6            2017  existing flat owners (refinance)              1020.0\n",
       "7            2017                  DBSS flat buyers                 7.0"
      ]
     },
     "execution_count": 128,
     "metadata": {},
     "output_type": "execute_result"
    }
   ],
   "source": [
    "missing = pd.read_csv('data/loan_missing.csv')\n",
    "missing"
   ]
  },
  {
   "cell_type": "code",
   "execution_count": 200,
   "metadata": {},
   "outputs": [],
   "source": [
    "# missing['application_type'] = missing['application_type'].replace('our_na', np.nan)"
   ]
  },
  {
   "cell_type": "code",
   "execution_count": 201,
   "metadata": {},
   "outputs": [
    {
     "name": "stdout",
     "output_type": "stream",
     "text": [
      "<class 'pandas.core.frame.DataFrame'>\n",
      "RangeIndex: 8 entries, 0 to 7\n",
      "Data columns (total 3 columns):\n",
      "financial_year        8 non-null int64\n",
      "application_type      7 non-null object\n",
      "no_of_applications    6 non-null float64\n",
      "dtypes: float64(1), int64(1), object(1)\n",
      "memory usage: 272.0+ bytes\n"
     ]
    }
   ],
   "source": [
    "missing.info()"
   ]
  },
  {
   "cell_type": "code",
   "execution_count": 202,
   "metadata": {},
   "outputs": [
    {
     "data": {
      "text/html": [
       "<div>\n",
       "<style scoped>\n",
       "    .dataframe tbody tr th:only-of-type {\n",
       "        vertical-align: middle;\n",
       "    }\n",
       "\n",
       "    .dataframe tbody tr th {\n",
       "        vertical-align: top;\n",
       "    }\n",
       "\n",
       "    .dataframe thead th {\n",
       "        text-align: right;\n",
       "    }\n",
       "</style>\n",
       "<table border=\"1\" class=\"dataframe\">\n",
       "  <thead>\n",
       "    <tr style=\"text-align: right;\">\n",
       "      <th></th>\n",
       "      <th>financial_year</th>\n",
       "      <th>application_type</th>\n",
       "      <th>no_of_applications</th>\n",
       "    </tr>\n",
       "  </thead>\n",
       "  <tbody>\n",
       "    <tr>\n",
       "      <th>0</th>\n",
       "      <td>False</td>\n",
       "      <td>True</td>\n",
       "      <td>False</td>\n",
       "    </tr>\n",
       "    <tr>\n",
       "      <th>1</th>\n",
       "      <td>False</td>\n",
       "      <td>False</td>\n",
       "      <td>False</td>\n",
       "    </tr>\n",
       "    <tr>\n",
       "      <th>2</th>\n",
       "      <td>False</td>\n",
       "      <td>False</td>\n",
       "      <td>False</td>\n",
       "    </tr>\n",
       "    <tr>\n",
       "      <th>3</th>\n",
       "      <td>False</td>\n",
       "      <td>False</td>\n",
       "      <td>True</td>\n",
       "    </tr>\n",
       "    <tr>\n",
       "      <th>4</th>\n",
       "      <td>False</td>\n",
       "      <td>False</td>\n",
       "      <td>False</td>\n",
       "    </tr>\n",
       "    <tr>\n",
       "      <th>5</th>\n",
       "      <td>False</td>\n",
       "      <td>False</td>\n",
       "      <td>True</td>\n",
       "    </tr>\n",
       "    <tr>\n",
       "      <th>6</th>\n",
       "      <td>False</td>\n",
       "      <td>False</td>\n",
       "      <td>False</td>\n",
       "    </tr>\n",
       "    <tr>\n",
       "      <th>7</th>\n",
       "      <td>False</td>\n",
       "      <td>False</td>\n",
       "      <td>False</td>\n",
       "    </tr>\n",
       "  </tbody>\n",
       "</table>\n",
       "</div>"
      ],
      "text/plain": [
       "   financial_year  application_type  no_of_applications\n",
       "0           False              True               False\n",
       "1           False             False               False\n",
       "2           False             False               False\n",
       "3           False             False                True\n",
       "4           False             False               False\n",
       "5           False             False                True\n",
       "6           False             False               False\n",
       "7           False             False               False"
      ]
     },
     "execution_count": 202,
     "metadata": {},
     "output_type": "execute_result"
    }
   ],
   "source": [
    "missing.isnull()"
   ]
  },
  {
   "cell_type": "code",
   "execution_count": 204,
   "metadata": {},
   "outputs": [
    {
     "data": {
      "text/plain": [
       "financial_year        0\n",
       "application_type      1\n",
       "no_of_applications    2\n",
       "dtype: int64"
      ]
     },
     "execution_count": 204,
     "metadata": {},
     "output_type": "execute_result"
    }
   ],
   "source": [
    "missing.isnull().sum()"
   ]
  },
  {
   "cell_type": "code",
   "execution_count": 207,
   "metadata": {},
   "outputs": [
    {
     "data": {
      "text/html": [
       "<div>\n",
       "<style scoped>\n",
       "    .dataframe tbody tr th:only-of-type {\n",
       "        vertical-align: middle;\n",
       "    }\n",
       "\n",
       "    .dataframe tbody tr th {\n",
       "        vertical-align: top;\n",
       "    }\n",
       "\n",
       "    .dataframe thead th {\n",
       "        text-align: right;\n",
       "    }\n",
       "</style>\n",
       "<table border=\"1\" class=\"dataframe\">\n",
       "  <thead>\n",
       "    <tr style=\"text-align: right;\">\n",
       "      <th></th>\n",
       "      <th>financial_year</th>\n",
       "      <th>no_of_applications</th>\n",
       "    </tr>\n",
       "  </thead>\n",
       "  <tbody>\n",
       "    <tr>\n",
       "      <th>count</th>\n",
       "      <td>8.000000</td>\n",
       "      <td>6.000000</td>\n",
       "    </tr>\n",
       "    <tr>\n",
       "      <th>mean</th>\n",
       "      <td>2016.500000</td>\n",
       "      <td>2272.500000</td>\n",
       "    </tr>\n",
       "    <tr>\n",
       "      <th>std</th>\n",
       "      <td>0.534522</td>\n",
       "      <td>3029.747894</td>\n",
       "    </tr>\n",
       "    <tr>\n",
       "      <th>min</th>\n",
       "      <td>2016.000000</td>\n",
       "      <td>7.000000</td>\n",
       "    </tr>\n",
       "    <tr>\n",
       "      <th>25%</th>\n",
       "      <td>2016.000000</td>\n",
       "      <td>499.500000</td>\n",
       "    </tr>\n",
       "    <tr>\n",
       "      <th>50%</th>\n",
       "      <td>2016.500000</td>\n",
       "      <td>1430.000000</td>\n",
       "    </tr>\n",
       "    <tr>\n",
       "      <th>75%</th>\n",
       "      <td>2017.000000</td>\n",
       "      <td>2136.250000</td>\n",
       "    </tr>\n",
       "    <tr>\n",
       "      <th>max</th>\n",
       "      <td>2017.000000</td>\n",
       "      <td>8207.000000</td>\n",
       "    </tr>\n",
       "  </tbody>\n",
       "</table>\n",
       "</div>"
      ],
      "text/plain": [
       "       financial_year  no_of_applications\n",
       "count        8.000000            6.000000\n",
       "mean      2016.500000         2272.500000\n",
       "std          0.534522         3029.747894\n",
       "min       2016.000000            7.000000\n",
       "25%       2016.000000          499.500000\n",
       "50%       2016.500000         1430.000000\n",
       "75%       2017.000000         2136.250000\n",
       "max       2017.000000         8207.000000"
      ]
     },
     "execution_count": 207,
     "metadata": {},
     "output_type": "execute_result"
    }
   ],
   "source": [
    "missing.describe()\n"
   ]
  },
  {
   "cell_type": "code",
   "execution_count": 208,
   "metadata": {},
   "outputs": [
    {
     "data": {
      "text/plain": [
       "0.1    166.5\n",
       "0.2    326.0\n",
       "0.3    673.0\n",
       "Name: no_of_applications, dtype: float64"
      ]
     },
     "execution_count": 208,
     "metadata": {},
     "output_type": "execute_result"
    }
   ],
   "source": [
    "missing['no_of_applications'].quantile([0.1, 0.2, 0.3])"
   ]
  },
  {
   "cell_type": "code",
   "execution_count": 130,
   "metadata": {},
   "outputs": [
    {
     "data": {
      "text/html": [
       "<div>\n",
       "<style scoped>\n",
       "    .dataframe tbody tr th:only-of-type {\n",
       "        vertical-align: middle;\n",
       "    }\n",
       "\n",
       "    .dataframe tbody tr th {\n",
       "        vertical-align: top;\n",
       "    }\n",
       "\n",
       "    .dataframe thead th {\n",
       "        text-align: right;\n",
       "    }\n",
       "</style>\n",
       "<table border=\"1\" class=\"dataframe\">\n",
       "  <thead>\n",
       "    <tr style=\"text-align: right;\">\n",
       "      <th></th>\n",
       "      <th>financial_year</th>\n",
       "      <th>application_type</th>\n",
       "      <th>no_of_applications</th>\n",
       "    </tr>\n",
       "  </thead>\n",
       "  <tbody>\n",
       "    <tr>\n",
       "      <th>0</th>\n",
       "      <td>2016</td>\n",
       "      <td>NaN</td>\n",
       "      <td>1840.0</td>\n",
       "    </tr>\n",
       "    <tr>\n",
       "      <th>1</th>\n",
       "      <td>2016</td>\n",
       "      <td>resale flat buyers</td>\n",
       "      <td>8207.0</td>\n",
       "    </tr>\n",
       "    <tr>\n",
       "      <th>2</th>\n",
       "      <td>2016</td>\n",
       "      <td>existing flat owners (refinance)</td>\n",
       "      <td>326.0</td>\n",
       "    </tr>\n",
       "    <tr>\n",
       "      <th>3</th>\n",
       "      <td>2016</td>\n",
       "      <td>DBSS flat buyers</td>\n",
       "      <td>326.0</td>\n",
       "    </tr>\n",
       "    <tr>\n",
       "      <th>4</th>\n",
       "      <td>2017</td>\n",
       "      <td>new flat buyers</td>\n",
       "      <td>2235.0</td>\n",
       "    </tr>\n",
       "    <tr>\n",
       "      <th>5</th>\n",
       "      <td>2017</td>\n",
       "      <td>resale flat buyers</td>\n",
       "      <td>2235.0</td>\n",
       "    </tr>\n",
       "    <tr>\n",
       "      <th>6</th>\n",
       "      <td>2017</td>\n",
       "      <td>existing flat owners (refinance)</td>\n",
       "      <td>1020.0</td>\n",
       "    </tr>\n",
       "    <tr>\n",
       "      <th>7</th>\n",
       "      <td>2017</td>\n",
       "      <td>DBSS flat buyers</td>\n",
       "      <td>7.0</td>\n",
       "    </tr>\n",
       "  </tbody>\n",
       "</table>\n",
       "</div>"
      ],
      "text/plain": [
       "   financial_year                  application_type  no_of_applications\n",
       "0            2016                               NaN              1840.0\n",
       "1            2016                resale flat buyers              8207.0\n",
       "2            2016  existing flat owners (refinance)               326.0\n",
       "3            2016                  DBSS flat buyers               326.0\n",
       "4            2017                   new flat buyers              2235.0\n",
       "5            2017                resale flat buyers              2235.0\n",
       "6            2017  existing flat owners (refinance)              1020.0\n",
       "7            2017                  DBSS flat buyers                 7.0"
      ]
     },
     "execution_count": 130,
     "metadata": {},
     "output_type": "execute_result"
    }
   ],
   "source": [
    "missing.fillna(method='ffill')"
   ]
  },
  {
   "cell_type": "code",
   "execution_count": 95,
   "metadata": {},
   "outputs": [
    {
     "data": {
      "text/html": [
       "<div>\n",
       "<style scoped>\n",
       "    .dataframe tbody tr th:only-of-type {\n",
       "        vertical-align: middle;\n",
       "    }\n",
       "\n",
       "    .dataframe tbody tr th {\n",
       "        vertical-align: top;\n",
       "    }\n",
       "\n",
       "    .dataframe thead th {\n",
       "        text-align: right;\n",
       "    }\n",
       "</style>\n",
       "<table border=\"1\" class=\"dataframe\">\n",
       "  <thead>\n",
       "    <tr style=\"text-align: right;\">\n",
       "      <th></th>\n",
       "      <th>financial_year</th>\n",
       "      <th>application_type</th>\n",
       "      <th>no_of_applications</th>\n",
       "    </tr>\n",
       "  </thead>\n",
       "  <tbody>\n",
       "    <tr>\n",
       "      <th>0</th>\n",
       "      <td>2016</td>\n",
       "      <td>resale flat buyers</td>\n",
       "      <td>1840.0</td>\n",
       "    </tr>\n",
       "    <tr>\n",
       "      <th>1</th>\n",
       "      <td>2016</td>\n",
       "      <td>resale flat buyers</td>\n",
       "      <td>8207.0</td>\n",
       "    </tr>\n",
       "    <tr>\n",
       "      <th>2</th>\n",
       "      <td>2016</td>\n",
       "      <td>existing flat owners (refinance)</td>\n",
       "      <td>326.0</td>\n",
       "    </tr>\n",
       "    <tr>\n",
       "      <th>3</th>\n",
       "      <td>2016</td>\n",
       "      <td>DBSS flat buyers</td>\n",
       "      <td>2235.0</td>\n",
       "    </tr>\n",
       "    <tr>\n",
       "      <th>4</th>\n",
       "      <td>2017</td>\n",
       "      <td>new flat buyers</td>\n",
       "      <td>2235.0</td>\n",
       "    </tr>\n",
       "    <tr>\n",
       "      <th>5</th>\n",
       "      <td>2017</td>\n",
       "      <td>resale flat buyers</td>\n",
       "      <td>1020.0</td>\n",
       "    </tr>\n",
       "    <tr>\n",
       "      <th>6</th>\n",
       "      <td>2017</td>\n",
       "      <td>existing flat owners (refinance)</td>\n",
       "      <td>1020.0</td>\n",
       "    </tr>\n",
       "    <tr>\n",
       "      <th>7</th>\n",
       "      <td>2017</td>\n",
       "      <td>DBSS flat buyers</td>\n",
       "      <td>7.0</td>\n",
       "    </tr>\n",
       "  </tbody>\n",
       "</table>\n",
       "</div>"
      ],
      "text/plain": [
       "   financial_year                  application_type  no_of_applications\n",
       "0            2016                resale flat buyers              1840.0\n",
       "1            2016                resale flat buyers              8207.0\n",
       "2            2016  existing flat owners (refinance)               326.0\n",
       "3            2016                  DBSS flat buyers              2235.0\n",
       "4            2017                   new flat buyers              2235.0\n",
       "5            2017                resale flat buyers              1020.0\n",
       "6            2017  existing flat owners (refinance)              1020.0\n",
       "7            2017                  DBSS flat buyers                 7.0"
      ]
     },
     "execution_count": 95,
     "metadata": {},
     "output_type": "execute_result"
    }
   ],
   "source": [
    "missing.fillna(method='bfill')"
   ]
  },
  {
   "cell_type": "code",
   "execution_count": 210,
   "metadata": {},
   "outputs": [
    {
     "data": {
      "text/html": [
       "<div>\n",
       "<style scoped>\n",
       "    .dataframe tbody tr th:only-of-type {\n",
       "        vertical-align: middle;\n",
       "    }\n",
       "\n",
       "    .dataframe tbody tr th {\n",
       "        vertical-align: top;\n",
       "    }\n",
       "\n",
       "    .dataframe thead th {\n",
       "        text-align: right;\n",
       "    }\n",
       "</style>\n",
       "<table border=\"1\" class=\"dataframe\">\n",
       "  <thead>\n",
       "    <tr style=\"text-align: right;\">\n",
       "      <th></th>\n",
       "      <th>financial_year</th>\n",
       "      <th>application_type</th>\n",
       "      <th>no_of_applications</th>\n",
       "    </tr>\n",
       "  </thead>\n",
       "  <tbody>\n",
       "    <tr>\n",
       "      <th>0</th>\n",
       "      <td>2016</td>\n",
       "      <td>resale flat buyers</td>\n",
       "      <td>1840.0</td>\n",
       "    </tr>\n",
       "    <tr>\n",
       "      <th>1</th>\n",
       "      <td>2016</td>\n",
       "      <td>resale flat buyers</td>\n",
       "      <td>8207.0</td>\n",
       "    </tr>\n",
       "    <tr>\n",
       "      <th>2</th>\n",
       "      <td>2016</td>\n",
       "      <td>existing flat owners (refinance)</td>\n",
       "      <td>326.0</td>\n",
       "    </tr>\n",
       "    <tr>\n",
       "      <th>3</th>\n",
       "      <td>2016</td>\n",
       "      <td>DBSS flat buyers</td>\n",
       "      <td>326.0</td>\n",
       "    </tr>\n",
       "    <tr>\n",
       "      <th>4</th>\n",
       "      <td>2017</td>\n",
       "      <td>new flat buyers</td>\n",
       "      <td>2235.0</td>\n",
       "    </tr>\n",
       "    <tr>\n",
       "      <th>5</th>\n",
       "      <td>2017</td>\n",
       "      <td>resale flat buyers</td>\n",
       "      <td>2235.0</td>\n",
       "    </tr>\n",
       "    <tr>\n",
       "      <th>6</th>\n",
       "      <td>2017</td>\n",
       "      <td>existing flat owners (refinance)</td>\n",
       "      <td>1020.0</td>\n",
       "    </tr>\n",
       "    <tr>\n",
       "      <th>7</th>\n",
       "      <td>2017</td>\n",
       "      <td>DBSS flat buyers</td>\n",
       "      <td>7.0</td>\n",
       "    </tr>\n",
       "  </tbody>\n",
       "</table>\n",
       "</div>"
      ],
      "text/plain": [
       "   financial_year                  application_type  no_of_applications\n",
       "0            2016                resale flat buyers              1840.0\n",
       "1            2016                resale flat buyers              8207.0\n",
       "2            2016  existing flat owners (refinance)               326.0\n",
       "3            2016                  DBSS flat buyers               326.0\n",
       "4            2017                   new flat buyers              2235.0\n",
       "5            2017                resale flat buyers              2235.0\n",
       "6            2017  existing flat owners (refinance)              1020.0\n",
       "7            2017                  DBSS flat buyers                 7.0"
      ]
     },
     "execution_count": 210,
     "metadata": {},
     "output_type": "execute_result"
    }
   ],
   "source": [
    "missing.fillna(method='ffill').fillna(method='bfill')"
   ]
  },
  {
   "cell_type": "code",
   "execution_count": null,
   "metadata": {},
   "outputs": [],
   "source": [
    "# missing.fillna(method='ffill', inplace=True)"
   ]
  },
  {
   "cell_type": "code",
   "execution_count": 96,
   "metadata": {},
   "outputs": [
    {
     "data": {
      "text/html": [
       "<div>\n",
       "<style scoped>\n",
       "    .dataframe tbody tr th:only-of-type {\n",
       "        vertical-align: middle;\n",
       "    }\n",
       "\n",
       "    .dataframe tbody tr th {\n",
       "        vertical-align: top;\n",
       "    }\n",
       "\n",
       "    .dataframe thead th {\n",
       "        text-align: right;\n",
       "    }\n",
       "</style>\n",
       "<table border=\"1\" class=\"dataframe\">\n",
       "  <thead>\n",
       "    <tr style=\"text-align: right;\">\n",
       "      <th></th>\n",
       "      <th>financial_year</th>\n",
       "      <th>application_type</th>\n",
       "      <th>no_of_applications</th>\n",
       "    </tr>\n",
       "  </thead>\n",
       "  <tbody>\n",
       "    <tr>\n",
       "      <th>0</th>\n",
       "      <td>2016</td>\n",
       "      <td>new flat buyers</td>\n",
       "      <td>1840.0</td>\n",
       "    </tr>\n",
       "    <tr>\n",
       "      <th>1</th>\n",
       "      <td>2016</td>\n",
       "      <td>resale flat buyers</td>\n",
       "      <td>8207.0</td>\n",
       "    </tr>\n",
       "    <tr>\n",
       "      <th>2</th>\n",
       "      <td>2016</td>\n",
       "      <td>existing flat owners (refinance)</td>\n",
       "      <td>326.0</td>\n",
       "    </tr>\n",
       "    <tr>\n",
       "      <th>3</th>\n",
       "      <td>2016</td>\n",
       "      <td>DBSS flat buyers</td>\n",
       "      <td>0.0</td>\n",
       "    </tr>\n",
       "    <tr>\n",
       "      <th>4</th>\n",
       "      <td>2017</td>\n",
       "      <td>new flat buyers</td>\n",
       "      <td>2235.0</td>\n",
       "    </tr>\n",
       "    <tr>\n",
       "      <th>5</th>\n",
       "      <td>2017</td>\n",
       "      <td>resale flat buyers</td>\n",
       "      <td>0.0</td>\n",
       "    </tr>\n",
       "    <tr>\n",
       "      <th>6</th>\n",
       "      <td>2017</td>\n",
       "      <td>existing flat owners (refinance)</td>\n",
       "      <td>1020.0</td>\n",
       "    </tr>\n",
       "    <tr>\n",
       "      <th>7</th>\n",
       "      <td>2017</td>\n",
       "      <td>DBSS flat buyers</td>\n",
       "      <td>7.0</td>\n",
       "    </tr>\n",
       "  </tbody>\n",
       "</table>\n",
       "</div>"
      ],
      "text/plain": [
       "   financial_year                  application_type  no_of_applications\n",
       "0            2016                   new flat buyers              1840.0\n",
       "1            2016                resale flat buyers              8207.0\n",
       "2            2016  existing flat owners (refinance)               326.0\n",
       "3            2016                  DBSS flat buyers                 0.0\n",
       "4            2017                   new flat buyers              2235.0\n",
       "5            2017                resale flat buyers                 0.0\n",
       "6            2017  existing flat owners (refinance)              1020.0\n",
       "7            2017                  DBSS flat buyers                 7.0"
      ]
     },
     "execution_count": 96,
     "metadata": {},
     "output_type": "execute_result"
    }
   ],
   "source": [
    "missing.fillna({'application_type':'new flat buyers','no_of_applications':0})"
   ]
  },
  {
   "cell_type": "code",
   "execution_count": 131,
   "metadata": {},
   "outputs": [
    {
     "data": {
      "text/html": [
       "<div>\n",
       "<style scoped>\n",
       "    .dataframe tbody tr th:only-of-type {\n",
       "        vertical-align: middle;\n",
       "    }\n",
       "\n",
       "    .dataframe tbody tr th {\n",
       "        vertical-align: top;\n",
       "    }\n",
       "\n",
       "    .dataframe thead th {\n",
       "        text-align: right;\n",
       "    }\n",
       "</style>\n",
       "<table border=\"1\" class=\"dataframe\">\n",
       "  <thead>\n",
       "    <tr style=\"text-align: right;\">\n",
       "      <th></th>\n",
       "      <th>financial_year</th>\n",
       "      <th>application_type</th>\n",
       "      <th>no_of_applications</th>\n",
       "    </tr>\n",
       "  </thead>\n",
       "  <tbody>\n",
       "    <tr>\n",
       "      <th>0</th>\n",
       "      <td>2016</td>\n",
       "      <td>new flat buyers</td>\n",
       "      <td>1840.0</td>\n",
       "    </tr>\n",
       "    <tr>\n",
       "      <th>1</th>\n",
       "      <td>2016</td>\n",
       "      <td>resale flat buyers</td>\n",
       "      <td>8207.0</td>\n",
       "    </tr>\n",
       "    <tr>\n",
       "      <th>2</th>\n",
       "      <td>2016</td>\n",
       "      <td>existing flat owners (refinance)</td>\n",
       "      <td>326.0</td>\n",
       "    </tr>\n",
       "    <tr>\n",
       "      <th>3</th>\n",
       "      <td>2016</td>\n",
       "      <td>DBSS flat buyers</td>\n",
       "      <td>2235.0</td>\n",
       "    </tr>\n",
       "    <tr>\n",
       "      <th>4</th>\n",
       "      <td>2017</td>\n",
       "      <td>new flat buyers</td>\n",
       "      <td>2235.0</td>\n",
       "    </tr>\n",
       "    <tr>\n",
       "      <th>5</th>\n",
       "      <td>2017</td>\n",
       "      <td>resale flat buyers</td>\n",
       "      <td>1020.0</td>\n",
       "    </tr>\n",
       "    <tr>\n",
       "      <th>6</th>\n",
       "      <td>2017</td>\n",
       "      <td>existing flat owners (refinance)</td>\n",
       "      <td>1020.0</td>\n",
       "    </tr>\n",
       "    <tr>\n",
       "      <th>7</th>\n",
       "      <td>2017</td>\n",
       "      <td>DBSS flat buyers</td>\n",
       "      <td>7.0</td>\n",
       "    </tr>\n",
       "  </tbody>\n",
       "</table>\n",
       "</div>"
      ],
      "text/plain": [
       "   financial_year                  application_type  no_of_applications\n",
       "0            2016                   new flat buyers              1840.0\n",
       "1            2016                resale flat buyers              8207.0\n",
       "2            2016  existing flat owners (refinance)               326.0\n",
       "3            2016                  DBSS flat buyers              2235.0\n",
       "4            2017                   new flat buyers              2235.0\n",
       "5            2017                resale flat buyers              1020.0\n",
       "6            2017  existing flat owners (refinance)              1020.0\n",
       "7            2017                  DBSS flat buyers                 7.0"
      ]
     },
     "execution_count": 131,
     "metadata": {},
     "output_type": "execute_result"
    }
   ],
   "source": [
    "missing.fillna({'application_type':'new flat buyers'}).fillna(method='bfill')"
   ]
  },
  {
   "cell_type": "code",
   "execution_count": 211,
   "metadata": {},
   "outputs": [
    {
     "data": {
      "text/html": [
       "<div>\n",
       "<style scoped>\n",
       "    .dataframe tbody tr th:only-of-type {\n",
       "        vertical-align: middle;\n",
       "    }\n",
       "\n",
       "    .dataframe tbody tr th {\n",
       "        vertical-align: top;\n",
       "    }\n",
       "\n",
       "    .dataframe thead th {\n",
       "        text-align: right;\n",
       "    }\n",
       "</style>\n",
       "<table border=\"1\" class=\"dataframe\">\n",
       "  <thead>\n",
       "    <tr style=\"text-align: right;\">\n",
       "      <th></th>\n",
       "      <th>financial_year</th>\n",
       "      <th>application_type</th>\n",
       "      <th>no_of_applications</th>\n",
       "    </tr>\n",
       "  </thead>\n",
       "  <tbody>\n",
       "    <tr>\n",
       "      <th>0</th>\n",
       "      <td>2016</td>\n",
       "      <td>new flat buyers</td>\n",
       "      <td>1840.0</td>\n",
       "    </tr>\n",
       "    <tr>\n",
       "      <th>1</th>\n",
       "      <td>2016</td>\n",
       "      <td>resale flat buyers</td>\n",
       "      <td>8207.0</td>\n",
       "    </tr>\n",
       "    <tr>\n",
       "      <th>2</th>\n",
       "      <td>2016</td>\n",
       "      <td>existing flat owners (refinance)</td>\n",
       "      <td>326.0</td>\n",
       "    </tr>\n",
       "    <tr>\n",
       "      <th>3</th>\n",
       "      <td>2016</td>\n",
       "      <td>DBSS flat buyers</td>\n",
       "      <td>2272.5</td>\n",
       "    </tr>\n",
       "    <tr>\n",
       "      <th>4</th>\n",
       "      <td>2017</td>\n",
       "      <td>new flat buyers</td>\n",
       "      <td>2235.0</td>\n",
       "    </tr>\n",
       "    <tr>\n",
       "      <th>5</th>\n",
       "      <td>2017</td>\n",
       "      <td>resale flat buyers</td>\n",
       "      <td>2272.5</td>\n",
       "    </tr>\n",
       "    <tr>\n",
       "      <th>6</th>\n",
       "      <td>2017</td>\n",
       "      <td>existing flat owners (refinance)</td>\n",
       "      <td>1020.0</td>\n",
       "    </tr>\n",
       "    <tr>\n",
       "      <th>7</th>\n",
       "      <td>2017</td>\n",
       "      <td>DBSS flat buyers</td>\n",
       "      <td>7.0</td>\n",
       "    </tr>\n",
       "  </tbody>\n",
       "</table>\n",
       "</div>"
      ],
      "text/plain": [
       "   financial_year                  application_type  no_of_applications\n",
       "0            2016                   new flat buyers              1840.0\n",
       "1            2016                resale flat buyers              8207.0\n",
       "2            2016  existing flat owners (refinance)               326.0\n",
       "3            2016                  DBSS flat buyers              2272.5\n",
       "4            2017                   new flat buyers              2235.0\n",
       "5            2017                resale flat buyers              2272.5\n",
       "6            2017  existing flat owners (refinance)              1020.0\n",
       "7            2017                  DBSS flat buyers                 7.0"
      ]
     },
     "execution_count": 211,
     "metadata": {},
     "output_type": "execute_result"
    }
   ],
   "source": [
    "missing.fillna({'application_type':'new flat buyers'}).fillna(missing.mean())"
   ]
  },
  {
   "cell_type": "code",
   "execution_count": 140,
   "metadata": {},
   "outputs": [
    {
     "data": {
      "text/plain": [
       "0     1840.0\n",
       "1    10047.0\n",
       "2    10373.0\n",
       "3        NaN\n",
       "4    12608.0\n",
       "5        NaN\n",
       "6    13628.0\n",
       "7    13635.0\n",
       "Name: no_of_applications, dtype: float64"
      ]
     },
     "execution_count": 140,
     "metadata": {},
     "output_type": "execute_result"
    }
   ],
   "source": [
    "missing['no_of_applications'].cumsum()"
   ]
  },
  {
   "cell_type": "code",
   "execution_count": 141,
   "metadata": {},
   "outputs": [
    {
     "data": {
      "text/plain": [
       "financial_year        2016.5\n",
       "no_of_applications    2272.5\n",
       "dtype: float64"
      ]
     },
     "execution_count": 141,
     "metadata": {},
     "output_type": "execute_result"
    }
   ],
   "source": [
    "missing.mean()"
   ]
  },
  {
   "cell_type": "code",
   "execution_count": 229,
   "metadata": {},
   "outputs": [
    {
     "data": {
      "text/html": [
       "<div>\n",
       "<style scoped>\n",
       "    .dataframe tbody tr th:only-of-type {\n",
       "        vertical-align: middle;\n",
       "    }\n",
       "\n",
       "    .dataframe tbody tr th {\n",
       "        vertical-align: top;\n",
       "    }\n",
       "\n",
       "    .dataframe thead th {\n",
       "        text-align: right;\n",
       "    }\n",
       "</style>\n",
       "<table border=\"1\" class=\"dataframe\">\n",
       "  <thead>\n",
       "    <tr style=\"text-align: right;\">\n",
       "      <th></th>\n",
       "      <th>financial_year</th>\n",
       "      <th>application_type</th>\n",
       "      <th>no_of_applications</th>\n",
       "    </tr>\n",
       "  </thead>\n",
       "  <tbody>\n",
       "    <tr>\n",
       "      <th>0</th>\n",
       "      <td>2017-10-20</td>\n",
       "      <td>new flat buyers</td>\n",
       "      <td>2235</td>\n",
       "    </tr>\n",
       "    <tr>\n",
       "      <th>1</th>\n",
       "      <td>2017-01-02</td>\n",
       "      <td>resale flat buyers</td>\n",
       "      <td>string</td>\n",
       "    </tr>\n",
       "    <tr>\n",
       "      <th>2</th>\n",
       "      <td>2017-09-10</td>\n",
       "      <td>existing flat owners (refinance)</td>\n",
       "      <td>1020</td>\n",
       "    </tr>\n",
       "    <tr>\n",
       "      <th>3</th>\n",
       "      <td>2017-12-20</td>\n",
       "      <td>5</td>\n",
       "      <td>7</td>\n",
       "    </tr>\n",
       "  </tbody>\n",
       "</table>\n",
       "</div>"
      ],
      "text/plain": [
       "  financial_year                  application_type no_of_applications\n",
       "0     2017-10-20                   new flat buyers               2235\n",
       "1     2017-01-02                resale flat buyers             string\n",
       "2     2017-09-10  existing flat owners (refinance)               1020\n",
       "3     2017-12-20                                 5                  7"
      ]
     },
     "execution_count": 229,
     "metadata": {},
     "output_type": "execute_result"
    }
   ],
   "source": [
    "convert = pd.read_csv('data/loan_convert.csv')\n",
    "convert"
   ]
  },
  {
   "cell_type": "code",
   "execution_count": 230,
   "metadata": {},
   "outputs": [
    {
     "name": "stdout",
     "output_type": "stream",
     "text": [
      "<class 'pandas.core.frame.DataFrame'>\n",
      "RangeIndex: 4 entries, 0 to 3\n",
      "Data columns (total 3 columns):\n",
      "financial_year        4 non-null object\n",
      "application_type      4 non-null object\n",
      "no_of_applications    4 non-null object\n",
      "dtypes: object(3)\n",
      "memory usage: 176.0+ bytes\n"
     ]
    }
   ],
   "source": [
    "convert.info()"
   ]
  },
  {
   "cell_type": "code",
   "execution_count": 232,
   "metadata": {},
   "outputs": [
    {
     "name": "stderr",
     "output_type": "stream",
     "text": [
      "/Users/anqitu/.pyenv/versions/3.6.8/lib/python3.6/site-packages/ipykernel_launcher.py:1: FutureWarning: convert_objects is deprecated.  To re-infer data dtypes for object columns, use Series.infer_objects()\n",
      "For all other conversions use the data-type specific converters pd.to_datetime, pd.to_timedelta and pd.to_numeric.\n",
      "  \"\"\"Entry point for launching an IPython kernel.\n"
     ]
    },
    {
     "data": {
      "text/plain": [
       "0    NaN\n",
       "1    NaN\n",
       "2    NaN\n",
       "3    5.0\n",
       "Name: application_type, dtype: float64"
      ]
     },
     "execution_count": 232,
     "metadata": {},
     "output_type": "execute_result"
    }
   ],
   "source": [
    "converted = convert['application_type'].convert_objects(convert_numeric=True)\n",
    "converted"
   ]
  },
  {
   "cell_type": "code",
   "execution_count": 234,
   "metadata": {},
   "outputs": [
    {
     "name": "stderr",
     "output_type": "stream",
     "text": [
      "/Users/anqitu/.pyenv/versions/3.6.8/lib/python3.6/site-packages/ipykernel_launcher.py:1: FutureWarning: convert_objects is deprecated.  To re-infer data dtypes for object columns, use Series.infer_objects()\n",
      "For all other conversions use the data-type specific converters pd.to_datetime, pd.to_timedelta and pd.to_numeric.\n",
      "  \"\"\"Entry point for launching an IPython kernel.\n"
     ]
    }
   ],
   "source": [
    "convert['application_type'] = convert['application_type'].convert_objects(convert_numeric=True)"
   ]
  },
  {
   "cell_type": "code",
   "execution_count": 228,
   "metadata": {},
   "outputs": [
    {
     "data": {
      "text/plain": [
       "0   2017-10-20\n",
       "1   2017-01-02\n",
       "2   2017-09-10\n",
       "3   2017-12-20\n",
       "Name: financial_year, dtype: datetime64[ns]"
      ]
     },
     "execution_count": 228,
     "metadata": {},
     "output_type": "execute_result"
    }
   ],
   "source": [
    "pd.to_datetime(converted['financial_year'], format = '%Y-%m-%d')"
   ]
  },
  {
   "cell_type": "code",
   "execution_count": 226,
   "metadata": {},
   "outputs": [
    {
     "name": "stdout",
     "output_type": "stream",
     "text": [
      "<class 'pandas.core.frame.DataFrame'>\n",
      "RangeIndex: 4 entries, 0 to 3\n",
      "Data columns (total 3 columns):\n",
      "financial_year        4 non-null object\n",
      "application_type      4 non-null object\n",
      "no_of_applications    3 non-null float64\n",
      "dtypes: float64(1), object(2)\n",
      "memory usage: 176.0+ bytes\n"
     ]
    }
   ],
   "source": [
    "converted.info()"
   ]
  },
  {
   "cell_type": "code",
   "execution_count": 99,
   "metadata": {},
   "outputs": [
    {
     "data": {
      "text/html": [
       "<div>\n",
       "<style scoped>\n",
       "    .dataframe tbody tr th:only-of-type {\n",
       "        vertical-align: middle;\n",
       "    }\n",
       "\n",
       "    .dataframe tbody tr th {\n",
       "        vertical-align: top;\n",
       "    }\n",
       "\n",
       "    .dataframe thead th {\n",
       "        text-align: right;\n",
       "    }\n",
       "</style>\n",
       "<table border=\"1\" class=\"dataframe\">\n",
       "  <thead>\n",
       "    <tr style=\"text-align: right;\">\n",
       "      <th></th>\n",
       "      <th>financial_year</th>\n",
       "      <th>application_type</th>\n",
       "      <th>no_of_applications</th>\n",
       "    </tr>\n",
       "  </thead>\n",
       "  <tbody>\n",
       "    <tr>\n",
       "      <th>1</th>\n",
       "      <td>2016</td>\n",
       "      <td>resale flat buyers</td>\n",
       "      <td>8207.0</td>\n",
       "    </tr>\n",
       "    <tr>\n",
       "      <th>2</th>\n",
       "      <td>2016</td>\n",
       "      <td>existing flat owners (refinance)</td>\n",
       "      <td>326.0</td>\n",
       "    </tr>\n",
       "    <tr>\n",
       "      <th>4</th>\n",
       "      <td>2017</td>\n",
       "      <td>new flat buyers</td>\n",
       "      <td>2235.0</td>\n",
       "    </tr>\n",
       "    <tr>\n",
       "      <th>6</th>\n",
       "      <td>2017</td>\n",
       "      <td>existing flat owners (refinance)</td>\n",
       "      <td>1020.0</td>\n",
       "    </tr>\n",
       "    <tr>\n",
       "      <th>7</th>\n",
       "      <td>2017</td>\n",
       "      <td>DBSS flat buyers</td>\n",
       "      <td>7.0</td>\n",
       "    </tr>\n",
       "  </tbody>\n",
       "</table>\n",
       "</div>"
      ],
      "text/plain": [
       "   financial_year                  application_type  no_of_applications\n",
       "1            2016                resale flat buyers              8207.0\n",
       "2            2016  existing flat owners (refinance)               326.0\n",
       "4            2017                   new flat buyers              2235.0\n",
       "6            2017  existing flat owners (refinance)              1020.0\n",
       "7            2017                  DBSS flat buyers                 7.0"
      ]
     },
     "execution_count": 99,
     "metadata": {},
     "output_type": "execute_result"
    }
   ],
   "source": [
    "missing.dropna(axis = 0) # defalt"
   ]
  },
  {
   "cell_type": "code",
   "execution_count": 100,
   "metadata": {},
   "outputs": [
    {
     "data": {
      "text/html": [
       "<div>\n",
       "<style scoped>\n",
       "    .dataframe tbody tr th:only-of-type {\n",
       "        vertical-align: middle;\n",
       "    }\n",
       "\n",
       "    .dataframe tbody tr th {\n",
       "        vertical-align: top;\n",
       "    }\n",
       "\n",
       "    .dataframe thead th {\n",
       "        text-align: right;\n",
       "    }\n",
       "</style>\n",
       "<table border=\"1\" class=\"dataframe\">\n",
       "  <thead>\n",
       "    <tr style=\"text-align: right;\">\n",
       "      <th></th>\n",
       "      <th>financial_year</th>\n",
       "    </tr>\n",
       "  </thead>\n",
       "  <tbody>\n",
       "    <tr>\n",
       "      <th>0</th>\n",
       "      <td>2016</td>\n",
       "    </tr>\n",
       "    <tr>\n",
       "      <th>1</th>\n",
       "      <td>2016</td>\n",
       "    </tr>\n",
       "    <tr>\n",
       "      <th>2</th>\n",
       "      <td>2016</td>\n",
       "    </tr>\n",
       "    <tr>\n",
       "      <th>3</th>\n",
       "      <td>2016</td>\n",
       "    </tr>\n",
       "    <tr>\n",
       "      <th>4</th>\n",
       "      <td>2017</td>\n",
       "    </tr>\n",
       "    <tr>\n",
       "      <th>5</th>\n",
       "      <td>2017</td>\n",
       "    </tr>\n",
       "    <tr>\n",
       "      <th>6</th>\n",
       "      <td>2017</td>\n",
       "    </tr>\n",
       "    <tr>\n",
       "      <th>7</th>\n",
       "      <td>2017</td>\n",
       "    </tr>\n",
       "  </tbody>\n",
       "</table>\n",
       "</div>"
      ],
      "text/plain": [
       "   financial_year\n",
       "0            2016\n",
       "1            2016\n",
       "2            2016\n",
       "3            2016\n",
       "4            2017\n",
       "5            2017\n",
       "6            2017\n",
       "7            2017"
      ]
     },
     "execution_count": 100,
     "metadata": {},
     "output_type": "execute_result"
    }
   ],
   "source": [
    "missing.dropna(axis = 1)"
   ]
  },
  {
   "cell_type": "markdown",
   "metadata": {},
   "source": [
    "### Duplicates"
   ]
  },
  {
   "cell_type": "code",
   "execution_count": 143,
   "metadata": {},
   "outputs": [
    {
     "data": {
      "text/html": [
       "<div>\n",
       "<style scoped>\n",
       "    .dataframe tbody tr th:only-of-type {\n",
       "        vertical-align: middle;\n",
       "    }\n",
       "\n",
       "    .dataframe tbody tr th {\n",
       "        vertical-align: top;\n",
       "    }\n",
       "\n",
       "    .dataframe thead th {\n",
       "        text-align: right;\n",
       "    }\n",
       "</style>\n",
       "<table border=\"1\" class=\"dataframe\">\n",
       "  <thead>\n",
       "    <tr style=\"text-align: right;\">\n",
       "      <th></th>\n",
       "      <th>financial_year</th>\n",
       "      <th>application_type</th>\n",
       "      <th>no_of_applications</th>\n",
       "    </tr>\n",
       "  </thead>\n",
       "  <tbody>\n",
       "    <tr>\n",
       "      <th>0</th>\n",
       "      <td>2017</td>\n",
       "      <td>new flat buyers</td>\n",
       "      <td>2235.0</td>\n",
       "    </tr>\n",
       "    <tr>\n",
       "      <th>1</th>\n",
       "      <td>2017</td>\n",
       "      <td>resale flat buyers</td>\n",
       "      <td>8563.0</td>\n",
       "    </tr>\n",
       "    <tr>\n",
       "      <th>2</th>\n",
       "      <td>2017</td>\n",
       "      <td>resale flat buyers</td>\n",
       "      <td>8563.0</td>\n",
       "    </tr>\n",
       "    <tr>\n",
       "      <th>3</th>\n",
       "      <td>2017</td>\n",
       "      <td>existing flat owners (refinance)</td>\n",
       "      <td>1020.0</td>\n",
       "    </tr>\n",
       "    <tr>\n",
       "      <th>4</th>\n",
       "      <td>2017</td>\n",
       "      <td>DBSS flat buyers</td>\n",
       "      <td>NaN</td>\n",
       "    </tr>\n",
       "  </tbody>\n",
       "</table>\n",
       "</div>"
      ],
      "text/plain": [
       "   financial_year                  application_type  no_of_applications\n",
       "0            2017                   new flat buyers              2235.0\n",
       "1            2017                resale flat buyers              8563.0\n",
       "2            2017                resale flat buyers              8563.0\n",
       "3            2017  existing flat owners (refinance)              1020.0\n",
       "4            2017                  DBSS flat buyers                 NaN"
      ]
     },
     "execution_count": 143,
     "metadata": {},
     "output_type": "execute_result"
    }
   ],
   "source": [
    "duplicates = pd.read_csv('data/loan_duplicates.csv')\n",
    "duplicates"
   ]
  },
  {
   "cell_type": "code",
   "execution_count": 238,
   "metadata": {},
   "outputs": [
    {
     "data": {
      "text/plain": [
       "0    False\n",
       "1     True\n",
       "2     True\n",
       "3     True\n",
       "4     True\n",
       "dtype: bool"
      ]
     },
     "execution_count": 238,
     "metadata": {},
     "output_type": "execute_result"
    }
   ],
   "source": [
    "duplicates.duplicated(subset = ['financial_year'])"
   ]
  },
  {
   "cell_type": "code",
   "execution_count": 144,
   "metadata": {},
   "outputs": [
    {
     "data": {
      "text/plain": [
       "0    False\n",
       "1    False\n",
       "2     True\n",
       "3    False\n",
       "4    False\n",
       "dtype: bool"
      ]
     },
     "execution_count": 144,
     "metadata": {},
     "output_type": "execute_result"
    }
   ],
   "source": [
    "duplicates.duplicated()"
   ]
  },
  {
   "cell_type": "code",
   "execution_count": 103,
   "metadata": {},
   "outputs": [
    {
     "data": {
      "text/html": [
       "<div>\n",
       "<style scoped>\n",
       "    .dataframe tbody tr th:only-of-type {\n",
       "        vertical-align: middle;\n",
       "    }\n",
       "\n",
       "    .dataframe tbody tr th {\n",
       "        vertical-align: top;\n",
       "    }\n",
       "\n",
       "    .dataframe thead th {\n",
       "        text-align: right;\n",
       "    }\n",
       "</style>\n",
       "<table border=\"1\" class=\"dataframe\">\n",
       "  <thead>\n",
       "    <tr style=\"text-align: right;\">\n",
       "      <th></th>\n",
       "      <th>financial_year</th>\n",
       "      <th>application_type</th>\n",
       "      <th>no_of_applications</th>\n",
       "    </tr>\n",
       "  </thead>\n",
       "  <tbody>\n",
       "    <tr>\n",
       "      <th>0</th>\n",
       "      <td>2017</td>\n",
       "      <td>new flat buyers</td>\n",
       "      <td>2235.0</td>\n",
       "    </tr>\n",
       "    <tr>\n",
       "      <th>1</th>\n",
       "      <td>2017</td>\n",
       "      <td>resale flat buyers</td>\n",
       "      <td>8563.0</td>\n",
       "    </tr>\n",
       "    <tr>\n",
       "      <th>3</th>\n",
       "      <td>2017</td>\n",
       "      <td>existing flat owners (refinance)</td>\n",
       "      <td>1020.0</td>\n",
       "    </tr>\n",
       "    <tr>\n",
       "      <th>4</th>\n",
       "      <td>2017</td>\n",
       "      <td>DBSS flat buyers</td>\n",
       "      <td>NaN</td>\n",
       "    </tr>\n",
       "  </tbody>\n",
       "</table>\n",
       "</div>"
      ],
      "text/plain": [
       "   financial_year                  application_type  no_of_applications\n",
       "0            2017                   new flat buyers              2235.0\n",
       "1            2017                resale flat buyers              8563.0\n",
       "3            2017  existing flat owners (refinance)              1020.0\n",
       "4            2017                  DBSS flat buyers                 NaN"
      ]
     },
     "execution_count": 103,
     "metadata": {},
     "output_type": "execute_result"
    }
   ],
   "source": [
    "duplicates.drop_duplicates()"
   ]
  },
  {
   "cell_type": "code",
   "execution_count": 104,
   "metadata": {},
   "outputs": [
    {
     "data": {
      "text/html": [
       "<div>\n",
       "<style scoped>\n",
       "    .dataframe tbody tr th:only-of-type {\n",
       "        vertical-align: middle;\n",
       "    }\n",
       "\n",
       "    .dataframe tbody tr th {\n",
       "        vertical-align: top;\n",
       "    }\n",
       "\n",
       "    .dataframe thead th {\n",
       "        text-align: right;\n",
       "    }\n",
       "</style>\n",
       "<table border=\"1\" class=\"dataframe\">\n",
       "  <thead>\n",
       "    <tr style=\"text-align: right;\">\n",
       "      <th></th>\n",
       "      <th>financial_year</th>\n",
       "      <th>application_type</th>\n",
       "      <th>no_of_applications</th>\n",
       "    </tr>\n",
       "  </thead>\n",
       "  <tbody>\n",
       "    <tr>\n",
       "      <th>0</th>\n",
       "      <td>2017</td>\n",
       "      <td>new flat buyers</td>\n",
       "      <td>2235.0</td>\n",
       "    </tr>\n",
       "    <tr>\n",
       "      <th>1</th>\n",
       "      <td>2017</td>\n",
       "      <td>resale flat buyers</td>\n",
       "      <td>8563.0</td>\n",
       "    </tr>\n",
       "    <tr>\n",
       "      <th>3</th>\n",
       "      <td>2017</td>\n",
       "      <td>existing flat owners (refinance)</td>\n",
       "      <td>1020.0</td>\n",
       "    </tr>\n",
       "  </tbody>\n",
       "</table>\n",
       "</div>"
      ],
      "text/plain": [
       "   financial_year                  application_type  no_of_applications\n",
       "0            2017                   new flat buyers              2235.0\n",
       "1            2017                resale flat buyers              8563.0\n",
       "3            2017  existing flat owners (refinance)              1020.0"
      ]
     },
     "execution_count": 104,
     "metadata": {},
     "output_type": "execute_result"
    }
   ],
   "source": [
    "duplicates.dropna().drop_duplicates()"
   ]
  },
  {
   "cell_type": "markdown",
   "metadata": {},
   "source": [
    "## Drop columns"
   ]
  },
  {
   "cell_type": "code",
   "execution_count": 239,
   "metadata": {},
   "outputs": [
    {
     "data": {
      "text/html": [
       "<div>\n",
       "<style scoped>\n",
       "    .dataframe tbody tr th:only-of-type {\n",
       "        vertical-align: middle;\n",
       "    }\n",
       "\n",
       "    .dataframe tbody tr th {\n",
       "        vertical-align: top;\n",
       "    }\n",
       "\n",
       "    .dataframe thead th {\n",
       "        text-align: right;\n",
       "    }\n",
       "</style>\n",
       "<table border=\"1\" class=\"dataframe\">\n",
       "  <thead>\n",
       "    <tr style=\"text-align: right;\">\n",
       "      <th></th>\n",
       "      <th>application_type</th>\n",
       "      <th>no_of_applications</th>\n",
       "      <th>change</th>\n",
       "      <th>no_of_applications_2</th>\n",
       "      <th>no_of_applications_str</th>\n",
       "    </tr>\n",
       "  </thead>\n",
       "  <tbody>\n",
       "    <tr>\n",
       "      <th>001</th>\n",
       "      <td>new flat buyers</td>\n",
       "      <td>2235.0</td>\n",
       "      <td>Increase</td>\n",
       "      <td>4470</td>\n",
       "      <td>2235</td>\n",
       "    </tr>\n",
       "    <tr>\n",
       "      <th>002</th>\n",
       "      <td>resale flat buyers</td>\n",
       "      <td>8563.0</td>\n",
       "      <td>Decrease</td>\n",
       "      <td>17126</td>\n",
       "      <td>8563</td>\n",
       "    </tr>\n",
       "    <tr>\n",
       "      <th>003</th>\n",
       "      <td>existing flat owners (refinance)</td>\n",
       "      <td>1020.0</td>\n",
       "      <td>Increase</td>\n",
       "      <td>2040</td>\n",
       "      <td>1020</td>\n",
       "    </tr>\n",
       "    <tr>\n",
       "      <th>004</th>\n",
       "      <td>DBSS flat buyers</td>\n",
       "      <td>7.0</td>\n",
       "      <td>Decrease</td>\n",
       "      <td>14</td>\n",
       "      <td>7</td>\n",
       "    </tr>\n",
       "  </tbody>\n",
       "</table>\n",
       "</div>"
      ],
      "text/plain": [
       "                     application_type  no_of_applications    change  \\\n",
       "001                   new flat buyers              2235.0  Increase   \n",
       "002                resale flat buyers              8563.0  Decrease   \n",
       "003  existing flat owners (refinance)              1020.0  Increase   \n",
       "004                  DBSS flat buyers                 7.0  Decrease   \n",
       "\n",
       "     no_of_applications_2 no_of_applications_str  \n",
       "001                  4470                   2235  \n",
       "002                 17126                   8563  \n",
       "003                  2040                   1020  \n",
       "004                    14                      7  "
      ]
     },
     "execution_count": 239,
     "metadata": {},
     "output_type": "execute_result"
    }
   ],
   "source": [
    "loan2017.drop(columns = ['financial_year'], axis = 1)  # Drop column by column name\n",
    "# loan2017.drop(columns = ['financial_year'])\n",
    "# loan2017.drop(['financial_year'], axis = 1)\n"
   ]
  },
  {
   "cell_type": "code",
   "execution_count": 240,
   "metadata": {},
   "outputs": [
    {
     "data": {
      "text/html": [
       "<div>\n",
       "<style scoped>\n",
       "    .dataframe tbody tr th:only-of-type {\n",
       "        vertical-align: middle;\n",
       "    }\n",
       "\n",
       "    .dataframe tbody tr th {\n",
       "        vertical-align: top;\n",
       "    }\n",
       "\n",
       "    .dataframe thead th {\n",
       "        text-align: right;\n",
       "    }\n",
       "</style>\n",
       "<table border=\"1\" class=\"dataframe\">\n",
       "  <thead>\n",
       "    <tr style=\"text-align: right;\">\n",
       "      <th></th>\n",
       "      <th>application_type</th>\n",
       "      <th>no_of_applications</th>\n",
       "      <th>change</th>\n",
       "      <th>no_of_applications_2</th>\n",
       "      <th>no_of_applications_str</th>\n",
       "    </tr>\n",
       "  </thead>\n",
       "  <tbody>\n",
       "    <tr>\n",
       "      <th>001</th>\n",
       "      <td>new flat buyers</td>\n",
       "      <td>2235.0</td>\n",
       "      <td>Increase</td>\n",
       "      <td>4470</td>\n",
       "      <td>2235</td>\n",
       "    </tr>\n",
       "    <tr>\n",
       "      <th>002</th>\n",
       "      <td>resale flat buyers</td>\n",
       "      <td>8563.0</td>\n",
       "      <td>Decrease</td>\n",
       "      <td>17126</td>\n",
       "      <td>8563</td>\n",
       "    </tr>\n",
       "    <tr>\n",
       "      <th>003</th>\n",
       "      <td>existing flat owners (refinance)</td>\n",
       "      <td>1020.0</td>\n",
       "      <td>Increase</td>\n",
       "      <td>2040</td>\n",
       "      <td>1020</td>\n",
       "    </tr>\n",
       "    <tr>\n",
       "      <th>004</th>\n",
       "      <td>DBSS flat buyers</td>\n",
       "      <td>7.0</td>\n",
       "      <td>Decrease</td>\n",
       "      <td>14</td>\n",
       "      <td>7</td>\n",
       "    </tr>\n",
       "  </tbody>\n",
       "</table>\n",
       "</div>"
      ],
      "text/plain": [
       "                     application_type  no_of_applications    change  \\\n",
       "001                   new flat buyers              2235.0  Increase   \n",
       "002                resale flat buyers              8563.0  Decrease   \n",
       "003  existing flat owners (refinance)              1020.0  Increase   \n",
       "004                  DBSS flat buyers                 7.0  Decrease   \n",
       "\n",
       "     no_of_applications_2 no_of_applications_str  \n",
       "001                  4470                   2235  \n",
       "002                 17126                   8563  \n",
       "003                  2040                   1020  \n",
       "004                    14                      7  "
      ]
     },
     "execution_count": 240,
     "metadata": {},
     "output_type": "execute_result"
    }
   ],
   "source": [
    "loan2017.drop(columns = ['financial_year'])  # Drop column by column name"
   ]
  },
  {
   "cell_type": "code",
   "execution_count": 241,
   "metadata": {},
   "outputs": [
    {
     "data": {
      "text/html": [
       "<div>\n",
       "<style scoped>\n",
       "    .dataframe tbody tr th:only-of-type {\n",
       "        vertical-align: middle;\n",
       "    }\n",
       "\n",
       "    .dataframe tbody tr th {\n",
       "        vertical-align: top;\n",
       "    }\n",
       "\n",
       "    .dataframe thead th {\n",
       "        text-align: right;\n",
       "    }\n",
       "</style>\n",
       "<table border=\"1\" class=\"dataframe\">\n",
       "  <thead>\n",
       "    <tr style=\"text-align: right;\">\n",
       "      <th></th>\n",
       "      <th>application_type</th>\n",
       "      <th>no_of_applications</th>\n",
       "      <th>change</th>\n",
       "      <th>no_of_applications_2</th>\n",
       "      <th>no_of_applications_str</th>\n",
       "    </tr>\n",
       "  </thead>\n",
       "  <tbody>\n",
       "    <tr>\n",
       "      <th>001</th>\n",
       "      <td>new flat buyers</td>\n",
       "      <td>2235.0</td>\n",
       "      <td>Increase</td>\n",
       "      <td>4470</td>\n",
       "      <td>2235</td>\n",
       "    </tr>\n",
       "    <tr>\n",
       "      <th>002</th>\n",
       "      <td>resale flat buyers</td>\n",
       "      <td>8563.0</td>\n",
       "      <td>Decrease</td>\n",
       "      <td>17126</td>\n",
       "      <td>8563</td>\n",
       "    </tr>\n",
       "    <tr>\n",
       "      <th>003</th>\n",
       "      <td>existing flat owners (refinance)</td>\n",
       "      <td>1020.0</td>\n",
       "      <td>Increase</td>\n",
       "      <td>2040</td>\n",
       "      <td>1020</td>\n",
       "    </tr>\n",
       "    <tr>\n",
       "      <th>004</th>\n",
       "      <td>DBSS flat buyers</td>\n",
       "      <td>7.0</td>\n",
       "      <td>Decrease</td>\n",
       "      <td>14</td>\n",
       "      <td>7</td>\n",
       "    </tr>\n",
       "  </tbody>\n",
       "</table>\n",
       "</div>"
      ],
      "text/plain": [
       "                     application_type  no_of_applications    change  \\\n",
       "001                   new flat buyers              2235.0  Increase   \n",
       "002                resale flat buyers              8563.0  Decrease   \n",
       "003  existing flat owners (refinance)              1020.0  Increase   \n",
       "004                  DBSS flat buyers                 7.0  Decrease   \n",
       "\n",
       "     no_of_applications_2 no_of_applications_str  \n",
       "001                  4470                   2235  \n",
       "002                 17126                   8563  \n",
       "003                  2040                   1020  \n",
       "004                    14                      7  "
      ]
     },
     "execution_count": 241,
     "metadata": {},
     "output_type": "execute_result"
    }
   ],
   "source": [
    "loan2017.drop(['financial_year'], axis = 1)  # Drop column by column name"
   ]
  },
  {
   "cell_type": "code",
   "execution_count": 106,
   "metadata": {},
   "outputs": [
    {
     "data": {
      "text/html": [
       "<div>\n",
       "<style scoped>\n",
       "    .dataframe tbody tr th:only-of-type {\n",
       "        vertical-align: middle;\n",
       "    }\n",
       "\n",
       "    .dataframe tbody tr th {\n",
       "        vertical-align: top;\n",
       "    }\n",
       "\n",
       "    .dataframe thead th {\n",
       "        text-align: right;\n",
       "    }\n",
       "</style>\n",
       "<table border=\"1\" class=\"dataframe\">\n",
       "  <thead>\n",
       "    <tr style=\"text-align: right;\">\n",
       "      <th></th>\n",
       "      <th>application_type</th>\n",
       "      <th>no_of_applications</th>\n",
       "    </tr>\n",
       "  </thead>\n",
       "  <tbody>\n",
       "    <tr>\n",
       "      <th>001</th>\n",
       "      <td>new flat buyers</td>\n",
       "      <td>2235</td>\n",
       "    </tr>\n",
       "    <tr>\n",
       "      <th>002</th>\n",
       "      <td>resale flat buyers</td>\n",
       "      <td>8563</td>\n",
       "    </tr>\n",
       "    <tr>\n",
       "      <th>003</th>\n",
       "      <td>existing flat owners (refinance)</td>\n",
       "      <td>1020</td>\n",
       "    </tr>\n",
       "    <tr>\n",
       "      <th>004</th>\n",
       "      <td>DBSS flat buyers</td>\n",
       "      <td>7</td>\n",
       "    </tr>\n",
       "  </tbody>\n",
       "</table>\n",
       "</div>"
      ],
      "text/plain": [
       "                     application_type  no_of_applications\n",
       "001                   new flat buyers                2235\n",
       "002                resale flat buyers                8563\n",
       "003  existing flat owners (refinance)                1020\n",
       "004                  DBSS flat buyers                   7"
      ]
     },
     "execution_count": 106,
     "metadata": {},
     "output_type": "execute_result"
    }
   ],
   "source": [
    "loan2017.drop(columns = ['financial_year', 'change'], axis = 1) "
   ]
  },
  {
   "cell_type": "code",
   "execution_count": 242,
   "metadata": {},
   "outputs": [
    {
     "data": {
      "text/html": [
       "<div>\n",
       "<style scoped>\n",
       "    .dataframe tbody tr th:only-of-type {\n",
       "        vertical-align: middle;\n",
       "    }\n",
       "\n",
       "    .dataframe tbody tr th {\n",
       "        vertical-align: top;\n",
       "    }\n",
       "\n",
       "    .dataframe thead th {\n",
       "        text-align: right;\n",
       "    }\n",
       "</style>\n",
       "<table border=\"1\" class=\"dataframe\">\n",
       "  <thead>\n",
       "    <tr style=\"text-align: right;\">\n",
       "      <th></th>\n",
       "      <th>financial_year</th>\n",
       "      <th>application_type</th>\n",
       "      <th>no_of_applications</th>\n",
       "      <th>change</th>\n",
       "      <th>no_of_applications_2</th>\n",
       "      <th>no_of_applications_str</th>\n",
       "    </tr>\n",
       "  </thead>\n",
       "  <tbody>\n",
       "    <tr>\n",
       "      <th>003</th>\n",
       "      <td>2017</td>\n",
       "      <td>existing flat owners (refinance)</td>\n",
       "      <td>1020.0</td>\n",
       "      <td>Increase</td>\n",
       "      <td>2040</td>\n",
       "      <td>1020</td>\n",
       "    </tr>\n",
       "    <tr>\n",
       "      <th>004</th>\n",
       "      <td>2017</td>\n",
       "      <td>DBSS flat buyers</td>\n",
       "      <td>7.0</td>\n",
       "      <td>Decrease</td>\n",
       "      <td>14</td>\n",
       "      <td>7</td>\n",
       "    </tr>\n",
       "  </tbody>\n",
       "</table>\n",
       "</div>"
      ],
      "text/plain": [
       "     financial_year                  application_type  no_of_applications  \\\n",
       "003            2017  existing flat owners (refinance)              1020.0   \n",
       "004            2017                  DBSS flat buyers                 7.0   \n",
       "\n",
       "       change  no_of_applications_2 no_of_applications_str  \n",
       "003  Increase                  2040                   1020  \n",
       "004  Decrease                    14                      7  "
      ]
     },
     "execution_count": 242,
     "metadata": {},
     "output_type": "execute_result"
    }
   ],
   "source": [
    "loan2017.drop(index = ['001', '002'], axis = 0) # Drop row by index"
   ]
  },
  {
   "cell_type": "code",
   "execution_count": 248,
   "metadata": {},
   "outputs": [
    {
     "data": {
      "text/plain": [
       "001    1\n",
       "002    1\n",
       "003    1\n",
       "004    0\n",
       "Name: no_of_applications, dtype: int64"
      ]
     },
     "execution_count": 248,
     "metadata": {},
     "output_type": "execute_result"
    }
   ],
   "source": [
    "loan2017['no_of_applications']\n",
    "loan2017['no_of_applications'].apply(lambda no: 1 if no > 1000 else 0)"
   ]
  },
  {
   "cell_type": "markdown",
   "metadata": {},
   "source": [
    "### Exercise"
   ]
  },
  {
   "cell_type": "code",
   "execution_count": 108,
   "metadata": {},
   "outputs": [
    {
     "data": {
      "text/html": [
       "<div>\n",
       "<style scoped>\n",
       "    .dataframe tbody tr th:only-of-type {\n",
       "        vertical-align: middle;\n",
       "    }\n",
       "\n",
       "    .dataframe tbody tr th {\n",
       "        vertical-align: top;\n",
       "    }\n",
       "\n",
       "    .dataframe thead th {\n",
       "        text-align: right;\n",
       "    }\n",
       "</style>\n",
       "<table border=\"1\" class=\"dataframe\">\n",
       "  <thead>\n",
       "    <tr style=\"text-align: right;\">\n",
       "      <th></th>\n",
       "      <th>class</th>\n",
       "      <th>type</th>\n",
       "      <th>amount</th>\n",
       "      <th>percent_of_gdp</th>\n",
       "    </tr>\n",
       "    <tr>\n",
       "      <th>financial_year</th>\n",
       "      <th></th>\n",
       "      <th></th>\n",
       "      <th></th>\n",
       "      <th></th>\n",
       "    </tr>\n",
       "  </thead>\n",
       "  <tbody>\n",
       "    <tr>\n",
       "      <th>1997</th>\n",
       "      <td>Tax</td>\n",
       "      <td>Corporate Income Tax</td>\n",
       "      <td>6809</td>\n",
       "      <td>0.045</td>\n",
       "    </tr>\n",
       "    <tr>\n",
       "      <th>1998</th>\n",
       "      <td>Tax</td>\n",
       "      <td>Corporate Income Tax</td>\n",
       "      <td>6256</td>\n",
       "      <td>0.044</td>\n",
       "    </tr>\n",
       "    <tr>\n",
       "      <th>1999</th>\n",
       "      <td>Tax</td>\n",
       "      <td>Corporate Income Tax</td>\n",
       "      <td>6565</td>\n",
       "      <td>0.044</td>\n",
       "    </tr>\n",
       "    <tr>\n",
       "      <th>2000</th>\n",
       "      <td>Tax</td>\n",
       "      <td>Corporate Income Tax</td>\n",
       "      <td>8316</td>\n",
       "      <td>0.049</td>\n",
       "    </tr>\n",
       "    <tr>\n",
       "      <th>2001</th>\n",
       "      <td>Tax</td>\n",
       "      <td>Corporate Income Tax</td>\n",
       "      <td>7821</td>\n",
       "      <td>0.049</td>\n",
       "    </tr>\n",
       "    <tr>\n",
       "      <th>2002</th>\n",
       "      <td>Tax</td>\n",
       "      <td>Corporate Income Tax</td>\n",
       "      <td>6822</td>\n",
       "      <td>0.041</td>\n",
       "    </tr>\n",
       "    <tr>\n",
       "      <th>2003</th>\n",
       "      <td>Tax</td>\n",
       "      <td>Corporate Income Tax</td>\n",
       "      <td>5921</td>\n",
       "      <td>0.034</td>\n",
       "    </tr>\n",
       "    <tr>\n",
       "      <th>2004</th>\n",
       "      <td>Tax</td>\n",
       "      <td>Corporate Income Tax</td>\n",
       "      <td>6107</td>\n",
       "      <td>0.031</td>\n",
       "    </tr>\n",
       "    <tr>\n",
       "      <th>2005</th>\n",
       "      <td>Tax</td>\n",
       "      <td>Corporate Income Tax</td>\n",
       "      <td>7340</td>\n",
       "      <td>0.034</td>\n",
       "    </tr>\n",
       "    <tr>\n",
       "      <th>2006</th>\n",
       "      <td>Tax</td>\n",
       "      <td>Corporate Income Tax</td>\n",
       "      <td>8474</td>\n",
       "      <td>0.035</td>\n",
       "    </tr>\n",
       "    <tr>\n",
       "      <th>2007</th>\n",
       "      <td>Tax</td>\n",
       "      <td>Corporate Income Tax</td>\n",
       "      <td>9250</td>\n",
       "      <td>0.033</td>\n",
       "    </tr>\n",
       "    <tr>\n",
       "      <th>2008</th>\n",
       "      <td>Tax</td>\n",
       "      <td>Corporate Income Tax</td>\n",
       "      <td>10554</td>\n",
       "      <td>0.039</td>\n",
       "    </tr>\n",
       "    <tr>\n",
       "      <th>2009</th>\n",
       "      <td>Tax</td>\n",
       "      <td>Corporate Income Tax</td>\n",
       "      <td>9551</td>\n",
       "      <td>0.033</td>\n",
       "    </tr>\n",
       "    <tr>\n",
       "      <th>2010</th>\n",
       "      <td>Tax</td>\n",
       "      <td>Corporate Income Tax</td>\n",
       "      <td>10687</td>\n",
       "      <td>0.032</td>\n",
       "    </tr>\n",
       "    <tr>\n",
       "      <th>2011</th>\n",
       "      <td>Tax</td>\n",
       "      <td>Corporate Income Tax</td>\n",
       "      <td>12096</td>\n",
       "      <td>0.034</td>\n",
       "    </tr>\n",
       "    <tr>\n",
       "      <th>2012</th>\n",
       "      <td>Tax</td>\n",
       "      <td>Corporate Income Tax</td>\n",
       "      <td>12821</td>\n",
       "      <td>0.035</td>\n",
       "    </tr>\n",
       "    <tr>\n",
       "      <th>2013</th>\n",
       "      <td>Tax</td>\n",
       "      <td>Corporate Income Tax</td>\n",
       "      <td>12680</td>\n",
       "      <td>0.033</td>\n",
       "    </tr>\n",
       "    <tr>\n",
       "      <th>2014</th>\n",
       "      <td>Tax</td>\n",
       "      <td>Corporate Income Tax</td>\n",
       "      <td>13371</td>\n",
       "      <td>0.033</td>\n",
       "    </tr>\n",
       "    <tr>\n",
       "      <th>2015</th>\n",
       "      <td>Tax</td>\n",
       "      <td>Corporate Income Tax</td>\n",
       "      <td>13815</td>\n",
       "      <td>0.033</td>\n",
       "    </tr>\n",
       "    <tr>\n",
       "      <th>2016</th>\n",
       "      <td>Tax</td>\n",
       "      <td>Corporate Income Tax</td>\n",
       "      <td>13602</td>\n",
       "      <td>0.030</td>\n",
       "    </tr>\n",
       "    <tr>\n",
       "      <th>2017</th>\n",
       "      <td>Tax</td>\n",
       "      <td>Corporate Income Tax</td>\n",
       "      <td>14944</td>\n",
       "      <td>0.032</td>\n",
       "    </tr>\n",
       "    <tr>\n",
       "      <th>2018</th>\n",
       "      <td>Tax</td>\n",
       "      <td>Corporate Income Tax</td>\n",
       "      <td>16137</td>\n",
       "      <td>0.033</td>\n",
       "    </tr>\n",
       "    <tr>\n",
       "      <th>2019</th>\n",
       "      <td>Tax</td>\n",
       "      <td>Corporate Income Tax</td>\n",
       "      <td>16722</td>\n",
       "      <td>0.033</td>\n",
       "    </tr>\n",
       "  </tbody>\n",
       "</table>\n",
       "</div>"
      ],
      "text/plain": [
       "               class                  type  amount  percent_of_gdp\n",
       "financial_year                                                    \n",
       "1997            Tax   Corporate Income Tax    6809           0.045\n",
       "1998            Tax   Corporate Income Tax    6256           0.044\n",
       "1999            Tax   Corporate Income Tax    6565           0.044\n",
       "2000            Tax   Corporate Income Tax    8316           0.049\n",
       "2001            Tax   Corporate Income Tax    7821           0.049\n",
       "2002            Tax   Corporate Income Tax    6822           0.041\n",
       "2003            Tax   Corporate Income Tax    5921           0.034\n",
       "2004            Tax   Corporate Income Tax    6107           0.031\n",
       "2005            Tax   Corporate Income Tax    7340           0.034\n",
       "2006            Tax   Corporate Income Tax    8474           0.035\n",
       "2007            Tax   Corporate Income Tax    9250           0.033\n",
       "2008            Tax   Corporate Income Tax   10554           0.039\n",
       "2009            Tax   Corporate Income Tax    9551           0.033\n",
       "2010            Tax   Corporate Income Tax   10687           0.032\n",
       "2011            Tax   Corporate Income Tax   12096           0.034\n",
       "2012            Tax   Corporate Income Tax   12821           0.035\n",
       "2013            Tax   Corporate Income Tax   12680           0.033\n",
       "2014            Tax   Corporate Income Tax   13371           0.033\n",
       "2015            Tax   Corporate Income Tax   13815           0.033\n",
       "2016            Tax   Corporate Income Tax   13602           0.030\n",
       "2017            Tax   Corporate Income Tax   14944           0.032\n",
       "2018            Tax   Corporate Income Tax   16137           0.033\n",
       "2019            Tax   Corporate Income Tax   16722           0.033"
      ]
     },
     "execution_count": 108,
     "metadata": {},
     "output_type": "execute_result"
    }
   ],
   "source": [
    "revenueCIT"
   ]
  },
  {
   "cell_type": "code",
   "execution_count": 249,
   "metadata": {},
   "outputs": [
    {
     "data": {
      "text/html": [
       "<div>\n",
       "<style scoped>\n",
       "    .dataframe tbody tr th:only-of-type {\n",
       "        vertical-align: middle;\n",
       "    }\n",
       "\n",
       "    .dataframe tbody tr th {\n",
       "        vertical-align: top;\n",
       "    }\n",
       "\n",
       "    .dataframe thead th {\n",
       "        text-align: right;\n",
       "    }\n",
       "</style>\n",
       "<table border=\"1\" class=\"dataframe\">\n",
       "  <thead>\n",
       "    <tr style=\"text-align: right;\">\n",
       "      <th></th>\n",
       "      <th>amount</th>\n",
       "      <th>percent_of_gdp</th>\n",
       "    </tr>\n",
       "    <tr>\n",
       "      <th>financial_year</th>\n",
       "      <th></th>\n",
       "      <th></th>\n",
       "    </tr>\n",
       "  </thead>\n",
       "  <tbody>\n",
       "    <tr>\n",
       "      <th>1998</th>\n",
       "      <td>6256</td>\n",
       "      <td>0.044</td>\n",
       "    </tr>\n",
       "    <tr>\n",
       "      <th>1999</th>\n",
       "      <td>6565</td>\n",
       "      <td>0.044</td>\n",
       "    </tr>\n",
       "    <tr>\n",
       "      <th>2000</th>\n",
       "      <td>8316</td>\n",
       "      <td>0.049</td>\n",
       "    </tr>\n",
       "    <tr>\n",
       "      <th>2001</th>\n",
       "      <td>7821</td>\n",
       "      <td>0.049</td>\n",
       "    </tr>\n",
       "    <tr>\n",
       "      <th>2002</th>\n",
       "      <td>6822</td>\n",
       "      <td>0.041</td>\n",
       "    </tr>\n",
       "    <tr>\n",
       "      <th>2003</th>\n",
       "      <td>5921</td>\n",
       "      <td>0.034</td>\n",
       "    </tr>\n",
       "    <tr>\n",
       "      <th>2004</th>\n",
       "      <td>6107</td>\n",
       "      <td>0.031</td>\n",
       "    </tr>\n",
       "    <tr>\n",
       "      <th>2005</th>\n",
       "      <td>7340</td>\n",
       "      <td>0.034</td>\n",
       "    </tr>\n",
       "    <tr>\n",
       "      <th>2006</th>\n",
       "      <td>8474</td>\n",
       "      <td>0.035</td>\n",
       "    </tr>\n",
       "    <tr>\n",
       "      <th>2007</th>\n",
       "      <td>9250</td>\n",
       "      <td>0.033</td>\n",
       "    </tr>\n",
       "    <tr>\n",
       "      <th>2008</th>\n",
       "      <td>10554</td>\n",
       "      <td>0.039</td>\n",
       "    </tr>\n",
       "    <tr>\n",
       "      <th>2009</th>\n",
       "      <td>9551</td>\n",
       "      <td>0.033</td>\n",
       "    </tr>\n",
       "    <tr>\n",
       "      <th>2010</th>\n",
       "      <td>10687</td>\n",
       "      <td>0.032</td>\n",
       "    </tr>\n",
       "    <tr>\n",
       "      <th>2011</th>\n",
       "      <td>12096</td>\n",
       "      <td>0.034</td>\n",
       "    </tr>\n",
       "    <tr>\n",
       "      <th>2012</th>\n",
       "      <td>12821</td>\n",
       "      <td>0.035</td>\n",
       "    </tr>\n",
       "    <tr>\n",
       "      <th>2013</th>\n",
       "      <td>12680</td>\n",
       "      <td>0.033</td>\n",
       "    </tr>\n",
       "    <tr>\n",
       "      <th>2014</th>\n",
       "      <td>13371</td>\n",
       "      <td>0.033</td>\n",
       "    </tr>\n",
       "    <tr>\n",
       "      <th>2015</th>\n",
       "      <td>13815</td>\n",
       "      <td>0.033</td>\n",
       "    </tr>\n",
       "    <tr>\n",
       "      <th>2016</th>\n",
       "      <td>13602</td>\n",
       "      <td>0.030</td>\n",
       "    </tr>\n",
       "    <tr>\n",
       "      <th>2017</th>\n",
       "      <td>14944</td>\n",
       "      <td>0.032</td>\n",
       "    </tr>\n",
       "    <tr>\n",
       "      <th>2018</th>\n",
       "      <td>16137</td>\n",
       "      <td>0.033</td>\n",
       "    </tr>\n",
       "  </tbody>\n",
       "</table>\n",
       "</div>"
      ],
      "text/plain": [
       "                amount  percent_of_gdp\n",
       "financial_year                        \n",
       "1998              6256           0.044\n",
       "1999              6565           0.044\n",
       "2000              8316           0.049\n",
       "2001              7821           0.049\n",
       "2002              6822           0.041\n",
       "2003              5921           0.034\n",
       "2004              6107           0.031\n",
       "2005              7340           0.034\n",
       "2006              8474           0.035\n",
       "2007              9250           0.033\n",
       "2008             10554           0.039\n",
       "2009              9551           0.033\n",
       "2010             10687           0.032\n",
       "2011             12096           0.034\n",
       "2012             12821           0.035\n",
       "2013             12680           0.033\n",
       "2014             13371           0.033\n",
       "2015             13815           0.033\n",
       "2016             13602           0.030\n",
       "2017             14944           0.032\n",
       "2018             16137           0.033"
      ]
     },
     "execution_count": 249,
     "metadata": {},
     "output_type": "execute_result"
    }
   ],
   "source": [
    "revenueCIT.drop(columns = ['class','type'], axis=1).drop(index = [1997,2019])"
   ]
  },
  {
   "cell_type": "code",
   "execution_count": 251,
   "metadata": {},
   "outputs": [
    {
     "data": {
      "text/html": [
       "<div>\n",
       "<style scoped>\n",
       "    .dataframe tbody tr th:only-of-type {\n",
       "        vertical-align: middle;\n",
       "    }\n",
       "\n",
       "    .dataframe tbody tr th {\n",
       "        vertical-align: top;\n",
       "    }\n",
       "\n",
       "    .dataframe thead th {\n",
       "        text-align: right;\n",
       "    }\n",
       "</style>\n",
       "<table border=\"1\" class=\"dataframe\">\n",
       "  <thead>\n",
       "    <tr style=\"text-align: right;\">\n",
       "      <th></th>\n",
       "      <th>amount</th>\n",
       "      <th>percent_of_gdp</th>\n",
       "    </tr>\n",
       "    <tr>\n",
       "      <th>financial_year</th>\n",
       "      <th></th>\n",
       "      <th></th>\n",
       "    </tr>\n",
       "  </thead>\n",
       "  <tbody>\n",
       "    <tr>\n",
       "      <th>1998</th>\n",
       "      <td>6256</td>\n",
       "      <td>0.044</td>\n",
       "    </tr>\n",
       "    <tr>\n",
       "      <th>1999</th>\n",
       "      <td>6565</td>\n",
       "      <td>0.044</td>\n",
       "    </tr>\n",
       "    <tr>\n",
       "      <th>2000</th>\n",
       "      <td>8316</td>\n",
       "      <td>0.049</td>\n",
       "    </tr>\n",
       "    <tr>\n",
       "      <th>2001</th>\n",
       "      <td>7821</td>\n",
       "      <td>0.049</td>\n",
       "    </tr>\n",
       "    <tr>\n",
       "      <th>2002</th>\n",
       "      <td>6822</td>\n",
       "      <td>0.041</td>\n",
       "    </tr>\n",
       "    <tr>\n",
       "      <th>2003</th>\n",
       "      <td>5921</td>\n",
       "      <td>0.034</td>\n",
       "    </tr>\n",
       "    <tr>\n",
       "      <th>2004</th>\n",
       "      <td>6107</td>\n",
       "      <td>0.031</td>\n",
       "    </tr>\n",
       "    <tr>\n",
       "      <th>2005</th>\n",
       "      <td>7340</td>\n",
       "      <td>0.034</td>\n",
       "    </tr>\n",
       "    <tr>\n",
       "      <th>2006</th>\n",
       "      <td>8474</td>\n",
       "      <td>0.035</td>\n",
       "    </tr>\n",
       "    <tr>\n",
       "      <th>2007</th>\n",
       "      <td>9250</td>\n",
       "      <td>0.033</td>\n",
       "    </tr>\n",
       "    <tr>\n",
       "      <th>2008</th>\n",
       "      <td>10554</td>\n",
       "      <td>0.039</td>\n",
       "    </tr>\n",
       "    <tr>\n",
       "      <th>2009</th>\n",
       "      <td>9551</td>\n",
       "      <td>0.033</td>\n",
       "    </tr>\n",
       "    <tr>\n",
       "      <th>2010</th>\n",
       "      <td>10687</td>\n",
       "      <td>0.032</td>\n",
       "    </tr>\n",
       "    <tr>\n",
       "      <th>2011</th>\n",
       "      <td>12096</td>\n",
       "      <td>0.034</td>\n",
       "    </tr>\n",
       "    <tr>\n",
       "      <th>2012</th>\n",
       "      <td>12821</td>\n",
       "      <td>0.035</td>\n",
       "    </tr>\n",
       "    <tr>\n",
       "      <th>2013</th>\n",
       "      <td>12680</td>\n",
       "      <td>0.033</td>\n",
       "    </tr>\n",
       "    <tr>\n",
       "      <th>2014</th>\n",
       "      <td>13371</td>\n",
       "      <td>0.033</td>\n",
       "    </tr>\n",
       "    <tr>\n",
       "      <th>2015</th>\n",
       "      <td>13815</td>\n",
       "      <td>0.033</td>\n",
       "    </tr>\n",
       "    <tr>\n",
       "      <th>2016</th>\n",
       "      <td>13602</td>\n",
       "      <td>0.030</td>\n",
       "    </tr>\n",
       "    <tr>\n",
       "      <th>2017</th>\n",
       "      <td>14944</td>\n",
       "      <td>0.032</td>\n",
       "    </tr>\n",
       "    <tr>\n",
       "      <th>2018</th>\n",
       "      <td>16137</td>\n",
       "      <td>0.033</td>\n",
       "    </tr>\n",
       "  </tbody>\n",
       "</table>\n",
       "</div>"
      ],
      "text/plain": [
       "                amount  percent_of_gdp\n",
       "financial_year                        \n",
       "1998              6256           0.044\n",
       "1999              6565           0.044\n",
       "2000              8316           0.049\n",
       "2001              7821           0.049\n",
       "2002              6822           0.041\n",
       "2003              5921           0.034\n",
       "2004              6107           0.031\n",
       "2005              7340           0.034\n",
       "2006              8474           0.035\n",
       "2007              9250           0.033\n",
       "2008             10554           0.039\n",
       "2009              9551           0.033\n",
       "2010             10687           0.032\n",
       "2011             12096           0.034\n",
       "2012             12821           0.035\n",
       "2013             12680           0.033\n",
       "2014             13371           0.033\n",
       "2015             13815           0.033\n",
       "2016             13602           0.030\n",
       "2017             14944           0.032\n",
       "2018             16137           0.033"
      ]
     },
     "execution_count": 251,
     "metadata": {},
     "output_type": "execute_result"
    }
   ],
   "source": [
    "revenueCIT.drop(columns = ['class','type'], index = [1997,2019])\n"
   ]
  },
  {
   "cell_type": "code",
   "execution_count": 255,
   "metadata": {},
   "outputs": [],
   "source": [
    "revenueCIT = pd.read_csv('data/revenueCIT.csv')\n",
    "# revenueCIT"
   ]
  },
  {
   "cell_type": "code",
   "execution_count": 254,
   "metadata": {},
   "outputs": [
    {
     "data": {
      "text/html": [
       "<div>\n",
       "<style scoped>\n",
       "    .dataframe tbody tr th:only-of-type {\n",
       "        vertical-align: middle;\n",
       "    }\n",
       "\n",
       "    .dataframe tbody tr th {\n",
       "        vertical-align: top;\n",
       "    }\n",
       "\n",
       "    .dataframe thead th {\n",
       "        text-align: right;\n",
       "    }\n",
       "</style>\n",
       "<table border=\"1\" class=\"dataframe\">\n",
       "  <thead>\n",
       "    <tr style=\"text-align: right;\">\n",
       "      <th></th>\n",
       "      <th>financial_year</th>\n",
       "      <th>actual_revised_estimated</th>\n",
       "      <th>class</th>\n",
       "      <th>type</th>\n",
       "      <th>amount</th>\n",
       "      <th>percent_of_gdp</th>\n",
       "    </tr>\n",
       "  </thead>\n",
       "  <tbody>\n",
       "    <tr>\n",
       "      <th>1</th>\n",
       "      <td>1998</td>\n",
       "      <td>Actual</td>\n",
       "      <td>Tax</td>\n",
       "      <td>Corporate Income Tax</td>\n",
       "      <td>6256</td>\n",
       "      <td>0.044</td>\n",
       "    </tr>\n",
       "    <tr>\n",
       "      <th>2</th>\n",
       "      <td>1999</td>\n",
       "      <td>Actual</td>\n",
       "      <td>Tax</td>\n",
       "      <td>Corporate Income Tax</td>\n",
       "      <td>6565</td>\n",
       "      <td>0.044</td>\n",
       "    </tr>\n",
       "    <tr>\n",
       "      <th>3</th>\n",
       "      <td>2000</td>\n",
       "      <td>Actual</td>\n",
       "      <td>Tax</td>\n",
       "      <td>Corporate Income Tax</td>\n",
       "      <td>8316</td>\n",
       "      <td>0.049</td>\n",
       "    </tr>\n",
       "    <tr>\n",
       "      <th>4</th>\n",
       "      <td>2001</td>\n",
       "      <td>Actual</td>\n",
       "      <td>Tax</td>\n",
       "      <td>Corporate Income Tax</td>\n",
       "      <td>7821</td>\n",
       "      <td>0.049</td>\n",
       "    </tr>\n",
       "    <tr>\n",
       "      <th>5</th>\n",
       "      <td>2002</td>\n",
       "      <td>Actual</td>\n",
       "      <td>Tax</td>\n",
       "      <td>Corporate Income Tax</td>\n",
       "      <td>6822</td>\n",
       "      <td>0.041</td>\n",
       "    </tr>\n",
       "    <tr>\n",
       "      <th>6</th>\n",
       "      <td>2003</td>\n",
       "      <td>Actual</td>\n",
       "      <td>Tax</td>\n",
       "      <td>Corporate Income Tax</td>\n",
       "      <td>5921</td>\n",
       "      <td>0.034</td>\n",
       "    </tr>\n",
       "    <tr>\n",
       "      <th>7</th>\n",
       "      <td>2004</td>\n",
       "      <td>Actual</td>\n",
       "      <td>Tax</td>\n",
       "      <td>Corporate Income Tax</td>\n",
       "      <td>6107</td>\n",
       "      <td>0.031</td>\n",
       "    </tr>\n",
       "    <tr>\n",
       "      <th>8</th>\n",
       "      <td>2005</td>\n",
       "      <td>Actual</td>\n",
       "      <td>Tax</td>\n",
       "      <td>Corporate Income Tax</td>\n",
       "      <td>7340</td>\n",
       "      <td>0.034</td>\n",
       "    </tr>\n",
       "    <tr>\n",
       "      <th>9</th>\n",
       "      <td>2006</td>\n",
       "      <td>Actual</td>\n",
       "      <td>Tax</td>\n",
       "      <td>Corporate Income Tax</td>\n",
       "      <td>8474</td>\n",
       "      <td>0.035</td>\n",
       "    </tr>\n",
       "    <tr>\n",
       "      <th>10</th>\n",
       "      <td>2007</td>\n",
       "      <td>Actual</td>\n",
       "      <td>Tax</td>\n",
       "      <td>Corporate Income Tax</td>\n",
       "      <td>9250</td>\n",
       "      <td>0.033</td>\n",
       "    </tr>\n",
       "    <tr>\n",
       "      <th>11</th>\n",
       "      <td>2008</td>\n",
       "      <td>Actual</td>\n",
       "      <td>Tax</td>\n",
       "      <td>Corporate Income Tax</td>\n",
       "      <td>10554</td>\n",
       "      <td>0.039</td>\n",
       "    </tr>\n",
       "    <tr>\n",
       "      <th>12</th>\n",
       "      <td>2009</td>\n",
       "      <td>Actual</td>\n",
       "      <td>Tax</td>\n",
       "      <td>Corporate Income Tax</td>\n",
       "      <td>9551</td>\n",
       "      <td>0.033</td>\n",
       "    </tr>\n",
       "    <tr>\n",
       "      <th>13</th>\n",
       "      <td>2010</td>\n",
       "      <td>Actual</td>\n",
       "      <td>Tax</td>\n",
       "      <td>Corporate Income Tax</td>\n",
       "      <td>10687</td>\n",
       "      <td>0.032</td>\n",
       "    </tr>\n",
       "    <tr>\n",
       "      <th>14</th>\n",
       "      <td>2011</td>\n",
       "      <td>Actual</td>\n",
       "      <td>Tax</td>\n",
       "      <td>Corporate Income Tax</td>\n",
       "      <td>12096</td>\n",
       "      <td>0.034</td>\n",
       "    </tr>\n",
       "    <tr>\n",
       "      <th>15</th>\n",
       "      <td>2012</td>\n",
       "      <td>Actual</td>\n",
       "      <td>Tax</td>\n",
       "      <td>Corporate Income Tax</td>\n",
       "      <td>12821</td>\n",
       "      <td>0.035</td>\n",
       "    </tr>\n",
       "    <tr>\n",
       "      <th>16</th>\n",
       "      <td>2013</td>\n",
       "      <td>Actual</td>\n",
       "      <td>Tax</td>\n",
       "      <td>Corporate Income Tax</td>\n",
       "      <td>12680</td>\n",
       "      <td>0.033</td>\n",
       "    </tr>\n",
       "    <tr>\n",
       "      <th>17</th>\n",
       "      <td>2014</td>\n",
       "      <td>Actual</td>\n",
       "      <td>Tax</td>\n",
       "      <td>Corporate Income Tax</td>\n",
       "      <td>13371</td>\n",
       "      <td>0.033</td>\n",
       "    </tr>\n",
       "    <tr>\n",
       "      <th>18</th>\n",
       "      <td>2015</td>\n",
       "      <td>Actual</td>\n",
       "      <td>Tax</td>\n",
       "      <td>Corporate Income Tax</td>\n",
       "      <td>13815</td>\n",
       "      <td>0.033</td>\n",
       "    </tr>\n",
       "    <tr>\n",
       "      <th>19</th>\n",
       "      <td>2016</td>\n",
       "      <td>Actual</td>\n",
       "      <td>Tax</td>\n",
       "      <td>Corporate Income Tax</td>\n",
       "      <td>13602</td>\n",
       "      <td>0.030</td>\n",
       "    </tr>\n",
       "    <tr>\n",
       "      <th>21</th>\n",
       "      <td>2018</td>\n",
       "      <td>Revised</td>\n",
       "      <td>Tax</td>\n",
       "      <td>Corporate Income Tax</td>\n",
       "      <td>16137</td>\n",
       "      <td>0.033</td>\n",
       "    </tr>\n",
       "    <tr>\n",
       "      <th>22</th>\n",
       "      <td>2019</td>\n",
       "      <td>Estimated</td>\n",
       "      <td>Tax</td>\n",
       "      <td>Corporate Income Tax</td>\n",
       "      <td>16722</td>\n",
       "      <td>0.033</td>\n",
       "    </tr>\n",
       "  </tbody>\n",
       "</table>\n",
       "</div>"
      ],
      "text/plain": [
       "    financial_year actual_revised_estimated class                  type  \\\n",
       "1             1998                   Actual  Tax   Corporate Income Tax   \n",
       "2             1999                   Actual  Tax   Corporate Income Tax   \n",
       "3             2000                   Actual  Tax   Corporate Income Tax   \n",
       "4             2001                   Actual  Tax   Corporate Income Tax   \n",
       "5             2002                   Actual  Tax   Corporate Income Tax   \n",
       "6             2003                   Actual  Tax   Corporate Income Tax   \n",
       "7             2004                   Actual  Tax   Corporate Income Tax   \n",
       "8             2005                   Actual  Tax   Corporate Income Tax   \n",
       "9             2006                   Actual  Tax   Corporate Income Tax   \n",
       "10            2007                   Actual  Tax   Corporate Income Tax   \n",
       "11            2008                   Actual  Tax   Corporate Income Tax   \n",
       "12            2009                   Actual  Tax   Corporate Income Tax   \n",
       "13            2010                   Actual  Tax   Corporate Income Tax   \n",
       "14            2011                   Actual  Tax   Corporate Income Tax   \n",
       "15            2012                   Actual  Tax   Corporate Income Tax   \n",
       "16            2013                   Actual  Tax   Corporate Income Tax   \n",
       "17            2014                   Actual  Tax   Corporate Income Tax   \n",
       "18            2015                   Actual  Tax   Corporate Income Tax   \n",
       "19            2016                   Actual  Tax   Corporate Income Tax   \n",
       "21            2018                  Revised  Tax   Corporate Income Tax   \n",
       "22            2019                Estimated  Tax   Corporate Income Tax   \n",
       "\n",
       "    amount  percent_of_gdp  \n",
       "1     6256           0.044  \n",
       "2     6565           0.044  \n",
       "3     8316           0.049  \n",
       "4     7821           0.049  \n",
       "5     6822           0.041  \n",
       "6     5921           0.034  \n",
       "7     6107           0.031  \n",
       "8     7340           0.034  \n",
       "9     8474           0.035  \n",
       "10    9250           0.033  \n",
       "11   10554           0.039  \n",
       "12    9551           0.033  \n",
       "13   10687           0.032  \n",
       "14   12096           0.034  \n",
       "15   12821           0.035  \n",
       "16   12680           0.033  \n",
       "17   13371           0.033  \n",
       "18   13815           0.033  \n",
       "19   13602           0.030  \n",
       "21   16137           0.033  \n",
       "22   16722           0.033  "
      ]
     },
     "execution_count": 254,
     "metadata": {},
     "output_type": "execute_result"
    }
   ],
   "source": [
    "revenueCIT[~(revenueCIT['financial_year'].isin([1997, 2017]))]"
   ]
  },
  {
   "cell_type": "markdown",
   "metadata": {},
   "source": [
    "## Joining Data"
   ]
  },
  {
   "cell_type": "markdown",
   "metadata": {},
   "source": [
    "### Append"
   ]
  },
  {
   "cell_type": "code",
   "execution_count": 145,
   "metadata": {},
   "outputs": [
    {
     "data": {
      "text/html": [
       "<div>\n",
       "<style scoped>\n",
       "    .dataframe tbody tr th:only-of-type {\n",
       "        vertical-align: middle;\n",
       "    }\n",
       "\n",
       "    .dataframe tbody tr th {\n",
       "        vertical-align: top;\n",
       "    }\n",
       "\n",
       "    .dataframe thead th {\n",
       "        text-align: right;\n",
       "    }\n",
       "</style>\n",
       "<table border=\"1\" class=\"dataframe\">\n",
       "  <thead>\n",
       "    <tr style=\"text-align: right;\">\n",
       "      <th></th>\n",
       "      <th>financial_year</th>\n",
       "      <th>application_type</th>\n",
       "      <th>no_of_applications</th>\n",
       "    </tr>\n",
       "  </thead>\n",
       "  <tbody>\n",
       "    <tr>\n",
       "      <th>0</th>\n",
       "      <td>2017</td>\n",
       "      <td>new flat buyers</td>\n",
       "      <td>2235</td>\n",
       "    </tr>\n",
       "    <tr>\n",
       "      <th>1</th>\n",
       "      <td>2017</td>\n",
       "      <td>resale flat buyers</td>\n",
       "      <td>8563</td>\n",
       "    </tr>\n",
       "    <tr>\n",
       "      <th>2</th>\n",
       "      <td>2017</td>\n",
       "      <td>existing flat owners (refinance)</td>\n",
       "      <td>1020</td>\n",
       "    </tr>\n",
       "    <tr>\n",
       "      <th>3</th>\n",
       "      <td>2017</td>\n",
       "      <td>DBSS flat buyers</td>\n",
       "      <td>7</td>\n",
       "    </tr>\n",
       "  </tbody>\n",
       "</table>\n",
       "</div>"
      ],
      "text/plain": [
       "   financial_year                  application_type  no_of_applications\n",
       "0            2017                   new flat buyers                2235\n",
       "1            2017                resale flat buyers                8563\n",
       "2            2017  existing flat owners (refinance)                1020\n",
       "3            2017                  DBSS flat buyers                   7"
      ]
     },
     "execution_count": 145,
     "metadata": {},
     "output_type": "execute_result"
    }
   ],
   "source": [
    "loan2017 = pd.read_csv('data/loan2017.csv')\n",
    "loan2017"
   ]
  },
  {
   "cell_type": "code",
   "execution_count": 146,
   "metadata": {},
   "outputs": [
    {
     "data": {
      "text/html": [
       "<div>\n",
       "<style scoped>\n",
       "    .dataframe tbody tr th:only-of-type {\n",
       "        vertical-align: middle;\n",
       "    }\n",
       "\n",
       "    .dataframe tbody tr th {\n",
       "        vertical-align: top;\n",
       "    }\n",
       "\n",
       "    .dataframe thead th {\n",
       "        text-align: right;\n",
       "    }\n",
       "</style>\n",
       "<table border=\"1\" class=\"dataframe\">\n",
       "  <thead>\n",
       "    <tr style=\"text-align: right;\">\n",
       "      <th></th>\n",
       "      <th>financial_year</th>\n",
       "      <th>application_type</th>\n",
       "      <th>no_of_applications</th>\n",
       "    </tr>\n",
       "  </thead>\n",
       "  <tbody>\n",
       "    <tr>\n",
       "      <th>0</th>\n",
       "      <td>2016</td>\n",
       "      <td>new flat buyers</td>\n",
       "      <td>1840</td>\n",
       "    </tr>\n",
       "    <tr>\n",
       "      <th>1</th>\n",
       "      <td>2016</td>\n",
       "      <td>resale flat buyers</td>\n",
       "      <td>8207</td>\n",
       "    </tr>\n",
       "    <tr>\n",
       "      <th>2</th>\n",
       "      <td>2016</td>\n",
       "      <td>existing flat owners (refinance)</td>\n",
       "      <td>326</td>\n",
       "    </tr>\n",
       "  </tbody>\n",
       "</table>\n",
       "</div>"
      ],
      "text/plain": [
       "   financial_year                  application_type  no_of_applications\n",
       "0            2016                   new flat buyers                1840\n",
       "1            2016                resale flat buyers                8207\n",
       "2            2016  existing flat owners (refinance)                 326"
      ]
     },
     "execution_count": 146,
     "metadata": {},
     "output_type": "execute_result"
    }
   ],
   "source": [
    "loan2016 = pd.read_csv('data/loan2016.csv')\n",
    "loan2016"
   ]
  },
  {
   "cell_type": "code",
   "execution_count": 147,
   "metadata": {},
   "outputs": [
    {
     "data": {
      "text/html": [
       "<div>\n",
       "<style scoped>\n",
       "    .dataframe tbody tr th:only-of-type {\n",
       "        vertical-align: middle;\n",
       "    }\n",
       "\n",
       "    .dataframe tbody tr th {\n",
       "        vertical-align: top;\n",
       "    }\n",
       "\n",
       "    .dataframe thead th {\n",
       "        text-align: right;\n",
       "    }\n",
       "</style>\n",
       "<table border=\"1\" class=\"dataframe\">\n",
       "  <thead>\n",
       "    <tr style=\"text-align: right;\">\n",
       "      <th></th>\n",
       "      <th>financial_year</th>\n",
       "      <th>application_type</th>\n",
       "      <th>no_of_applications</th>\n",
       "    </tr>\n",
       "  </thead>\n",
       "  <tbody>\n",
       "    <tr>\n",
       "      <th>0</th>\n",
       "      <td>2016</td>\n",
       "      <td>new flat buyers</td>\n",
       "      <td>1840</td>\n",
       "    </tr>\n",
       "    <tr>\n",
       "      <th>1</th>\n",
       "      <td>2016</td>\n",
       "      <td>resale flat buyers</td>\n",
       "      <td>8207</td>\n",
       "    </tr>\n",
       "    <tr>\n",
       "      <th>2</th>\n",
       "      <td>2016</td>\n",
       "      <td>existing flat owners (refinance)</td>\n",
       "      <td>326</td>\n",
       "    </tr>\n",
       "    <tr>\n",
       "      <th>0</th>\n",
       "      <td>2017</td>\n",
       "      <td>new flat buyers</td>\n",
       "      <td>2235</td>\n",
       "    </tr>\n",
       "    <tr>\n",
       "      <th>1</th>\n",
       "      <td>2017</td>\n",
       "      <td>resale flat buyers</td>\n",
       "      <td>8563</td>\n",
       "    </tr>\n",
       "    <tr>\n",
       "      <th>2</th>\n",
       "      <td>2017</td>\n",
       "      <td>existing flat owners (refinance)</td>\n",
       "      <td>1020</td>\n",
       "    </tr>\n",
       "    <tr>\n",
       "      <th>3</th>\n",
       "      <td>2017</td>\n",
       "      <td>DBSS flat buyers</td>\n",
       "      <td>7</td>\n",
       "    </tr>\n",
       "  </tbody>\n",
       "</table>\n",
       "</div>"
      ],
      "text/plain": [
       "   financial_year                  application_type  no_of_applications\n",
       "0            2016                   new flat buyers                1840\n",
       "1            2016                resale flat buyers                8207\n",
       "2            2016  existing flat owners (refinance)                 326\n",
       "0            2017                   new flat buyers                2235\n",
       "1            2017                resale flat buyers                8563\n",
       "2            2017  existing flat owners (refinance)                1020\n",
       "3            2017                  DBSS flat buyers                   7"
      ]
     },
     "execution_count": 147,
     "metadata": {},
     "output_type": "execute_result"
    }
   ],
   "source": [
    "loan2016.append(loan2017)"
   ]
  },
  {
   "cell_type": "code",
   "execution_count": 148,
   "metadata": {},
   "outputs": [
    {
     "data": {
      "text/html": [
       "<div>\n",
       "<style scoped>\n",
       "    .dataframe tbody tr th:only-of-type {\n",
       "        vertical-align: middle;\n",
       "    }\n",
       "\n",
       "    .dataframe tbody tr th {\n",
       "        vertical-align: top;\n",
       "    }\n",
       "\n",
       "    .dataframe thead th {\n",
       "        text-align: right;\n",
       "    }\n",
       "</style>\n",
       "<table border=\"1\" class=\"dataframe\">\n",
       "  <thead>\n",
       "    <tr style=\"text-align: right;\">\n",
       "      <th></th>\n",
       "      <th>financial_year</th>\n",
       "      <th>application_type</th>\n",
       "      <th>no_of_applications</th>\n",
       "    </tr>\n",
       "  </thead>\n",
       "  <tbody>\n",
       "    <tr>\n",
       "      <th>0</th>\n",
       "      <td>2016</td>\n",
       "      <td>new flat buyers</td>\n",
       "      <td>1840</td>\n",
       "    </tr>\n",
       "    <tr>\n",
       "      <th>1</th>\n",
       "      <td>2016</td>\n",
       "      <td>resale flat buyers</td>\n",
       "      <td>8207</td>\n",
       "    </tr>\n",
       "    <tr>\n",
       "      <th>2</th>\n",
       "      <td>2016</td>\n",
       "      <td>existing flat owners (refinance)</td>\n",
       "      <td>326</td>\n",
       "    </tr>\n",
       "    <tr>\n",
       "      <th>3</th>\n",
       "      <td>2017</td>\n",
       "      <td>new flat buyers</td>\n",
       "      <td>2235</td>\n",
       "    </tr>\n",
       "    <tr>\n",
       "      <th>4</th>\n",
       "      <td>2017</td>\n",
       "      <td>resale flat buyers</td>\n",
       "      <td>8563</td>\n",
       "    </tr>\n",
       "    <tr>\n",
       "      <th>5</th>\n",
       "      <td>2017</td>\n",
       "      <td>existing flat owners (refinance)</td>\n",
       "      <td>1020</td>\n",
       "    </tr>\n",
       "    <tr>\n",
       "      <th>6</th>\n",
       "      <td>2017</td>\n",
       "      <td>DBSS flat buyers</td>\n",
       "      <td>7</td>\n",
       "    </tr>\n",
       "  </tbody>\n",
       "</table>\n",
       "</div>"
      ],
      "text/plain": [
       "   financial_year                  application_type  no_of_applications\n",
       "0            2016                   new flat buyers                1840\n",
       "1            2016                resale flat buyers                8207\n",
       "2            2016  existing flat owners (refinance)                 326\n",
       "3            2017                   new flat buyers                2235\n",
       "4            2017                resale flat buyers                8563\n",
       "5            2017  existing flat owners (refinance)                1020\n",
       "6            2017                  DBSS flat buyers                   7"
      ]
     },
     "execution_count": 148,
     "metadata": {},
     "output_type": "execute_result"
    }
   ],
   "source": [
    "loan2016.append(loan2017, ignore_index=True)"
   ]
  },
  {
   "cell_type": "markdown",
   "metadata": {},
   "source": [
    "### Exercise"
   ]
  },
  {
   "cell_type": "code",
   "execution_count": 149,
   "metadata": {},
   "outputs": [],
   "source": [
    "revenue = pd.read_csv('data/revenue.csv')\n",
    "# revenue"
   ]
  },
  {
   "cell_type": "code",
   "execution_count": 151,
   "metadata": {},
   "outputs": [],
   "source": [
    "CIT = revenue[revenue['type'] == 'Corporate Income Tax']"
   ]
  },
  {
   "cell_type": "code",
   "execution_count": 152,
   "metadata": {},
   "outputs": [],
   "source": [
    "PIT = revenue[revenue['type'] == 'Personal Income Tax']"
   ]
  },
  {
   "cell_type": "code",
   "execution_count": 153,
   "metadata": {},
   "outputs": [],
   "source": [
    "CIT_PIT = CIT.append(PIT)\n",
    "# CIT_PIT"
   ]
  },
  {
   "cell_type": "markdown",
   "metadata": {},
   "source": [
    "### Concat"
   ]
  },
  {
   "cell_type": "code",
   "execution_count": 154,
   "metadata": {},
   "outputs": [
    {
     "data": {
      "text/html": [
       "<div>\n",
       "<style scoped>\n",
       "    .dataframe tbody tr th:only-of-type {\n",
       "        vertical-align: middle;\n",
       "    }\n",
       "\n",
       "    .dataframe tbody tr th {\n",
       "        vertical-align: top;\n",
       "    }\n",
       "\n",
       "    .dataframe thead th {\n",
       "        text-align: right;\n",
       "    }\n",
       "</style>\n",
       "<table border=\"1\" class=\"dataframe\">\n",
       "  <thead>\n",
       "    <tr style=\"text-align: right;\">\n",
       "      <th></th>\n",
       "      <th>financial_year</th>\n",
       "      <th>application_type</th>\n",
       "      <th>no_of_applications</th>\n",
       "    </tr>\n",
       "  </thead>\n",
       "  <tbody>\n",
       "    <tr>\n",
       "      <th>0</th>\n",
       "      <td>2016</td>\n",
       "      <td>new flat buyers</td>\n",
       "      <td>1840</td>\n",
       "    </tr>\n",
       "    <tr>\n",
       "      <th>1</th>\n",
       "      <td>2016</td>\n",
       "      <td>resale flat buyers</td>\n",
       "      <td>8207</td>\n",
       "    </tr>\n",
       "    <tr>\n",
       "      <th>2</th>\n",
       "      <td>2016</td>\n",
       "      <td>existing flat owners (refinance)</td>\n",
       "      <td>326</td>\n",
       "    </tr>\n",
       "    <tr>\n",
       "      <th>0</th>\n",
       "      <td>2017</td>\n",
       "      <td>new flat buyers</td>\n",
       "      <td>2235</td>\n",
       "    </tr>\n",
       "    <tr>\n",
       "      <th>1</th>\n",
       "      <td>2017</td>\n",
       "      <td>resale flat buyers</td>\n",
       "      <td>8563</td>\n",
       "    </tr>\n",
       "    <tr>\n",
       "      <th>2</th>\n",
       "      <td>2017</td>\n",
       "      <td>existing flat owners (refinance)</td>\n",
       "      <td>1020</td>\n",
       "    </tr>\n",
       "    <tr>\n",
       "      <th>3</th>\n",
       "      <td>2017</td>\n",
       "      <td>DBSS flat buyers</td>\n",
       "      <td>7</td>\n",
       "    </tr>\n",
       "  </tbody>\n",
       "</table>\n",
       "</div>"
      ],
      "text/plain": [
       "   financial_year                  application_type  no_of_applications\n",
       "0            2016                   new flat buyers                1840\n",
       "1            2016                resale flat buyers                8207\n",
       "2            2016  existing flat owners (refinance)                 326\n",
       "0            2017                   new flat buyers                2235\n",
       "1            2017                resale flat buyers                8563\n",
       "2            2017  existing flat owners (refinance)                1020\n",
       "3            2017                  DBSS flat buyers                   7"
      ]
     },
     "execution_count": 154,
     "metadata": {},
     "output_type": "execute_result"
    }
   ],
   "source": [
    "pd.concat([loan2016,loan2017],axis=0)"
   ]
  },
  {
   "cell_type": "code",
   "execution_count": 155,
   "metadata": {},
   "outputs": [
    {
     "data": {
      "text/html": [
       "<div>\n",
       "<style scoped>\n",
       "    .dataframe tbody tr th:only-of-type {\n",
       "        vertical-align: middle;\n",
       "    }\n",
       "\n",
       "    .dataframe tbody tr th {\n",
       "        vertical-align: top;\n",
       "    }\n",
       "\n",
       "    .dataframe thead th {\n",
       "        text-align: right;\n",
       "    }\n",
       "</style>\n",
       "<table border=\"1\" class=\"dataframe\">\n",
       "  <thead>\n",
       "    <tr style=\"text-align: right;\">\n",
       "      <th></th>\n",
       "      <th>financial_year</th>\n",
       "      <th>application_type</th>\n",
       "      <th>no_of_applications</th>\n",
       "      <th>financial_year</th>\n",
       "      <th>application_type</th>\n",
       "      <th>no_of_applications</th>\n",
       "    </tr>\n",
       "  </thead>\n",
       "  <tbody>\n",
       "    <tr>\n",
       "      <th>0</th>\n",
       "      <td>2016.0</td>\n",
       "      <td>new flat buyers</td>\n",
       "      <td>1840.0</td>\n",
       "      <td>2017</td>\n",
       "      <td>new flat buyers</td>\n",
       "      <td>2235</td>\n",
       "    </tr>\n",
       "    <tr>\n",
       "      <th>1</th>\n",
       "      <td>2016.0</td>\n",
       "      <td>resale flat buyers</td>\n",
       "      <td>8207.0</td>\n",
       "      <td>2017</td>\n",
       "      <td>resale flat buyers</td>\n",
       "      <td>8563</td>\n",
       "    </tr>\n",
       "    <tr>\n",
       "      <th>2</th>\n",
       "      <td>2016.0</td>\n",
       "      <td>existing flat owners (refinance)</td>\n",
       "      <td>326.0</td>\n",
       "      <td>2017</td>\n",
       "      <td>existing flat owners (refinance)</td>\n",
       "      <td>1020</td>\n",
       "    </tr>\n",
       "    <tr>\n",
       "      <th>3</th>\n",
       "      <td>NaN</td>\n",
       "      <td>NaN</td>\n",
       "      <td>NaN</td>\n",
       "      <td>2017</td>\n",
       "      <td>DBSS flat buyers</td>\n",
       "      <td>7</td>\n",
       "    </tr>\n",
       "  </tbody>\n",
       "</table>\n",
       "</div>"
      ],
      "text/plain": [
       "   financial_year                  application_type  no_of_applications  \\\n",
       "0          2016.0                   new flat buyers              1840.0   \n",
       "1          2016.0                resale flat buyers              8207.0   \n",
       "2          2016.0  existing flat owners (refinance)               326.0   \n",
       "3             NaN                               NaN                 NaN   \n",
       "\n",
       "   financial_year                  application_type  no_of_applications  \n",
       "0            2017                   new flat buyers                2235  \n",
       "1            2017                resale flat buyers                8563  \n",
       "2            2017  existing flat owners (refinance)                1020  \n",
       "3            2017                  DBSS flat buyers                   7  "
      ]
     },
     "execution_count": 155,
     "metadata": {},
     "output_type": "execute_result"
    }
   ],
   "source": [
    "pd.concat([loan2016,loan2017],axis=1)"
   ]
  },
  {
   "cell_type": "code",
   "execution_count": 120,
   "metadata": {},
   "outputs": [
    {
     "data": {
      "text/html": [
       "<div>\n",
       "<style scoped>\n",
       "    .dataframe tbody tr th:only-of-type {\n",
       "        vertical-align: middle;\n",
       "    }\n",
       "\n",
       "    .dataframe tbody tr th {\n",
       "        vertical-align: top;\n",
       "    }\n",
       "\n",
       "    .dataframe thead th {\n",
       "        text-align: right;\n",
       "    }\n",
       "</style>\n",
       "<table border=\"1\" class=\"dataframe\">\n",
       "  <thead>\n",
       "    <tr style=\"text-align: right;\">\n",
       "      <th></th>\n",
       "      <th>financial_year</th>\n",
       "      <th>application_type</th>\n",
       "      <th>no_of_applications</th>\n",
       "      <th>financial_year</th>\n",
       "      <th>application_type</th>\n",
       "      <th>no_of_applications</th>\n",
       "    </tr>\n",
       "  </thead>\n",
       "  <tbody>\n",
       "    <tr>\n",
       "      <th>0</th>\n",
       "      <td>2016</td>\n",
       "      <td>new flat buyers</td>\n",
       "      <td>1840</td>\n",
       "      <td>2016</td>\n",
       "      <td>new flat buyers</td>\n",
       "      <td>1840</td>\n",
       "    </tr>\n",
       "    <tr>\n",
       "      <th>1</th>\n",
       "      <td>2016</td>\n",
       "      <td>resale flat buyers</td>\n",
       "      <td>8207</td>\n",
       "      <td>2016</td>\n",
       "      <td>resale flat buyers</td>\n",
       "      <td>8207</td>\n",
       "    </tr>\n",
       "    <tr>\n",
       "      <th>2</th>\n",
       "      <td>2016</td>\n",
       "      <td>existing flat owners (refinance)</td>\n",
       "      <td>326</td>\n",
       "      <td>2016</td>\n",
       "      <td>existing flat owners (refinance)</td>\n",
       "      <td>326</td>\n",
       "    </tr>\n",
       "  </tbody>\n",
       "</table>\n",
       "</div>"
      ],
      "text/plain": [
       "   financial_year                  application_type  no_of_applications  \\\n",
       "0            2016                   new flat buyers                1840   \n",
       "1            2016                resale flat buyers                8207   \n",
       "2            2016  existing flat owners (refinance)                 326   \n",
       "\n",
       "   financial_year                  application_type  no_of_applications  \n",
       "0            2016                   new flat buyers                1840  \n",
       "1            2016                resale flat buyers                8207  \n",
       "2            2016  existing flat owners (refinance)                 326  "
      ]
     },
     "execution_count": 120,
     "metadata": {},
     "output_type": "execute_result"
    }
   ],
   "source": [
    "pd.concat([loan2016, loan2016], axis = 1)"
   ]
  },
  {
   "cell_type": "markdown",
   "metadata": {},
   "source": [
    "### Exercise"
   ]
  },
  {
   "cell_type": "code",
   "execution_count": 156,
   "metadata": {},
   "outputs": [],
   "source": [
    "AT = revenue[revenue['type'] == 'Assets Taxes']\n",
    "GST = revenue[revenue['type'] == 'Goods and Services Tax']"
   ]
  },
  {
   "cell_type": "code",
   "execution_count": 157,
   "metadata": {},
   "outputs": [],
   "source": [
    "CIT_AT_GST = pd.concat([CIT, AT, GST])\n",
    "# CIT_AT_GST"
   ]
  },
  {
   "cell_type": "markdown",
   "metadata": {},
   "source": [
    "### Merge"
   ]
  },
  {
   "cell_type": "code",
   "execution_count": 272,
   "metadata": {},
   "outputs": [
    {
     "data": {
      "text/html": [
       "<div>\n",
       "<style scoped>\n",
       "    .dataframe tbody tr th:only-of-type {\n",
       "        vertical-align: middle;\n",
       "    }\n",
       "\n",
       "    .dataframe tbody tr th {\n",
       "        vertical-align: top;\n",
       "    }\n",
       "\n",
       "    .dataframe thead th {\n",
       "        text-align: right;\n",
       "    }\n",
       "</style>\n",
       "<table border=\"1\" class=\"dataframe\">\n",
       "  <thead>\n",
       "    <tr style=\"text-align: right;\">\n",
       "      <th></th>\n",
       "      <th>financial_year</th>\n",
       "      <th>application_type</th>\n",
       "      <th>no_of_applications</th>\n",
       "    </tr>\n",
       "  </thead>\n",
       "  <tbody>\n",
       "    <tr>\n",
       "      <th>0</th>\n",
       "      <td>2017</td>\n",
       "      <td>new flat buyers</td>\n",
       "      <td>2235</td>\n",
       "    </tr>\n",
       "    <tr>\n",
       "      <th>1</th>\n",
       "      <td>2017</td>\n",
       "      <td>resale flat buyers</td>\n",
       "      <td>8563</td>\n",
       "    </tr>\n",
       "    <tr>\n",
       "      <th>2</th>\n",
       "      <td>2017</td>\n",
       "      <td>existing flat owners (refinance)</td>\n",
       "      <td>1020</td>\n",
       "    </tr>\n",
       "    <tr>\n",
       "      <th>3</th>\n",
       "      <td>2017</td>\n",
       "      <td>DBSS flat buyers</td>\n",
       "      <td>7</td>\n",
       "    </tr>\n",
       "  </tbody>\n",
       "</table>\n",
       "</div>"
      ],
      "text/plain": [
       "   financial_year                  application_type  no_of_applications\n",
       "0            2017                   new flat buyers                2235\n",
       "1            2017                resale flat buyers                8563\n",
       "2            2017  existing flat owners (refinance)                1020\n",
       "3            2017                  DBSS flat buyers                   7"
      ]
     },
     "execution_count": 272,
     "metadata": {},
     "output_type": "execute_result"
    }
   ],
   "source": [
    "loan2017 = pd.read_csv('data/loan2017.csv')\n",
    "loan2017"
   ]
  },
  {
   "cell_type": "code",
   "execution_count": 168,
   "metadata": {},
   "outputs": [
    {
     "data": {
      "text/html": [
       "<div>\n",
       "<style scoped>\n",
       "    .dataframe tbody tr th:only-of-type {\n",
       "        vertical-align: middle;\n",
       "    }\n",
       "\n",
       "    .dataframe tbody tr th {\n",
       "        vertical-align: top;\n",
       "    }\n",
       "\n",
       "    .dataframe thead th {\n",
       "        text-align: right;\n",
       "    }\n",
       "</style>\n",
       "<table border=\"1\" class=\"dataframe\">\n",
       "  <thead>\n",
       "    <tr style=\"text-align: right;\">\n",
       "      <th></th>\n",
       "      <th>application_type_2</th>\n",
       "      <th>change</th>\n",
       "    </tr>\n",
       "  </thead>\n",
       "  <tbody>\n",
       "    <tr>\n",
       "      <th>0</th>\n",
       "      <td>new flat buyers</td>\n",
       "      <td>Increase</td>\n",
       "    </tr>\n",
       "    <tr>\n",
       "      <th>1</th>\n",
       "      <td>resale flat buyers</td>\n",
       "      <td>Decrease</td>\n",
       "    </tr>\n",
       "    <tr>\n",
       "      <th>2</th>\n",
       "      <td>existing flat owners (refinance)</td>\n",
       "      <td>Increase</td>\n",
       "    </tr>\n",
       "    <tr>\n",
       "      <th>3</th>\n",
       "      <td>DBSS flat buyers</td>\n",
       "      <td>Decrease</td>\n",
       "    </tr>\n",
       "  </tbody>\n",
       "</table>\n",
       "</div>"
      ],
      "text/plain": [
       "                 application_type_2    change\n",
       "0                   new flat buyers  Increase\n",
       "1                resale flat buyers  Decrease\n",
       "2  existing flat owners (refinance)  Increase\n",
       "3                  DBSS flat buyers  Decrease"
      ]
     },
     "execution_count": 168,
     "metadata": {},
     "output_type": "execute_result"
    }
   ],
   "source": [
    "loan2017_change=pd.read_csv('data/loan2017_change.csv')\n",
    "loan2017_change"
   ]
  },
  {
   "cell_type": "code",
   "execution_count": 169,
   "metadata": {},
   "outputs": [
    {
     "data": {
      "text/html": [
       "<div>\n",
       "<style scoped>\n",
       "    .dataframe tbody tr th:only-of-type {\n",
       "        vertical-align: middle;\n",
       "    }\n",
       "\n",
       "    .dataframe tbody tr th {\n",
       "        vertical-align: top;\n",
       "    }\n",
       "\n",
       "    .dataframe thead th {\n",
       "        text-align: right;\n",
       "    }\n",
       "</style>\n",
       "<table border=\"1\" class=\"dataframe\">\n",
       "  <thead>\n",
       "    <tr style=\"text-align: right;\">\n",
       "      <th></th>\n",
       "      <th>application_type_2</th>\n",
       "      <th>change</th>\n",
       "    </tr>\n",
       "  </thead>\n",
       "  <tbody>\n",
       "    <tr>\n",
       "      <th>0</th>\n",
       "      <td>new flat buyers</td>\n",
       "      <td>Increase</td>\n",
       "    </tr>\n",
       "    <tr>\n",
       "      <th>1</th>\n",
       "      <td>resale flat buyers</td>\n",
       "      <td>Decrease</td>\n",
       "    </tr>\n",
       "    <tr>\n",
       "      <th>2</th>\n",
       "      <td>existing flat owners (refinance)</td>\n",
       "      <td>Increase</td>\n",
       "    </tr>\n",
       "  </tbody>\n",
       "</table>\n",
       "</div>"
      ],
      "text/plain": [
       "                 application_type_2    change\n",
       "0                   new flat buyers  Increase\n",
       "1                resale flat buyers  Decrease\n",
       "2  existing flat owners (refinance)  Increase"
      ]
     },
     "execution_count": 169,
     "metadata": {},
     "output_type": "execute_result"
    }
   ],
   "source": [
    "loan2017_change = loan2017_change.loc[:2]\n",
    "loan2017_change"
   ]
  },
  {
   "cell_type": "code",
   "execution_count": 275,
   "metadata": {},
   "outputs": [
    {
     "data": {
      "text/html": [
       "<div>\n",
       "<style scoped>\n",
       "    .dataframe tbody tr th:only-of-type {\n",
       "        vertical-align: middle;\n",
       "    }\n",
       "\n",
       "    .dataframe tbody tr th {\n",
       "        vertical-align: top;\n",
       "    }\n",
       "\n",
       "    .dataframe thead th {\n",
       "        text-align: right;\n",
       "    }\n",
       "</style>\n",
       "<table border=\"1\" class=\"dataframe\">\n",
       "  <thead>\n",
       "    <tr style=\"text-align: right;\">\n",
       "      <th></th>\n",
       "      <th>financial_year</th>\n",
       "      <th>application_type</th>\n",
       "      <th>no_of_applications</th>\n",
       "      <th>application_type_2</th>\n",
       "      <th>change</th>\n",
       "    </tr>\n",
       "  </thead>\n",
       "  <tbody>\n",
       "    <tr>\n",
       "      <th>0</th>\n",
       "      <td>2017</td>\n",
       "      <td>new flat buyers</td>\n",
       "      <td>2235</td>\n",
       "      <td>new flat buyers</td>\n",
       "      <td>Increase</td>\n",
       "    </tr>\n",
       "    <tr>\n",
       "      <th>1</th>\n",
       "      <td>2017</td>\n",
       "      <td>resale flat buyers</td>\n",
       "      <td>8563</td>\n",
       "      <td>resale flat buyers</td>\n",
       "      <td>Decrease</td>\n",
       "    </tr>\n",
       "    <tr>\n",
       "      <th>2</th>\n",
       "      <td>2017</td>\n",
       "      <td>existing flat owners (refinance)</td>\n",
       "      <td>1020</td>\n",
       "      <td>existing flat owners (refinance)</td>\n",
       "      <td>Increase</td>\n",
       "    </tr>\n",
       "  </tbody>\n",
       "</table>\n",
       "</div>"
      ],
      "text/plain": [
       "   financial_year                  application_type  no_of_applications  \\\n",
       "0            2017                   new flat buyers                2235   \n",
       "1            2017                resale flat buyers                8563   \n",
       "2            2017  existing flat owners (refinance)                1020   \n",
       "\n",
       "                 application_type_2    change  \n",
       "0                   new flat buyers  Increase  \n",
       "1                resale flat buyers  Decrease  \n",
       "2  existing flat owners (refinance)  Increase  "
      ]
     },
     "execution_count": 275,
     "metadata": {},
     "output_type": "execute_result"
    }
   ],
   "source": [
    "loan2017.merge(loan2017_change,left_on='application_type',right_on='application_type_2')\n",
    "# loan2017.merge(loan2017_change,on='application_type')"
   ]
  },
  {
   "cell_type": "code",
   "execution_count": 170,
   "metadata": {},
   "outputs": [
    {
     "data": {
      "text/html": [
       "<div>\n",
       "<style scoped>\n",
       "    .dataframe tbody tr th:only-of-type {\n",
       "        vertical-align: middle;\n",
       "    }\n",
       "\n",
       "    .dataframe tbody tr th {\n",
       "        vertical-align: top;\n",
       "    }\n",
       "\n",
       "    .dataframe thead th {\n",
       "        text-align: right;\n",
       "    }\n",
       "</style>\n",
       "<table border=\"1\" class=\"dataframe\">\n",
       "  <thead>\n",
       "    <tr style=\"text-align: right;\">\n",
       "      <th></th>\n",
       "      <th>financial_year</th>\n",
       "      <th>application_type</th>\n",
       "      <th>no_of_applications</th>\n",
       "      <th>application_type_2</th>\n",
       "      <th>change</th>\n",
       "    </tr>\n",
       "  </thead>\n",
       "  <tbody>\n",
       "    <tr>\n",
       "      <th>0</th>\n",
       "      <td>2017</td>\n",
       "      <td>new flat buyers</td>\n",
       "      <td>2235</td>\n",
       "      <td>new flat buyers</td>\n",
       "      <td>Increase</td>\n",
       "    </tr>\n",
       "    <tr>\n",
       "      <th>1</th>\n",
       "      <td>2017</td>\n",
       "      <td>resale flat buyers</td>\n",
       "      <td>8563</td>\n",
       "      <td>resale flat buyers</td>\n",
       "      <td>Decrease</td>\n",
       "    </tr>\n",
       "    <tr>\n",
       "      <th>2</th>\n",
       "      <td>2017</td>\n",
       "      <td>existing flat owners (refinance)</td>\n",
       "      <td>1020</td>\n",
       "      <td>existing flat owners (refinance)</td>\n",
       "      <td>Increase</td>\n",
       "    </tr>\n",
       "  </tbody>\n",
       "</table>\n",
       "</div>"
      ],
      "text/plain": [
       "   financial_year                  application_type  no_of_applications  \\\n",
       "0            2017                   new flat buyers                2235   \n",
       "1            2017                resale flat buyers                8563   \n",
       "2            2017  existing flat owners (refinance)                1020   \n",
       "\n",
       "                 application_type_2    change  \n",
       "0                   new flat buyers  Increase  \n",
       "1                resale flat buyers  Decrease  \n",
       "2  existing flat owners (refinance)  Increase  "
      ]
     },
     "execution_count": 170,
     "metadata": {},
     "output_type": "execute_result"
    }
   ],
   "source": [
    "loan2017.merge(loan2017_change,left_on='application_type',right_on='application_type_2', how = 'inner')"
   ]
  },
  {
   "cell_type": "code",
   "execution_count": 171,
   "metadata": {},
   "outputs": [
    {
     "data": {
      "text/html": [
       "<div>\n",
       "<style scoped>\n",
       "    .dataframe tbody tr th:only-of-type {\n",
       "        vertical-align: middle;\n",
       "    }\n",
       "\n",
       "    .dataframe tbody tr th {\n",
       "        vertical-align: top;\n",
       "    }\n",
       "\n",
       "    .dataframe thead th {\n",
       "        text-align: right;\n",
       "    }\n",
       "</style>\n",
       "<table border=\"1\" class=\"dataframe\">\n",
       "  <thead>\n",
       "    <tr style=\"text-align: right;\">\n",
       "      <th></th>\n",
       "      <th>financial_year</th>\n",
       "      <th>application_type</th>\n",
       "      <th>no_of_applications</th>\n",
       "      <th>application_type_2</th>\n",
       "      <th>change</th>\n",
       "    </tr>\n",
       "  </thead>\n",
       "  <tbody>\n",
       "    <tr>\n",
       "      <th>0</th>\n",
       "      <td>2017</td>\n",
       "      <td>new flat buyers</td>\n",
       "      <td>2235</td>\n",
       "      <td>new flat buyers</td>\n",
       "      <td>Increase</td>\n",
       "    </tr>\n",
       "    <tr>\n",
       "      <th>1</th>\n",
       "      <td>2017</td>\n",
       "      <td>resale flat buyers</td>\n",
       "      <td>8563</td>\n",
       "      <td>resale flat buyers</td>\n",
       "      <td>Decrease</td>\n",
       "    </tr>\n",
       "    <tr>\n",
       "      <th>2</th>\n",
       "      <td>2017</td>\n",
       "      <td>existing flat owners (refinance)</td>\n",
       "      <td>1020</td>\n",
       "      <td>existing flat owners (refinance)</td>\n",
       "      <td>Increase</td>\n",
       "    </tr>\n",
       "    <tr>\n",
       "      <th>3</th>\n",
       "      <td>2017</td>\n",
       "      <td>DBSS flat buyers</td>\n",
       "      <td>7</td>\n",
       "      <td>NaN</td>\n",
       "      <td>NaN</td>\n",
       "    </tr>\n",
       "  </tbody>\n",
       "</table>\n",
       "</div>"
      ],
      "text/plain": [
       "   financial_year                  application_type  no_of_applications  \\\n",
       "0            2017                   new flat buyers                2235   \n",
       "1            2017                resale flat buyers                8563   \n",
       "2            2017  existing flat owners (refinance)                1020   \n",
       "3            2017                  DBSS flat buyers                   7   \n",
       "\n",
       "                 application_type_2    change  \n",
       "0                   new flat buyers  Increase  \n",
       "1                resale flat buyers  Decrease  \n",
       "2  existing flat owners (refinance)  Increase  \n",
       "3                               NaN       NaN  "
      ]
     },
     "execution_count": 171,
     "metadata": {},
     "output_type": "execute_result"
    }
   ],
   "source": [
    "loan2017.merge(loan2017_change,left_on='application_type',right_on='application_type_2', how = 'outer')\n"
   ]
  },
  {
   "cell_type": "code",
   "execution_count": 172,
   "metadata": {},
   "outputs": [
    {
     "data": {
      "text/html": [
       "<div>\n",
       "<style scoped>\n",
       "    .dataframe tbody tr th:only-of-type {\n",
       "        vertical-align: middle;\n",
       "    }\n",
       "\n",
       "    .dataframe tbody tr th {\n",
       "        vertical-align: top;\n",
       "    }\n",
       "\n",
       "    .dataframe thead th {\n",
       "        text-align: right;\n",
       "    }\n",
       "</style>\n",
       "<table border=\"1\" class=\"dataframe\">\n",
       "  <thead>\n",
       "    <tr style=\"text-align: right;\">\n",
       "      <th></th>\n",
       "      <th>financial_year</th>\n",
       "      <th>application_type</th>\n",
       "      <th>no_of_applications</th>\n",
       "      <th>application_type_2</th>\n",
       "      <th>change</th>\n",
       "    </tr>\n",
       "  </thead>\n",
       "  <tbody>\n",
       "    <tr>\n",
       "      <th>0</th>\n",
       "      <td>2017</td>\n",
       "      <td>new flat buyers</td>\n",
       "      <td>2235</td>\n",
       "      <td>new flat buyers</td>\n",
       "      <td>Increase</td>\n",
       "    </tr>\n",
       "    <tr>\n",
       "      <th>1</th>\n",
       "      <td>2017</td>\n",
       "      <td>resale flat buyers</td>\n",
       "      <td>8563</td>\n",
       "      <td>resale flat buyers</td>\n",
       "      <td>Decrease</td>\n",
       "    </tr>\n",
       "    <tr>\n",
       "      <th>2</th>\n",
       "      <td>2017</td>\n",
       "      <td>existing flat owners (refinance)</td>\n",
       "      <td>1020</td>\n",
       "      <td>existing flat owners (refinance)</td>\n",
       "      <td>Increase</td>\n",
       "    </tr>\n",
       "    <tr>\n",
       "      <th>3</th>\n",
       "      <td>2017</td>\n",
       "      <td>DBSS flat buyers</td>\n",
       "      <td>7</td>\n",
       "      <td>NaN</td>\n",
       "      <td>NaN</td>\n",
       "    </tr>\n",
       "  </tbody>\n",
       "</table>\n",
       "</div>"
      ],
      "text/plain": [
       "   financial_year                  application_type  no_of_applications  \\\n",
       "0            2017                   new flat buyers                2235   \n",
       "1            2017                resale flat buyers                8563   \n",
       "2            2017  existing flat owners (refinance)                1020   \n",
       "3            2017                  DBSS flat buyers                   7   \n",
       "\n",
       "                 application_type_2    change  \n",
       "0                   new flat buyers  Increase  \n",
       "1                resale flat buyers  Decrease  \n",
       "2  existing flat owners (refinance)  Increase  \n",
       "3                               NaN       NaN  "
      ]
     },
     "execution_count": 172,
     "metadata": {},
     "output_type": "execute_result"
    }
   ],
   "source": [
    "loan2017.merge(loan2017_change,left_on='application_type',right_on='application_type_2', how = 'left')"
   ]
  },
  {
   "cell_type": "code",
   "execution_count": 173,
   "metadata": {},
   "outputs": [
    {
     "data": {
      "text/html": [
       "<div>\n",
       "<style scoped>\n",
       "    .dataframe tbody tr th:only-of-type {\n",
       "        vertical-align: middle;\n",
       "    }\n",
       "\n",
       "    .dataframe tbody tr th {\n",
       "        vertical-align: top;\n",
       "    }\n",
       "\n",
       "    .dataframe thead th {\n",
       "        text-align: right;\n",
       "    }\n",
       "</style>\n",
       "<table border=\"1\" class=\"dataframe\">\n",
       "  <thead>\n",
       "    <tr style=\"text-align: right;\">\n",
       "      <th></th>\n",
       "      <th>financial_year</th>\n",
       "      <th>application_type</th>\n",
       "      <th>no_of_applications</th>\n",
       "      <th>application_type_2</th>\n",
       "      <th>change</th>\n",
       "    </tr>\n",
       "  </thead>\n",
       "  <tbody>\n",
       "    <tr>\n",
       "      <th>0</th>\n",
       "      <td>2017</td>\n",
       "      <td>new flat buyers</td>\n",
       "      <td>2235</td>\n",
       "      <td>new flat buyers</td>\n",
       "      <td>Increase</td>\n",
       "    </tr>\n",
       "    <tr>\n",
       "      <th>1</th>\n",
       "      <td>2017</td>\n",
       "      <td>resale flat buyers</td>\n",
       "      <td>8563</td>\n",
       "      <td>resale flat buyers</td>\n",
       "      <td>Decrease</td>\n",
       "    </tr>\n",
       "    <tr>\n",
       "      <th>2</th>\n",
       "      <td>2017</td>\n",
       "      <td>existing flat owners (refinance)</td>\n",
       "      <td>1020</td>\n",
       "      <td>existing flat owners (refinance)</td>\n",
       "      <td>Increase</td>\n",
       "    </tr>\n",
       "  </tbody>\n",
       "</table>\n",
       "</div>"
      ],
      "text/plain": [
       "   financial_year                  application_type  no_of_applications  \\\n",
       "0            2017                   new flat buyers                2235   \n",
       "1            2017                resale flat buyers                8563   \n",
       "2            2017  existing flat owners (refinance)                1020   \n",
       "\n",
       "                 application_type_2    change  \n",
       "0                   new flat buyers  Increase  \n",
       "1                resale flat buyers  Decrease  \n",
       "2  existing flat owners (refinance)  Increase  "
      ]
     },
     "execution_count": 173,
     "metadata": {},
     "output_type": "execute_result"
    }
   ],
   "source": [
    "loan2017.merge(loan2017_change,left_on='application_type',right_on='application_type_2', how = 'right')"
   ]
  },
  {
   "cell_type": "markdown",
   "metadata": {},
   "source": [
    "### Exercise"
   ]
  },
  {
   "cell_type": "code",
   "execution_count": 174,
   "metadata": {},
   "outputs": [],
   "source": [
    "CIT_PIT_amount = CIT_PIT[['financial_year', 'type', 'amount']]"
   ]
  },
  {
   "cell_type": "code",
   "execution_count": 175,
   "metadata": {},
   "outputs": [],
   "source": [
    "CIT_AT_GST_perc = CIT_AT_GST[['financial_year', 'type', 'percent_of_gdp']]"
   ]
  },
  {
   "cell_type": "code",
   "execution_count": 176,
   "metadata": {},
   "outputs": [
    {
     "data": {
      "text/html": [
       "<div>\n",
       "<style scoped>\n",
       "    .dataframe tbody tr th:only-of-type {\n",
       "        vertical-align: middle;\n",
       "    }\n",
       "\n",
       "    .dataframe tbody tr th {\n",
       "        vertical-align: top;\n",
       "    }\n",
       "\n",
       "    .dataframe thead th {\n",
       "        text-align: right;\n",
       "    }\n",
       "</style>\n",
       "<table border=\"1\" class=\"dataframe\">\n",
       "  <thead>\n",
       "    <tr style=\"text-align: right;\">\n",
       "      <th></th>\n",
       "      <th>financial_year</th>\n",
       "      <th>type</th>\n",
       "      <th>amount</th>\n",
       "      <th>percent_of_gdp</th>\n",
       "    </tr>\n",
       "  </thead>\n",
       "  <tbody>\n",
       "    <tr>\n",
       "      <th>0</th>\n",
       "      <td>1997</td>\n",
       "      <td>Corporate Income Tax</td>\n",
       "      <td>6809.0</td>\n",
       "      <td>0.045</td>\n",
       "    </tr>\n",
       "    <tr>\n",
       "      <th>1</th>\n",
       "      <td>1998</td>\n",
       "      <td>Corporate Income Tax</td>\n",
       "      <td>6256.0</td>\n",
       "      <td>0.044</td>\n",
       "    </tr>\n",
       "    <tr>\n",
       "      <th>2</th>\n",
       "      <td>1999</td>\n",
       "      <td>Corporate Income Tax</td>\n",
       "      <td>6565.0</td>\n",
       "      <td>0.044</td>\n",
       "    </tr>\n",
       "    <tr>\n",
       "      <th>3</th>\n",
       "      <td>2000</td>\n",
       "      <td>Corporate Income Tax</td>\n",
       "      <td>8316.0</td>\n",
       "      <td>0.049</td>\n",
       "    </tr>\n",
       "    <tr>\n",
       "      <th>4</th>\n",
       "      <td>2001</td>\n",
       "      <td>Corporate Income Tax</td>\n",
       "      <td>7821.0</td>\n",
       "      <td>0.049</td>\n",
       "    </tr>\n",
       "    <tr>\n",
       "      <th>5</th>\n",
       "      <td>2002</td>\n",
       "      <td>Corporate Income Tax</td>\n",
       "      <td>6822.0</td>\n",
       "      <td>0.041</td>\n",
       "    </tr>\n",
       "    <tr>\n",
       "      <th>6</th>\n",
       "      <td>2003</td>\n",
       "      <td>Corporate Income Tax</td>\n",
       "      <td>5921.0</td>\n",
       "      <td>0.034</td>\n",
       "    </tr>\n",
       "    <tr>\n",
       "      <th>7</th>\n",
       "      <td>2004</td>\n",
       "      <td>Corporate Income Tax</td>\n",
       "      <td>6107.0</td>\n",
       "      <td>0.031</td>\n",
       "    </tr>\n",
       "    <tr>\n",
       "      <th>8</th>\n",
       "      <td>2005</td>\n",
       "      <td>Corporate Income Tax</td>\n",
       "      <td>7340.0</td>\n",
       "      <td>0.034</td>\n",
       "    </tr>\n",
       "    <tr>\n",
       "      <th>9</th>\n",
       "      <td>2006</td>\n",
       "      <td>Corporate Income Tax</td>\n",
       "      <td>8474.0</td>\n",
       "      <td>0.035</td>\n",
       "    </tr>\n",
       "    <tr>\n",
       "      <th>10</th>\n",
       "      <td>2007</td>\n",
       "      <td>Corporate Income Tax</td>\n",
       "      <td>9250.0</td>\n",
       "      <td>0.033</td>\n",
       "    </tr>\n",
       "    <tr>\n",
       "      <th>11</th>\n",
       "      <td>2008</td>\n",
       "      <td>Corporate Income Tax</td>\n",
       "      <td>10554.0</td>\n",
       "      <td>0.039</td>\n",
       "    </tr>\n",
       "    <tr>\n",
       "      <th>12</th>\n",
       "      <td>2009</td>\n",
       "      <td>Corporate Income Tax</td>\n",
       "      <td>9551.0</td>\n",
       "      <td>0.033</td>\n",
       "    </tr>\n",
       "    <tr>\n",
       "      <th>13</th>\n",
       "      <td>2010</td>\n",
       "      <td>Corporate Income Tax</td>\n",
       "      <td>10687.0</td>\n",
       "      <td>0.032</td>\n",
       "    </tr>\n",
       "    <tr>\n",
       "      <th>14</th>\n",
       "      <td>2011</td>\n",
       "      <td>Corporate Income Tax</td>\n",
       "      <td>12096.0</td>\n",
       "      <td>0.034</td>\n",
       "    </tr>\n",
       "    <tr>\n",
       "      <th>15</th>\n",
       "      <td>2012</td>\n",
       "      <td>Corporate Income Tax</td>\n",
       "      <td>12821.0</td>\n",
       "      <td>0.035</td>\n",
       "    </tr>\n",
       "    <tr>\n",
       "      <th>16</th>\n",
       "      <td>2013</td>\n",
       "      <td>Corporate Income Tax</td>\n",
       "      <td>12680.0</td>\n",
       "      <td>0.033</td>\n",
       "    </tr>\n",
       "    <tr>\n",
       "      <th>17</th>\n",
       "      <td>2014</td>\n",
       "      <td>Corporate Income Tax</td>\n",
       "      <td>13371.0</td>\n",
       "      <td>0.033</td>\n",
       "    </tr>\n",
       "    <tr>\n",
       "      <th>18</th>\n",
       "      <td>2015</td>\n",
       "      <td>Corporate Income Tax</td>\n",
       "      <td>13815.0</td>\n",
       "      <td>0.033</td>\n",
       "    </tr>\n",
       "    <tr>\n",
       "      <th>19</th>\n",
       "      <td>2016</td>\n",
       "      <td>Corporate Income Tax</td>\n",
       "      <td>13602.0</td>\n",
       "      <td>0.030</td>\n",
       "    </tr>\n",
       "    <tr>\n",
       "      <th>20</th>\n",
       "      <td>2017</td>\n",
       "      <td>Corporate Income Tax</td>\n",
       "      <td>14944.0</td>\n",
       "      <td>0.032</td>\n",
       "    </tr>\n",
       "    <tr>\n",
       "      <th>21</th>\n",
       "      <td>2018</td>\n",
       "      <td>Corporate Income Tax</td>\n",
       "      <td>16137.0</td>\n",
       "      <td>0.033</td>\n",
       "    </tr>\n",
       "    <tr>\n",
       "      <th>22</th>\n",
       "      <td>2019</td>\n",
       "      <td>Corporate Income Tax</td>\n",
       "      <td>16722.0</td>\n",
       "      <td>0.033</td>\n",
       "    </tr>\n",
       "    <tr>\n",
       "      <th>23</th>\n",
       "      <td>1997</td>\n",
       "      <td>Personal Income Tax</td>\n",
       "      <td>2347.0</td>\n",
       "      <td>NaN</td>\n",
       "    </tr>\n",
       "    <tr>\n",
       "      <th>24</th>\n",
       "      <td>1998</td>\n",
       "      <td>Personal Income Tax</td>\n",
       "      <td>2960.0</td>\n",
       "      <td>NaN</td>\n",
       "    </tr>\n",
       "    <tr>\n",
       "      <th>25</th>\n",
       "      <td>1999</td>\n",
       "      <td>Personal Income Tax</td>\n",
       "      <td>3040.0</td>\n",
       "      <td>NaN</td>\n",
       "    </tr>\n",
       "    <tr>\n",
       "      <th>26</th>\n",
       "      <td>2000</td>\n",
       "      <td>Personal Income Tax</td>\n",
       "      <td>3543.0</td>\n",
       "      <td>NaN</td>\n",
       "    </tr>\n",
       "    <tr>\n",
       "      <th>27</th>\n",
       "      <td>2001</td>\n",
       "      <td>Personal Income Tax</td>\n",
       "      <td>3732.0</td>\n",
       "      <td>NaN</td>\n",
       "    </tr>\n",
       "    <tr>\n",
       "      <th>28</th>\n",
       "      <td>2002</td>\n",
       "      <td>Personal Income Tax</td>\n",
       "      <td>3423.0</td>\n",
       "      <td>NaN</td>\n",
       "    </tr>\n",
       "    <tr>\n",
       "      <th>29</th>\n",
       "      <td>2003</td>\n",
       "      <td>Personal Income Tax</td>\n",
       "      <td>3133.0</td>\n",
       "      <td>NaN</td>\n",
       "    </tr>\n",
       "    <tr>\n",
       "      <th>...</th>\n",
       "      <td>...</td>\n",
       "      <td>...</td>\n",
       "      <td>...</td>\n",
       "      <td>...</td>\n",
       "    </tr>\n",
       "    <tr>\n",
       "      <th>62</th>\n",
       "      <td>2013</td>\n",
       "      <td>Assets Taxes</td>\n",
       "      <td>NaN</td>\n",
       "      <td>0.011</td>\n",
       "    </tr>\n",
       "    <tr>\n",
       "      <th>63</th>\n",
       "      <td>2014</td>\n",
       "      <td>Assets Taxes</td>\n",
       "      <td>NaN</td>\n",
       "      <td>0.011</td>\n",
       "    </tr>\n",
       "    <tr>\n",
       "      <th>64</th>\n",
       "      <td>2015</td>\n",
       "      <td>Assets Taxes</td>\n",
       "      <td>NaN</td>\n",
       "      <td>0.011</td>\n",
       "    </tr>\n",
       "    <tr>\n",
       "      <th>65</th>\n",
       "      <td>2016</td>\n",
       "      <td>Assets Taxes</td>\n",
       "      <td>NaN</td>\n",
       "      <td>0.010</td>\n",
       "    </tr>\n",
       "    <tr>\n",
       "      <th>66</th>\n",
       "      <td>2017</td>\n",
       "      <td>Assets Taxes</td>\n",
       "      <td>NaN</td>\n",
       "      <td>0.009</td>\n",
       "    </tr>\n",
       "    <tr>\n",
       "      <th>67</th>\n",
       "      <td>2018</td>\n",
       "      <td>Assets Taxes</td>\n",
       "      <td>NaN</td>\n",
       "      <td>0.009</td>\n",
       "    </tr>\n",
       "    <tr>\n",
       "      <th>68</th>\n",
       "      <td>2019</td>\n",
       "      <td>Assets Taxes</td>\n",
       "      <td>NaN</td>\n",
       "      <td>0.009</td>\n",
       "    </tr>\n",
       "    <tr>\n",
       "      <th>69</th>\n",
       "      <td>1997</td>\n",
       "      <td>Goods and Services Tax</td>\n",
       "      <td>NaN</td>\n",
       "      <td>0.013</td>\n",
       "    </tr>\n",
       "    <tr>\n",
       "      <th>70</th>\n",
       "      <td>1998</td>\n",
       "      <td>Goods and Services Tax</td>\n",
       "      <td>NaN</td>\n",
       "      <td>0.012</td>\n",
       "    </tr>\n",
       "    <tr>\n",
       "      <th>71</th>\n",
       "      <td>1999</td>\n",
       "      <td>Goods and Services Tax</td>\n",
       "      <td>NaN</td>\n",
       "      <td>0.013</td>\n",
       "    </tr>\n",
       "    <tr>\n",
       "      <th>72</th>\n",
       "      <td>2000</td>\n",
       "      <td>Goods and Services Tax</td>\n",
       "      <td>NaN</td>\n",
       "      <td>0.013</td>\n",
       "    </tr>\n",
       "    <tr>\n",
       "      <th>73</th>\n",
       "      <td>2001</td>\n",
       "      <td>Goods and Services Tax</td>\n",
       "      <td>NaN</td>\n",
       "      <td>0.013</td>\n",
       "    </tr>\n",
       "    <tr>\n",
       "      <th>74</th>\n",
       "      <td>2002</td>\n",
       "      <td>Goods and Services Tax</td>\n",
       "      <td>NaN</td>\n",
       "      <td>0.013</td>\n",
       "    </tr>\n",
       "    <tr>\n",
       "      <th>75</th>\n",
       "      <td>2003</td>\n",
       "      <td>Goods and Services Tax</td>\n",
       "      <td>NaN</td>\n",
       "      <td>0.017</td>\n",
       "    </tr>\n",
       "    <tr>\n",
       "      <th>76</th>\n",
       "      <td>2004</td>\n",
       "      <td>Goods and Services Tax</td>\n",
       "      <td>NaN</td>\n",
       "      <td>0.018</td>\n",
       "    </tr>\n",
       "    <tr>\n",
       "      <th>77</th>\n",
       "      <td>2005</td>\n",
       "      <td>Goods and Services Tax</td>\n",
       "      <td>NaN</td>\n",
       "      <td>0.018</td>\n",
       "    </tr>\n",
       "    <tr>\n",
       "      <th>78</th>\n",
       "      <td>2006</td>\n",
       "      <td>Goods and Services Tax</td>\n",
       "      <td>NaN</td>\n",
       "      <td>0.016</td>\n",
       "    </tr>\n",
       "    <tr>\n",
       "      <th>79</th>\n",
       "      <td>2007</td>\n",
       "      <td>Goods and Services Tax</td>\n",
       "      <td>NaN</td>\n",
       "      <td>0.022</td>\n",
       "    </tr>\n",
       "    <tr>\n",
       "      <th>80</th>\n",
       "      <td>2008</td>\n",
       "      <td>Goods and Services Tax</td>\n",
       "      <td>NaN</td>\n",
       "      <td>0.024</td>\n",
       "    </tr>\n",
       "    <tr>\n",
       "      <th>81</th>\n",
       "      <td>2009</td>\n",
       "      <td>Goods and Services Tax</td>\n",
       "      <td>NaN</td>\n",
       "      <td>0.024</td>\n",
       "    </tr>\n",
       "    <tr>\n",
       "      <th>82</th>\n",
       "      <td>2010</td>\n",
       "      <td>Goods and Services Tax</td>\n",
       "      <td>NaN</td>\n",
       "      <td>0.025</td>\n",
       "    </tr>\n",
       "    <tr>\n",
       "      <th>83</th>\n",
       "      <td>2011</td>\n",
       "      <td>Goods and Services Tax</td>\n",
       "      <td>NaN</td>\n",
       "      <td>0.025</td>\n",
       "    </tr>\n",
       "    <tr>\n",
       "      <th>84</th>\n",
       "      <td>2012</td>\n",
       "      <td>Goods and Services Tax</td>\n",
       "      <td>NaN</td>\n",
       "      <td>0.025</td>\n",
       "    </tr>\n",
       "    <tr>\n",
       "      <th>85</th>\n",
       "      <td>2013</td>\n",
       "      <td>Goods and Services Tax</td>\n",
       "      <td>NaN</td>\n",
       "      <td>0.025</td>\n",
       "    </tr>\n",
       "    <tr>\n",
       "      <th>86</th>\n",
       "      <td>2014</td>\n",
       "      <td>Goods and Services Tax</td>\n",
       "      <td>NaN</td>\n",
       "      <td>0.025</td>\n",
       "    </tr>\n",
       "    <tr>\n",
       "      <th>87</th>\n",
       "      <td>2015</td>\n",
       "      <td>Goods and Services Tax</td>\n",
       "      <td>NaN</td>\n",
       "      <td>0.024</td>\n",
       "    </tr>\n",
       "    <tr>\n",
       "      <th>88</th>\n",
       "      <td>2016</td>\n",
       "      <td>Goods and Services Tax</td>\n",
       "      <td>NaN</td>\n",
       "      <td>0.025</td>\n",
       "    </tr>\n",
       "    <tr>\n",
       "      <th>89</th>\n",
       "      <td>2017</td>\n",
       "      <td>Goods and Services Tax</td>\n",
       "      <td>NaN</td>\n",
       "      <td>0.023</td>\n",
       "    </tr>\n",
       "    <tr>\n",
       "      <th>90</th>\n",
       "      <td>2018</td>\n",
       "      <td>Goods and Services Tax</td>\n",
       "      <td>NaN</td>\n",
       "      <td>0.023</td>\n",
       "    </tr>\n",
       "    <tr>\n",
       "      <th>91</th>\n",
       "      <td>2019</td>\n",
       "      <td>Goods and Services Tax</td>\n",
       "      <td>NaN</td>\n",
       "      <td>0.023</td>\n",
       "    </tr>\n",
       "  </tbody>\n",
       "</table>\n",
       "<p>92 rows × 4 columns</p>\n",
       "</div>"
      ],
      "text/plain": [
       "    financial_year                    type   amount  percent_of_gdp\n",
       "0             1997    Corporate Income Tax   6809.0           0.045\n",
       "1             1998    Corporate Income Tax   6256.0           0.044\n",
       "2             1999    Corporate Income Tax   6565.0           0.044\n",
       "3             2000    Corporate Income Tax   8316.0           0.049\n",
       "4             2001    Corporate Income Tax   7821.0           0.049\n",
       "5             2002    Corporate Income Tax   6822.0           0.041\n",
       "6             2003    Corporate Income Tax   5921.0           0.034\n",
       "7             2004    Corporate Income Tax   6107.0           0.031\n",
       "8             2005    Corporate Income Tax   7340.0           0.034\n",
       "9             2006    Corporate Income Tax   8474.0           0.035\n",
       "10            2007    Corporate Income Tax   9250.0           0.033\n",
       "11            2008    Corporate Income Tax  10554.0           0.039\n",
       "12            2009    Corporate Income Tax   9551.0           0.033\n",
       "13            2010    Corporate Income Tax  10687.0           0.032\n",
       "14            2011    Corporate Income Tax  12096.0           0.034\n",
       "15            2012    Corporate Income Tax  12821.0           0.035\n",
       "16            2013    Corporate Income Tax  12680.0           0.033\n",
       "17            2014    Corporate Income Tax  13371.0           0.033\n",
       "18            2015    Corporate Income Tax  13815.0           0.033\n",
       "19            2016    Corporate Income Tax  13602.0           0.030\n",
       "20            2017    Corporate Income Tax  14944.0           0.032\n",
       "21            2018    Corporate Income Tax  16137.0           0.033\n",
       "22            2019    Corporate Income Tax  16722.0           0.033\n",
       "23            1997     Personal Income Tax   2347.0             NaN\n",
       "24            1998     Personal Income Tax   2960.0             NaN\n",
       "25            1999     Personal Income Tax   3040.0             NaN\n",
       "26            2000     Personal Income Tax   3543.0             NaN\n",
       "27            2001     Personal Income Tax   3732.0             NaN\n",
       "28            2002     Personal Income Tax   3423.0             NaN\n",
       "29            2003     Personal Income Tax   3133.0             NaN\n",
       "..             ...                     ...      ...             ...\n",
       "62            2013            Assets Taxes      NaN           0.011\n",
       "63            2014            Assets Taxes      NaN           0.011\n",
       "64            2015            Assets Taxes      NaN           0.011\n",
       "65            2016            Assets Taxes      NaN           0.010\n",
       "66            2017            Assets Taxes      NaN           0.009\n",
       "67            2018            Assets Taxes      NaN           0.009\n",
       "68            2019            Assets Taxes      NaN           0.009\n",
       "69            1997  Goods and Services Tax      NaN           0.013\n",
       "70            1998  Goods and Services Tax      NaN           0.012\n",
       "71            1999  Goods and Services Tax      NaN           0.013\n",
       "72            2000  Goods and Services Tax      NaN           0.013\n",
       "73            2001  Goods and Services Tax      NaN           0.013\n",
       "74            2002  Goods and Services Tax      NaN           0.013\n",
       "75            2003  Goods and Services Tax      NaN           0.017\n",
       "76            2004  Goods and Services Tax      NaN           0.018\n",
       "77            2005  Goods and Services Tax      NaN           0.018\n",
       "78            2006  Goods and Services Tax      NaN           0.016\n",
       "79            2007  Goods and Services Tax      NaN           0.022\n",
       "80            2008  Goods and Services Tax      NaN           0.024\n",
       "81            2009  Goods and Services Tax      NaN           0.024\n",
       "82            2010  Goods and Services Tax      NaN           0.025\n",
       "83            2011  Goods and Services Tax      NaN           0.025\n",
       "84            2012  Goods and Services Tax      NaN           0.025\n",
       "85            2013  Goods and Services Tax      NaN           0.025\n",
       "86            2014  Goods and Services Tax      NaN           0.025\n",
       "87            2015  Goods and Services Tax      NaN           0.024\n",
       "88            2016  Goods and Services Tax      NaN           0.025\n",
       "89            2017  Goods and Services Tax      NaN           0.023\n",
       "90            2018  Goods and Services Tax      NaN           0.023\n",
       "91            2019  Goods and Services Tax      NaN           0.023\n",
       "\n",
       "[92 rows x 4 columns]"
      ]
     },
     "execution_count": 176,
     "metadata": {},
     "output_type": "execute_result"
    }
   ],
   "source": [
    "merged = CIT_PIT_amount.merge(CIT_AT_GST_perc,how='outer')\n",
    "merged"
   ]
  },
  {
   "cell_type": "code",
   "execution_count": 177,
   "metadata": {},
   "outputs": [
    {
     "data": {
      "text/html": [
       "<div>\n",
       "<style scoped>\n",
       "    .dataframe tbody tr th:only-of-type {\n",
       "        vertical-align: middle;\n",
       "    }\n",
       "\n",
       "    .dataframe tbody tr th {\n",
       "        vertical-align: top;\n",
       "    }\n",
       "\n",
       "    .dataframe thead th {\n",
       "        text-align: right;\n",
       "    }\n",
       "</style>\n",
       "<table border=\"1\" class=\"dataframe\">\n",
       "  <thead>\n",
       "    <tr style=\"text-align: right;\">\n",
       "      <th></th>\n",
       "      <th>financial_year</th>\n",
       "      <th>type</th>\n",
       "      <th>amount</th>\n",
       "      <th>percent_of_gdp</th>\n",
       "    </tr>\n",
       "  </thead>\n",
       "  <tbody>\n",
       "    <tr>\n",
       "      <th>0</th>\n",
       "      <td>1997</td>\n",
       "      <td>Corporate Income Tax</td>\n",
       "      <td>6809</td>\n",
       "      <td>0.045</td>\n",
       "    </tr>\n",
       "    <tr>\n",
       "      <th>1</th>\n",
       "      <td>1998</td>\n",
       "      <td>Corporate Income Tax</td>\n",
       "      <td>6256</td>\n",
       "      <td>0.044</td>\n",
       "    </tr>\n",
       "    <tr>\n",
       "      <th>2</th>\n",
       "      <td>1999</td>\n",
       "      <td>Corporate Income Tax</td>\n",
       "      <td>6565</td>\n",
       "      <td>0.044</td>\n",
       "    </tr>\n",
       "    <tr>\n",
       "      <th>3</th>\n",
       "      <td>2000</td>\n",
       "      <td>Corporate Income Tax</td>\n",
       "      <td>8316</td>\n",
       "      <td>0.049</td>\n",
       "    </tr>\n",
       "    <tr>\n",
       "      <th>4</th>\n",
       "      <td>2001</td>\n",
       "      <td>Corporate Income Tax</td>\n",
       "      <td>7821</td>\n",
       "      <td>0.049</td>\n",
       "    </tr>\n",
       "    <tr>\n",
       "      <th>5</th>\n",
       "      <td>2002</td>\n",
       "      <td>Corporate Income Tax</td>\n",
       "      <td>6822</td>\n",
       "      <td>0.041</td>\n",
       "    </tr>\n",
       "    <tr>\n",
       "      <th>6</th>\n",
       "      <td>2003</td>\n",
       "      <td>Corporate Income Tax</td>\n",
       "      <td>5921</td>\n",
       "      <td>0.034</td>\n",
       "    </tr>\n",
       "    <tr>\n",
       "      <th>7</th>\n",
       "      <td>2004</td>\n",
       "      <td>Corporate Income Tax</td>\n",
       "      <td>6107</td>\n",
       "      <td>0.031</td>\n",
       "    </tr>\n",
       "    <tr>\n",
       "      <th>8</th>\n",
       "      <td>2005</td>\n",
       "      <td>Corporate Income Tax</td>\n",
       "      <td>7340</td>\n",
       "      <td>0.034</td>\n",
       "    </tr>\n",
       "    <tr>\n",
       "      <th>9</th>\n",
       "      <td>2006</td>\n",
       "      <td>Corporate Income Tax</td>\n",
       "      <td>8474</td>\n",
       "      <td>0.035</td>\n",
       "    </tr>\n",
       "    <tr>\n",
       "      <th>10</th>\n",
       "      <td>2007</td>\n",
       "      <td>Corporate Income Tax</td>\n",
       "      <td>9250</td>\n",
       "      <td>0.033</td>\n",
       "    </tr>\n",
       "    <tr>\n",
       "      <th>11</th>\n",
       "      <td>2008</td>\n",
       "      <td>Corporate Income Tax</td>\n",
       "      <td>10554</td>\n",
       "      <td>0.039</td>\n",
       "    </tr>\n",
       "    <tr>\n",
       "      <th>12</th>\n",
       "      <td>2009</td>\n",
       "      <td>Corporate Income Tax</td>\n",
       "      <td>9551</td>\n",
       "      <td>0.033</td>\n",
       "    </tr>\n",
       "    <tr>\n",
       "      <th>13</th>\n",
       "      <td>2010</td>\n",
       "      <td>Corporate Income Tax</td>\n",
       "      <td>10687</td>\n",
       "      <td>0.032</td>\n",
       "    </tr>\n",
       "    <tr>\n",
       "      <th>14</th>\n",
       "      <td>2011</td>\n",
       "      <td>Corporate Income Tax</td>\n",
       "      <td>12096</td>\n",
       "      <td>0.034</td>\n",
       "    </tr>\n",
       "    <tr>\n",
       "      <th>15</th>\n",
       "      <td>2012</td>\n",
       "      <td>Corporate Income Tax</td>\n",
       "      <td>12821</td>\n",
       "      <td>0.035</td>\n",
       "    </tr>\n",
       "    <tr>\n",
       "      <th>16</th>\n",
       "      <td>2013</td>\n",
       "      <td>Corporate Income Tax</td>\n",
       "      <td>12680</td>\n",
       "      <td>0.033</td>\n",
       "    </tr>\n",
       "    <tr>\n",
       "      <th>17</th>\n",
       "      <td>2014</td>\n",
       "      <td>Corporate Income Tax</td>\n",
       "      <td>13371</td>\n",
       "      <td>0.033</td>\n",
       "    </tr>\n",
       "    <tr>\n",
       "      <th>18</th>\n",
       "      <td>2015</td>\n",
       "      <td>Corporate Income Tax</td>\n",
       "      <td>13815</td>\n",
       "      <td>0.033</td>\n",
       "    </tr>\n",
       "    <tr>\n",
       "      <th>19</th>\n",
       "      <td>2016</td>\n",
       "      <td>Corporate Income Tax</td>\n",
       "      <td>13602</td>\n",
       "      <td>0.030</td>\n",
       "    </tr>\n",
       "    <tr>\n",
       "      <th>20</th>\n",
       "      <td>2017</td>\n",
       "      <td>Corporate Income Tax</td>\n",
       "      <td>14944</td>\n",
       "      <td>0.032</td>\n",
       "    </tr>\n",
       "    <tr>\n",
       "      <th>21</th>\n",
       "      <td>2018</td>\n",
       "      <td>Corporate Income Tax</td>\n",
       "      <td>16137</td>\n",
       "      <td>0.033</td>\n",
       "    </tr>\n",
       "    <tr>\n",
       "      <th>22</th>\n",
       "      <td>2019</td>\n",
       "      <td>Corporate Income Tax</td>\n",
       "      <td>16722</td>\n",
       "      <td>0.033</td>\n",
       "    </tr>\n",
       "  </tbody>\n",
       "</table>\n",
       "</div>"
      ],
      "text/plain": [
       "    financial_year                  type  amount  percent_of_gdp\n",
       "0             1997  Corporate Income Tax    6809           0.045\n",
       "1             1998  Corporate Income Tax    6256           0.044\n",
       "2             1999  Corporate Income Tax    6565           0.044\n",
       "3             2000  Corporate Income Tax    8316           0.049\n",
       "4             2001  Corporate Income Tax    7821           0.049\n",
       "5             2002  Corporate Income Tax    6822           0.041\n",
       "6             2003  Corporate Income Tax    5921           0.034\n",
       "7             2004  Corporate Income Tax    6107           0.031\n",
       "8             2005  Corporate Income Tax    7340           0.034\n",
       "9             2006  Corporate Income Tax    8474           0.035\n",
       "10            2007  Corporate Income Tax    9250           0.033\n",
       "11            2008  Corporate Income Tax   10554           0.039\n",
       "12            2009  Corporate Income Tax    9551           0.033\n",
       "13            2010  Corporate Income Tax   10687           0.032\n",
       "14            2011  Corporate Income Tax   12096           0.034\n",
       "15            2012  Corporate Income Tax   12821           0.035\n",
       "16            2013  Corporate Income Tax   12680           0.033\n",
       "17            2014  Corporate Income Tax   13371           0.033\n",
       "18            2015  Corporate Income Tax   13815           0.033\n",
       "19            2016  Corporate Income Tax   13602           0.030\n",
       "20            2017  Corporate Income Tax   14944           0.032\n",
       "21            2018  Corporate Income Tax   16137           0.033\n",
       "22            2019  Corporate Income Tax   16722           0.033"
      ]
     },
     "execution_count": 177,
     "metadata": {},
     "output_type": "execute_result"
    }
   ],
   "source": [
    "merged = CIT_PIT_amount.merge(CIT_AT_GST_perc,how='inner')\n",
    "merged"
   ]
  },
  {
   "cell_type": "code",
   "execution_count": 180,
   "metadata": {},
   "outputs": [
    {
     "data": {
      "text/html": [
       "<div>\n",
       "<style scoped>\n",
       "    .dataframe tbody tr th:only-of-type {\n",
       "        vertical-align: middle;\n",
       "    }\n",
       "\n",
       "    .dataframe tbody tr th {\n",
       "        vertical-align: top;\n",
       "    }\n",
       "\n",
       "    .dataframe thead th {\n",
       "        text-align: right;\n",
       "    }\n",
       "</style>\n",
       "<table border=\"1\" class=\"dataframe\">\n",
       "  <thead>\n",
       "    <tr style=\"text-align: right;\">\n",
       "      <th></th>\n",
       "      <th>financial_year</th>\n",
       "      <th>type</th>\n",
       "      <th>amount</th>\n",
       "      <th>percent_of_gdp</th>\n",
       "    </tr>\n",
       "  </thead>\n",
       "  <tbody>\n",
       "    <tr>\n",
       "      <th>0</th>\n",
       "      <td>1997</td>\n",
       "      <td>Corporate Income Tax</td>\n",
       "      <td>6809</td>\n",
       "      <td>0.045</td>\n",
       "    </tr>\n",
       "    <tr>\n",
       "      <th>1</th>\n",
       "      <td>1998</td>\n",
       "      <td>Corporate Income Tax</td>\n",
       "      <td>6256</td>\n",
       "      <td>0.044</td>\n",
       "    </tr>\n",
       "    <tr>\n",
       "      <th>2</th>\n",
       "      <td>1999</td>\n",
       "      <td>Corporate Income Tax</td>\n",
       "      <td>6565</td>\n",
       "      <td>0.044</td>\n",
       "    </tr>\n",
       "    <tr>\n",
       "      <th>3</th>\n",
       "      <td>2000</td>\n",
       "      <td>Corporate Income Tax</td>\n",
       "      <td>8316</td>\n",
       "      <td>0.049</td>\n",
       "    </tr>\n",
       "    <tr>\n",
       "      <th>4</th>\n",
       "      <td>2001</td>\n",
       "      <td>Corporate Income Tax</td>\n",
       "      <td>7821</td>\n",
       "      <td>0.049</td>\n",
       "    </tr>\n",
       "    <tr>\n",
       "      <th>5</th>\n",
       "      <td>2002</td>\n",
       "      <td>Corporate Income Tax</td>\n",
       "      <td>6822</td>\n",
       "      <td>0.041</td>\n",
       "    </tr>\n",
       "    <tr>\n",
       "      <th>6</th>\n",
       "      <td>2003</td>\n",
       "      <td>Corporate Income Tax</td>\n",
       "      <td>5921</td>\n",
       "      <td>0.034</td>\n",
       "    </tr>\n",
       "    <tr>\n",
       "      <th>7</th>\n",
       "      <td>2004</td>\n",
       "      <td>Corporate Income Tax</td>\n",
       "      <td>6107</td>\n",
       "      <td>0.031</td>\n",
       "    </tr>\n",
       "    <tr>\n",
       "      <th>8</th>\n",
       "      <td>2005</td>\n",
       "      <td>Corporate Income Tax</td>\n",
       "      <td>7340</td>\n",
       "      <td>0.034</td>\n",
       "    </tr>\n",
       "    <tr>\n",
       "      <th>9</th>\n",
       "      <td>2006</td>\n",
       "      <td>Corporate Income Tax</td>\n",
       "      <td>8474</td>\n",
       "      <td>0.035</td>\n",
       "    </tr>\n",
       "    <tr>\n",
       "      <th>10</th>\n",
       "      <td>2007</td>\n",
       "      <td>Corporate Income Tax</td>\n",
       "      <td>9250</td>\n",
       "      <td>0.033</td>\n",
       "    </tr>\n",
       "    <tr>\n",
       "      <th>11</th>\n",
       "      <td>2008</td>\n",
       "      <td>Corporate Income Tax</td>\n",
       "      <td>10554</td>\n",
       "      <td>0.039</td>\n",
       "    </tr>\n",
       "    <tr>\n",
       "      <th>12</th>\n",
       "      <td>2009</td>\n",
       "      <td>Corporate Income Tax</td>\n",
       "      <td>9551</td>\n",
       "      <td>0.033</td>\n",
       "    </tr>\n",
       "    <tr>\n",
       "      <th>13</th>\n",
       "      <td>2010</td>\n",
       "      <td>Corporate Income Tax</td>\n",
       "      <td>10687</td>\n",
       "      <td>0.032</td>\n",
       "    </tr>\n",
       "    <tr>\n",
       "      <th>14</th>\n",
       "      <td>2011</td>\n",
       "      <td>Corporate Income Tax</td>\n",
       "      <td>12096</td>\n",
       "      <td>0.034</td>\n",
       "    </tr>\n",
       "    <tr>\n",
       "      <th>15</th>\n",
       "      <td>2012</td>\n",
       "      <td>Corporate Income Tax</td>\n",
       "      <td>12821</td>\n",
       "      <td>0.035</td>\n",
       "    </tr>\n",
       "    <tr>\n",
       "      <th>16</th>\n",
       "      <td>2013</td>\n",
       "      <td>Corporate Income Tax</td>\n",
       "      <td>12680</td>\n",
       "      <td>0.033</td>\n",
       "    </tr>\n",
       "    <tr>\n",
       "      <th>17</th>\n",
       "      <td>2014</td>\n",
       "      <td>Corporate Income Tax</td>\n",
       "      <td>13371</td>\n",
       "      <td>0.033</td>\n",
       "    </tr>\n",
       "    <tr>\n",
       "      <th>18</th>\n",
       "      <td>2015</td>\n",
       "      <td>Corporate Income Tax</td>\n",
       "      <td>13815</td>\n",
       "      <td>0.033</td>\n",
       "    </tr>\n",
       "    <tr>\n",
       "      <th>19</th>\n",
       "      <td>2016</td>\n",
       "      <td>Corporate Income Tax</td>\n",
       "      <td>13602</td>\n",
       "      <td>0.030</td>\n",
       "    </tr>\n",
       "    <tr>\n",
       "      <th>20</th>\n",
       "      <td>2017</td>\n",
       "      <td>Corporate Income Tax</td>\n",
       "      <td>14944</td>\n",
       "      <td>0.032</td>\n",
       "    </tr>\n",
       "    <tr>\n",
       "      <th>21</th>\n",
       "      <td>2018</td>\n",
       "      <td>Corporate Income Tax</td>\n",
       "      <td>16137</td>\n",
       "      <td>0.033</td>\n",
       "    </tr>\n",
       "    <tr>\n",
       "      <th>22</th>\n",
       "      <td>2019</td>\n",
       "      <td>Corporate Income Tax</td>\n",
       "      <td>16722</td>\n",
       "      <td>0.033</td>\n",
       "    </tr>\n",
       "  </tbody>\n",
       "</table>\n",
       "</div>"
      ],
      "text/plain": [
       "    financial_year                  type  amount  percent_of_gdp\n",
       "0             1997  Corporate Income Tax    6809           0.045\n",
       "1             1998  Corporate Income Tax    6256           0.044\n",
       "2             1999  Corporate Income Tax    6565           0.044\n",
       "3             2000  Corporate Income Tax    8316           0.049\n",
       "4             2001  Corporate Income Tax    7821           0.049\n",
       "5             2002  Corporate Income Tax    6822           0.041\n",
       "6             2003  Corporate Income Tax    5921           0.034\n",
       "7             2004  Corporate Income Tax    6107           0.031\n",
       "8             2005  Corporate Income Tax    7340           0.034\n",
       "9             2006  Corporate Income Tax    8474           0.035\n",
       "10            2007  Corporate Income Tax    9250           0.033\n",
       "11            2008  Corporate Income Tax   10554           0.039\n",
       "12            2009  Corporate Income Tax    9551           0.033\n",
       "13            2010  Corporate Income Tax   10687           0.032\n",
       "14            2011  Corporate Income Tax   12096           0.034\n",
       "15            2012  Corporate Income Tax   12821           0.035\n",
       "16            2013  Corporate Income Tax   12680           0.033\n",
       "17            2014  Corporate Income Tax   13371           0.033\n",
       "18            2015  Corporate Income Tax   13815           0.033\n",
       "19            2016  Corporate Income Tax   13602           0.030\n",
       "20            2017  Corporate Income Tax   14944           0.032\n",
       "21            2018  Corporate Income Tax   16137           0.033\n",
       "22            2019  Corporate Income Tax   16722           0.033"
      ]
     },
     "execution_count": 180,
     "metadata": {},
     "output_type": "execute_result"
    }
   ],
   "source": []
  },
  {
   "cell_type": "markdown",
   "metadata": {},
   "source": [
    "## GroupBy"
   ]
  },
  {
   "cell_type": "code",
   "execution_count": 182,
   "metadata": {},
   "outputs": [
    {
     "data": {
      "text/html": [
       "<div>\n",
       "<style scoped>\n",
       "    .dataframe tbody tr th:only-of-type {\n",
       "        vertical-align: middle;\n",
       "    }\n",
       "\n",
       "    .dataframe tbody tr th {\n",
       "        vertical-align: top;\n",
       "    }\n",
       "\n",
       "    .dataframe thead th {\n",
       "        text-align: right;\n",
       "    }\n",
       "</style>\n",
       "<table border=\"1\" class=\"dataframe\">\n",
       "  <thead>\n",
       "    <tr style=\"text-align: right;\">\n",
       "      <th></th>\n",
       "      <th>financial_year</th>\n",
       "      <th>application_type</th>\n",
       "      <th>no_of_applications</th>\n",
       "    </tr>\n",
       "  </thead>\n",
       "  <tbody>\n",
       "    <tr>\n",
       "      <th>0</th>\n",
       "      <td>2008</td>\n",
       "      <td>new flat buyers</td>\n",
       "      <td>936</td>\n",
       "    </tr>\n",
       "    <tr>\n",
       "      <th>1</th>\n",
       "      <td>2008</td>\n",
       "      <td>resale flat buyers</td>\n",
       "      <td>14913</td>\n",
       "    </tr>\n",
       "    <tr>\n",
       "      <th>2</th>\n",
       "      <td>2008</td>\n",
       "      <td>existing flat owners (refinance)</td>\n",
       "      <td>42</td>\n",
       "    </tr>\n",
       "    <tr>\n",
       "      <th>3</th>\n",
       "      <td>2009</td>\n",
       "      <td>new flat buyers</td>\n",
       "      <td>948</td>\n",
       "    </tr>\n",
       "    <tr>\n",
       "      <th>4</th>\n",
       "      <td>2009</td>\n",
       "      <td>resale flat buyers</td>\n",
       "      <td>22345</td>\n",
       "    </tr>\n",
       "    <tr>\n",
       "      <th>5</th>\n",
       "      <td>2009</td>\n",
       "      <td>existing flat owners (refinance)</td>\n",
       "      <td>101</td>\n",
       "    </tr>\n",
       "    <tr>\n",
       "      <th>6</th>\n",
       "      <td>2010</td>\n",
       "      <td>new flat buyers</td>\n",
       "      <td>868</td>\n",
       "    </tr>\n",
       "    <tr>\n",
       "      <th>7</th>\n",
       "      <td>2010</td>\n",
       "      <td>resale flat buyers</td>\n",
       "      <td>17990</td>\n",
       "    </tr>\n",
       "    <tr>\n",
       "      <th>8</th>\n",
       "      <td>2010</td>\n",
       "      <td>existing flat owners (refinance)</td>\n",
       "      <td>329</td>\n",
       "    </tr>\n",
       "    <tr>\n",
       "      <th>9</th>\n",
       "      <td>2011</td>\n",
       "      <td>new flat buyers</td>\n",
       "      <td>2402</td>\n",
       "    </tr>\n",
       "    <tr>\n",
       "      <th>10</th>\n",
       "      <td>2011</td>\n",
       "      <td>resale flat buyers</td>\n",
       "      <td>15039</td>\n",
       "    </tr>\n",
       "    <tr>\n",
       "      <th>11</th>\n",
       "      <td>2011</td>\n",
       "      <td>existing flat owners (refinance)</td>\n",
       "      <td>548</td>\n",
       "    </tr>\n",
       "    <tr>\n",
       "      <th>12</th>\n",
       "      <td>2011</td>\n",
       "      <td>DBSS flat buyers</td>\n",
       "      <td>271</td>\n",
       "    </tr>\n",
       "    <tr>\n",
       "      <th>13</th>\n",
       "      <td>2012</td>\n",
       "      <td>new flat buyers</td>\n",
       "      <td>2219</td>\n",
       "    </tr>\n",
       "    <tr>\n",
       "      <th>14</th>\n",
       "      <td>2012</td>\n",
       "      <td>resale flat buyers</td>\n",
       "      <td>15259</td>\n",
       "    </tr>\n",
       "    <tr>\n",
       "      <th>15</th>\n",
       "      <td>2012</td>\n",
       "      <td>existing flat owners (refinance)</td>\n",
       "      <td>611</td>\n",
       "    </tr>\n",
       "    <tr>\n",
       "      <th>16</th>\n",
       "      <td>2012</td>\n",
       "      <td>DBSS flat buyers</td>\n",
       "      <td>1017</td>\n",
       "    </tr>\n",
       "    <tr>\n",
       "      <th>17</th>\n",
       "      <td>2013</td>\n",
       "      <td>new flat buyers</td>\n",
       "      <td>2474</td>\n",
       "    </tr>\n",
       "    <tr>\n",
       "      <th>18</th>\n",
       "      <td>2013</td>\n",
       "      <td>resale flat buyers</td>\n",
       "      <td>9213</td>\n",
       "    </tr>\n",
       "    <tr>\n",
       "      <th>19</th>\n",
       "      <td>2013</td>\n",
       "      <td>existing flat owners (refinance)</td>\n",
       "      <td>1399</td>\n",
       "    </tr>\n",
       "    <tr>\n",
       "      <th>20</th>\n",
       "      <td>2013</td>\n",
       "      <td>DBSS flat buyers</td>\n",
       "      <td>244</td>\n",
       "    </tr>\n",
       "    <tr>\n",
       "      <th>21</th>\n",
       "      <td>2014</td>\n",
       "      <td>new flat buyers</td>\n",
       "      <td>2122</td>\n",
       "    </tr>\n",
       "    <tr>\n",
       "      <th>22</th>\n",
       "      <td>2014</td>\n",
       "      <td>resale flat buyers</td>\n",
       "      <td>9318</td>\n",
       "    </tr>\n",
       "    <tr>\n",
       "      <th>23</th>\n",
       "      <td>2014</td>\n",
       "      <td>existing flat owners (refinance)</td>\n",
       "      <td>578</td>\n",
       "    </tr>\n",
       "    <tr>\n",
       "      <th>24</th>\n",
       "      <td>2014</td>\n",
       "      <td>DBSS flat buyers</td>\n",
       "      <td>121</td>\n",
       "    </tr>\n",
       "    <tr>\n",
       "      <th>25</th>\n",
       "      <td>2015</td>\n",
       "      <td>new flat buyers</td>\n",
       "      <td>1730</td>\n",
       "    </tr>\n",
       "    <tr>\n",
       "      <th>26</th>\n",
       "      <td>2015</td>\n",
       "      <td>resale flat buyers</td>\n",
       "      <td>8211</td>\n",
       "    </tr>\n",
       "    <tr>\n",
       "      <th>27</th>\n",
       "      <td>2015</td>\n",
       "      <td>existing flat owners (refinance)</td>\n",
       "      <td>156</td>\n",
       "    </tr>\n",
       "    <tr>\n",
       "      <th>28</th>\n",
       "      <td>2015</td>\n",
       "      <td>DBSS flat buyers</td>\n",
       "      <td>44</td>\n",
       "    </tr>\n",
       "    <tr>\n",
       "      <th>29</th>\n",
       "      <td>2016</td>\n",
       "      <td>new flat buyers</td>\n",
       "      <td>1840</td>\n",
       "    </tr>\n",
       "    <tr>\n",
       "      <th>30</th>\n",
       "      <td>2016</td>\n",
       "      <td>resale flat buyers</td>\n",
       "      <td>8207</td>\n",
       "    </tr>\n",
       "    <tr>\n",
       "      <th>31</th>\n",
       "      <td>2016</td>\n",
       "      <td>existing flat owners (refinance)</td>\n",
       "      <td>326</td>\n",
       "    </tr>\n",
       "    <tr>\n",
       "      <th>32</th>\n",
       "      <td>2016</td>\n",
       "      <td>DBSS flat buyers</td>\n",
       "      <td>5</td>\n",
       "    </tr>\n",
       "    <tr>\n",
       "      <th>33</th>\n",
       "      <td>2017</td>\n",
       "      <td>new flat buyers</td>\n",
       "      <td>2235</td>\n",
       "    </tr>\n",
       "    <tr>\n",
       "      <th>34</th>\n",
       "      <td>2017</td>\n",
       "      <td>resale flat buyers</td>\n",
       "      <td>8563</td>\n",
       "    </tr>\n",
       "    <tr>\n",
       "      <th>35</th>\n",
       "      <td>2017</td>\n",
       "      <td>existing flat owners (refinance)</td>\n",
       "      <td>1020</td>\n",
       "    </tr>\n",
       "    <tr>\n",
       "      <th>36</th>\n",
       "      <td>2017</td>\n",
       "      <td>DBSS flat buyers</td>\n",
       "      <td>7</td>\n",
       "    </tr>\n",
       "  </tbody>\n",
       "</table>\n",
       "</div>"
      ],
      "text/plain": [
       "    financial_year                  application_type  no_of_applications\n",
       "0             2008                   new flat buyers                 936\n",
       "1             2008                resale flat buyers               14913\n",
       "2             2008  existing flat owners (refinance)                  42\n",
       "3             2009                   new flat buyers                 948\n",
       "4             2009                resale flat buyers               22345\n",
       "5             2009  existing flat owners (refinance)                 101\n",
       "6             2010                   new flat buyers                 868\n",
       "7             2010                resale flat buyers               17990\n",
       "8             2010  existing flat owners (refinance)                 329\n",
       "9             2011                   new flat buyers                2402\n",
       "10            2011                resale flat buyers               15039\n",
       "11            2011  existing flat owners (refinance)                 548\n",
       "12            2011                  DBSS flat buyers                 271\n",
       "13            2012                   new flat buyers                2219\n",
       "14            2012                resale flat buyers               15259\n",
       "15            2012  existing flat owners (refinance)                 611\n",
       "16            2012                  DBSS flat buyers                1017\n",
       "17            2013                   new flat buyers                2474\n",
       "18            2013                resale flat buyers                9213\n",
       "19            2013  existing flat owners (refinance)                1399\n",
       "20            2013                  DBSS flat buyers                 244\n",
       "21            2014                   new flat buyers                2122\n",
       "22            2014                resale flat buyers                9318\n",
       "23            2014  existing flat owners (refinance)                 578\n",
       "24            2014                  DBSS flat buyers                 121\n",
       "25            2015                   new flat buyers                1730\n",
       "26            2015                resale flat buyers                8211\n",
       "27            2015  existing flat owners (refinance)                 156\n",
       "28            2015                  DBSS flat buyers                  44\n",
       "29            2016                   new flat buyers                1840\n",
       "30            2016                resale flat buyers                8207\n",
       "31            2016  existing flat owners (refinance)                 326\n",
       "32            2016                  DBSS flat buyers                   5\n",
       "33            2017                   new flat buyers                2235\n",
       "34            2017                resale flat buyers                8563\n",
       "35            2017  existing flat owners (refinance)                1020\n",
       "36            2017                  DBSS flat buyers                   7"
      ]
     },
     "execution_count": 182,
     "metadata": {},
     "output_type": "execute_result"
    }
   ],
   "source": [
    "loan = pd.read_csv('data/loan.csv')\n",
    "loan"
   ]
  },
  {
   "cell_type": "code",
   "execution_count": 183,
   "metadata": {},
   "outputs": [
    {
     "data": {
      "text/html": [
       "<div>\n",
       "<style scoped>\n",
       "    .dataframe tbody tr th:only-of-type {\n",
       "        vertical-align: middle;\n",
       "    }\n",
       "\n",
       "    .dataframe tbody tr th {\n",
       "        vertical-align: top;\n",
       "    }\n",
       "\n",
       "    .dataframe thead th {\n",
       "        text-align: right;\n",
       "    }\n",
       "</style>\n",
       "<table border=\"1\" class=\"dataframe\">\n",
       "  <thead>\n",
       "    <tr style=\"text-align: right;\">\n",
       "      <th></th>\n",
       "      <th>no_of_applications</th>\n",
       "    </tr>\n",
       "    <tr>\n",
       "      <th>financial_year</th>\n",
       "      <th></th>\n",
       "    </tr>\n",
       "  </thead>\n",
       "  <tbody>\n",
       "    <tr>\n",
       "      <th>2008</th>\n",
       "      <td>5297.000000</td>\n",
       "    </tr>\n",
       "    <tr>\n",
       "      <th>2009</th>\n",
       "      <td>7798.000000</td>\n",
       "    </tr>\n",
       "    <tr>\n",
       "      <th>2010</th>\n",
       "      <td>6395.666667</td>\n",
       "    </tr>\n",
       "    <tr>\n",
       "      <th>2011</th>\n",
       "      <td>4565.000000</td>\n",
       "    </tr>\n",
       "    <tr>\n",
       "      <th>2012</th>\n",
       "      <td>4776.500000</td>\n",
       "    </tr>\n",
       "    <tr>\n",
       "      <th>2013</th>\n",
       "      <td>3332.500000</td>\n",
       "    </tr>\n",
       "    <tr>\n",
       "      <th>2014</th>\n",
       "      <td>3034.750000</td>\n",
       "    </tr>\n",
       "    <tr>\n",
       "      <th>2015</th>\n",
       "      <td>2535.250000</td>\n",
       "    </tr>\n",
       "    <tr>\n",
       "      <th>2016</th>\n",
       "      <td>2594.500000</td>\n",
       "    </tr>\n",
       "    <tr>\n",
       "      <th>2017</th>\n",
       "      <td>2956.250000</td>\n",
       "    </tr>\n",
       "  </tbody>\n",
       "</table>\n",
       "</div>"
      ],
      "text/plain": [
       "                no_of_applications\n",
       "financial_year                    \n",
       "2008                   5297.000000\n",
       "2009                   7798.000000\n",
       "2010                   6395.666667\n",
       "2011                   4565.000000\n",
       "2012                   4776.500000\n",
       "2013                   3332.500000\n",
       "2014                   3034.750000\n",
       "2015                   2535.250000\n",
       "2016                   2594.500000\n",
       "2017                   2956.250000"
      ]
     },
     "execution_count": 183,
     "metadata": {},
     "output_type": "execute_result"
    }
   ],
   "source": [
    "loan.groupby(['financial_year']).mean()"
   ]
  },
  {
   "cell_type": "code",
   "execution_count": 184,
   "metadata": {},
   "outputs": [
    {
     "data": {
      "text/html": [
       "<div>\n",
       "<style scoped>\n",
       "    .dataframe tbody tr th:only-of-type {\n",
       "        vertical-align: middle;\n",
       "    }\n",
       "\n",
       "    .dataframe tbody tr th {\n",
       "        vertical-align: top;\n",
       "    }\n",
       "\n",
       "    .dataframe thead th {\n",
       "        text-align: right;\n",
       "    }\n",
       "</style>\n",
       "<table border=\"1\" class=\"dataframe\">\n",
       "  <thead>\n",
       "    <tr style=\"text-align: right;\">\n",
       "      <th></th>\n",
       "      <th>no_of_applications</th>\n",
       "    </tr>\n",
       "    <tr>\n",
       "      <th>application_type</th>\n",
       "      <th></th>\n",
       "    </tr>\n",
       "  </thead>\n",
       "  <tbody>\n",
       "    <tr>\n",
       "      <th>DBSS flat buyers</th>\n",
       "      <td>244.142857</td>\n",
       "    </tr>\n",
       "    <tr>\n",
       "      <th>existing flat owners (refinance)</th>\n",
       "      <td>511.000000</td>\n",
       "    </tr>\n",
       "    <tr>\n",
       "      <th>new flat buyers</th>\n",
       "      <td>1777.400000</td>\n",
       "    </tr>\n",
       "    <tr>\n",
       "      <th>resale flat buyers</th>\n",
       "      <td>12905.800000</td>\n",
       "    </tr>\n",
       "  </tbody>\n",
       "</table>\n",
       "</div>"
      ],
      "text/plain": [
       "                                  no_of_applications\n",
       "application_type                                    \n",
       "DBSS flat buyers                          244.142857\n",
       "existing flat owners (refinance)          511.000000\n",
       "new flat buyers                          1777.400000\n",
       "resale flat buyers                      12905.800000"
      ]
     },
     "execution_count": 184,
     "metadata": {},
     "output_type": "execute_result"
    }
   ],
   "source": [
    "loan.groupby(['application_type'])[['no_of_applications']].mean()"
   ]
  },
  {
   "cell_type": "code",
   "execution_count": 186,
   "metadata": {},
   "outputs": [
    {
     "data": {
      "text/html": [
       "<div>\n",
       "<style scoped>\n",
       "    .dataframe tbody tr th:only-of-type {\n",
       "        vertical-align: middle;\n",
       "    }\n",
       "\n",
       "    .dataframe tbody tr th {\n",
       "        vertical-align: top;\n",
       "    }\n",
       "\n",
       "    .dataframe thead tr th {\n",
       "        text-align: left;\n",
       "    }\n",
       "\n",
       "    .dataframe thead tr:last-of-type th {\n",
       "        text-align: right;\n",
       "    }\n",
       "</style>\n",
       "<table border=\"1\" class=\"dataframe\">\n",
       "  <thead>\n",
       "    <tr>\n",
       "      <th></th>\n",
       "      <th></th>\n",
       "      <th colspan=\"8\" halign=\"left\">no_of_applications</th>\n",
       "    </tr>\n",
       "    <tr>\n",
       "      <th></th>\n",
       "      <th></th>\n",
       "      <th>count</th>\n",
       "      <th>mean</th>\n",
       "      <th>std</th>\n",
       "      <th>min</th>\n",
       "      <th>25%</th>\n",
       "      <th>50%</th>\n",
       "      <th>75%</th>\n",
       "      <th>max</th>\n",
       "    </tr>\n",
       "    <tr>\n",
       "      <th>financial_year</th>\n",
       "      <th>application_type</th>\n",
       "      <th></th>\n",
       "      <th></th>\n",
       "      <th></th>\n",
       "      <th></th>\n",
       "      <th></th>\n",
       "      <th></th>\n",
       "      <th></th>\n",
       "      <th></th>\n",
       "    </tr>\n",
       "  </thead>\n",
       "  <tbody>\n",
       "    <tr>\n",
       "      <th rowspan=\"3\" valign=\"top\">2008</th>\n",
       "      <th>existing flat owners (refinance)</th>\n",
       "      <td>1.0</td>\n",
       "      <td>42.0</td>\n",
       "      <td>NaN</td>\n",
       "      <td>42.0</td>\n",
       "      <td>42.0</td>\n",
       "      <td>42.0</td>\n",
       "      <td>42.0</td>\n",
       "      <td>42.0</td>\n",
       "    </tr>\n",
       "    <tr>\n",
       "      <th>new flat buyers</th>\n",
       "      <td>1.0</td>\n",
       "      <td>936.0</td>\n",
       "      <td>NaN</td>\n",
       "      <td>936.0</td>\n",
       "      <td>936.0</td>\n",
       "      <td>936.0</td>\n",
       "      <td>936.0</td>\n",
       "      <td>936.0</td>\n",
       "    </tr>\n",
       "    <tr>\n",
       "      <th>resale flat buyers</th>\n",
       "      <td>1.0</td>\n",
       "      <td>14913.0</td>\n",
       "      <td>NaN</td>\n",
       "      <td>14913.0</td>\n",
       "      <td>14913.0</td>\n",
       "      <td>14913.0</td>\n",
       "      <td>14913.0</td>\n",
       "      <td>14913.0</td>\n",
       "    </tr>\n",
       "    <tr>\n",
       "      <th rowspan=\"3\" valign=\"top\">2009</th>\n",
       "      <th>existing flat owners (refinance)</th>\n",
       "      <td>1.0</td>\n",
       "      <td>101.0</td>\n",
       "      <td>NaN</td>\n",
       "      <td>101.0</td>\n",
       "      <td>101.0</td>\n",
       "      <td>101.0</td>\n",
       "      <td>101.0</td>\n",
       "      <td>101.0</td>\n",
       "    </tr>\n",
       "    <tr>\n",
       "      <th>new flat buyers</th>\n",
       "      <td>1.0</td>\n",
       "      <td>948.0</td>\n",
       "      <td>NaN</td>\n",
       "      <td>948.0</td>\n",
       "      <td>948.0</td>\n",
       "      <td>948.0</td>\n",
       "      <td>948.0</td>\n",
       "      <td>948.0</td>\n",
       "    </tr>\n",
       "    <tr>\n",
       "      <th>resale flat buyers</th>\n",
       "      <td>1.0</td>\n",
       "      <td>22345.0</td>\n",
       "      <td>NaN</td>\n",
       "      <td>22345.0</td>\n",
       "      <td>22345.0</td>\n",
       "      <td>22345.0</td>\n",
       "      <td>22345.0</td>\n",
       "      <td>22345.0</td>\n",
       "    </tr>\n",
       "    <tr>\n",
       "      <th rowspan=\"3\" valign=\"top\">2010</th>\n",
       "      <th>existing flat owners (refinance)</th>\n",
       "      <td>1.0</td>\n",
       "      <td>329.0</td>\n",
       "      <td>NaN</td>\n",
       "      <td>329.0</td>\n",
       "      <td>329.0</td>\n",
       "      <td>329.0</td>\n",
       "      <td>329.0</td>\n",
       "      <td>329.0</td>\n",
       "    </tr>\n",
       "    <tr>\n",
       "      <th>new flat buyers</th>\n",
       "      <td>1.0</td>\n",
       "      <td>868.0</td>\n",
       "      <td>NaN</td>\n",
       "      <td>868.0</td>\n",
       "      <td>868.0</td>\n",
       "      <td>868.0</td>\n",
       "      <td>868.0</td>\n",
       "      <td>868.0</td>\n",
       "    </tr>\n",
       "    <tr>\n",
       "      <th>resale flat buyers</th>\n",
       "      <td>1.0</td>\n",
       "      <td>17990.0</td>\n",
       "      <td>NaN</td>\n",
       "      <td>17990.0</td>\n",
       "      <td>17990.0</td>\n",
       "      <td>17990.0</td>\n",
       "      <td>17990.0</td>\n",
       "      <td>17990.0</td>\n",
       "    </tr>\n",
       "    <tr>\n",
       "      <th rowspan=\"4\" valign=\"top\">2011</th>\n",
       "      <th>DBSS flat buyers</th>\n",
       "      <td>1.0</td>\n",
       "      <td>271.0</td>\n",
       "      <td>NaN</td>\n",
       "      <td>271.0</td>\n",
       "      <td>271.0</td>\n",
       "      <td>271.0</td>\n",
       "      <td>271.0</td>\n",
       "      <td>271.0</td>\n",
       "    </tr>\n",
       "    <tr>\n",
       "      <th>existing flat owners (refinance)</th>\n",
       "      <td>1.0</td>\n",
       "      <td>548.0</td>\n",
       "      <td>NaN</td>\n",
       "      <td>548.0</td>\n",
       "      <td>548.0</td>\n",
       "      <td>548.0</td>\n",
       "      <td>548.0</td>\n",
       "      <td>548.0</td>\n",
       "    </tr>\n",
       "    <tr>\n",
       "      <th>new flat buyers</th>\n",
       "      <td>1.0</td>\n",
       "      <td>2402.0</td>\n",
       "      <td>NaN</td>\n",
       "      <td>2402.0</td>\n",
       "      <td>2402.0</td>\n",
       "      <td>2402.0</td>\n",
       "      <td>2402.0</td>\n",
       "      <td>2402.0</td>\n",
       "    </tr>\n",
       "    <tr>\n",
       "      <th>resale flat buyers</th>\n",
       "      <td>1.0</td>\n",
       "      <td>15039.0</td>\n",
       "      <td>NaN</td>\n",
       "      <td>15039.0</td>\n",
       "      <td>15039.0</td>\n",
       "      <td>15039.0</td>\n",
       "      <td>15039.0</td>\n",
       "      <td>15039.0</td>\n",
       "    </tr>\n",
       "    <tr>\n",
       "      <th rowspan=\"4\" valign=\"top\">2012</th>\n",
       "      <th>DBSS flat buyers</th>\n",
       "      <td>1.0</td>\n",
       "      <td>1017.0</td>\n",
       "      <td>NaN</td>\n",
       "      <td>1017.0</td>\n",
       "      <td>1017.0</td>\n",
       "      <td>1017.0</td>\n",
       "      <td>1017.0</td>\n",
       "      <td>1017.0</td>\n",
       "    </tr>\n",
       "    <tr>\n",
       "      <th>existing flat owners (refinance)</th>\n",
       "      <td>1.0</td>\n",
       "      <td>611.0</td>\n",
       "      <td>NaN</td>\n",
       "      <td>611.0</td>\n",
       "      <td>611.0</td>\n",
       "      <td>611.0</td>\n",
       "      <td>611.0</td>\n",
       "      <td>611.0</td>\n",
       "    </tr>\n",
       "    <tr>\n",
       "      <th>new flat buyers</th>\n",
       "      <td>1.0</td>\n",
       "      <td>2219.0</td>\n",
       "      <td>NaN</td>\n",
       "      <td>2219.0</td>\n",
       "      <td>2219.0</td>\n",
       "      <td>2219.0</td>\n",
       "      <td>2219.0</td>\n",
       "      <td>2219.0</td>\n",
       "    </tr>\n",
       "    <tr>\n",
       "      <th>resale flat buyers</th>\n",
       "      <td>1.0</td>\n",
       "      <td>15259.0</td>\n",
       "      <td>NaN</td>\n",
       "      <td>15259.0</td>\n",
       "      <td>15259.0</td>\n",
       "      <td>15259.0</td>\n",
       "      <td>15259.0</td>\n",
       "      <td>15259.0</td>\n",
       "    </tr>\n",
       "    <tr>\n",
       "      <th rowspan=\"4\" valign=\"top\">2013</th>\n",
       "      <th>DBSS flat buyers</th>\n",
       "      <td>1.0</td>\n",
       "      <td>244.0</td>\n",
       "      <td>NaN</td>\n",
       "      <td>244.0</td>\n",
       "      <td>244.0</td>\n",
       "      <td>244.0</td>\n",
       "      <td>244.0</td>\n",
       "      <td>244.0</td>\n",
       "    </tr>\n",
       "    <tr>\n",
       "      <th>existing flat owners (refinance)</th>\n",
       "      <td>1.0</td>\n",
       "      <td>1399.0</td>\n",
       "      <td>NaN</td>\n",
       "      <td>1399.0</td>\n",
       "      <td>1399.0</td>\n",
       "      <td>1399.0</td>\n",
       "      <td>1399.0</td>\n",
       "      <td>1399.0</td>\n",
       "    </tr>\n",
       "    <tr>\n",
       "      <th>new flat buyers</th>\n",
       "      <td>1.0</td>\n",
       "      <td>2474.0</td>\n",
       "      <td>NaN</td>\n",
       "      <td>2474.0</td>\n",
       "      <td>2474.0</td>\n",
       "      <td>2474.0</td>\n",
       "      <td>2474.0</td>\n",
       "      <td>2474.0</td>\n",
       "    </tr>\n",
       "    <tr>\n",
       "      <th>resale flat buyers</th>\n",
       "      <td>1.0</td>\n",
       "      <td>9213.0</td>\n",
       "      <td>NaN</td>\n",
       "      <td>9213.0</td>\n",
       "      <td>9213.0</td>\n",
       "      <td>9213.0</td>\n",
       "      <td>9213.0</td>\n",
       "      <td>9213.0</td>\n",
       "    </tr>\n",
       "    <tr>\n",
       "      <th rowspan=\"4\" valign=\"top\">2014</th>\n",
       "      <th>DBSS flat buyers</th>\n",
       "      <td>1.0</td>\n",
       "      <td>121.0</td>\n",
       "      <td>NaN</td>\n",
       "      <td>121.0</td>\n",
       "      <td>121.0</td>\n",
       "      <td>121.0</td>\n",
       "      <td>121.0</td>\n",
       "      <td>121.0</td>\n",
       "    </tr>\n",
       "    <tr>\n",
       "      <th>existing flat owners (refinance)</th>\n",
       "      <td>1.0</td>\n",
       "      <td>578.0</td>\n",
       "      <td>NaN</td>\n",
       "      <td>578.0</td>\n",
       "      <td>578.0</td>\n",
       "      <td>578.0</td>\n",
       "      <td>578.0</td>\n",
       "      <td>578.0</td>\n",
       "    </tr>\n",
       "    <tr>\n",
       "      <th>new flat buyers</th>\n",
       "      <td>1.0</td>\n",
       "      <td>2122.0</td>\n",
       "      <td>NaN</td>\n",
       "      <td>2122.0</td>\n",
       "      <td>2122.0</td>\n",
       "      <td>2122.0</td>\n",
       "      <td>2122.0</td>\n",
       "      <td>2122.0</td>\n",
       "    </tr>\n",
       "    <tr>\n",
       "      <th>resale flat buyers</th>\n",
       "      <td>1.0</td>\n",
       "      <td>9318.0</td>\n",
       "      <td>NaN</td>\n",
       "      <td>9318.0</td>\n",
       "      <td>9318.0</td>\n",
       "      <td>9318.0</td>\n",
       "      <td>9318.0</td>\n",
       "      <td>9318.0</td>\n",
       "    </tr>\n",
       "    <tr>\n",
       "      <th rowspan=\"4\" valign=\"top\">2015</th>\n",
       "      <th>DBSS flat buyers</th>\n",
       "      <td>1.0</td>\n",
       "      <td>44.0</td>\n",
       "      <td>NaN</td>\n",
       "      <td>44.0</td>\n",
       "      <td>44.0</td>\n",
       "      <td>44.0</td>\n",
       "      <td>44.0</td>\n",
       "      <td>44.0</td>\n",
       "    </tr>\n",
       "    <tr>\n",
       "      <th>existing flat owners (refinance)</th>\n",
       "      <td>1.0</td>\n",
       "      <td>156.0</td>\n",
       "      <td>NaN</td>\n",
       "      <td>156.0</td>\n",
       "      <td>156.0</td>\n",
       "      <td>156.0</td>\n",
       "      <td>156.0</td>\n",
       "      <td>156.0</td>\n",
       "    </tr>\n",
       "    <tr>\n",
       "      <th>new flat buyers</th>\n",
       "      <td>1.0</td>\n",
       "      <td>1730.0</td>\n",
       "      <td>NaN</td>\n",
       "      <td>1730.0</td>\n",
       "      <td>1730.0</td>\n",
       "      <td>1730.0</td>\n",
       "      <td>1730.0</td>\n",
       "      <td>1730.0</td>\n",
       "    </tr>\n",
       "    <tr>\n",
       "      <th>resale flat buyers</th>\n",
       "      <td>1.0</td>\n",
       "      <td>8211.0</td>\n",
       "      <td>NaN</td>\n",
       "      <td>8211.0</td>\n",
       "      <td>8211.0</td>\n",
       "      <td>8211.0</td>\n",
       "      <td>8211.0</td>\n",
       "      <td>8211.0</td>\n",
       "    </tr>\n",
       "    <tr>\n",
       "      <th rowspan=\"4\" valign=\"top\">2016</th>\n",
       "      <th>DBSS flat buyers</th>\n",
       "      <td>1.0</td>\n",
       "      <td>5.0</td>\n",
       "      <td>NaN</td>\n",
       "      <td>5.0</td>\n",
       "      <td>5.0</td>\n",
       "      <td>5.0</td>\n",
       "      <td>5.0</td>\n",
       "      <td>5.0</td>\n",
       "    </tr>\n",
       "    <tr>\n",
       "      <th>existing flat owners (refinance)</th>\n",
       "      <td>1.0</td>\n",
       "      <td>326.0</td>\n",
       "      <td>NaN</td>\n",
       "      <td>326.0</td>\n",
       "      <td>326.0</td>\n",
       "      <td>326.0</td>\n",
       "      <td>326.0</td>\n",
       "      <td>326.0</td>\n",
       "    </tr>\n",
       "    <tr>\n",
       "      <th>new flat buyers</th>\n",
       "      <td>1.0</td>\n",
       "      <td>1840.0</td>\n",
       "      <td>NaN</td>\n",
       "      <td>1840.0</td>\n",
       "      <td>1840.0</td>\n",
       "      <td>1840.0</td>\n",
       "      <td>1840.0</td>\n",
       "      <td>1840.0</td>\n",
       "    </tr>\n",
       "    <tr>\n",
       "      <th>resale flat buyers</th>\n",
       "      <td>1.0</td>\n",
       "      <td>8207.0</td>\n",
       "      <td>NaN</td>\n",
       "      <td>8207.0</td>\n",
       "      <td>8207.0</td>\n",
       "      <td>8207.0</td>\n",
       "      <td>8207.0</td>\n",
       "      <td>8207.0</td>\n",
       "    </tr>\n",
       "    <tr>\n",
       "      <th rowspan=\"4\" valign=\"top\">2017</th>\n",
       "      <th>DBSS flat buyers</th>\n",
       "      <td>1.0</td>\n",
       "      <td>7.0</td>\n",
       "      <td>NaN</td>\n",
       "      <td>7.0</td>\n",
       "      <td>7.0</td>\n",
       "      <td>7.0</td>\n",
       "      <td>7.0</td>\n",
       "      <td>7.0</td>\n",
       "    </tr>\n",
       "    <tr>\n",
       "      <th>existing flat owners (refinance)</th>\n",
       "      <td>1.0</td>\n",
       "      <td>1020.0</td>\n",
       "      <td>NaN</td>\n",
       "      <td>1020.0</td>\n",
       "      <td>1020.0</td>\n",
       "      <td>1020.0</td>\n",
       "      <td>1020.0</td>\n",
       "      <td>1020.0</td>\n",
       "    </tr>\n",
       "    <tr>\n",
       "      <th>new flat buyers</th>\n",
       "      <td>1.0</td>\n",
       "      <td>2235.0</td>\n",
       "      <td>NaN</td>\n",
       "      <td>2235.0</td>\n",
       "      <td>2235.0</td>\n",
       "      <td>2235.0</td>\n",
       "      <td>2235.0</td>\n",
       "      <td>2235.0</td>\n",
       "    </tr>\n",
       "    <tr>\n",
       "      <th>resale flat buyers</th>\n",
       "      <td>1.0</td>\n",
       "      <td>8563.0</td>\n",
       "      <td>NaN</td>\n",
       "      <td>8563.0</td>\n",
       "      <td>8563.0</td>\n",
       "      <td>8563.0</td>\n",
       "      <td>8563.0</td>\n",
       "      <td>8563.0</td>\n",
       "    </tr>\n",
       "  </tbody>\n",
       "</table>\n",
       "</div>"
      ],
      "text/plain": [
       "                                                no_of_applications           \\\n",
       "                                                             count     mean   \n",
       "financial_year application_type                                               \n",
       "2008           existing flat owners (refinance)                1.0     42.0   \n",
       "               new flat buyers                                 1.0    936.0   \n",
       "               resale flat buyers                              1.0  14913.0   \n",
       "2009           existing flat owners (refinance)                1.0    101.0   \n",
       "               new flat buyers                                 1.0    948.0   \n",
       "               resale flat buyers                              1.0  22345.0   \n",
       "2010           existing flat owners (refinance)                1.0    329.0   \n",
       "               new flat buyers                                 1.0    868.0   \n",
       "               resale flat buyers                              1.0  17990.0   \n",
       "2011           DBSS flat buyers                                1.0    271.0   \n",
       "               existing flat owners (refinance)                1.0    548.0   \n",
       "               new flat buyers                                 1.0   2402.0   \n",
       "               resale flat buyers                              1.0  15039.0   \n",
       "2012           DBSS flat buyers                                1.0   1017.0   \n",
       "               existing flat owners (refinance)                1.0    611.0   \n",
       "               new flat buyers                                 1.0   2219.0   \n",
       "               resale flat buyers                              1.0  15259.0   \n",
       "2013           DBSS flat buyers                                1.0    244.0   \n",
       "               existing flat owners (refinance)                1.0   1399.0   \n",
       "               new flat buyers                                 1.0   2474.0   \n",
       "               resale flat buyers                              1.0   9213.0   \n",
       "2014           DBSS flat buyers                                1.0    121.0   \n",
       "               existing flat owners (refinance)                1.0    578.0   \n",
       "               new flat buyers                                 1.0   2122.0   \n",
       "               resale flat buyers                              1.0   9318.0   \n",
       "2015           DBSS flat buyers                                1.0     44.0   \n",
       "               existing flat owners (refinance)                1.0    156.0   \n",
       "               new flat buyers                                 1.0   1730.0   \n",
       "               resale flat buyers                              1.0   8211.0   \n",
       "2016           DBSS flat buyers                                1.0      5.0   \n",
       "               existing flat owners (refinance)                1.0    326.0   \n",
       "               new flat buyers                                 1.0   1840.0   \n",
       "               resale flat buyers                              1.0   8207.0   \n",
       "2017           DBSS flat buyers                                1.0      7.0   \n",
       "               existing flat owners (refinance)                1.0   1020.0   \n",
       "               new flat buyers                                 1.0   2235.0   \n",
       "               resale flat buyers                              1.0   8563.0   \n",
       "\n",
       "                                                                       \\\n",
       "                                                std      min      25%   \n",
       "financial_year application_type                                         \n",
       "2008           existing flat owners (refinance) NaN     42.0     42.0   \n",
       "               new flat buyers                  NaN    936.0    936.0   \n",
       "               resale flat buyers               NaN  14913.0  14913.0   \n",
       "2009           existing flat owners (refinance) NaN    101.0    101.0   \n",
       "               new flat buyers                  NaN    948.0    948.0   \n",
       "               resale flat buyers               NaN  22345.0  22345.0   \n",
       "2010           existing flat owners (refinance) NaN    329.0    329.0   \n",
       "               new flat buyers                  NaN    868.0    868.0   \n",
       "               resale flat buyers               NaN  17990.0  17990.0   \n",
       "2011           DBSS flat buyers                 NaN    271.0    271.0   \n",
       "               existing flat owners (refinance) NaN    548.0    548.0   \n",
       "               new flat buyers                  NaN   2402.0   2402.0   \n",
       "               resale flat buyers               NaN  15039.0  15039.0   \n",
       "2012           DBSS flat buyers                 NaN   1017.0   1017.0   \n",
       "               existing flat owners (refinance) NaN    611.0    611.0   \n",
       "               new flat buyers                  NaN   2219.0   2219.0   \n",
       "               resale flat buyers               NaN  15259.0  15259.0   \n",
       "2013           DBSS flat buyers                 NaN    244.0    244.0   \n",
       "               existing flat owners (refinance) NaN   1399.0   1399.0   \n",
       "               new flat buyers                  NaN   2474.0   2474.0   \n",
       "               resale flat buyers               NaN   9213.0   9213.0   \n",
       "2014           DBSS flat buyers                 NaN    121.0    121.0   \n",
       "               existing flat owners (refinance) NaN    578.0    578.0   \n",
       "               new flat buyers                  NaN   2122.0   2122.0   \n",
       "               resale flat buyers               NaN   9318.0   9318.0   \n",
       "2015           DBSS flat buyers                 NaN     44.0     44.0   \n",
       "               existing flat owners (refinance) NaN    156.0    156.0   \n",
       "               new flat buyers                  NaN   1730.0   1730.0   \n",
       "               resale flat buyers               NaN   8211.0   8211.0   \n",
       "2016           DBSS flat buyers                 NaN      5.0      5.0   \n",
       "               existing flat owners (refinance) NaN    326.0    326.0   \n",
       "               new flat buyers                  NaN   1840.0   1840.0   \n",
       "               resale flat buyers               NaN   8207.0   8207.0   \n",
       "2017           DBSS flat buyers                 NaN      7.0      7.0   \n",
       "               existing flat owners (refinance) NaN   1020.0   1020.0   \n",
       "               new flat buyers                  NaN   2235.0   2235.0   \n",
       "               resale flat buyers               NaN   8563.0   8563.0   \n",
       "\n",
       "                                                                            \n",
       "                                                     50%      75%      max  \n",
       "financial_year application_type                                             \n",
       "2008           existing flat owners (refinance)     42.0     42.0     42.0  \n",
       "               new flat buyers                     936.0    936.0    936.0  \n",
       "               resale flat buyers                14913.0  14913.0  14913.0  \n",
       "2009           existing flat owners (refinance)    101.0    101.0    101.0  \n",
       "               new flat buyers                     948.0    948.0    948.0  \n",
       "               resale flat buyers                22345.0  22345.0  22345.0  \n",
       "2010           existing flat owners (refinance)    329.0    329.0    329.0  \n",
       "               new flat buyers                     868.0    868.0    868.0  \n",
       "               resale flat buyers                17990.0  17990.0  17990.0  \n",
       "2011           DBSS flat buyers                    271.0    271.0    271.0  \n",
       "               existing flat owners (refinance)    548.0    548.0    548.0  \n",
       "               new flat buyers                    2402.0   2402.0   2402.0  \n",
       "               resale flat buyers                15039.0  15039.0  15039.0  \n",
       "2012           DBSS flat buyers                   1017.0   1017.0   1017.0  \n",
       "               existing flat owners (refinance)    611.0    611.0    611.0  \n",
       "               new flat buyers                    2219.0   2219.0   2219.0  \n",
       "               resale flat buyers                15259.0  15259.0  15259.0  \n",
       "2013           DBSS flat buyers                    244.0    244.0    244.0  \n",
       "               existing flat owners (refinance)   1399.0   1399.0   1399.0  \n",
       "               new flat buyers                    2474.0   2474.0   2474.0  \n",
       "               resale flat buyers                 9213.0   9213.0   9213.0  \n",
       "2014           DBSS flat buyers                    121.0    121.0    121.0  \n",
       "               existing flat owners (refinance)    578.0    578.0    578.0  \n",
       "               new flat buyers                    2122.0   2122.0   2122.0  \n",
       "               resale flat buyers                 9318.0   9318.0   9318.0  \n",
       "2015           DBSS flat buyers                     44.0     44.0     44.0  \n",
       "               existing flat owners (refinance)    156.0    156.0    156.0  \n",
       "               new flat buyers                    1730.0   1730.0   1730.0  \n",
       "               resale flat buyers                 8211.0   8211.0   8211.0  \n",
       "2016           DBSS flat buyers                      5.0      5.0      5.0  \n",
       "               existing flat owners (refinance)    326.0    326.0    326.0  \n",
       "               new flat buyers                    1840.0   1840.0   1840.0  \n",
       "               resale flat buyers                 8207.0   8207.0   8207.0  \n",
       "2017           DBSS flat buyers                      7.0      7.0      7.0  \n",
       "               existing flat owners (refinance)   1020.0   1020.0   1020.0  \n",
       "               new flat buyers                    2235.0   2235.0   2235.0  \n",
       "               resale flat buyers                 8563.0   8563.0   8563.0  "
      ]
     },
     "execution_count": 186,
     "metadata": {},
     "output_type": "execute_result"
    }
   ],
   "source": [
    "loan.groupby(['financial_year','application_type']).describe()"
   ]
  },
  {
   "cell_type": "code",
   "execution_count": null,
   "metadata": {},
   "outputs": [],
   "source": [
    "loan.groupby(['application_type']).describe()"
   ]
  },
  {
   "cell_type": "code",
   "execution_count": 289,
   "metadata": {},
   "outputs": [],
   "source": [
    "loan.groupby(['financial_year', 'application_type']).describe().to_csv('test.csv')"
   ]
  },
  {
   "cell_type": "markdown",
   "metadata": {},
   "source": [
    "### Exercise"
   ]
  },
  {
   "cell_type": "code",
   "execution_count": 188,
   "metadata": {},
   "outputs": [],
   "source": [
    "# revenue"
   ]
  },
  {
   "cell_type": "code",
   "execution_count": 291,
   "metadata": {},
   "outputs": [
    {
     "data": {
      "text/html": [
       "<div>\n",
       "<style scoped>\n",
       "    .dataframe tbody tr th:only-of-type {\n",
       "        vertical-align: middle;\n",
       "    }\n",
       "\n",
       "    .dataframe tbody tr th {\n",
       "        vertical-align: top;\n",
       "    }\n",
       "\n",
       "    .dataframe thead th {\n",
       "        text-align: right;\n",
       "    }\n",
       "</style>\n",
       "<table border=\"1\" class=\"dataframe\">\n",
       "  <thead>\n",
       "    <tr style=\"text-align: right;\">\n",
       "      <th></th>\n",
       "      <th>financial_year</th>\n",
       "      <th>amount</th>\n",
       "      <th>percent_of_gdp</th>\n",
       "    </tr>\n",
       "    <tr>\n",
       "      <th>type</th>\n",
       "      <th></th>\n",
       "      <th></th>\n",
       "      <th></th>\n",
       "    </tr>\n",
       "  </thead>\n",
       "  <tbody>\n",
       "    <tr>\n",
       "      <th>Assets Taxes</th>\n",
       "      <td>2008.0</td>\n",
       "      <td>2878.478261</td>\n",
       "      <td>0.009870</td>\n",
       "    </tr>\n",
       "    <tr>\n",
       "      <th>Betting Taxes</th>\n",
       "      <td>2008.0</td>\n",
       "      <td>1967.521739</td>\n",
       "      <td>0.007130</td>\n",
       "    </tr>\n",
       "    <tr>\n",
       "      <th>Corporate Income Tax</th>\n",
       "      <td>2008.0</td>\n",
       "      <td>10289.608696</td>\n",
       "      <td>0.036478</td>\n",
       "    </tr>\n",
       "    <tr>\n",
       "      <th>Customs and Excise Taxes</th>\n",
       "      <td>2008.0</td>\n",
       "      <td>2191.086957</td>\n",
       "      <td>0.008130</td>\n",
       "    </tr>\n",
       "    <tr>\n",
       "      <th>Fees and Charges (Excluding Vehicle Quota Premiums)</th>\n",
       "      <td>2008.0</td>\n",
       "      <td>2552.434783</td>\n",
       "      <td>0.009696</td>\n",
       "    </tr>\n",
       "    <tr>\n",
       "      <th>Goods and Services Tax</th>\n",
       "      <td>2008.0</td>\n",
       "      <td>6382.695652</td>\n",
       "      <td>0.019957</td>\n",
       "    </tr>\n",
       "    <tr>\n",
       "      <th>Motor Vehicle Taxes</th>\n",
       "      <td>2008.0</td>\n",
       "      <td>1886.695652</td>\n",
       "      <td>0.007348</td>\n",
       "    </tr>\n",
       "    <tr>\n",
       "      <th>Other Taxes</th>\n",
       "      <td>2008.0</td>\n",
       "      <td>3184.739130</td>\n",
       "      <td>0.010000</td>\n",
       "    </tr>\n",
       "    <tr>\n",
       "      <th>Others</th>\n",
       "      <td>2008.0</td>\n",
       "      <td>633.391304</td>\n",
       "      <td>0.003565</td>\n",
       "    </tr>\n",
       "    <tr>\n",
       "      <th>Personal Income Tax</th>\n",
       "      <td>2008.0</td>\n",
       "      <td>6095.956522</td>\n",
       "      <td>0.020087</td>\n",
       "    </tr>\n",
       "    <tr>\n",
       "      <th>Stamp Duty</th>\n",
       "      <td>2008.0</td>\n",
       "      <td>2429.478261</td>\n",
       "      <td>0.007739</td>\n",
       "    </tr>\n",
       "    <tr>\n",
       "      <th>Statutory Boards' Contributions</th>\n",
       "      <td>2008.0</td>\n",
       "      <td>1154.956522</td>\n",
       "      <td>0.004565</td>\n",
       "    </tr>\n",
       "    <tr>\n",
       "      <th>Vehicle Quota Premiums</th>\n",
       "      <td>2008.0</td>\n",
       "      <td>2360.782609</td>\n",
       "      <td>0.008174</td>\n",
       "    </tr>\n",
       "    <tr>\n",
       "      <th>Withholding Tax</th>\n",
       "      <td>2008.0</td>\n",
       "      <td>1008.434783</td>\n",
       "      <td>0.003435</td>\n",
       "    </tr>\n",
       "  </tbody>\n",
       "</table>\n",
       "</div>"
      ],
      "text/plain": [
       "                                                    financial_year  \\\n",
       "type                                                                 \n",
       "Assets Taxes                                                2008.0   \n",
       "Betting Taxes                                               2008.0   \n",
       "Corporate Income Tax                                        2008.0   \n",
       "Customs and Excise Taxes                                    2008.0   \n",
       "Fees and Charges (Excluding Vehicle Quota Premi...          2008.0   \n",
       "Goods and Services Tax                                      2008.0   \n",
       "Motor Vehicle Taxes                                         2008.0   \n",
       "Other Taxes                                                 2008.0   \n",
       "Others                                                      2008.0   \n",
       "Personal Income Tax                                         2008.0   \n",
       "Stamp Duty                                                  2008.0   \n",
       "Statutory Boards' Contributions                             2008.0   \n",
       "Vehicle Quota Premiums                                      2008.0   \n",
       "Withholding Tax                                             2008.0   \n",
       "\n",
       "                                                          amount  \\\n",
       "type                                                               \n",
       "Assets Taxes                                         2878.478261   \n",
       "Betting Taxes                                        1967.521739   \n",
       "Corporate Income Tax                                10289.608696   \n",
       "Customs and Excise Taxes                             2191.086957   \n",
       "Fees and Charges (Excluding Vehicle Quota Premi...   2552.434783   \n",
       "Goods and Services Tax                               6382.695652   \n",
       "Motor Vehicle Taxes                                  1886.695652   \n",
       "Other Taxes                                          3184.739130   \n",
       "Others                                                633.391304   \n",
       "Personal Income Tax                                  6095.956522   \n",
       "Stamp Duty                                           2429.478261   \n",
       "Statutory Boards' Contributions                      1154.956522   \n",
       "Vehicle Quota Premiums                               2360.782609   \n",
       "Withholding Tax                                      1008.434783   \n",
       "\n",
       "                                                    percent_of_gdp  \n",
       "type                                                                \n",
       "Assets Taxes                                              0.009870  \n",
       "Betting Taxes                                             0.007130  \n",
       "Corporate Income Tax                                      0.036478  \n",
       "Customs and Excise Taxes                                  0.008130  \n",
       "Fees and Charges (Excluding Vehicle Quota Premi...        0.009696  \n",
       "Goods and Services Tax                                    0.019957  \n",
       "Motor Vehicle Taxes                                       0.007348  \n",
       "Other Taxes                                               0.010000  \n",
       "Others                                                    0.003565  \n",
       "Personal Income Tax                                       0.020087  \n",
       "Stamp Duty                                                0.007739  \n",
       "Statutory Boards' Contributions                           0.004565  \n",
       "Vehicle Quota Premiums                                    0.008174  \n",
       "Withholding Tax                                           0.003435  "
      ]
     },
     "execution_count": 291,
     "metadata": {},
     "output_type": "execute_result"
    }
   ],
   "source": [
    "revenue.groupby('type').mean()"
   ]
  },
  {
   "cell_type": "code",
   "execution_count": 142,
   "metadata": {},
   "outputs": [
    {
     "data": {
      "text/html": [
       "<div>\n",
       "<style scoped>\n",
       "    .dataframe tbody tr th:only-of-type {\n",
       "        vertical-align: middle;\n",
       "    }\n",
       "\n",
       "    .dataframe tbody tr th {\n",
       "        vertical-align: top;\n",
       "    }\n",
       "\n",
       "    .dataframe thead th {\n",
       "        text-align: right;\n",
       "    }\n",
       "</style>\n",
       "<table border=\"1\" class=\"dataframe\">\n",
       "  <thead>\n",
       "    <tr style=\"text-align: right;\">\n",
       "      <th></th>\n",
       "      <th>financial_year</th>\n",
       "      <th>amount</th>\n",
       "      <th>percent_of_gdp</th>\n",
       "    </tr>\n",
       "    <tr>\n",
       "      <th>class</th>\n",
       "      <th></th>\n",
       "      <th></th>\n",
       "      <th></th>\n",
       "    </tr>\n",
       "  </thead>\n",
       "  <tbody>\n",
       "    <tr>\n",
       "      <th>Fees and Charges</th>\n",
       "      <td>2008.0</td>\n",
       "      <td>2456.608696</td>\n",
       "      <td>0.008935</td>\n",
       "    </tr>\n",
       "    <tr>\n",
       "      <th>Others</th>\n",
       "      <td>2008.0</td>\n",
       "      <td>633.391304</td>\n",
       "      <td>0.003565</td>\n",
       "    </tr>\n",
       "    <tr>\n",
       "      <th>Tax</th>\n",
       "      <td>2008.0</td>\n",
       "      <td>3588.150198</td>\n",
       "      <td>0.012249</td>\n",
       "    </tr>\n",
       "  </tbody>\n",
       "</table>\n",
       "</div>"
      ],
      "text/plain": [
       "                  financial_year       amount  percent_of_gdp\n",
       "class                                                        \n",
       "Fees and Charges          2008.0  2456.608696        0.008935\n",
       "Others                    2008.0   633.391304        0.003565\n",
       "Tax                       2008.0  3588.150198        0.012249"
      ]
     },
     "execution_count": 142,
     "metadata": {},
     "output_type": "execute_result"
    }
   ],
   "source": [
    "revenue.groupby('class').mean()"
   ]
  },
  {
   "cell_type": "code",
   "execution_count": 292,
   "metadata": {},
   "outputs": [
    {
     "data": {
      "text/html": [
       "<div>\n",
       "<style scoped>\n",
       "    .dataframe tbody tr th:only-of-type {\n",
       "        vertical-align: middle;\n",
       "    }\n",
       "\n",
       "    .dataframe tbody tr th {\n",
       "        vertical-align: top;\n",
       "    }\n",
       "\n",
       "    .dataframe thead th {\n",
       "        text-align: right;\n",
       "    }\n",
       "</style>\n",
       "<table border=\"1\" class=\"dataframe\">\n",
       "  <thead>\n",
       "    <tr style=\"text-align: right;\">\n",
       "      <th></th>\n",
       "      <th></th>\n",
       "      <th>financial_year</th>\n",
       "      <th>amount</th>\n",
       "      <th>percent_of_gdp</th>\n",
       "    </tr>\n",
       "    <tr>\n",
       "      <th>class</th>\n",
       "      <th>type</th>\n",
       "      <th></th>\n",
       "      <th></th>\n",
       "      <th></th>\n",
       "    </tr>\n",
       "  </thead>\n",
       "  <tbody>\n",
       "    <tr>\n",
       "      <th rowspan=\"2\" valign=\"top\">Fees and Charges</th>\n",
       "      <th>Fees and Charges (Excluding Vehicle Quota Premiums)</th>\n",
       "      <td>2008.0</td>\n",
       "      <td>2552.434783</td>\n",
       "      <td>0.009696</td>\n",
       "    </tr>\n",
       "    <tr>\n",
       "      <th>Vehicle Quota Premiums</th>\n",
       "      <td>2008.0</td>\n",
       "      <td>2360.782609</td>\n",
       "      <td>0.008174</td>\n",
       "    </tr>\n",
       "    <tr>\n",
       "      <th>Others</th>\n",
       "      <th>Others</th>\n",
       "      <td>2008.0</td>\n",
       "      <td>633.391304</td>\n",
       "      <td>0.003565</td>\n",
       "    </tr>\n",
       "    <tr>\n",
       "      <th rowspan=\"11\" valign=\"top\">Tax</th>\n",
       "      <th>Assets Taxes</th>\n",
       "      <td>2008.0</td>\n",
       "      <td>2878.478261</td>\n",
       "      <td>0.009870</td>\n",
       "    </tr>\n",
       "    <tr>\n",
       "      <th>Betting Taxes</th>\n",
       "      <td>2008.0</td>\n",
       "      <td>1967.521739</td>\n",
       "      <td>0.007130</td>\n",
       "    </tr>\n",
       "    <tr>\n",
       "      <th>Corporate Income Tax</th>\n",
       "      <td>2008.0</td>\n",
       "      <td>10289.608696</td>\n",
       "      <td>0.036478</td>\n",
       "    </tr>\n",
       "    <tr>\n",
       "      <th>Customs and Excise Taxes</th>\n",
       "      <td>2008.0</td>\n",
       "      <td>2191.086957</td>\n",
       "      <td>0.008130</td>\n",
       "    </tr>\n",
       "    <tr>\n",
       "      <th>Goods and Services Tax</th>\n",
       "      <td>2008.0</td>\n",
       "      <td>6382.695652</td>\n",
       "      <td>0.019957</td>\n",
       "    </tr>\n",
       "    <tr>\n",
       "      <th>Motor Vehicle Taxes</th>\n",
       "      <td>2008.0</td>\n",
       "      <td>1886.695652</td>\n",
       "      <td>0.007348</td>\n",
       "    </tr>\n",
       "    <tr>\n",
       "      <th>Other Taxes</th>\n",
       "      <td>2008.0</td>\n",
       "      <td>3184.739130</td>\n",
       "      <td>0.010000</td>\n",
       "    </tr>\n",
       "    <tr>\n",
       "      <th>Personal Income Tax</th>\n",
       "      <td>2008.0</td>\n",
       "      <td>6095.956522</td>\n",
       "      <td>0.020087</td>\n",
       "    </tr>\n",
       "    <tr>\n",
       "      <th>Stamp Duty</th>\n",
       "      <td>2008.0</td>\n",
       "      <td>2429.478261</td>\n",
       "      <td>0.007739</td>\n",
       "    </tr>\n",
       "    <tr>\n",
       "      <th>Statutory Boards' Contributions</th>\n",
       "      <td>2008.0</td>\n",
       "      <td>1154.956522</td>\n",
       "      <td>0.004565</td>\n",
       "    </tr>\n",
       "    <tr>\n",
       "      <th>Withholding Tax</th>\n",
       "      <td>2008.0</td>\n",
       "      <td>1008.434783</td>\n",
       "      <td>0.003435</td>\n",
       "    </tr>\n",
       "  </tbody>\n",
       "</table>\n",
       "</div>"
      ],
      "text/plain": [
       "                                                                     financial_year  \\\n",
       "class            type                                                                 \n",
       "Fees and Charges Fees and Charges (Excluding Vehicle Quota Premi...          2008.0   \n",
       "                 Vehicle Quota Premiums                                      2008.0   \n",
       "Others           Others                                                      2008.0   \n",
       "Tax              Assets Taxes                                                2008.0   \n",
       "                 Betting Taxes                                               2008.0   \n",
       "                 Corporate Income Tax                                        2008.0   \n",
       "                 Customs and Excise Taxes                                    2008.0   \n",
       "                 Goods and Services Tax                                      2008.0   \n",
       "                 Motor Vehicle Taxes                                         2008.0   \n",
       "                 Other Taxes                                                 2008.0   \n",
       "                 Personal Income Tax                                         2008.0   \n",
       "                 Stamp Duty                                                  2008.0   \n",
       "                 Statutory Boards' Contributions                             2008.0   \n",
       "                 Withholding Tax                                             2008.0   \n",
       "\n",
       "                                                                           amount  \\\n",
       "class            type                                                               \n",
       "Fees and Charges Fees and Charges (Excluding Vehicle Quota Premi...   2552.434783   \n",
       "                 Vehicle Quota Premiums                               2360.782609   \n",
       "Others           Others                                                633.391304   \n",
       "Tax              Assets Taxes                                         2878.478261   \n",
       "                 Betting Taxes                                        1967.521739   \n",
       "                 Corporate Income Tax                                10289.608696   \n",
       "                 Customs and Excise Taxes                             2191.086957   \n",
       "                 Goods and Services Tax                               6382.695652   \n",
       "                 Motor Vehicle Taxes                                  1886.695652   \n",
       "                 Other Taxes                                          3184.739130   \n",
       "                 Personal Income Tax                                  6095.956522   \n",
       "                 Stamp Duty                                           2429.478261   \n",
       "                 Statutory Boards' Contributions                      1154.956522   \n",
       "                 Withholding Tax                                      1008.434783   \n",
       "\n",
       "                                                                     percent_of_gdp  \n",
       "class            type                                                                \n",
       "Fees and Charges Fees and Charges (Excluding Vehicle Quota Premi...        0.009696  \n",
       "                 Vehicle Quota Premiums                                    0.008174  \n",
       "Others           Others                                                    0.003565  \n",
       "Tax              Assets Taxes                                              0.009870  \n",
       "                 Betting Taxes                                             0.007130  \n",
       "                 Corporate Income Tax                                      0.036478  \n",
       "                 Customs and Excise Taxes                                  0.008130  \n",
       "                 Goods and Services Tax                                    0.019957  \n",
       "                 Motor Vehicle Taxes                                       0.007348  \n",
       "                 Other Taxes                                               0.010000  \n",
       "                 Personal Income Tax                                       0.020087  \n",
       "                 Stamp Duty                                                0.007739  \n",
       "                 Statutory Boards' Contributions                           0.004565  \n",
       "                 Withholding Tax                                           0.003435  "
      ]
     },
     "execution_count": 292,
     "metadata": {},
     "output_type": "execute_result"
    }
   ],
   "source": [
    "revenue.groupby(['class', 'type']).mean()"
   ]
  },
  {
   "cell_type": "code",
   "execution_count": 144,
   "metadata": {},
   "outputs": [
    {
     "data": {
      "text/html": [
       "<div>\n",
       "<style scoped>\n",
       "    .dataframe tbody tr th:only-of-type {\n",
       "        vertical-align: middle;\n",
       "    }\n",
       "\n",
       "    .dataframe tbody tr th {\n",
       "        vertical-align: top;\n",
       "    }\n",
       "\n",
       "    .dataframe thead th {\n",
       "        text-align: right;\n",
       "    }\n",
       "</style>\n",
       "<table border=\"1\" class=\"dataframe\">\n",
       "  <thead>\n",
       "    <tr style=\"text-align: right;\">\n",
       "      <th></th>\n",
       "      <th></th>\n",
       "      <th>amount</th>\n",
       "      <th>percent_of_gdp</th>\n",
       "    </tr>\n",
       "    <tr>\n",
       "      <th>class</th>\n",
       "      <th>type</th>\n",
       "      <th></th>\n",
       "      <th></th>\n",
       "    </tr>\n",
       "  </thead>\n",
       "  <tbody>\n",
       "    <tr>\n",
       "      <th rowspan=\"2\" valign=\"top\">Fees and Charges</th>\n",
       "      <th>Fees and Charges (Excluding Vehicle Quota Premiums)</th>\n",
       "      <td>2552.434783</td>\n",
       "      <td>0.009696</td>\n",
       "    </tr>\n",
       "    <tr>\n",
       "      <th>Vehicle Quota Premiums</th>\n",
       "      <td>2360.782609</td>\n",
       "      <td>0.008174</td>\n",
       "    </tr>\n",
       "    <tr>\n",
       "      <th>Others</th>\n",
       "      <th>Others</th>\n",
       "      <td>633.391304</td>\n",
       "      <td>0.003565</td>\n",
       "    </tr>\n",
       "    <tr>\n",
       "      <th rowspan=\"11\" valign=\"top\">Tax</th>\n",
       "      <th>Assets Taxes</th>\n",
       "      <td>2878.478261</td>\n",
       "      <td>0.009870</td>\n",
       "    </tr>\n",
       "    <tr>\n",
       "      <th>Betting Taxes</th>\n",
       "      <td>1967.521739</td>\n",
       "      <td>0.007130</td>\n",
       "    </tr>\n",
       "    <tr>\n",
       "      <th>Corporate Income Tax</th>\n",
       "      <td>10289.608696</td>\n",
       "      <td>0.036478</td>\n",
       "    </tr>\n",
       "    <tr>\n",
       "      <th>Customs and Excise Taxes</th>\n",
       "      <td>2191.086957</td>\n",
       "      <td>0.008130</td>\n",
       "    </tr>\n",
       "    <tr>\n",
       "      <th>Goods and Services Tax</th>\n",
       "      <td>6382.695652</td>\n",
       "      <td>0.019957</td>\n",
       "    </tr>\n",
       "    <tr>\n",
       "      <th>Motor Vehicle Taxes</th>\n",
       "      <td>1886.695652</td>\n",
       "      <td>0.007348</td>\n",
       "    </tr>\n",
       "    <tr>\n",
       "      <th>Other Taxes</th>\n",
       "      <td>3184.739130</td>\n",
       "      <td>0.010000</td>\n",
       "    </tr>\n",
       "    <tr>\n",
       "      <th>Personal Income Tax</th>\n",
       "      <td>6095.956522</td>\n",
       "      <td>0.020087</td>\n",
       "    </tr>\n",
       "    <tr>\n",
       "      <th>Stamp Duty</th>\n",
       "      <td>2429.478261</td>\n",
       "      <td>0.007739</td>\n",
       "    </tr>\n",
       "    <tr>\n",
       "      <th>Statutory Boards' Contributions</th>\n",
       "      <td>1154.956522</td>\n",
       "      <td>0.004565</td>\n",
       "    </tr>\n",
       "    <tr>\n",
       "      <th>Withholding Tax</th>\n",
       "      <td>1008.434783</td>\n",
       "      <td>0.003435</td>\n",
       "    </tr>\n",
       "  </tbody>\n",
       "</table>\n",
       "</div>"
      ],
      "text/plain": [
       "                                                                           amount  \\\n",
       "class            type                                                               \n",
       "Fees and Charges Fees and Charges (Excluding Vehicle Quota Premi...   2552.434783   \n",
       "                 Vehicle Quota Premiums                               2360.782609   \n",
       "Others           Others                                                633.391304   \n",
       "Tax              Assets Taxes                                         2878.478261   \n",
       "                 Betting Taxes                                        1967.521739   \n",
       "                 Corporate Income Tax                                10289.608696   \n",
       "                 Customs and Excise Taxes                             2191.086957   \n",
       "                 Goods and Services Tax                               6382.695652   \n",
       "                 Motor Vehicle Taxes                                  1886.695652   \n",
       "                 Other Taxes                                          3184.739130   \n",
       "                 Personal Income Tax                                  6095.956522   \n",
       "                 Stamp Duty                                           2429.478261   \n",
       "                 Statutory Boards' Contributions                      1154.956522   \n",
       "                 Withholding Tax                                      1008.434783   \n",
       "\n",
       "                                                                     percent_of_gdp  \n",
       "class            type                                                                \n",
       "Fees and Charges Fees and Charges (Excluding Vehicle Quota Premi...        0.009696  \n",
       "                 Vehicle Quota Premiums                                    0.008174  \n",
       "Others           Others                                                    0.003565  \n",
       "Tax              Assets Taxes                                              0.009870  \n",
       "                 Betting Taxes                                             0.007130  \n",
       "                 Corporate Income Tax                                      0.036478  \n",
       "                 Customs and Excise Taxes                                  0.008130  \n",
       "                 Goods and Services Tax                                    0.019957  \n",
       "                 Motor Vehicle Taxes                                       0.007348  \n",
       "                 Other Taxes                                               0.010000  \n",
       "                 Personal Income Tax                                       0.020087  \n",
       "                 Stamp Duty                                                0.007739  \n",
       "                 Statutory Boards' Contributions                           0.004565  \n",
       "                 Withholding Tax                                           0.003435  "
      ]
     },
     "execution_count": 144,
     "metadata": {},
     "output_type": "execute_result"
    }
   ],
   "source": [
    "revenue.groupby(['class', 'type']).mean()[['amount','percent_of_gdp']]\n"
   ]
  },
  {
   "cell_type": "markdown",
   "metadata": {},
   "source": [
    "## Aggregation"
   ]
  },
  {
   "cell_type": "code",
   "execution_count": 145,
   "metadata": {},
   "outputs": [
    {
     "data": {
      "text/html": [
       "<div>\n",
       "<style scoped>\n",
       "    .dataframe tbody tr th:only-of-type {\n",
       "        vertical-align: middle;\n",
       "    }\n",
       "\n",
       "    .dataframe tbody tr th {\n",
       "        vertical-align: top;\n",
       "    }\n",
       "\n",
       "    .dataframe thead th {\n",
       "        text-align: right;\n",
       "    }\n",
       "</style>\n",
       "<table border=\"1\" class=\"dataframe\">\n",
       "  <thead>\n",
       "    <tr style=\"text-align: right;\">\n",
       "      <th></th>\n",
       "      <th>financial_year</th>\n",
       "      <th>no_of_applications</th>\n",
       "    </tr>\n",
       "    <tr>\n",
       "      <th>application_type</th>\n",
       "      <th></th>\n",
       "      <th></th>\n",
       "    </tr>\n",
       "  </thead>\n",
       "  <tbody>\n",
       "    <tr>\n",
       "      <th>DBSS flat buyers</th>\n",
       "      <td>6</td>\n",
       "      <td>1012</td>\n",
       "    </tr>\n",
       "    <tr>\n",
       "      <th>existing flat owners (refinance)</th>\n",
       "      <td>9</td>\n",
       "      <td>1357</td>\n",
       "    </tr>\n",
       "    <tr>\n",
       "      <th>new flat buyers</th>\n",
       "      <td>9</td>\n",
       "      <td>1606</td>\n",
       "    </tr>\n",
       "    <tr>\n",
       "      <th>resale flat buyers</th>\n",
       "      <td>9</td>\n",
       "      <td>14138</td>\n",
       "    </tr>\n",
       "  </tbody>\n",
       "</table>\n",
       "</div>"
      ],
      "text/plain": [
       "                                  financial_year  no_of_applications\n",
       "application_type                                                    \n",
       "DBSS flat buyers                               6                1012\n",
       "existing flat owners (refinance)               9                1357\n",
       "new flat buyers                                9                1606\n",
       "resale flat buyers                             9               14138"
      ]
     },
     "execution_count": 145,
     "metadata": {},
     "output_type": "execute_result"
    }
   ],
   "source": [
    "loan.groupby('application_type').agg(lambda x:max(x)-min(x))"
   ]
  },
  {
   "cell_type": "code",
   "execution_count": 189,
   "metadata": {},
   "outputs": [
    {
     "data": {
      "text/html": [
       "<div>\n",
       "<style scoped>\n",
       "    .dataframe tbody tr th:only-of-type {\n",
       "        vertical-align: middle;\n",
       "    }\n",
       "\n",
       "    .dataframe tbody tr th {\n",
       "        vertical-align: top;\n",
       "    }\n",
       "\n",
       "    .dataframe thead tr th {\n",
       "        text-align: left;\n",
       "    }\n",
       "\n",
       "    .dataframe thead tr:last-of-type th {\n",
       "        text-align: right;\n",
       "    }\n",
       "</style>\n",
       "<table border=\"1\" class=\"dataframe\">\n",
       "  <thead>\n",
       "    <tr>\n",
       "      <th></th>\n",
       "      <th colspan=\"4\" halign=\"left\">financial_year</th>\n",
       "      <th colspan=\"4\" halign=\"left\">no_of_applications</th>\n",
       "    </tr>\n",
       "    <tr>\n",
       "      <th></th>\n",
       "      <th>mean</th>\n",
       "      <th>sum</th>\n",
       "      <th>min</th>\n",
       "      <th>max</th>\n",
       "      <th>mean</th>\n",
       "      <th>sum</th>\n",
       "      <th>min</th>\n",
       "      <th>max</th>\n",
       "    </tr>\n",
       "    <tr>\n",
       "      <th>application_type</th>\n",
       "      <th></th>\n",
       "      <th></th>\n",
       "      <th></th>\n",
       "      <th></th>\n",
       "      <th></th>\n",
       "      <th></th>\n",
       "      <th></th>\n",
       "      <th></th>\n",
       "    </tr>\n",
       "  </thead>\n",
       "  <tbody>\n",
       "    <tr>\n",
       "      <th>DBSS flat buyers</th>\n",
       "      <td>2014.0</td>\n",
       "      <td>14098</td>\n",
       "      <td>2011</td>\n",
       "      <td>2017</td>\n",
       "      <td>244.142857</td>\n",
       "      <td>1709</td>\n",
       "      <td>5</td>\n",
       "      <td>1017</td>\n",
       "    </tr>\n",
       "    <tr>\n",
       "      <th>existing flat owners (refinance)</th>\n",
       "      <td>2012.5</td>\n",
       "      <td>20125</td>\n",
       "      <td>2008</td>\n",
       "      <td>2017</td>\n",
       "      <td>511.000000</td>\n",
       "      <td>5110</td>\n",
       "      <td>42</td>\n",
       "      <td>1399</td>\n",
       "    </tr>\n",
       "    <tr>\n",
       "      <th>new flat buyers</th>\n",
       "      <td>2012.5</td>\n",
       "      <td>20125</td>\n",
       "      <td>2008</td>\n",
       "      <td>2017</td>\n",
       "      <td>1777.400000</td>\n",
       "      <td>17774</td>\n",
       "      <td>868</td>\n",
       "      <td>2474</td>\n",
       "    </tr>\n",
       "    <tr>\n",
       "      <th>resale flat buyers</th>\n",
       "      <td>2012.5</td>\n",
       "      <td>20125</td>\n",
       "      <td>2008</td>\n",
       "      <td>2017</td>\n",
       "      <td>12905.800000</td>\n",
       "      <td>129058</td>\n",
       "      <td>8207</td>\n",
       "      <td>22345</td>\n",
       "    </tr>\n",
       "  </tbody>\n",
       "</table>\n",
       "</div>"
      ],
      "text/plain": [
       "                                 financial_year                     \\\n",
       "                                           mean    sum   min   max   \n",
       "application_type                                                     \n",
       "DBSS flat buyers                         2014.0  14098  2011  2017   \n",
       "existing flat owners (refinance)         2012.5  20125  2008  2017   \n",
       "new flat buyers                          2012.5  20125  2008  2017   \n",
       "resale flat buyers                       2012.5  20125  2008  2017   \n",
       "\n",
       "                                 no_of_applications                       \n",
       "                                               mean     sum   min    max  \n",
       "application_type                                                          \n",
       "DBSS flat buyers                         244.142857    1709     5   1017  \n",
       "existing flat owners (refinance)         511.000000    5110    42   1399  \n",
       "new flat buyers                         1777.400000   17774   868   2474  \n",
       "resale flat buyers                     12905.800000  129058  8207  22345  "
      ]
     },
     "execution_count": 189,
     "metadata": {},
     "output_type": "execute_result"
    }
   ],
   "source": [
    "loan.groupby('application_type').agg(['mean', 'sum', 'min', 'max'])"
   ]
  },
  {
   "cell_type": "code",
   "execution_count": 147,
   "metadata": {},
   "outputs": [
    {
     "data": {
      "text/html": [
       "<div>\n",
       "<style scoped>\n",
       "    .dataframe tbody tr th:only-of-type {\n",
       "        vertical-align: middle;\n",
       "    }\n",
       "\n",
       "    .dataframe tbody tr th {\n",
       "        vertical-align: top;\n",
       "    }\n",
       "\n",
       "    .dataframe thead tr th {\n",
       "        text-align: left;\n",
       "    }\n",
       "\n",
       "    .dataframe thead tr:last-of-type th {\n",
       "        text-align: right;\n",
       "    }\n",
       "</style>\n",
       "<table border=\"1\" class=\"dataframe\">\n",
       "  <thead>\n",
       "    <tr>\n",
       "      <th></th>\n",
       "      <th colspan=\"2\" halign=\"left\">financial_year</th>\n",
       "      <th colspan=\"2\" halign=\"left\">no_of_applications</th>\n",
       "    </tr>\n",
       "    <tr>\n",
       "      <th></th>\n",
       "      <th>min</th>\n",
       "      <th>max</th>\n",
       "      <th>mean</th>\n",
       "      <th>sum</th>\n",
       "    </tr>\n",
       "    <tr>\n",
       "      <th>application_type</th>\n",
       "      <th></th>\n",
       "      <th></th>\n",
       "      <th></th>\n",
       "      <th></th>\n",
       "    </tr>\n",
       "  </thead>\n",
       "  <tbody>\n",
       "    <tr>\n",
       "      <th>DBSS flat buyers</th>\n",
       "      <td>2011</td>\n",
       "      <td>2017</td>\n",
       "      <td>244.142857</td>\n",
       "      <td>1709</td>\n",
       "    </tr>\n",
       "    <tr>\n",
       "      <th>existing flat owners (refinance)</th>\n",
       "      <td>2008</td>\n",
       "      <td>2017</td>\n",
       "      <td>511.000000</td>\n",
       "      <td>5110</td>\n",
       "    </tr>\n",
       "    <tr>\n",
       "      <th>new flat buyers</th>\n",
       "      <td>2008</td>\n",
       "      <td>2017</td>\n",
       "      <td>1777.400000</td>\n",
       "      <td>17774</td>\n",
       "    </tr>\n",
       "    <tr>\n",
       "      <th>resale flat buyers</th>\n",
       "      <td>2008</td>\n",
       "      <td>2017</td>\n",
       "      <td>12905.800000</td>\n",
       "      <td>129058</td>\n",
       "    </tr>\n",
       "  </tbody>\n",
       "</table>\n",
       "</div>"
      ],
      "text/plain": [
       "                                 financial_year       no_of_applications  \\\n",
       "                                            min   max               mean   \n",
       "application_type                                                           \n",
       "DBSS flat buyers                           2011  2017         244.142857   \n",
       "existing flat owners (refinance)           2008  2017         511.000000   \n",
       "new flat buyers                            2008  2017        1777.400000   \n",
       "resale flat buyers                         2008  2017       12905.800000   \n",
       "\n",
       "                                          \n",
       "                                     sum  \n",
       "application_type                          \n",
       "DBSS flat buyers                    1709  \n",
       "existing flat owners (refinance)    5110  \n",
       "new flat buyers                    17774  \n",
       "resale flat buyers                129058  "
      ]
     },
     "execution_count": 147,
     "metadata": {},
     "output_type": "execute_result"
    }
   ],
   "source": [
    "loan.groupby('application_type').agg({'financial_year':['min', 'max'],\n",
    "                                     'no_of_applications':['mean', 'sum']})"
   ]
  },
  {
   "cell_type": "markdown",
   "metadata": {},
   "source": [
    "### Exercise"
   ]
  },
  {
   "cell_type": "code",
   "execution_count": 148,
   "metadata": {},
   "outputs": [
    {
     "data": {
      "text/html": [
       "<div>\n",
       "<style scoped>\n",
       "    .dataframe tbody tr th:only-of-type {\n",
       "        vertical-align: middle;\n",
       "    }\n",
       "\n",
       "    .dataframe tbody tr th {\n",
       "        vertical-align: top;\n",
       "    }\n",
       "\n",
       "    .dataframe thead tr th {\n",
       "        text-align: left;\n",
       "    }\n",
       "\n",
       "    .dataframe thead tr:last-of-type th {\n",
       "        text-align: right;\n",
       "    }\n",
       "</style>\n",
       "<table border=\"1\" class=\"dataframe\">\n",
       "  <thead>\n",
       "    <tr>\n",
       "      <th></th>\n",
       "      <th></th>\n",
       "      <th colspan=\"2\" halign=\"left\">financial_year</th>\n",
       "      <th colspan=\"2\" halign=\"left\">amount</th>\n",
       "    </tr>\n",
       "    <tr>\n",
       "      <th></th>\n",
       "      <th></th>\n",
       "      <th>min</th>\n",
       "      <th>max</th>\n",
       "      <th>mean</th>\n",
       "      <th>sum</th>\n",
       "    </tr>\n",
       "    <tr>\n",
       "      <th>class</th>\n",
       "      <th>type</th>\n",
       "      <th></th>\n",
       "      <th></th>\n",
       "      <th></th>\n",
       "      <th></th>\n",
       "    </tr>\n",
       "  </thead>\n",
       "  <tbody>\n",
       "    <tr>\n",
       "      <th rowspan=\"2\" valign=\"top\">Fees and Charges</th>\n",
       "      <th>Fees and Charges (Excluding Vehicle Quota Premiums)</th>\n",
       "      <td>1997</td>\n",
       "      <td>2019</td>\n",
       "      <td>2552.434783</td>\n",
       "      <td>58706</td>\n",
       "    </tr>\n",
       "    <tr>\n",
       "      <th>Vehicle Quota Premiums</th>\n",
       "      <td>1997</td>\n",
       "      <td>2019</td>\n",
       "      <td>2360.782609</td>\n",
       "      <td>54298</td>\n",
       "    </tr>\n",
       "    <tr>\n",
       "      <th>Others</th>\n",
       "      <th>Others</th>\n",
       "      <td>1997</td>\n",
       "      <td>2019</td>\n",
       "      <td>633.391304</td>\n",
       "      <td>14568</td>\n",
       "    </tr>\n",
       "    <tr>\n",
       "      <th rowspan=\"11\" valign=\"top\">Tax</th>\n",
       "      <th>Assets Taxes</th>\n",
       "      <td>1997</td>\n",
       "      <td>2019</td>\n",
       "      <td>2878.478261</td>\n",
       "      <td>66205</td>\n",
       "    </tr>\n",
       "    <tr>\n",
       "      <th>Betting Taxes</th>\n",
       "      <td>1997</td>\n",
       "      <td>2019</td>\n",
       "      <td>1967.521739</td>\n",
       "      <td>45253</td>\n",
       "    </tr>\n",
       "    <tr>\n",
       "      <th>Corporate Income Tax</th>\n",
       "      <td>1997</td>\n",
       "      <td>2019</td>\n",
       "      <td>10289.608696</td>\n",
       "      <td>236661</td>\n",
       "    </tr>\n",
       "    <tr>\n",
       "      <th>Customs and Excise Taxes</th>\n",
       "      <td>1997</td>\n",
       "      <td>2019</td>\n",
       "      <td>2191.086957</td>\n",
       "      <td>50395</td>\n",
       "    </tr>\n",
       "    <tr>\n",
       "      <th>Goods and Services Tax</th>\n",
       "      <td>1997</td>\n",
       "      <td>2019</td>\n",
       "      <td>6382.695652</td>\n",
       "      <td>146802</td>\n",
       "    </tr>\n",
       "    <tr>\n",
       "      <th>Motor Vehicle Taxes</th>\n",
       "      <td>1997</td>\n",
       "      <td>2019</td>\n",
       "      <td>1886.695652</td>\n",
       "      <td>43394</td>\n",
       "    </tr>\n",
       "    <tr>\n",
       "      <th>Other Taxes</th>\n",
       "      <td>1997</td>\n",
       "      <td>2019</td>\n",
       "      <td>3184.739130</td>\n",
       "      <td>73249</td>\n",
       "    </tr>\n",
       "    <tr>\n",
       "      <th>Personal Income Tax</th>\n",
       "      <td>1997</td>\n",
       "      <td>2019</td>\n",
       "      <td>6095.956522</td>\n",
       "      <td>140207</td>\n",
       "    </tr>\n",
       "    <tr>\n",
       "      <th>Stamp Duty</th>\n",
       "      <td>1997</td>\n",
       "      <td>2019</td>\n",
       "      <td>2429.478261</td>\n",
       "      <td>55878</td>\n",
       "    </tr>\n",
       "    <tr>\n",
       "      <th>Statutory Boards' Contributions</th>\n",
       "      <td>1997</td>\n",
       "      <td>2019</td>\n",
       "      <td>1154.956522</td>\n",
       "      <td>26564</td>\n",
       "    </tr>\n",
       "    <tr>\n",
       "      <th>Withholding Tax</th>\n",
       "      <td>1997</td>\n",
       "      <td>2019</td>\n",
       "      <td>1008.434783</td>\n",
       "      <td>23194</td>\n",
       "    </tr>\n",
       "  </tbody>\n",
       "</table>\n",
       "</div>"
      ],
      "text/plain": [
       "                                                                    financial_year  \\\n",
       "                                                                               min   \n",
       "class            type                                                                \n",
       "Fees and Charges Fees and Charges (Excluding Vehicle Quota Premi...           1997   \n",
       "                 Vehicle Quota Premiums                                       1997   \n",
       "Others           Others                                                       1997   \n",
       "Tax              Assets Taxes                                                 1997   \n",
       "                 Betting Taxes                                                1997   \n",
       "                 Corporate Income Tax                                         1997   \n",
       "                 Customs and Excise Taxes                                     1997   \n",
       "                 Goods and Services Tax                                       1997   \n",
       "                 Motor Vehicle Taxes                                          1997   \n",
       "                 Other Taxes                                                  1997   \n",
       "                 Personal Income Tax                                          1997   \n",
       "                 Stamp Duty                                                   1997   \n",
       "                 Statutory Boards' Contributions                              1997   \n",
       "                 Withholding Tax                                              1997   \n",
       "\n",
       "                                                                           \\\n",
       "                                                                      max   \n",
       "class            type                                                       \n",
       "Fees and Charges Fees and Charges (Excluding Vehicle Quota Premi...  2019   \n",
       "                 Vehicle Quota Premiums                              2019   \n",
       "Others           Others                                              2019   \n",
       "Tax              Assets Taxes                                        2019   \n",
       "                 Betting Taxes                                       2019   \n",
       "                 Corporate Income Tax                                2019   \n",
       "                 Customs and Excise Taxes                            2019   \n",
       "                 Goods and Services Tax                              2019   \n",
       "                 Motor Vehicle Taxes                                 2019   \n",
       "                 Other Taxes                                         2019   \n",
       "                 Personal Income Tax                                 2019   \n",
       "                 Stamp Duty                                          2019   \n",
       "                 Statutory Boards' Contributions                     2019   \n",
       "                 Withholding Tax                                     2019   \n",
       "\n",
       "                                                                           amount  \\\n",
       "                                                                             mean   \n",
       "class            type                                                               \n",
       "Fees and Charges Fees and Charges (Excluding Vehicle Quota Premi...   2552.434783   \n",
       "                 Vehicle Quota Premiums                               2360.782609   \n",
       "Others           Others                                                633.391304   \n",
       "Tax              Assets Taxes                                         2878.478261   \n",
       "                 Betting Taxes                                        1967.521739   \n",
       "                 Corporate Income Tax                                10289.608696   \n",
       "                 Customs and Excise Taxes                             2191.086957   \n",
       "                 Goods and Services Tax                               6382.695652   \n",
       "                 Motor Vehicle Taxes                                  1886.695652   \n",
       "                 Other Taxes                                          3184.739130   \n",
       "                 Personal Income Tax                                  6095.956522   \n",
       "                 Stamp Duty                                           2429.478261   \n",
       "                 Statutory Boards' Contributions                      1154.956522   \n",
       "                 Withholding Tax                                      1008.434783   \n",
       "\n",
       "                                                                             \n",
       "                                                                        sum  \n",
       "class            type                                                        \n",
       "Fees and Charges Fees and Charges (Excluding Vehicle Quota Premi...   58706  \n",
       "                 Vehicle Quota Premiums                               54298  \n",
       "Others           Others                                               14568  \n",
       "Tax              Assets Taxes                                         66205  \n",
       "                 Betting Taxes                                        45253  \n",
       "                 Corporate Income Tax                                236661  \n",
       "                 Customs and Excise Taxes                             50395  \n",
       "                 Goods and Services Tax                              146802  \n",
       "                 Motor Vehicle Taxes                                  43394  \n",
       "                 Other Taxes                                          73249  \n",
       "                 Personal Income Tax                                 140207  \n",
       "                 Stamp Duty                                           55878  \n",
       "                 Statutory Boards' Contributions                      26564  \n",
       "                 Withholding Tax                                      23194  "
      ]
     },
     "execution_count": 148,
     "metadata": {},
     "output_type": "execute_result"
    }
   ],
   "source": [
    "revenue.groupby(['class', 'type']).agg({'financial_year':['min', 'max'],\n",
    "                                       'amount':['mean', 'sum']})"
   ]
  },
  {
   "cell_type": "markdown",
   "metadata": {},
   "source": [
    "# Module 4 Data Visualization with Matlplotlib"
   ]
  },
  {
   "cell_type": "code",
   "execution_count": 293,
   "metadata": {},
   "outputs": [],
   "source": [
    "%matplotlib inline"
   ]
  },
  {
   "cell_type": "code",
   "execution_count": 192,
   "metadata": {},
   "outputs": [],
   "source": [
    "x = np.linspace(0,4*np.pi,200)\n",
    "x = np.linspace(0,4*np.pi,10)\n",
    "# print(x)\n",
    "y = np.sin(x)\n",
    "# print(y)\n",
    "y2 = np.cos(x)\n",
    "# print(y2)"
   ]
  },
  {
   "cell_type": "code",
   "execution_count": 197,
   "metadata": {},
   "outputs": [
    {
     "data": {
      "image/png": "[encoded data removed]",
      "text/plain": [
       "<Figure size 432x288 with 1 Axes>"
      ]
     },
     "metadata": {
      "needs_background": "light"
     },
     "output_type": "display_data"
    }
   ],
   "source": [
    "plt.plot(x,y,color='#FF0000', marker='.',)\n",
    "plt.plot(x,y2,color='blue', marker='.',)\n",
    "plt.xlabel('x')\n",
    "plt.ylabel('y')\n",
    "plt.title('sin and cos curves')\n",
    "plt.show()"
   ]
  },
  {
   "cell_type": "code",
   "execution_count": 198,
   "metadata": {},
   "outputs": [],
   "source": [
    "import seaborn as sns\n",
    "from matplotlib import rcParams\n",
    "\n",
    "rcParams['figure.figsize']=10,4\n",
    "sns.set_style('darkgrid')"
   ]
  },
  {
   "cell_type": "code",
   "execution_count": 202,
   "metadata": {},
   "outputs": [
    {
     "data": {
      "image/png": "[encoded data removed]",
      "text/plain": [
       "<Figure size 720x288 with 1 Axes>"
      ]
     },
     "metadata": {},
     "output_type": "display_data"
    }
   ],
   "source": [
    "plt.plot(x,y,color='r')\n",
    "plt.plot(x,y2,color='blue')\n",
    "plt.xlabel('x')\n",
    "plt.ylabel('y')\n",
    "plt.title('sine curve')\n",
    "plt.show()"
   ]
  },
  {
   "cell_type": "markdown",
   "metadata": {},
   "source": [
    "## Scatter Plot"
   ]
  },
  {
   "cell_type": "code",
   "execution_count": 203,
   "metadata": {},
   "outputs": [
    {
     "data": {
      "image/png": "[encoded data removed]",
      "text/plain": [
       "<Figure size 720x288 with 1 Axes>"
      ]
     },
     "metadata": {},
     "output_type": "display_data"
    }
   ],
   "source": [
    "plt.scatter(x,y)\n",
    "plt.show()"
   ]
  },
  {
   "cell_type": "code",
   "execution_count": 206,
   "metadata": {},
   "outputs": [
    {
     "data": {
      "image/png": "[encoded data removed]",
      "text/plain": [
       "<Figure size 720x288 with 1 Axes>"
      ]
     },
     "metadata": {},
     "output_type": "display_data"
    }
   ],
   "source": [
    "plt.scatter(CIT['financial_year'],CIT['amount'])\n",
    "plt.xlabel('Financial Year')\n",
    "plt.ylabel('Corporate Income Tax Amount')\n",
    "plt.title('CIT')\n",
    "plt.show()"
   ]
  },
  {
   "cell_type": "markdown",
   "metadata": {},
   "source": [
    "## Boxplot"
   ]
  },
  {
   "cell_type": "code",
   "execution_count": 207,
   "metadata": {},
   "outputs": [
    {
     "data": {
      "image/png": "[encoded data removed]",
      "text/plain": [
       "<Figure size 720x288 with 1 Axes>"
      ]
     },
     "metadata": {},
     "output_type": "display_data"
    }
   ],
   "source": [
    "y1 = np.random.randn(100)*2+10\n",
    "y2 = np.random.randn(100)*1+8\n",
    "y3 = np.random.randn(100)*2.5+20\n",
    "plt.boxplot([y1,y2,y3])\n",
    "plt.show()"
   ]
  },
  {
   "cell_type": "code",
   "execution_count": 208,
   "metadata": {},
   "outputs": [
    {
     "data": {
      "image/png": "[encoded data removed]",
      "text/plain": [
       "<Figure size 720x288 with 1 Axes>"
      ]
     },
     "metadata": {},
     "output_type": "display_data"
    }
   ],
   "source": [
    "plt.boxplot(CIT['amount'])\n",
    "plt.show()"
   ]
  },
  {
   "cell_type": "code",
   "execution_count": 158,
   "metadata": {},
   "outputs": [
    {
     "data": {
      "image/png": "[encoded data removed]",
      "text/plain": [
       "<Figure size 720x288 with 1 Axes>"
      ]
     },
     "metadata": {},
     "output_type": "display_data"
    }
   ],
   "source": [
    "plt.boxplot([CIT['amount'], \n",
    "             PIT['amount'], \n",
    "             AT['amount'], \n",
    "             GST['amount']])\n",
    "plt.show()"
   ]
  },
  {
   "cell_type": "markdown",
   "metadata": {},
   "source": [
    "## Line plot"
   ]
  },
  {
   "cell_type": "code",
   "execution_count": 210,
   "metadata": {},
   "outputs": [
    {
     "data": {
      "image/png": "[encoded data removed]",
      "text/plain": [
       "<Figure size 720x288 with 1 Axes>"
      ]
     },
     "metadata": {},
     "output_type": "display_data"
    }
   ],
   "source": [
    "plt.scatter(CIT['financial_year'],CIT['amount'])\n",
    "# plt.show()\n",
    "plt.savefig('myfigure.jpg')"
   ]
  },
  {
   "cell_type": "code",
   "execution_count": 223,
   "metadata": {},
   "outputs": [
    {
     "data": {
      "image/png": "[encoded data removed]",
      "text/plain": [
       "<Figure size 720x288 with 1 Axes>"
      ]
     },
     "metadata": {},
     "output_type": "display_data"
    }
   ],
   "source": [
    "plt.plot(CIT['financial_year'],CIT['amount'],\n",
    "         PIT['financial_year'],PIT['amount'],\n",
    "         AT['financial_year'], AT['amount'],\n",
    "         GST['financial_year'], GST['amount'])\n",
    "plt.legend(['CIT', 'PIT', 'AT', 'GST'])\n",
    "plt.show()"
   ]
  },
  {
   "cell_type": "code",
   "execution_count": 161,
   "metadata": {},
   "outputs": [
    {
     "data": {
      "text/plain": [
       "<matplotlib.axes._subplots.AxesSubplot at 0x11d440da0>"
      ]
     },
     "execution_count": 161,
     "metadata": {},
     "output_type": "execute_result"
    },
    {
     "data": {
      "image/png": "[encoded data removed]",
      "text/plain": [
       "<Figure size 720x288 with 1 Axes>"
      ]
     },
     "metadata": {},
     "output_type": "display_data"
    }
   ],
   "source": [
    "# Pandas Plot\n",
    "CIT[['amount']].plot()"
   ]
  },
  {
   "cell_type": "code",
   "execution_count": 211,
   "metadata": {},
   "outputs": [
    {
     "data": {
      "text/plain": [
       "<matplotlib.axes._subplots.AxesSubplot at 0x114fd7780>"
      ]
     },
     "execution_count": 211,
     "metadata": {},
     "output_type": "execute_result"
    },
    {
     "data": {
      "image/png": "[encoded data removed]",
      "text/plain": [
       "<Figure size 720x288 with 1 Axes>"
      ]
     },
     "metadata": {},
     "output_type": "display_data"
    }
   ],
   "source": [
    "CIT.set_index('financial_year')[['amount']].plot()"
   ]
  },
  {
   "cell_type": "code",
   "execution_count": 218,
   "metadata": {},
   "outputs": [
    {
     "data": {
      "text/plain": [
       "<matplotlib.axes._subplots.AxesSubplot at 0x112af7710>"
      ]
     },
     "execution_count": 218,
     "metadata": {},
     "output_type": "execute_result"
    },
    {
     "data": {
      "image/png": "[encoded data removed]",
      "text/plain": [
       "<Figure size 720x288 with 1 Axes>"
      ]
     },
     "metadata": {},
     "output_type": "display_data"
    }
   ],
   "source": [
    "CIT.set_index('financial_year')[['amount']].plot()"
   ]
  },
  {
   "cell_type": "markdown",
   "metadata": {},
   "source": [
    "## Groupby Plot"
   ]
  },
  {
   "cell_type": "code",
   "execution_count": 224,
   "metadata": {},
   "outputs": [
    {
     "data": {
      "text/html": [
       "<div>\n",
       "<style scoped>\n",
       "    .dataframe tbody tr th:only-of-type {\n",
       "        vertical-align: middle;\n",
       "    }\n",
       "\n",
       "    .dataframe tbody tr th {\n",
       "        vertical-align: top;\n",
       "    }\n",
       "\n",
       "    .dataframe thead th {\n",
       "        text-align: right;\n",
       "    }\n",
       "</style>\n",
       "<table border=\"1\" class=\"dataframe\">\n",
       "  <thead>\n",
       "    <tr style=\"text-align: right;\">\n",
       "      <th></th>\n",
       "      <th>amount</th>\n",
       "      <th>percent_of_gdp</th>\n",
       "    </tr>\n",
       "    <tr>\n",
       "      <th>financial_year</th>\n",
       "      <th></th>\n",
       "      <th></th>\n",
       "    </tr>\n",
       "  </thead>\n",
       "  <tbody>\n",
       "    <tr>\n",
       "      <th>1997</th>\n",
       "      <td>2084.357143</td>\n",
       "      <td>0.014000</td>\n",
       "    </tr>\n",
       "    <tr>\n",
       "      <th>1998</th>\n",
       "      <td>1993.642857</td>\n",
       "      <td>0.014143</td>\n",
       "    </tr>\n",
       "    <tr>\n",
       "      <th>1999</th>\n",
       "      <td>2189.071429</td>\n",
       "      <td>0.014500</td>\n",
       "    </tr>\n",
       "    <tr>\n",
       "      <th>2000</th>\n",
       "      <td>2245.642857</td>\n",
       "      <td>0.013286</td>\n",
       "    </tr>\n",
       "    <tr>\n",
       "      <th>2001</th>\n",
       "      <td>2035.285714</td>\n",
       "      <td>0.012643</td>\n",
       "    </tr>\n",
       "    <tr>\n",
       "      <th>2002</th>\n",
       "      <td>1819.357143</td>\n",
       "      <td>0.011000</td>\n",
       "    </tr>\n",
       "    <tr>\n",
       "      <th>2003</th>\n",
       "      <td>1808.214286</td>\n",
       "      <td>0.010429</td>\n",
       "    </tr>\n",
       "    <tr>\n",
       "      <th>2004</th>\n",
       "      <td>1962.071429</td>\n",
       "      <td>0.010000</td>\n",
       "    </tr>\n",
       "    <tr>\n",
       "      <th>2005</th>\n",
       "      <td>2012.214286</td>\n",
       "      <td>0.009286</td>\n",
       "    </tr>\n",
       "    <tr>\n",
       "      <th>2006</th>\n",
       "      <td>2234.928571</td>\n",
       "      <td>0.009143</td>\n",
       "    </tr>\n",
       "    <tr>\n",
       "      <th>2007</th>\n",
       "      <td>2883.785714</td>\n",
       "      <td>0.010286</td>\n",
       "    </tr>\n",
       "    <tr>\n",
       "      <th>2008</th>\n",
       "      <td>2934.785714</td>\n",
       "      <td>0.010929</td>\n",
       "    </tr>\n",
       "    <tr>\n",
       "      <th>2009</th>\n",
       "      <td>2824.785714</td>\n",
       "      <td>0.009643</td>\n",
       "    </tr>\n",
       "    <tr>\n",
       "      <th>2010</th>\n",
       "      <td>3290.071429</td>\n",
       "      <td>0.010000</td>\n",
       "    </tr>\n",
       "    <tr>\n",
       "      <th>2011</th>\n",
       "      <td>3648.285714</td>\n",
       "      <td>0.010286</td>\n",
       "    </tr>\n",
       "    <tr>\n",
       "      <th>2012</th>\n",
       "      <td>3986.714286</td>\n",
       "      <td>0.010857</td>\n",
       "    </tr>\n",
       "    <tr>\n",
       "      <th>2013</th>\n",
       "      <td>4072.928571</td>\n",
       "      <td>0.010643</td>\n",
       "    </tr>\n",
       "    <tr>\n",
       "      <th>2014</th>\n",
       "      <td>4345.642857</td>\n",
       "      <td>0.010643</td>\n",
       "    </tr>\n",
       "    <tr>\n",
       "      <th>2015</th>\n",
       "      <td>4630.214286</td>\n",
       "      <td>0.011000</td>\n",
       "    </tr>\n",
       "    <tr>\n",
       "      <th>2016</th>\n",
       "      <td>4926.000000</td>\n",
       "      <td>0.011071</td>\n",
       "    </tr>\n",
       "    <tr>\n",
       "      <th>2017</th>\n",
       "      <td>5415.500000</td>\n",
       "      <td>0.011500</td>\n",
       "    </tr>\n",
       "    <tr>\n",
       "      <th>2018</th>\n",
       "      <td>5262.071429</td>\n",
       "      <td>0.010714</td>\n",
       "    </tr>\n",
       "    <tr>\n",
       "      <th>2019</th>\n",
       "      <td>5349.714286</td>\n",
       "      <td>0.010571</td>\n",
       "    </tr>\n",
       "  </tbody>\n",
       "</table>\n",
       "</div>"
      ],
      "text/plain": [
       "                     amount  percent_of_gdp\n",
       "financial_year                             \n",
       "1997            2084.357143        0.014000\n",
       "1998            1993.642857        0.014143\n",
       "1999            2189.071429        0.014500\n",
       "2000            2245.642857        0.013286\n",
       "2001            2035.285714        0.012643\n",
       "2002            1819.357143        0.011000\n",
       "2003            1808.214286        0.010429\n",
       "2004            1962.071429        0.010000\n",
       "2005            2012.214286        0.009286\n",
       "2006            2234.928571        0.009143\n",
       "2007            2883.785714        0.010286\n",
       "2008            2934.785714        0.010929\n",
       "2009            2824.785714        0.009643\n",
       "2010            3290.071429        0.010000\n",
       "2011            3648.285714        0.010286\n",
       "2012            3986.714286        0.010857\n",
       "2013            4072.928571        0.010643\n",
       "2014            4345.642857        0.010643\n",
       "2015            4630.214286        0.011000\n",
       "2016            4926.000000        0.011071\n",
       "2017            5415.500000        0.011500\n",
       "2018            5262.071429        0.010714\n",
       "2019            5349.714286        0.010571"
      ]
     },
     "execution_count": 224,
     "metadata": {},
     "output_type": "execute_result"
    }
   ],
   "source": [
    "year = revenue.groupby('financial_year').mean()\n",
    "year"
   ]
  },
  {
   "cell_type": "code",
   "execution_count": 227,
   "metadata": {},
   "outputs": [
    {
     "data": {
      "image/png": "[encoded data removed]",
      "text/plain": [
       "<Figure size 720x288 with 1 Axes>"
      ]
     },
     "metadata": {},
     "output_type": "display_data"
    }
   ],
   "source": [
    "plt.plot(year)\n",
    "plt.show()"
   ]
  },
  {
   "cell_type": "code",
   "execution_count": 228,
   "metadata": {},
   "outputs": [
    {
     "data": {
      "image/png": "[encoded data removed]",
      "text/plain": [
       "<Figure size 720x288 with 1 Axes>"
      ]
     },
     "metadata": {},
     "output_type": "display_data"
    }
   ],
   "source": [
    "plt.plot(year)\n",
    "plt.savefig('Year', dpi = 200)"
   ]
  },
  {
   "cell_type": "markdown",
   "metadata": {},
   "source": [
    "### Exercise"
   ]
  },
  {
   "cell_type": "code",
   "execution_count": 254,
   "metadata": {},
   "outputs": [],
   "source": [
    "expenditure = pd.read_csv('data/expenditure.csv')\n",
    "# expenditure"
   ]
  },
  {
   "cell_type": "code",
   "execution_count": 255,
   "metadata": {},
   "outputs": [],
   "source": [
    "expenditure_amount = expenditure.groupby('financial_year').sum()[['amount']]\n",
    "# expenditure_amount.head()\n"
   ]
  },
  {
   "cell_type": "code",
   "execution_count": 256,
   "metadata": {},
   "outputs": [],
   "source": [
    "expenditure_amount = expenditure_amount.rename(columns = {'amount': 'expenditure'})\n",
    "# expenditure_amount.head()"
   ]
  },
  {
   "cell_type": "code",
   "execution_count": 257,
   "metadata": {},
   "outputs": [],
   "source": [
    "revenue_amount = revenue.groupby('financial_year').sum()[['amount']]\n",
    "revenue_amount = revenue_amount.rename(columns = {'amount': 'revenue'})\n",
    "# revenue_amount.head()"
   ]
  },
  {
   "cell_type": "code",
   "execution_count": 253,
   "metadata": {},
   "outputs": [],
   "source": [
    "concat = pd.concat([expenditure_amount, revenue_amount], axis = 1)\n",
    "# concat.head()"
   ]
  },
  {
   "cell_type": "code",
   "execution_count": 252,
   "metadata": {},
   "outputs": [
    {
     "data": {
      "image/png": "[encoded data removed]",
      "text/plain": [
       "<Figure size 720x288 with 1 Axes>"
      ]
     },
     "metadata": {},
     "output_type": "display_data"
    }
   ],
   "source": [
    "plt.plot(concat)\n",
    "plt.legend(['expenditure_amount','revenue_amount'])\n",
    "plt.savefig(fname = 'Revenue_Expenditure', dpi = 200)"
   ]
  },
  {
   "cell_type": "code",
   "execution_count": 249,
   "metadata": {},
   "outputs": [
    {
     "data": {
      "text/plain": [
       "<matplotlib.axes._subplots.AxesSubplot at 0x114c13400>"
      ]
     },
     "execution_count": 249,
     "metadata": {},
     "output_type": "execute_result"
    },
    {
     "data": {
      "image/png": "[encoded data removed]",
      "text/plain": [
       "<Figure size 720x288 with 1 Axes>"
      ]
     },
     "metadata": {},
     "output_type": "display_data"
    }
   ],
   "source": [
    "concat.plot()"
   ]
  },
  {
   "cell_type": "markdown",
   "metadata": {},
   "source": [
    "# Module 5 Overview of Machine Learning with Scikit Learn"
   ]
  },
  {
   "cell_type": "markdown",
   "metadata": {},
   "source": [
    "## Supervised Learning"
   ]
  },
  {
   "cell_type": "markdown",
   "metadata": {},
   "source": [
    "### Classification"
   ]
  },
  {
   "cell_type": "code",
   "execution_count": 172,
   "metadata": {},
   "outputs": [],
   "source": [
    "# Step 1 Load Data\n",
    "from sklearn import datasets\n",
    "iris = datasets.load_iris()"
   ]
  },
  {
   "cell_type": "code",
   "execution_count": 173,
   "metadata": {},
   "outputs": [
    {
     "name": "stdout",
     "output_type": "stream",
     "text": [
      "[[5.1 3.5 1.4 0.2]\n",
      " [4.9 3.  1.4 0.2]\n",
      " [4.7 3.2 1.3 0.2]\n",
      " [4.6 3.1 1.5 0.2]\n",
      " [5.  3.6 1.4 0.2]\n",
      " [5.4 3.9 1.7 0.4]\n",
      " [4.6 3.4 1.4 0.3]\n",
      " [5.  3.4 1.5 0.2]\n",
      " [4.4 2.9 1.4 0.2]\n",
      " [4.9 3.1 1.5 0.1]\n",
      " [5.4 3.7 1.5 0.2]\n",
      " [4.8 3.4 1.6 0.2]\n",
      " [4.8 3.  1.4 0.1]\n",
      " [4.3 3.  1.1 0.1]\n",
      " [5.8 4.  1.2 0.2]\n",
      " [5.7 4.4 1.5 0.4]\n",
      " [5.4 3.9 1.3 0.4]\n",
      " [5.1 3.5 1.4 0.3]\n",
      " [5.7 3.8 1.7 0.3]\n",
      " [5.1 3.8 1.5 0.3]\n",
      " [5.4 3.4 1.7 0.2]\n",
      " [5.1 3.7 1.5 0.4]\n",
      " [4.6 3.6 1.  0.2]\n",
      " [5.1 3.3 1.7 0.5]\n",
      " [4.8 3.4 1.9 0.2]\n",
      " [5.  3.  1.6 0.2]\n",
      " [5.  3.4 1.6 0.4]\n",
      " [5.2 3.5 1.5 0.2]\n",
      " [5.2 3.4 1.4 0.2]\n",
      " [4.7 3.2 1.6 0.2]\n",
      " [4.8 3.1 1.6 0.2]\n",
      " [5.4 3.4 1.5 0.4]\n",
      " [5.2 4.1 1.5 0.1]\n",
      " [5.5 4.2 1.4 0.2]\n",
      " [4.9 3.1 1.5 0.2]\n",
      " [5.  3.2 1.2 0.2]\n",
      " [5.5 3.5 1.3 0.2]\n",
      " [4.9 3.6 1.4 0.1]\n",
      " [4.4 3.  1.3 0.2]\n",
      " [5.1 3.4 1.5 0.2]\n",
      " [5.  3.5 1.3 0.3]\n",
      " [4.5 2.3 1.3 0.3]\n",
      " [4.4 3.2 1.3 0.2]\n",
      " [5.  3.5 1.6 0.6]\n",
      " [5.1 3.8 1.9 0.4]\n",
      " [4.8 3.  1.4 0.3]\n",
      " [5.1 3.8 1.6 0.2]\n",
      " [4.6 3.2 1.4 0.2]\n",
      " [5.3 3.7 1.5 0.2]\n",
      " [5.  3.3 1.4 0.2]\n",
      " [7.  3.2 4.7 1.4]\n",
      " [6.4 3.2 4.5 1.5]\n",
      " [6.9 3.1 4.9 1.5]\n",
      " [5.5 2.3 4.  1.3]\n",
      " [6.5 2.8 4.6 1.5]\n",
      " [5.7 2.8 4.5 1.3]\n",
      " [6.3 3.3 4.7 1.6]\n",
      " [4.9 2.4 3.3 1. ]\n",
      " [6.6 2.9 4.6 1.3]\n",
      " [5.2 2.7 3.9 1.4]\n",
      " [5.  2.  3.5 1. ]\n",
      " [5.9 3.  4.2 1.5]\n",
      " [6.  2.2 4.  1. ]\n",
      " [6.1 2.9 4.7 1.4]\n",
      " [5.6 2.9 3.6 1.3]\n",
      " [6.7 3.1 4.4 1.4]\n",
      " [5.6 3.  4.5 1.5]\n",
      " [5.8 2.7 4.1 1. ]\n",
      " [6.2 2.2 4.5 1.5]\n",
      " [5.6 2.5 3.9 1.1]\n",
      " [5.9 3.2 4.8 1.8]\n",
      " [6.1 2.8 4.  1.3]\n",
      " [6.3 2.5 4.9 1.5]\n",
      " [6.1 2.8 4.7 1.2]\n",
      " [6.4 2.9 4.3 1.3]\n",
      " [6.6 3.  4.4 1.4]\n",
      " [6.8 2.8 4.8 1.4]\n",
      " [6.7 3.  5.  1.7]\n",
      " [6.  2.9 4.5 1.5]\n",
      " [5.7 2.6 3.5 1. ]\n",
      " [5.5 2.4 3.8 1.1]\n",
      " [5.5 2.4 3.7 1. ]\n",
      " [5.8 2.7 3.9 1.2]\n",
      " [6.  2.7 5.1 1.6]\n",
      " [5.4 3.  4.5 1.5]\n",
      " [6.  3.4 4.5 1.6]\n",
      " [6.7 3.1 4.7 1.5]\n",
      " [6.3 2.3 4.4 1.3]\n",
      " [5.6 3.  4.1 1.3]\n",
      " [5.5 2.5 4.  1.3]\n",
      " [5.5 2.6 4.4 1.2]\n",
      " [6.1 3.  4.6 1.4]\n",
      " [5.8 2.6 4.  1.2]\n",
      " [5.  2.3 3.3 1. ]\n",
      " [5.6 2.7 4.2 1.3]\n",
      " [5.7 3.  4.2 1.2]\n",
      " [5.7 2.9 4.2 1.3]\n",
      " [6.2 2.9 4.3 1.3]\n",
      " [5.1 2.5 3.  1.1]\n",
      " [5.7 2.8 4.1 1.3]\n",
      " [6.3 3.3 6.  2.5]\n",
      " [5.8 2.7 5.1 1.9]\n",
      " [7.1 3.  5.9 2.1]\n",
      " [6.3 2.9 5.6 1.8]\n",
      " [6.5 3.  5.8 2.2]\n",
      " [7.6 3.  6.6 2.1]\n",
      " [4.9 2.5 4.5 1.7]\n",
      " [7.3 2.9 6.3 1.8]\n",
      " [6.7 2.5 5.8 1.8]\n",
      " [7.2 3.6 6.1 2.5]\n",
      " [6.5 3.2 5.1 2. ]\n",
      " [6.4 2.7 5.3 1.9]\n",
      " [6.8 3.  5.5 2.1]\n",
      " [5.7 2.5 5.  2. ]\n",
      " [5.8 2.8 5.1 2.4]\n",
      " [6.4 3.2 5.3 2.3]\n",
      " [6.5 3.  5.5 1.8]\n",
      " [7.7 3.8 6.7 2.2]\n",
      " [7.7 2.6 6.9 2.3]\n",
      " [6.  2.2 5.  1.5]\n",
      " [6.9 3.2 5.7 2.3]\n",
      " [5.6 2.8 4.9 2. ]\n",
      " [7.7 2.8 6.7 2. ]\n",
      " [6.3 2.7 4.9 1.8]\n",
      " [6.7 3.3 5.7 2.1]\n",
      " [7.2 3.2 6.  1.8]\n",
      " [6.2 2.8 4.8 1.8]\n",
      " [6.1 3.  4.9 1.8]\n",
      " [6.4 2.8 5.6 2.1]\n",
      " [7.2 3.  5.8 1.6]\n",
      " [7.4 2.8 6.1 1.9]\n",
      " [7.9 3.8 6.4 2. ]\n",
      " [6.4 2.8 5.6 2.2]\n",
      " [6.3 2.8 5.1 1.5]\n",
      " [6.1 2.6 5.6 1.4]\n",
      " [7.7 3.  6.1 2.3]\n",
      " [6.3 3.4 5.6 2.4]\n",
      " [6.4 3.1 5.5 1.8]\n",
      " [6.  3.  4.8 1.8]\n",
      " [6.9 3.1 5.4 2.1]\n",
      " [6.7 3.1 5.6 2.4]\n",
      " [6.9 3.1 5.1 2.3]\n",
      " [5.8 2.7 5.1 1.9]\n",
      " [6.8 3.2 5.9 2.3]\n",
      " [6.7 3.3 5.7 2.5]\n",
      " [6.7 3.  5.2 2.3]\n",
      " [6.3 2.5 5.  1.9]\n",
      " [6.5 3.  5.2 2. ]\n",
      " [6.2 3.4 5.4 2.3]\n",
      " [5.9 3.  5.1 1.8]]\n"
     ]
    }
   ],
   "source": [
    "print(iris.data)"
   ]
  },
  {
   "cell_type": "code",
   "execution_count": 174,
   "metadata": {},
   "outputs": [
    {
     "name": "stdout",
     "output_type": "stream",
     "text": [
      "[0 0 0 0 0 0 0 0 0 0 0 0 0 0 0 0 0 0 0 0 0 0 0 0 0 0 0 0 0 0 0 0 0 0 0 0 0\n",
      " 0 0 0 0 0 0 0 0 0 0 0 0 0 1 1 1 1 1 1 1 1 1 1 1 1 1 1 1 1 1 1 1 1 1 1 1 1\n",
      " 1 1 1 1 1 1 1 1 1 1 1 1 1 1 1 1 1 1 1 1 1 1 1 1 1 1 2 2 2 2 2 2 2 2 2 2 2\n",
      " 2 2 2 2 2 2 2 2 2 2 2 2 2 2 2 2 2 2 2 2 2 2 2 2 2 2 2 2 2 2 2 2 2 2 2 2 2\n",
      " 2 2]\n"
     ]
    }
   ],
   "source": [
    "print(iris.target)"
   ]
  },
  {
   "cell_type": "code",
   "execution_count": 175,
   "metadata": {},
   "outputs": [
    {
     "data": {
      "text/plain": [
       "dict_keys(['data', 'target', 'target_names', 'DESCR', 'feature_names', 'filename'])"
      ]
     },
     "execution_count": 175,
     "metadata": {},
     "output_type": "execute_result"
    }
   ],
   "source": [
    "iris.keys()"
   ]
  },
  {
   "cell_type": "code",
   "execution_count": 176,
   "metadata": {},
   "outputs": [
    {
     "data": {
      "text/plain": [
       "['sepal length (cm)',\n",
       " 'sepal width (cm)',\n",
       " 'petal length (cm)',\n",
       " 'petal width (cm)']"
      ]
     },
     "execution_count": 176,
     "metadata": {},
     "output_type": "execute_result"
    }
   ],
   "source": [
    "iris.feature_names"
   ]
  },
  {
   "cell_type": "code",
   "execution_count": 177,
   "metadata": {},
   "outputs": [
    {
     "data": {
      "text/plain": [
       "array(['setosa', 'versicolor', 'virginica'], dtype='<U10')"
      ]
     },
     "execution_count": 177,
     "metadata": {},
     "output_type": "execute_result"
    }
   ],
   "source": [
    "iris.target_names"
   ]
  },
  {
   "cell_type": "code",
   "execution_count": 178,
   "metadata": {},
   "outputs": [],
   "source": [
    "X = iris.data\n",
    "y = iris.target"
   ]
  },
  {
   "cell_type": "code",
   "execution_count": 179,
   "metadata": {},
   "outputs": [
    {
     "data": {
      "text/plain": [
       "150"
      ]
     },
     "execution_count": 179,
     "metadata": {},
     "output_type": "execute_result"
    }
   ],
   "source": [
    "len(X)"
   ]
  },
  {
   "cell_type": "code",
   "execution_count": 180,
   "metadata": {},
   "outputs": [],
   "source": [
    "# Step 2: Split Data to Training & Testing\n",
    "from sklearn.model_selection import train_test_split\n",
    "X_train,X_test,y_train,y_test = train_test_split(X,y,test_size=0.3)"
   ]
  },
  {
   "cell_type": "code",
   "execution_count": 181,
   "metadata": {},
   "outputs": [
    {
     "data": {
      "text/plain": [
       "array([0, 2, 2, 2, 0, 1, 2, 1, 0, 1, 0, 0, 1, 0, 0, 0, 2, 2, 1, 0, 1, 0,\n",
       "       2, 0, 0, 1, 2, 1, 1, 0, 0, 0, 1, 0, 0, 0, 2, 2, 1, 2, 1, 1, 1, 1,\n",
       "       2, 0, 1, 2, 2, 0, 2, 1, 1, 2, 1, 1, 2, 2, 0, 0, 2, 1, 2, 1, 2, 2,\n",
       "       2, 0, 2, 2, 2, 2, 0, 0, 1, 2, 0, 2, 1, 0, 1, 0, 2, 0, 2, 2, 0, 0,\n",
       "       1, 1, 1, 2, 2, 1, 2, 1, 2, 2, 2, 0, 0, 2, 0, 0, 1])"
      ]
     },
     "execution_count": 181,
     "metadata": {},
     "output_type": "execute_result"
    }
   ],
   "source": [
    "y_train"
   ]
  },
  {
   "cell_type": "code",
   "execution_count": 182,
   "metadata": {},
   "outputs": [
    {
     "data": {
      "text/plain": [
       "array([0, 1, 0, 0, 2, 0, 0, 2, 1, 0, 1, 2, 2, 0, 2, 1, 1, 1, 0, 2, 0, 1,\n",
       "       0, 0, 1, 1, 1, 2, 0, 2, 0, 1, 2, 0, 1, 1, 2, 1, 2, 1, 1, 1, 1, 1,\n",
       "       0])"
      ]
     },
     "execution_count": 182,
     "metadata": {},
     "output_type": "execute_result"
    }
   ],
   "source": [
    "y_test"
   ]
  },
  {
   "cell_type": "code",
   "execution_count": 183,
   "metadata": {},
   "outputs": [],
   "source": [
    "# Step 3: Define the Model\n",
    "\n",
    "from sklearn import neighbors\n",
    "clf = neighbors.KNeighborsClassifier(n_neighbors=3)"
   ]
  },
  {
   "cell_type": "code",
   "execution_count": 184,
   "metadata": {},
   "outputs": [
    {
     "data": {
      "text/plain": [
       "KNeighborsClassifier(algorithm='auto', leaf_size=30, metric='minkowski',\n",
       "           metric_params=None, n_jobs=None, n_neighbors=3, p=2,\n",
       "           weights='uniform')"
      ]
     },
     "execution_count": 184,
     "metadata": {},
     "output_type": "execute_result"
    }
   ],
   "source": [
    "# Step 4: Training\n",
    "clf.fit(X_train,y_train)"
   ]
  },
  {
   "cell_type": "code",
   "execution_count": 185,
   "metadata": {},
   "outputs": [
    {
     "data": {
      "text/plain": [
       "array([0, 1, 0, 0, 2, 0, 0, 2, 1, 0, 1, 2, 2, 0, 2, 2, 1, 2, 0, 2, 0, 1,\n",
       "       0, 0, 1, 1, 1, 2, 0, 2, 0, 1, 2, 0, 1, 1, 2, 1, 2, 1, 1, 1, 1, 1,\n",
       "       0])"
      ]
     },
     "execution_count": 185,
     "metadata": {},
     "output_type": "execute_result"
    }
   ],
   "source": [
    "# Step 5: Prediction\n",
    "clf.predict(X_test)"
   ]
  },
  {
   "cell_type": "code",
   "execution_count": 186,
   "metadata": {},
   "outputs": [
    {
     "data": {
      "text/plain": [
       "array([1])"
      ]
     },
     "execution_count": 186,
     "metadata": {},
     "output_type": "execute_result"
    }
   ],
   "source": [
    "clf.predict([[5,4,3,4]])"
   ]
  },
  {
   "cell_type": "code",
   "execution_count": 187,
   "metadata": {},
   "outputs": [
    {
     "data": {
      "text/plain": [
       "0.9555555555555556"
      ]
     },
     "execution_count": 187,
     "metadata": {},
     "output_type": "execute_result"
    }
   ],
   "source": [
    "clf.score(X_test,y_test)"
   ]
  },
  {
   "cell_type": "code",
   "execution_count": 188,
   "metadata": {},
   "outputs": [
    {
     "data": {
      "text/plain": [
       "array([0, 1, 0, 0, 2, 0, 0, 2, 1, 0, 1, 2, 2, 0, 2, 2, 1, 2, 0, 2, 0, 1,\n",
       "       0, 0, 1, 1, 1, 2, 0, 2, 0, 1, 2, 0, 1, 1, 2, 1, 2, 1, 1, 1, 1, 1,\n",
       "       0])"
      ]
     },
     "execution_count": 188,
     "metadata": {},
     "output_type": "execute_result"
    }
   ],
   "source": [
    "y_pred = clf.predict(X_test)\n",
    "y_pred"
   ]
  },
  {
   "cell_type": "code",
   "execution_count": 189,
   "metadata": {},
   "outputs": [
    {
     "data": {
      "text/plain": [
       "array([0, 1, 0, 0, 2, 0, 0, 2, 1, 0, 1, 2, 2, 0, 2, 1, 1, 1, 0, 2, 0, 1,\n",
       "       0, 0, 1, 1, 1, 2, 0, 2, 0, 1, 2, 0, 1, 1, 2, 1, 2, 1, 1, 1, 1, 1,\n",
       "       0])"
      ]
     },
     "execution_count": 189,
     "metadata": {},
     "output_type": "execute_result"
    }
   ],
   "source": [
    "y_test"
   ]
  },
  {
   "cell_type": "code",
   "execution_count": 190,
   "metadata": {},
   "outputs": [
    {
     "data": {
      "text/plain": [
       "0.9555555555555556"
      ]
     },
     "execution_count": 190,
     "metadata": {},
     "output_type": "execute_result"
    }
   ],
   "source": [
    "from sklearn.metrics import accuracy_score\n",
    "accuracy_score(y_test, y_pred)"
   ]
  },
  {
   "cell_type": "code",
   "execution_count": 191,
   "metadata": {},
   "outputs": [
    {
     "data": {
      "text/plain": [
       "array([[15,  0,  0],\n",
       "       [ 0, 17,  2],\n",
       "       [ 0,  0, 11]])"
      ]
     },
     "execution_count": 191,
     "metadata": {},
     "output_type": "execute_result"
    }
   ],
   "source": [
    "from sklearn.metrics import confusion_matrix\n",
    "confusion_matrix(y_test, y_pred)"
   ]
  },
  {
   "cell_type": "markdown",
   "metadata": {},
   "source": [
    "### Regression"
   ]
  },
  {
   "cell_type": "code",
   "execution_count": 192,
   "metadata": {},
   "outputs": [
    {
     "data": {
      "image/png": "[encoded data removed]",
      "text/plain": [
       "<Figure size 720x288 with 1 Axes>"
      ]
     },
     "metadata": {},
     "output_type": "display_data"
    }
   ],
   "source": [
    "import numpy as np\n",
    "import matplotlib.pyplot as plt \n",
    "\n",
    "x = np.linspace(0,10,100).reshape(-1,1)\n",
    "y = x + np.random.normal(0,1,len(x)).reshape(-1,1)\n",
    "plt.scatter(x,y)\n",
    "plt.show()"
   ]
  },
  {
   "cell_type": "code",
   "execution_count": 193,
   "metadata": {},
   "outputs": [],
   "source": [
    "from sklearn import linear_model\n",
    "lm = linear_model.LinearRegression()"
   ]
  },
  {
   "cell_type": "code",
   "execution_count": 194,
   "metadata": {},
   "outputs": [
    {
     "data": {
      "text/plain": [
       "LinearRegression(copy_X=True, fit_intercept=True, n_jobs=None,\n",
       "         normalize=False)"
      ]
     },
     "execution_count": 194,
     "metadata": {},
     "output_type": "execute_result"
    }
   ],
   "source": [
    "lm.fit(x,y)"
   ]
  },
  {
   "cell_type": "code",
   "execution_count": 195,
   "metadata": {},
   "outputs": [
    {
     "data": {
      "text/plain": [
       "array([[-9.97928852e-02],\n",
       "       [-1.11437065e-04],\n",
       "       [ 9.95700110e-02],\n",
       "       [ 1.99251459e-01],\n",
       "       [ 2.98932907e-01],\n",
       "       [ 3.98614355e-01],\n",
       "       [ 4.98295803e-01],\n",
       "       [ 5.97977252e-01],\n",
       "       [ 6.97658700e-01],\n",
       "       [ 7.97340148e-01],\n",
       "       [ 8.97021596e-01],\n",
       "       [ 9.96703044e-01],\n",
       "       [ 1.09638449e+00],\n",
       "       [ 1.19606594e+00],\n",
       "       [ 1.29574739e+00],\n",
       "       [ 1.39542884e+00],\n",
       "       [ 1.49511028e+00],\n",
       "       [ 1.59479173e+00],\n",
       "       [ 1.69447318e+00],\n",
       "       [ 1.79415463e+00],\n",
       "       [ 1.89383608e+00],\n",
       "       [ 1.99351752e+00],\n",
       "       [ 2.09319897e+00],\n",
       "       [ 2.19288042e+00],\n",
       "       [ 2.29256187e+00],\n",
       "       [ 2.39224332e+00],\n",
       "       [ 2.49192477e+00],\n",
       "       [ 2.59160621e+00],\n",
       "       [ 2.69128766e+00],\n",
       "       [ 2.79096911e+00],\n",
       "       [ 2.89065056e+00],\n",
       "       [ 2.99033201e+00],\n",
       "       [ 3.09001345e+00],\n",
       "       [ 3.18969490e+00],\n",
       "       [ 3.28937635e+00],\n",
       "       [ 3.38905780e+00],\n",
       "       [ 3.48873925e+00],\n",
       "       [ 3.58842069e+00],\n",
       "       [ 3.68810214e+00],\n",
       "       [ 3.78778359e+00],\n",
       "       [ 3.88746504e+00],\n",
       "       [ 3.98714649e+00],\n",
       "       [ 4.08682793e+00],\n",
       "       [ 4.18650938e+00],\n",
       "       [ 4.28619083e+00],\n",
       "       [ 4.38587228e+00],\n",
       "       [ 4.48555373e+00],\n",
       "       [ 4.58523518e+00],\n",
       "       [ 4.68491662e+00],\n",
       "       [ 4.78459807e+00],\n",
       "       [ 4.88427952e+00],\n",
       "       [ 4.98396097e+00],\n",
       "       [ 5.08364242e+00],\n",
       "       [ 5.18332386e+00],\n",
       "       [ 5.28300531e+00],\n",
       "       [ 5.38268676e+00],\n",
       "       [ 5.48236821e+00],\n",
       "       [ 5.58204966e+00],\n",
       "       [ 5.68173110e+00],\n",
       "       [ 5.78141255e+00],\n",
       "       [ 5.88109400e+00],\n",
       "       [ 5.98077545e+00],\n",
       "       [ 6.08045690e+00],\n",
       "       [ 6.18013834e+00],\n",
       "       [ 6.27981979e+00],\n",
       "       [ 6.37950124e+00],\n",
       "       [ 6.47918269e+00],\n",
       "       [ 6.57886414e+00],\n",
       "       [ 6.67854559e+00],\n",
       "       [ 6.77822703e+00],\n",
       "       [ 6.87790848e+00],\n",
       "       [ 6.97758993e+00],\n",
       "       [ 7.07727138e+00],\n",
       "       [ 7.17695283e+00],\n",
       "       [ 7.27663427e+00],\n",
       "       [ 7.37631572e+00],\n",
       "       [ 7.47599717e+00],\n",
       "       [ 7.57567862e+00],\n",
       "       [ 7.67536007e+00],\n",
       "       [ 7.77504151e+00],\n",
       "       [ 7.87472296e+00],\n",
       "       [ 7.97440441e+00],\n",
       "       [ 8.07408586e+00],\n",
       "       [ 8.17376731e+00],\n",
       "       [ 8.27344875e+00],\n",
       "       [ 8.37313020e+00],\n",
       "       [ 8.47281165e+00],\n",
       "       [ 8.57249310e+00],\n",
       "       [ 8.67217455e+00],\n",
       "       [ 8.77185600e+00],\n",
       "       [ 8.87153744e+00],\n",
       "       [ 8.97121889e+00],\n",
       "       [ 9.07090034e+00],\n",
       "       [ 9.17058179e+00],\n",
       "       [ 9.27026324e+00],\n",
       "       [ 9.36994468e+00],\n",
       "       [ 9.46962613e+00],\n",
       "       [ 9.56930758e+00],\n",
       "       [ 9.66898903e+00],\n",
       "       [ 9.76867048e+00]])"
      ]
     },
     "execution_count": 195,
     "metadata": {},
     "output_type": "execute_result"
    }
   ],
   "source": [
    "lm.predict(x)"
   ]
  },
  {
   "cell_type": "code",
   "execution_count": 196,
   "metadata": {},
   "outputs": [
    {
     "data": {
      "image/png": "[encoded data removed]",
      "text/plain": [
       "<Figure size 720x288 with 1 Axes>"
      ]
     },
     "metadata": {},
     "output_type": "display_data"
    }
   ],
   "source": [
    "plt.scatter(x,y)\n",
    "plt.plot(x,lm.predict(x),'r')\n",
    "plt.show()"
   ]
  },
  {
   "cell_type": "markdown",
   "metadata": {},
   "source": [
    "## Unsupervised Learning"
   ]
  },
  {
   "cell_type": "markdown",
   "metadata": {},
   "source": [
    "### Clustering"
   ]
  },
  {
   "cell_type": "code",
   "execution_count": 197,
   "metadata": {},
   "outputs": [],
   "source": [
    "X = iris.data\n",
    "y = iris.target"
   ]
  },
  {
   "cell_type": "code",
   "execution_count": 198,
   "metadata": {},
   "outputs": [
    {
     "data": {
      "image/png": "[encoded data removed]",
      "text/plain": [
       "<Figure size 720x288 with 1 Axes>"
      ]
     },
     "metadata": {},
     "output_type": "display_data"
    }
   ],
   "source": [
    "plt.scatter(X[:,0],X[:,2],c=y)\n",
    "plt.xlabel('Petal Length')\n",
    "plt.ylabel('Petal Width')\n",
    "\n",
    "plt.show()"
   ]
  },
  {
   "cell_type": "code",
   "execution_count": 199,
   "metadata": {},
   "outputs": [],
   "source": [
    "# Step 2: Define the Model\n",
    "\n",
    "from sklearn import cluster\n",
    "clf = cluster.KMeans(n_clusters=3)"
   ]
  },
  {
   "cell_type": "code",
   "execution_count": 200,
   "metadata": {},
   "outputs": [
    {
     "data": {
      "text/plain": [
       "KMeans(algorithm='auto', copy_x=True, init='k-means++', max_iter=300,\n",
       "    n_clusters=3, n_init=10, n_jobs=None, precompute_distances='auto',\n",
       "    random_state=None, tol=0.0001, verbose=0)"
      ]
     },
     "execution_count": 200,
     "metadata": {},
     "output_type": "execute_result"
    }
   ],
   "source": [
    "# Step 3: Train the Model\n",
    "clf.fit(X)"
   ]
  },
  {
   "cell_type": "code",
   "execution_count": 201,
   "metadata": {},
   "outputs": [
    {
     "data": {
      "text/plain": [
       "array([1, 1, 1, 1, 1, 1, 1, 1, 1, 1, 1, 1, 1, 1, 1, 1, 1, 1, 1, 1, 1, 1,\n",
       "       1, 1, 1, 1, 1, 1, 1, 1, 1, 1, 1, 1, 1, 1, 1, 1, 1, 1, 1, 1, 1, 1,\n",
       "       1, 1, 1, 1, 1, 1, 0, 0, 2, 0, 0, 0, 0, 0, 0, 0, 0, 0, 0, 0, 0, 0,\n",
       "       0, 0, 0, 0, 0, 0, 0, 0, 0, 0, 0, 2, 0, 0, 0, 0, 0, 0, 0, 0, 0, 0,\n",
       "       0, 0, 0, 0, 0, 0, 0, 0, 0, 0, 0, 0, 2, 0, 2, 2, 2, 2, 0, 2, 2, 2,\n",
       "       2, 2, 2, 0, 0, 2, 2, 2, 2, 0, 2, 0, 2, 0, 2, 2, 0, 0, 2, 2, 2, 2,\n",
       "       2, 0, 2, 2, 2, 2, 0, 2, 2, 2, 0, 2, 2, 2, 0, 2, 2, 0], dtype=int32)"
      ]
     },
     "execution_count": 201,
     "metadata": {},
     "output_type": "execute_result"
    }
   ],
   "source": [
    "clf.labels_"
   ]
  },
  {
   "cell_type": "code",
   "execution_count": 202,
   "metadata": {},
   "outputs": [
    {
     "data": {
      "image/png": "[encoded data removed]",
      "text/plain": [
       "<Figure size 720x288 with 2 Axes>"
      ]
     },
     "metadata": {},
     "output_type": "display_data"
    }
   ],
   "source": [
    "plt.subplot(1,2,1)\n",
    "plt.scatter(X[:,0],X[:,2],c=y)\n",
    "plt.xlabel('Petal Length')\n",
    "plt.ylabel('Petal Width')\n",
    "\n",
    "plt.subplot(1,2,2)\n",
    "\n",
    "plt.scatter(X[:,0],X[:,2],c=clf.labels_)\n",
    "plt.xlabel('Petal Length')\n",
    "plt.ylabel('Petal Width')\n",
    "\n",
    "plt.show()"
   ]
  },
  {
   "cell_type": "code",
   "execution_count": 203,
   "metadata": {},
   "outputs": [],
   "source": [
    "credit = pd.read_csv('data/credit.csv')"
   ]
  },
  {
   "cell_type": "code",
   "execution_count": 204,
   "metadata": {},
   "outputs": [
    {
     "data": {
      "text/html": [
       "<div>\n",
       "<style scoped>\n",
       "    .dataframe tbody tr th:only-of-type {\n",
       "        vertical-align: middle;\n",
       "    }\n",
       "\n",
       "    .dataframe tbody tr th {\n",
       "        vertical-align: top;\n",
       "    }\n",
       "\n",
       "    .dataframe thead th {\n",
       "        text-align: right;\n",
       "    }\n",
       "</style>\n",
       "<table border=\"1\" class=\"dataframe\">\n",
       "  <thead>\n",
       "    <tr style=\"text-align: right;\">\n",
       "      <th></th>\n",
       "      <th>Creditability</th>\n",
       "      <th>Account Balance</th>\n",
       "      <th>Duration of Credit (month)</th>\n",
       "      <th>Payment Status of Previous Credit</th>\n",
       "      <th>Purpose</th>\n",
       "      <th>Credit Amount</th>\n",
       "      <th>Value Savings/Stocks</th>\n",
       "      <th>Length of current employment</th>\n",
       "      <th>Instalment per cent</th>\n",
       "      <th>Sex &amp; Marital Status</th>\n",
       "      <th>...</th>\n",
       "      <th>Duration in Current address</th>\n",
       "      <th>Most valuable available asset</th>\n",
       "      <th>Age (years)</th>\n",
       "      <th>Concurrent Credits</th>\n",
       "      <th>Type of apartment</th>\n",
       "      <th>No of Credits at this Bank</th>\n",
       "      <th>Occupation</th>\n",
       "      <th>No of dependents</th>\n",
       "      <th>Telephone</th>\n",
       "      <th>Foreign Worker</th>\n",
       "    </tr>\n",
       "  </thead>\n",
       "  <tbody>\n",
       "    <tr>\n",
       "      <th>0</th>\n",
       "      <td>1</td>\n",
       "      <td>1</td>\n",
       "      <td>18</td>\n",
       "      <td>4</td>\n",
       "      <td>2</td>\n",
       "      <td>1049</td>\n",
       "      <td>1</td>\n",
       "      <td>2</td>\n",
       "      <td>4</td>\n",
       "      <td>2</td>\n",
       "      <td>...</td>\n",
       "      <td>4</td>\n",
       "      <td>2</td>\n",
       "      <td>21</td>\n",
       "      <td>3</td>\n",
       "      <td>1</td>\n",
       "      <td>1</td>\n",
       "      <td>3</td>\n",
       "      <td>1</td>\n",
       "      <td>1</td>\n",
       "      <td>1</td>\n",
       "    </tr>\n",
       "    <tr>\n",
       "      <th>1</th>\n",
       "      <td>1</td>\n",
       "      <td>1</td>\n",
       "      <td>9</td>\n",
       "      <td>4</td>\n",
       "      <td>0</td>\n",
       "      <td>2799</td>\n",
       "      <td>1</td>\n",
       "      <td>3</td>\n",
       "      <td>2</td>\n",
       "      <td>3</td>\n",
       "      <td>...</td>\n",
       "      <td>2</td>\n",
       "      <td>1</td>\n",
       "      <td>36</td>\n",
       "      <td>3</td>\n",
       "      <td>1</td>\n",
       "      <td>2</td>\n",
       "      <td>3</td>\n",
       "      <td>2</td>\n",
       "      <td>1</td>\n",
       "      <td>1</td>\n",
       "    </tr>\n",
       "    <tr>\n",
       "      <th>2</th>\n",
       "      <td>1</td>\n",
       "      <td>2</td>\n",
       "      <td>12</td>\n",
       "      <td>2</td>\n",
       "      <td>9</td>\n",
       "      <td>841</td>\n",
       "      <td>2</td>\n",
       "      <td>4</td>\n",
       "      <td>2</td>\n",
       "      <td>2</td>\n",
       "      <td>...</td>\n",
       "      <td>4</td>\n",
       "      <td>1</td>\n",
       "      <td>23</td>\n",
       "      <td>3</td>\n",
       "      <td>1</td>\n",
       "      <td>1</td>\n",
       "      <td>2</td>\n",
       "      <td>1</td>\n",
       "      <td>1</td>\n",
       "      <td>1</td>\n",
       "    </tr>\n",
       "    <tr>\n",
       "      <th>3</th>\n",
       "      <td>1</td>\n",
       "      <td>1</td>\n",
       "      <td>12</td>\n",
       "      <td>4</td>\n",
       "      <td>0</td>\n",
       "      <td>2122</td>\n",
       "      <td>1</td>\n",
       "      <td>3</td>\n",
       "      <td>3</td>\n",
       "      <td>3</td>\n",
       "      <td>...</td>\n",
       "      <td>2</td>\n",
       "      <td>1</td>\n",
       "      <td>39</td>\n",
       "      <td>3</td>\n",
       "      <td>1</td>\n",
       "      <td>2</td>\n",
       "      <td>2</td>\n",
       "      <td>2</td>\n",
       "      <td>1</td>\n",
       "      <td>2</td>\n",
       "    </tr>\n",
       "    <tr>\n",
       "      <th>4</th>\n",
       "      <td>1</td>\n",
       "      <td>1</td>\n",
       "      <td>12</td>\n",
       "      <td>4</td>\n",
       "      <td>0</td>\n",
       "      <td>2171</td>\n",
       "      <td>1</td>\n",
       "      <td>3</td>\n",
       "      <td>4</td>\n",
       "      <td>3</td>\n",
       "      <td>...</td>\n",
       "      <td>4</td>\n",
       "      <td>2</td>\n",
       "      <td>38</td>\n",
       "      <td>1</td>\n",
       "      <td>2</td>\n",
       "      <td>2</td>\n",
       "      <td>2</td>\n",
       "      <td>1</td>\n",
       "      <td>1</td>\n",
       "      <td>2</td>\n",
       "    </tr>\n",
       "  </tbody>\n",
       "</table>\n",
       "<p>5 rows × 21 columns</p>\n",
       "</div>"
      ],
      "text/plain": [
       "   Creditability  Account Balance  Duration of Credit (month)  \\\n",
       "0              1                1                          18   \n",
       "1              1                1                           9   \n",
       "2              1                2                          12   \n",
       "3              1                1                          12   \n",
       "4              1                1                          12   \n",
       "\n",
       "   Payment Status of Previous Credit  Purpose  Credit Amount  \\\n",
       "0                                  4        2           1049   \n",
       "1                                  4        0           2799   \n",
       "2                                  2        9            841   \n",
       "3                                  4        0           2122   \n",
       "4                                  4        0           2171   \n",
       "\n",
       "   Value Savings/Stocks  Length of current employment  Instalment per cent  \\\n",
       "0                     1                             2                    4   \n",
       "1                     1                             3                    2   \n",
       "2                     2                             4                    2   \n",
       "3                     1                             3                    3   \n",
       "4                     1                             3                    4   \n",
       "\n",
       "   Sex & Marital Status  ...  Duration in Current address  \\\n",
       "0                     2  ...                            4   \n",
       "1                     3  ...                            2   \n",
       "2                     2  ...                            4   \n",
       "3                     3  ...                            2   \n",
       "4                     3  ...                            4   \n",
       "\n",
       "   Most valuable available asset  Age (years)  Concurrent Credits  \\\n",
       "0                              2           21                   3   \n",
       "1                              1           36                   3   \n",
       "2                              1           23                   3   \n",
       "3                              1           39                   3   \n",
       "4                              2           38                   1   \n",
       "\n",
       "   Type of apartment  No of Credits at this Bank  Occupation  \\\n",
       "0                  1                           1           3   \n",
       "1                  1                           2           3   \n",
       "2                  1                           1           2   \n",
       "3                  1                           2           2   \n",
       "4                  2                           2           2   \n",
       "\n",
       "   No of dependents  Telephone  Foreign Worker  \n",
       "0                 1          1               1  \n",
       "1                 2          1               1  \n",
       "2                 1          1               1  \n",
       "3                 2          1               2  \n",
       "4                 1          1               2  \n",
       "\n",
       "[5 rows x 21 columns]"
      ]
     },
     "execution_count": 204,
     "metadata": {},
     "output_type": "execute_result"
    }
   ],
   "source": [
    "credit.head()"
   ]
  },
  {
   "cell_type": "code",
   "execution_count": 205,
   "metadata": {},
   "outputs": [
    {
     "data": {
      "text/plain": [
       "(1000, 21)"
      ]
     },
     "execution_count": 205,
     "metadata": {},
     "output_type": "execute_result"
    }
   ],
   "source": [
    "credit.shape"
   ]
  },
  {
   "cell_type": "code",
   "execution_count": 206,
   "metadata": {},
   "outputs": [
    {
     "data": {
      "text/plain": [
       "Creditability                        0\n",
       "Account Balance                      0\n",
       "Duration of Credit (month)           0\n",
       "Payment Status of Previous Credit    0\n",
       "Purpose                              0\n",
       "Credit Amount                        0\n",
       "Value Savings/Stocks                 0\n",
       "Length of current employment         0\n",
       "Instalment per cent                  0\n",
       "Sex & Marital Status                 0\n",
       "Guarantors                           0\n",
       "Duration in Current address          0\n",
       "Most valuable available asset        0\n",
       "Age (years)                          0\n",
       "Concurrent Credits                   0\n",
       "Type of apartment                    0\n",
       "No of Credits at this Bank           0\n",
       "Occupation                           0\n",
       "No of dependents                     0\n",
       "Telephone                            0\n",
       "Foreign Worker                       0\n",
       "dtype: int64"
      ]
     },
     "execution_count": 206,
     "metadata": {},
     "output_type": "execute_result"
    }
   ],
   "source": [
    "credit.isnull().sum()"
   ]
  },
  {
   "cell_type": "code",
   "execution_count": 207,
   "metadata": {},
   "outputs": [
    {
     "data": {
      "text/html": [
       "<div>\n",
       "<style scoped>\n",
       "    .dataframe tbody tr th:only-of-type {\n",
       "        vertical-align: middle;\n",
       "    }\n",
       "\n",
       "    .dataframe tbody tr th {\n",
       "        vertical-align: top;\n",
       "    }\n",
       "\n",
       "    .dataframe thead th {\n",
       "        text-align: right;\n",
       "    }\n",
       "</style>\n",
       "<table border=\"1\" class=\"dataframe\">\n",
       "  <thead>\n",
       "    <tr style=\"text-align: right;\">\n",
       "      <th></th>\n",
       "      <th>Creditability</th>\n",
       "      <th>Account Balance</th>\n",
       "      <th>Duration of Credit (month)</th>\n",
       "      <th>Payment Status of Previous Credit</th>\n",
       "      <th>Purpose</th>\n",
       "      <th>Credit Amount</th>\n",
       "      <th>Value Savings/Stocks</th>\n",
       "      <th>Length of current employment</th>\n",
       "      <th>Instalment per cent</th>\n",
       "      <th>Sex &amp; Marital Status</th>\n",
       "      <th>...</th>\n",
       "      <th>Duration in Current address</th>\n",
       "      <th>Most valuable available asset</th>\n",
       "      <th>Age (years)</th>\n",
       "      <th>Concurrent Credits</th>\n",
       "      <th>Type of apartment</th>\n",
       "      <th>No of Credits at this Bank</th>\n",
       "      <th>Occupation</th>\n",
       "      <th>No of dependents</th>\n",
       "      <th>Telephone</th>\n",
       "      <th>Foreign Worker</th>\n",
       "    </tr>\n",
       "  </thead>\n",
       "  <tbody>\n",
       "  </tbody>\n",
       "</table>\n",
       "<p>0 rows × 21 columns</p>\n",
       "</div>"
      ],
      "text/plain": [
       "Empty DataFrame\n",
       "Columns: [Creditability, Account Balance, Duration of Credit (month), Payment Status of Previous Credit, Purpose, Credit Amount, Value Savings/Stocks, Length of current employment, Instalment per cent, Sex & Marital Status, Guarantors, Duration in Current address, Most valuable available asset, Age (years), Concurrent Credits, Type of apartment, No of Credits at this Bank, Occupation, No of dependents, Telephone, Foreign Worker]\n",
       "Index: []\n",
       "\n",
       "[0 rows x 21 columns]"
      ]
     },
     "execution_count": 207,
     "metadata": {},
     "output_type": "execute_result"
    }
   ],
   "source": [
    "credit[credit.duplicated()]"
   ]
  },
  {
   "cell_type": "code",
   "execution_count": 208,
   "metadata": {},
   "outputs": [],
   "source": [
    "y = credit['Creditability']\n",
    "X = credit.drop(columns = ['Creditability'])"
   ]
  },
  {
   "cell_type": "code",
   "execution_count": 209,
   "metadata": {},
   "outputs": [],
   "source": [
    "X_train,X_test,y_train,y_test = train_test_split(X, y, test_size=0.25)"
   ]
  },
  {
   "cell_type": "code",
   "execution_count": 210,
   "metadata": {},
   "outputs": [],
   "source": [
    "from sklearn import neighbors\n",
    "clf = neighbors.KNeighborsClassifier(n_neighbors=2)"
   ]
  },
  {
   "cell_type": "code",
   "execution_count": 211,
   "metadata": {},
   "outputs": [
    {
     "data": {
      "text/plain": [
       "KNeighborsClassifier(algorithm='auto', leaf_size=30, metric='minkowski',\n",
       "           metric_params=None, n_jobs=None, n_neighbors=2, p=2,\n",
       "           weights='uniform')"
      ]
     },
     "execution_count": 211,
     "metadata": {},
     "output_type": "execute_result"
    }
   ],
   "source": [
    "clf.fit(X_train, y_train) "
   ]
  },
  {
   "cell_type": "code",
   "execution_count": 212,
   "metadata": {},
   "outputs": [
    {
     "data": {
      "text/plain": [
       "array([0, 1, 1, 1, 0, 0, 0, 1, 0, 1, 1, 1, 0, 1, 0, 1, 0, 0, 0, 0, 1, 0,\n",
       "       1, 0, 1, 0, 0, 0, 1, 0, 1, 0, 0, 1, 0, 1, 1, 0, 0, 0, 0, 0, 1, 1,\n",
       "       1, 1, 1, 1, 1, 0, 1, 0, 0, 1, 0, 1, 1, 1, 1, 1, 1, 1, 0, 0, 0, 0,\n",
       "       0, 1, 1, 0, 0, 1, 0, 1, 1, 1, 0, 1, 1, 0, 1, 1, 0, 0, 1, 1, 1, 1,\n",
       "       0, 1, 0, 0, 0, 0, 1, 1, 1, 0, 1, 0, 0, 0, 1, 0, 1, 1, 0, 0, 1, 0,\n",
       "       1, 1, 0, 1, 0, 1, 1, 1, 1, 0, 1, 0, 0, 0, 1, 0, 1, 0, 1, 0, 0, 1,\n",
       "       1, 1, 1, 0, 1, 1, 1, 0, 0, 0, 1, 0, 1, 0, 0, 1, 0, 0, 0, 1, 0, 1,\n",
       "       0, 0, 0, 0, 0, 0, 0, 0, 0, 1, 0, 1, 0, 1, 0, 1, 1, 1, 1, 0, 0, 0,\n",
       "       0, 0, 1, 0, 0, 0, 1, 0, 0, 1, 0, 1, 1, 0, 0, 0, 1, 1, 1, 1, 0, 1,\n",
       "       1, 1, 0, 1, 0, 0, 1, 1, 0, 0, 1, 0, 1, 1, 1, 1, 1, 0, 0, 1, 1, 0,\n",
       "       0, 1, 1, 0, 1, 1, 0, 1, 1, 1, 0, 1, 0, 1, 0, 0, 0, 1, 0, 0, 0, 1,\n",
       "       1, 0, 0, 0, 1, 0, 1, 0])"
      ]
     },
     "execution_count": 212,
     "metadata": {},
     "output_type": "execute_result"
    }
   ],
   "source": [
    "clf.predict(X_test)"
   ]
  },
  {
   "cell_type": "code",
   "execution_count": 213,
   "metadata": {},
   "outputs": [
    {
     "data": {
      "text/plain": [
       "0.52"
      ]
     },
     "execution_count": 213,
     "metadata": {},
     "output_type": "execute_result"
    }
   ],
   "source": [
    "clf.score(X_test,y_test)"
   ]
  },
  {
   "cell_type": "code",
   "execution_count": 214,
   "metadata": {},
   "outputs": [
    {
     "name": "stderr",
     "output_type": "stream",
     "text": [
      "/Users/anqitu/.pyenv/versions/3.6.8/lib/python3.6/site-packages/sklearn/linear_model/logistic.py:433: FutureWarning: Default solver will be changed to 'lbfgs' in 0.22. Specify a solver to silence this warning.\n",
      "  FutureWarning)\n"
     ]
    },
    {
     "data": {
      "text/plain": [
       "0.748"
      ]
     },
     "execution_count": 214,
     "metadata": {},
     "output_type": "execute_result"
    }
   ],
   "source": [
    "from sklearn import linear_model\n",
    "clf = linear_model.LogisticRegression()\n",
    "clf.fit(X_train, y_train)\n",
    "clf.score(X_test,y_test)"
   ]
  },
  {
   "cell_type": "code",
   "execution_count": 215,
   "metadata": {},
   "outputs": [
    {
     "data": {
      "text/plain": [
       "0.736"
      ]
     },
     "execution_count": 215,
     "metadata": {},
     "output_type": "execute_result"
    }
   ],
   "source": [
    "from sklearn import tree\n",
    "clf = tree.DecisionTreeClassifier()\n",
    "clf.fit(X_train, y_train) \n",
    "clf.score(X_test,y_test)"
   ]
  },
  {
   "cell_type": "code",
   "execution_count": 216,
   "metadata": {},
   "outputs": [
    {
     "data": {
      "text/plain": [
       "0.76"
      ]
     },
     "execution_count": 216,
     "metadata": {},
     "output_type": "execute_result"
    }
   ],
   "source": [
    "from sklearn import tree\n",
    "clf = tree.DecisionTreeClassifier(min_samples_split = 150)\n",
    "clf.fit(X_train, y_train) \n",
    "clf.score(X_test,y_test)"
   ]
  },
  {
   "cell_type": "markdown",
   "metadata": {},
   "source": [
    "## Advanced"
   ]
  },
  {
   "cell_type": "code",
   "execution_count": 217,
   "metadata": {},
   "outputs": [],
   "source": [
    "# sns.set(rc={'figure.figsize':(15,10)})\n",
    "# ax = sns.boxplot(x=\"type\", y=\"amount\", data=revenue)\n",
    "# ax.set_xticklabels(ax.get_xticklabels(),rotation=90)\n",
    "# plt.title('Revenue', fontsize=20)\n",
    "# plt.xlabel('Revenue Type')\n",
    "# plt.savefig('Revenue')"
   ]
  },
  {
   "cell_type": "code",
   "execution_count": null,
   "metadata": {},
   "outputs": [],
   "source": []
  }
 ],
 "metadata": {
  "kernelspec": {
   "display_name": "Python 3.7.0",
   "language": "python",
   "name": "python3"
  },
  "language_info": {
   "codemirror_mode": {
    "name": "ipython",
    "version": 3
   },
   "file_extension": ".py",
   "mimetype": "text/x-python",
   "name": "python",
   "nbconvert_exporter": "python",
   "pygments_lexer": "ipython3",
   "version": "3.7.0"
  }
 },
 "nbformat": 4,
 "nbformat_minor": 2
}
